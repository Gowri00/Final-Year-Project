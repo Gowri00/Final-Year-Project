{
  "cells": [
    {
      "cell_type": "code",
      "execution_count": 1,
      "metadata": {
        "colab": {
          "base_uri": "https://localhost:8080/"
        },
        "id": "6EbDPtXpvQUI",
        "outputId": "e70727a6-4539-401f-991d-b22b51580c68"
      },
      "outputs": [
        {
          "output_type": "stream",
          "name": "stdout",
          "text": [
            "Mounted at /content/gdrive\n"
          ]
        }
      ],
      "source": [
        "from google.colab import drive\n",
        "drive.mount('/content/gdrive')"
      ]
    },
    {
      "cell_type": "code",
      "execution_count": 2,
      "metadata": {
        "colab": {
          "base_uri": "https://localhost:8080/"
        },
        "id": "hKMHQOk8vcrV",
        "outputId": "68d25d7d-7ca5-4170-a208-16f28382f877"
      },
      "outputs": [
        {
          "output_type": "stream",
          "name": "stdout",
          "text": [
            "/content/gdrive/MyDrive\n"
          ]
        }
      ],
      "source": [
        "%cd 'gdrive/MyDrive'"
      ]
    },
    {
      "cell_type": "code",
      "execution_count": 3,
      "metadata": {
        "colab": {
          "base_uri": "https://localhost:8080/"
        },
        "id": "6Alxz7CNvejE",
        "outputId": "70ef43e8-f6fd-4d00-d439-c7d905b025be"
      },
      "outputs": [
        {
          "output_type": "stream",
          "name": "stdout",
          "text": [
            "DDoS1.csv  DoS1.csv   Idle2.csv  Idle6.csv     Working2.csv  Working6.csv\n",
            "DDoS2.csv  DoS2.csv   Idle3.csv  Idle7.csv     Working3.csv  Working7.csv\n",
            "DDoS3.csv  file.csv   Idle4.csv  Idle8.csv     Working4.csv  Working8.csv\n",
            "DDoS4.csv  Idle1.csv  Idle5.csv  Working1.csv  Working5.csv  Working9.csv\n"
          ]
        }
      ],
      "source": [
        "!ls 'FYP Dataset'"
      ]
    },
    {
      "cell_type": "code",
      "execution_count": 4,
      "metadata": {
        "id": "ykOZQPISvgNL"
      },
      "outputs": [],
      "source": [
        "import pandas as pd"
      ]
    },
    {
      "cell_type": "code",
      "execution_count": 5,
      "metadata": {
        "colab": {
          "base_uri": "https://localhost:8080/"
        },
        "id": "OwWVwe6IhLtJ",
        "outputId": "f1d3534c-d728-4704-b2df-0e3ec6b8d4fe"
      },
      "outputs": [
        {
          "output_type": "stream",
          "name": "stdout",
          "text": [
            "8575\n",
            "3042\n",
            "4444\n"
          ]
        }
      ],
      "source": [
        "attack=pd.read_csv('FYP Dataset/DoS1.csv')\n",
        "attack = attack.sample(frac = 1)\n",
        "print(len(attack))\n",
        "attack=attack[:150]\n",
        "working=pd.read_csv('FYP Dataset/Working1.csv')\n",
        "working = working.sample(frac = 1)\n",
        "print(len(working))\n",
        "working=working[:3000]\n",
        "idle=pd.read_csv('FYP Dataset/Idle1.csv')\n",
        "idle = idle.sample(frac = 1)\n",
        "print(len(idle))\n",
        "idle=idle[:1850]"
      ]
    },
    {
      "cell_type": "code",
      "execution_count": 6,
      "metadata": {
        "id": "r9Wdh8Xnijkq"
      },
      "outputs": [],
      "source": [
        "import numpy as np\n",
        "import matplotlib.pyplot as plt"
      ]
    },
    {
      "cell_type": "code",
      "execution_count": 7,
      "metadata": {
        "colab": {
          "base_uri": "https://localhost:8080/",
          "height": 350
        },
        "id": "uuqBxvJlin03",
        "outputId": "25e26ece-8be0-40ca-d751-7ed898da71b3"
      },
      "outputs": [
        {
          "output_type": "display_data",
          "data": {
            "text/plain": [
              "<Figure size 720x360 with 1 Axes>"
            ],
            "image/png": "[encoded data removed]"
          },
          "metadata": {
            "needs_background": "light"
          }
        }
      ],
      "source": [
        "data={'Working System': len(working), 'Idle System': len(idle), 'System Under Attack': len(attack)}\n",
        "typeOfSystem= list(data.keys())\n",
        "NumberOfEntries=list(data.values())\n",
        "fig = plt.figure(figsize = (10, 5))\n",
        "total=len(working)+len(idle)+len(attack)\n",
        "graph=plt.bar(typeOfSystem, NumberOfEntries, color ='maroon',\n",
        "        width = 0.4)\n",
        "for bar in graph:\n",
        "    height = bar.get_height()\n",
        "    percent=height*100/total\n",
        "    plt.annotate( \"{}%\".format(int(percent)),(bar.get_x() + bar.get_width()/2, height+.05),ha=\"center\",va=\"bottom\",fontsize=15)\n",
        " \n",
        "plt.xlabel(\"Type of System\")\n",
        "plt.ylabel(\"Number of Entries\")\n",
        "plt.title(\"Our Dataset\")\n",
        "plt.show()"
      ]
    },
    {
      "cell_type": "code",
      "execution_count": 8,
      "metadata": {
        "id": "iPwcw5WSjL9g"
      },
      "outputs": [],
      "source": [
        "idle[\"Attack\"] = -1\n",
        "working[\"Attack\"] = -1\n",
        "attack[\"Attack\"] = 1"
      ]
    },
    {
      "cell_type": "code",
      "execution_count": 9,
      "metadata": {
        "id": "ay-ZUkorjO_e"
      },
      "outputs": [],
      "source": [
        "ls=[working,idle,attack]\n",
        "dataset_train=pd.concat(ls)"
      ]
    },
    {
      "cell_type": "code",
      "execution_count": 10,
      "metadata": {
        "colab": {
          "base_uri": "https://localhost:8080/"
        },
        "id": "Ikg2PFpBjPWA",
        "outputId": "17d18629-fd31-40c5-b0b0-f0911bacc4b6"
      },
      "outputs": [
        {
          "output_type": "execute_result",
          "data": {
            "text/plain": [
              "5000"
            ]
          },
          "metadata": {},
          "execution_count": 10
        }
      ],
      "source": [
        "len(dataset_train)"
      ]
    },
    {
      "cell_type": "code",
      "execution_count": 11,
      "metadata": {
        "colab": {
          "base_uri": "https://localhost:8080/",
          "height": 354
        },
        "id": "5-nzSEDGjPo6",
        "outputId": "d9777943-6af8-4dd2-a513-a35dce0700d0"
      },
      "outputs": [
        {
          "output_type": "execute_result",
          "data": {
            "text/plain": [
              "     Protocol   Local Address   Remote Address  Local Port  Remote Port  \\\n",
              "1342      UDP  192.168.29.184  239.255.255.250     35992.0       1900.0   \n",
              "1306      UDP  192.168.29.184  239.255.255.250     55086.0       1900.0   \n",
              "1499      TCP   192.168.29.50    35.211.149.16     55462.0        443.0   \n",
              "2037      TCP   192.168.29.50    145.40.89.200     49404.0        443.0   \n",
              "1732      TCP   192.168.29.50      103.43.89.4     63382.0        443.0   \n",
              "\n",
              "     Local Host      Remote Host Service Name Packets     Data Size  \\\n",
              "1342        NaN              NaN         ssdp       2     634 Bytes   \n",
              "1306        NaN              NaN         ssdp       2     643 Bytes   \n",
              "1499    Sumedha              NaN        https      29   6,943 Bytes   \n",
              "2037    Sumedha  prebid.a-mo.net        https      77  30,966 Bytes   \n",
              "1732    Sumedha              NaN        https      63  40,857 Bytes   \n",
              "\n",
              "        Total Size  Data Speed               Capture Time  \\\n",
              "1342   1,002 Bytes  0.0 KB/Sec  12/10/2022 8:59:40 AM:720   \n",
              "1306   1,020 Bytes  0.0 KB/Sec  12/10/2022 8:56:39 AM:992   \n",
              "1499   8,956 Bytes  0.0 KB/Sec  12/10/2022 9:13:58 AM:692   \n",
              "2037  34,674 Bytes  0.0 KB/Sec  12/10/2022 9:34:55 AM:083   \n",
              "1732  43,935 Bytes  1.3 KB/Sec  12/10/2022 9:27:38 AM:733   \n",
              "\n",
              "                Last Packet Time Duration  Attack  \n",
              "1342  12/10/2022 11:33:42 AM:530  34:01.8      -1  \n",
              "1306  12/10/2022 11:31:42 AM:234  35:02.2      -1  \n",
              "1499   12/10/2022 9:16:57 AM:460  02:58.8      -1  \n",
              "2037  12/10/2022 10:50:37 AM:925  15:42.8      -1  \n",
              "1732   12/10/2022 9:28:09 AM:046  00:30.3      -1  "
            ],
            "text/html": [
              "\n",
              "  <div id=\"df-11711fde-8470-42b3-929d-8db82a4a1ceb\">\n",
              "    <div class=\"colab-df-container\">\n",
              "      <div>\n",
              "<style scoped>\n",
              "    .dataframe tbody tr th:only-of-type {\n",
              "        vertical-align: middle;\n",
              "    }\n",
              "\n",
              "    .dataframe tbody tr th {\n",
              "        vertical-align: top;\n",
              "    }\n",
              "\n",
              "    .dataframe thead th {\n",
              "        text-align: right;\n",
              "    }\n",
              "</style>\n",
              "<table border=\"1\" class=\"dataframe\">\n",
              "  <thead>\n",
              "    <tr style=\"text-align: right;\">\n",
              "      <th></th>\n",
              "      <th>Protocol</th>\n",
              "      <th>Local Address</th>\n",
              "      <th>Remote Address</th>\n",
              "      <th>Local Port</th>\n",
              "      <th>Remote Port</th>\n",
              "      <th>Local Host</th>\n",
              "      <th>Remote Host</th>\n",
              "      <th>Service Name</th>\n",
              "      <th>Packets</th>\n",
              "      <th>Data Size</th>\n",
              "      <th>Total Size</th>\n",
              "      <th>Data Speed</th>\n",
              "      <th>Capture Time</th>\n",
              "      <th>Last Packet Time</th>\n",
              "      <th>Duration</th>\n",
              "      <th>Attack</th>\n",
              "    </tr>\n",
              "  </thead>\n",
              "  <tbody>\n",
              "    <tr>\n",
              "      <th>1342</th>\n",
              "      <td>UDP</td>\n",
              "      <td>192.168.29.184</td>\n",
              "      <td>239.255.255.250</td>\n",
              "      <td>35992.0</td>\n",
              "      <td>1900.0</td>\n",
              "      <td>NaN</td>\n",
              "      <td>NaN</td>\n",
              "      <td>ssdp</td>\n",
              "      <td>2</td>\n",
              "      <td>634 Bytes</td>\n",
              "      <td>1,002 Bytes</td>\n",
              "      <td>0.0 KB/Sec</td>\n",
              "      <td>12/10/2022 8:59:40 AM:720</td>\n",
              "      <td>12/10/2022 11:33:42 AM:530</td>\n",
              "      <td>34:01.8</td>\n",
              "      <td>-1</td>\n",
              "    </tr>\n",
              "    <tr>\n",
              "      <th>1306</th>\n",
              "      <td>UDP</td>\n",
              "      <td>192.168.29.184</td>\n",
              "      <td>239.255.255.250</td>\n",
              "      <td>55086.0</td>\n",
              "      <td>1900.0</td>\n",
              "      <td>NaN</td>\n",
              "      <td>NaN</td>\n",
              "      <td>ssdp</td>\n",
              "      <td>2</td>\n",
              "      <td>643 Bytes</td>\n",
              "      <td>1,020 Bytes</td>\n",
              "      <td>0.0 KB/Sec</td>\n",
              "      <td>12/10/2022 8:56:39 AM:992</td>\n",
              "      <td>12/10/2022 11:31:42 AM:234</td>\n",
              "      <td>35:02.2</td>\n",
              "      <td>-1</td>\n",
              "    </tr>\n",
              "    <tr>\n",
              "      <th>1499</th>\n",
              "      <td>TCP</td>\n",
              "      <td>192.168.29.50</td>\n",
              "      <td>35.211.149.16</td>\n",
              "      <td>55462.0</td>\n",
              "      <td>443.0</td>\n",
              "      <td>Sumedha</td>\n",
              "      <td>NaN</td>\n",
              "      <td>https</td>\n",
              "      <td>29</td>\n",
              "      <td>6,943 Bytes</td>\n",
              "      <td>8,956 Bytes</td>\n",
              "      <td>0.0 KB/Sec</td>\n",
              "      <td>12/10/2022 9:13:58 AM:692</td>\n",
              "      <td>12/10/2022 9:16:57 AM:460</td>\n",
              "      <td>02:58.8</td>\n",
              "      <td>-1</td>\n",
              "    </tr>\n",
              "    <tr>\n",
              "      <th>2037</th>\n",
              "      <td>TCP</td>\n",
              "      <td>192.168.29.50</td>\n",
              "      <td>145.40.89.200</td>\n",
              "      <td>49404.0</td>\n",
              "      <td>443.0</td>\n",
              "      <td>Sumedha</td>\n",
              "      <td>prebid.a-mo.net</td>\n",
              "      <td>https</td>\n",
              "      <td>77</td>\n",
              "      <td>30,966 Bytes</td>\n",
              "      <td>34,674 Bytes</td>\n",
              "      <td>0.0 KB/Sec</td>\n",
              "      <td>12/10/2022 9:34:55 AM:083</td>\n",
              "      <td>12/10/2022 10:50:37 AM:925</td>\n",
              "      <td>15:42.8</td>\n",
              "      <td>-1</td>\n",
              "    </tr>\n",
              "    <tr>\n",
              "      <th>1732</th>\n",
              "      <td>TCP</td>\n",
              "      <td>192.168.29.50</td>\n",
              "      <td>103.43.89.4</td>\n",
              "      <td>63382.0</td>\n",
              "      <td>443.0</td>\n",
              "      <td>Sumedha</td>\n",
              "      <td>NaN</td>\n",
              "      <td>https</td>\n",
              "      <td>63</td>\n",
              "      <td>40,857 Bytes</td>\n",
              "      <td>43,935 Bytes</td>\n",
              "      <td>1.3 KB/Sec</td>\n",
              "      <td>12/10/2022 9:27:38 AM:733</td>\n",
              "      <td>12/10/2022 9:28:09 AM:046</td>\n",
              "      <td>00:30.3</td>\n",
              "      <td>-1</td>\n",
              "    </tr>\n",
              "  </tbody>\n",
              "</table>\n",
              "</div>\n",
              "      <button class=\"colab-df-convert\" onclick=\"convertToInteractive('df-11711fde-8470-42b3-929d-8db82a4a1ceb')\"\n",
              "              title=\"Convert this dataframe to an interactive table.\"\n",
              "              style=\"display:none;\">\n",
              "        \n",
              "  <svg xmlns=\"http://www.w3.org/2000/svg\" height=\"24px\"viewBox=\"0 0 24 24\"\n",
              "       width=\"24px\">\n",
              "    <path d=\"M0 0h24v24H0V0z\" fill=\"none\"/>\n",
              "    <path d=\"M18.56 5.44l.94 2.06.94-2.06 2.06-.94-2.06-.94-.94-2.06-.94 2.06-2.06.94zm-11 1L8.5 8.5l.94-2.06 2.06-.94-2.06-.94L8.5 2.5l-.94 2.06-2.06.94zm10 10l.94 2.06.94-2.06 2.06-.94-2.06-.94-.94-2.06-.94 2.06-2.06.94z\"/><path d=\"M17.41 7.96l-1.37-1.37c-.4-.4-.92-.59-1.43-.59-.52 0-1.04.2-1.43.59L10.3 9.45l-7.72 7.72c-.78.78-.78 2.05 0 2.83L4 21.41c.39.39.9.59 1.41.59.51 0 1.02-.2 1.41-.59l7.78-7.78 2.81-2.81c.8-.78.8-2.07 0-2.86zM5.41 20L4 18.59l7.72-7.72 1.47 1.35L5.41 20z\"/>\n",
              "  </svg>\n",
              "      </button>\n",
              "      \n",
              "  <style>\n",
              "    .colab-df-container {\n",
              "      display:flex;\n",
              "      flex-wrap:wrap;\n",
              "      gap: 12px;\n",
              "    }\n",
              "\n",
              "    .colab-df-convert {\n",
              "      background-color: #E8F0FE;\n",
              "      border: none;\n",
              "      border-radius: 50%;\n",
              "      cursor: pointer;\n",
              "      display: none;\n",
              "      fill: #1967D2;\n",
              "      height: 32px;\n",
              "      padding: 0 0 0 0;\n",
              "      width: 32px;\n",
              "    }\n",
              "\n",
              "    .colab-df-convert:hover {\n",
              "      background-color: #E2EBFA;\n",
              "      box-shadow: 0px 1px 2px rgba(60, 64, 67, 0.3), 0px 1px 3px 1px rgba(60, 64, 67, 0.15);\n",
              "      fill: #174EA6;\n",
              "    }\n",
              "\n",
              "    [theme=dark] .colab-df-convert {\n",
              "      background-color: #3B4455;\n",
              "      fill: #D2E3FC;\n",
              "    }\n",
              "\n",
              "    [theme=dark] .colab-df-convert:hover {\n",
              "      background-color: #434B5C;\n",
              "      box-shadow: 0px 1px 3px 1px rgba(0, 0, 0, 0.15);\n",
              "      filter: drop-shadow(0px 1px 2px rgba(0, 0, 0, 0.3));\n",
              "      fill: #FFFFFF;\n",
              "    }\n",
              "  </style>\n",
              "\n",
              "      <script>\n",
              "        const buttonEl =\n",
              "          document.querySelector('#df-11711fde-8470-42b3-929d-8db82a4a1ceb button.colab-df-convert');\n",
              "        buttonEl.style.display =\n",
              "          google.colab.kernel.accessAllowed ? 'block' : 'none';\n",
              "\n",
              "        async function convertToInteractive(key) {\n",
              "          const element = document.querySelector('#df-11711fde-8470-42b3-929d-8db82a4a1ceb');\n",
              "          const dataTable =\n",
              "            await google.colab.kernel.invokeFunction('convertToInteractive',\n",
              "                                                     [key], {});\n",
              "          if (!dataTable) return;\n",
              "\n",
              "          const docLinkHtml = 'Like what you see? Visit the ' +\n",
              "            '<a target=\"_blank\" href=https://colab.research.google.com/notebooks/data_table.ipynb>data table notebook</a>'\n",
              "            + ' to learn more about interactive tables.';\n",
              "          element.innerHTML = '';\n",
              "          dataTable['output_type'] = 'display_data';\n",
              "          await google.colab.output.renderOutput(dataTable, element);\n",
              "          const docLink = document.createElement('div');\n",
              "          docLink.innerHTML = docLinkHtml;\n",
              "          element.appendChild(docLink);\n",
              "        }\n",
              "      </script>\n",
              "    </div>\n",
              "  </div>\n",
              "  "
            ]
          },
          "metadata": {},
          "execution_count": 11
        }
      ],
      "source": [
        "dataset_train.head()"
      ]
    },
    {
      "cell_type": "code",
      "execution_count": 12,
      "metadata": {
        "colab": {
          "base_uri": "https://localhost:8080/",
          "height": 206
        },
        "id": "ubrSOKiTjQHW",
        "outputId": "5166dd24-b90a-480b-db3f-b267ad4b6395"
      },
      "outputs": [
        {
          "output_type": "execute_result",
          "data": {
            "text/plain": [
              "  Protocol   Local Address   Remote Address  Local Port  Remote Port Packets  \\\n",
              "0      UDP  192.168.29.184  239.255.255.250     35992.0       1900.0       2   \n",
              "1      UDP  192.168.29.184  239.255.255.250     55086.0       1900.0       2   \n",
              "2      TCP   192.168.29.50    35.211.149.16     55462.0        443.0      29   \n",
              "3      TCP   192.168.29.50    145.40.89.200     49404.0        443.0      77   \n",
              "4      TCP   192.168.29.50      103.43.89.4     63382.0        443.0      63   \n",
              "\n",
              "      Data Size    Total Size  Data Speed Duration  Attack  \n",
              "0     634 Bytes   1,002 Bytes  0.0 KB/Sec  34:01.8      -1  \n",
              "1     643 Bytes   1,020 Bytes  0.0 KB/Sec  35:02.2      -1  \n",
              "2   6,943 Bytes   8,956 Bytes  0.0 KB/Sec  02:58.8      -1  \n",
              "3  30,966 Bytes  34,674 Bytes  0.0 KB/Sec  15:42.8      -1  \n",
              "4  40,857 Bytes  43,935 Bytes  1.3 KB/Sec  00:30.3      -1  "
            ],
            "text/html": [
              "\n",
              "  <div id=\"df-bf302cf6-9d26-4330-a2f2-fadaa3a90a56\">\n",
              "    <div class=\"colab-df-container\">\n",
              "      <div>\n",
              "<style scoped>\n",
              "    .dataframe tbody tr th:only-of-type {\n",
              "        vertical-align: middle;\n",
              "    }\n",
              "\n",
              "    .dataframe tbody tr th {\n",
              "        vertical-align: top;\n",
              "    }\n",
              "\n",
              "    .dataframe thead th {\n",
              "        text-align: right;\n",
              "    }\n",
              "</style>\n",
              "<table border=\"1\" class=\"dataframe\">\n",
              "  <thead>\n",
              "    <tr style=\"text-align: right;\">\n",
              "      <th></th>\n",
              "      <th>Protocol</th>\n",
              "      <th>Local Address</th>\n",
              "      <th>Remote Address</th>\n",
              "      <th>Local Port</th>\n",
              "      <th>Remote Port</th>\n",
              "      <th>Packets</th>\n",
              "      <th>Data Size</th>\n",
              "      <th>Total Size</th>\n",
              "      <th>Data Speed</th>\n",
              "      <th>Duration</th>\n",
              "      <th>Attack</th>\n",
              "    </tr>\n",
              "  </thead>\n",
              "  <tbody>\n",
              "    <tr>\n",
              "      <th>0</th>\n",
              "      <td>UDP</td>\n",
              "      <td>192.168.29.184</td>\n",
              "      <td>239.255.255.250</td>\n",
              "      <td>35992.0</td>\n",
              "      <td>1900.0</td>\n",
              "      <td>2</td>\n",
              "      <td>634 Bytes</td>\n",
              "      <td>1,002 Bytes</td>\n",
              "      <td>0.0 KB/Sec</td>\n",
              "      <td>34:01.8</td>\n",
              "      <td>-1</td>\n",
              "    </tr>\n",
              "    <tr>\n",
              "      <th>1</th>\n",
              "      <td>UDP</td>\n",
              "      <td>192.168.29.184</td>\n",
              "      <td>239.255.255.250</td>\n",
              "      <td>55086.0</td>\n",
              "      <td>1900.0</td>\n",
              "      <td>2</td>\n",
              "      <td>643 Bytes</td>\n",
              "      <td>1,020 Bytes</td>\n",
              "      <td>0.0 KB/Sec</td>\n",
              "      <td>35:02.2</td>\n",
              "      <td>-1</td>\n",
              "    </tr>\n",
              "    <tr>\n",
              "      <th>2</th>\n",
              "      <td>TCP</td>\n",
              "      <td>192.168.29.50</td>\n",
              "      <td>35.211.149.16</td>\n",
              "      <td>55462.0</td>\n",
              "      <td>443.0</td>\n",
              "      <td>29</td>\n",
              "      <td>6,943 Bytes</td>\n",
              "      <td>8,956 Bytes</td>\n",
              "      <td>0.0 KB/Sec</td>\n",
              "      <td>02:58.8</td>\n",
              "      <td>-1</td>\n",
              "    </tr>\n",
              "    <tr>\n",
              "      <th>3</th>\n",
              "      <td>TCP</td>\n",
              "      <td>192.168.29.50</td>\n",
              "      <td>145.40.89.200</td>\n",
              "      <td>49404.0</td>\n",
              "      <td>443.0</td>\n",
              "      <td>77</td>\n",
              "      <td>30,966 Bytes</td>\n",
              "      <td>34,674 Bytes</td>\n",
              "      <td>0.0 KB/Sec</td>\n",
              "      <td>15:42.8</td>\n",
              "      <td>-1</td>\n",
              "    </tr>\n",
              "    <tr>\n",
              "      <th>4</th>\n",
              "      <td>TCP</td>\n",
              "      <td>192.168.29.50</td>\n",
              "      <td>103.43.89.4</td>\n",
              "      <td>63382.0</td>\n",
              "      <td>443.0</td>\n",
              "      <td>63</td>\n",
              "      <td>40,857 Bytes</td>\n",
              "      <td>43,935 Bytes</td>\n",
              "      <td>1.3 KB/Sec</td>\n",
              "      <td>00:30.3</td>\n",
              "      <td>-1</td>\n",
              "    </tr>\n",
              "  </tbody>\n",
              "</table>\n",
              "</div>\n",
              "      <button class=\"colab-df-convert\" onclick=\"convertToInteractive('df-bf302cf6-9d26-4330-a2f2-fadaa3a90a56')\"\n",
              "              title=\"Convert this dataframe to an interactive table.\"\n",
              "              style=\"display:none;\">\n",
              "        \n",
              "  <svg xmlns=\"http://www.w3.org/2000/svg\" height=\"24px\"viewBox=\"0 0 24 24\"\n",
              "       width=\"24px\">\n",
              "    <path d=\"M0 0h24v24H0V0z\" fill=\"none\"/>\n",
              "    <path d=\"M18.56 5.44l.94 2.06.94-2.06 2.06-.94-2.06-.94-.94-2.06-.94 2.06-2.06.94zm-11 1L8.5 8.5l.94-2.06 2.06-.94-2.06-.94L8.5 2.5l-.94 2.06-2.06.94zm10 10l.94 2.06.94-2.06 2.06-.94-2.06-.94-.94-2.06-.94 2.06-2.06.94z\"/><path d=\"M17.41 7.96l-1.37-1.37c-.4-.4-.92-.59-1.43-.59-.52 0-1.04.2-1.43.59L10.3 9.45l-7.72 7.72c-.78.78-.78 2.05 0 2.83L4 21.41c.39.39.9.59 1.41.59.51 0 1.02-.2 1.41-.59l7.78-7.78 2.81-2.81c.8-.78.8-2.07 0-2.86zM5.41 20L4 18.59l7.72-7.72 1.47 1.35L5.41 20z\"/>\n",
              "  </svg>\n",
              "      </button>\n",
              "      \n",
              "  <style>\n",
              "    .colab-df-container {\n",
              "      display:flex;\n",
              "      flex-wrap:wrap;\n",
              "      gap: 12px;\n",
              "    }\n",
              "\n",
              "    .colab-df-convert {\n",
              "      background-color: #E8F0FE;\n",
              "      border: none;\n",
              "      border-radius: 50%;\n",
              "      cursor: pointer;\n",
              "      display: none;\n",
              "      fill: #1967D2;\n",
              "      height: 32px;\n",
              "      padding: 0 0 0 0;\n",
              "      width: 32px;\n",
              "    }\n",
              "\n",
              "    .colab-df-convert:hover {\n",
              "      background-color: #E2EBFA;\n",
              "      box-shadow: 0px 1px 2px rgba(60, 64, 67, 0.3), 0px 1px 3px 1px rgba(60, 64, 67, 0.15);\n",
              "      fill: #174EA6;\n",
              "    }\n",
              "\n",
              "    [theme=dark] .colab-df-convert {\n",
              "      background-color: #3B4455;\n",
              "      fill: #D2E3FC;\n",
              "    }\n",
              "\n",
              "    [theme=dark] .colab-df-convert:hover {\n",
              "      background-color: #434B5C;\n",
              "      box-shadow: 0px 1px 3px 1px rgba(0, 0, 0, 0.15);\n",
              "      filter: drop-shadow(0px 1px 2px rgba(0, 0, 0, 0.3));\n",
              "      fill: #FFFFFF;\n",
              "    }\n",
              "  </style>\n",
              "\n",
              "      <script>\n",
              "        const buttonEl =\n",
              "          document.querySelector('#df-bf302cf6-9d26-4330-a2f2-fadaa3a90a56 button.colab-df-convert');\n",
              "        buttonEl.style.display =\n",
              "          google.colab.kernel.accessAllowed ? 'block' : 'none';\n",
              "\n",
              "        async function convertToInteractive(key) {\n",
              "          const element = document.querySelector('#df-bf302cf6-9d26-4330-a2f2-fadaa3a90a56');\n",
              "          const dataTable =\n",
              "            await google.colab.kernel.invokeFunction('convertToInteractive',\n",
              "                                                     [key], {});\n",
              "          if (!dataTable) return;\n",
              "\n",
              "          const docLinkHtml = 'Like what you see? Visit the ' +\n",
              "            '<a target=\"_blank\" href=https://colab.research.google.com/notebooks/data_table.ipynb>data table notebook</a>'\n",
              "            + ' to learn more about interactive tables.';\n",
              "          element.innerHTML = '';\n",
              "          dataTable['output_type'] = 'display_data';\n",
              "          await google.colab.output.renderOutput(dataTable, element);\n",
              "          const docLink = document.createElement('div');\n",
              "          docLink.innerHTML = docLinkHtml;\n",
              "          element.appendChild(docLink);\n",
              "        }\n",
              "      </script>\n",
              "    </div>\n",
              "  </div>\n",
              "  "
            ]
          },
          "metadata": {},
          "execution_count": 12
        }
      ],
      "source": [
        "dataset_train = dataset_train.drop([\"Local Host\",\"Remote Host\",\"Service Name\",\"Capture Time\",\"Last Packet Time\"],axis=1)\n",
        "dataset_train = dataset_train.reset_index(drop = True)\n",
        "dataset_train.head()"
      ]
    },
    {
      "cell_type": "code",
      "execution_count": 13,
      "metadata": {
        "id": "M2EId2LZjQkL"
      },
      "outputs": [],
      "source": [
        "dataset_train['Throughput']=0\n",
        "dataset_train[\"Duration in seconds\"] = 0"
      ]
    },
    {
      "cell_type": "code",
      "execution_count": 14,
      "metadata": {
        "colab": {
          "base_uri": "https://localhost:8080/"
        },
        "id": "WAGPmdlsj477",
        "outputId": "62c8db39-6fde-4acf-ea62-e1d2db29ed4d"
      },
      "outputs": [
        {
          "output_type": "stream",
          "name": "stderr",
          "text": [
            "<ipython-input-14-22298153ade2>:5: SettingWithCopyWarning: \n",
            "A value is trying to be set on a copy of a slice from a DataFrame\n",
            "\n",
            "See the caveats in the documentation: https://pandas.pydata.org/pandas-docs/stable/user_guide/indexing.html#returning-a-view-versus-a-copy\n",
            "  dataset_train[\"Duration in seconds\"][i] = t.hour*3600 + t.minute*60 + t.second\n",
            "<ipython-input-14-22298153ade2>:11: SettingWithCopyWarning: \n",
            "A value is trying to be set on a copy of a slice from a DataFrame\n",
            "\n",
            "See the caveats in the documentation: https://pandas.pydata.org/pandas-docs/stable/user_guide/indexing.html#returning-a-view-versus-a-copy\n",
            "  dataset_train[\"Packets\"][i] = dataset_train[\"Packets\"][i].translate(str.maketrans('', '', string.punctuation))\n",
            "<ipython-input-14-22298153ade2>:12: SettingWithCopyWarning: \n",
            "A value is trying to be set on a copy of a slice from a DataFrame\n",
            "\n",
            "See the caveats in the documentation: https://pandas.pydata.org/pandas-docs/stable/user_guide/indexing.html#returning-a-view-versus-a-copy\n",
            "  dataset_train[\"Packets\"][i] = int(dataset_train[\"Packets\"][i].split(' ')[0])\n",
            "<ipython-input-14-22298153ade2>:13: SettingWithCopyWarning: \n",
            "A value is trying to be set on a copy of a slice from a DataFrame\n",
            "\n",
            "See the caveats in the documentation: https://pandas.pydata.org/pandas-docs/stable/user_guide/indexing.html#returning-a-view-versus-a-copy\n",
            "  dataset_train[\"Packets\"][i] = int(dataset_train[\"Packets\"][i])\n",
            "<ipython-input-14-22298153ade2>:8: SettingWithCopyWarning: \n",
            "A value is trying to be set on a copy of a slice from a DataFrame\n",
            "\n",
            "See the caveats in the documentation: https://pandas.pydata.org/pandas-docs/stable/user_guide/indexing.html#returning-a-view-versus-a-copy\n",
            "  dataset_train[\"Packets\"][i] = dataset_train[\"Packets\"][i]\n"
          ]
        }
      ],
      "source": [
        "import string\n",
        "from datetime import datetime\n",
        "for i in range(len(dataset_train)):\n",
        "  t = datetime.strptime(dataset_train[\"Duration\"][i].split('.')[0], '%M:%S').time()\n",
        "  dataset_train[\"Duration in seconds\"][i] = t.hour*3600 + t.minute*60 + t.second\n",
        "  \n",
        "  if(type(dataset_train[\"Packets\"][i])==int or type(dataset_train[\"Packets\"][i])==float):\n",
        "    dataset_train[\"Packets\"][i] = dataset_train[\"Packets\"][i]\n",
        "  else:\n",
        "    if(type(dataset_train[\"Packets\"][i])==str):\n",
        "      dataset_train[\"Packets\"][i] = dataset_train[\"Packets\"][i].translate(str.maketrans('', '', string.punctuation))\n",
        "      dataset_train[\"Packets\"][i] = int(dataset_train[\"Packets\"][i].split(' ')[0])\n",
        "      dataset_train[\"Packets\"][i] = int(dataset_train[\"Packets\"][i])"
      ]
    },
    {
      "cell_type": "code",
      "execution_count": 15,
      "metadata": {
        "colab": {
          "base_uri": "https://localhost:8080/",
          "height": 206
        },
        "id": "jfOJSkLAj40T",
        "outputId": "7e304703-29b2-414a-c0c9-ba70da19224e"
      },
      "outputs": [
        {
          "output_type": "execute_result",
          "data": {
            "text/plain": [
              "  Protocol   Local Address   Remote Address  Local Port  Remote Port Packets  \\\n",
              "0      UDP  192.168.29.184  239.255.255.250     35992.0       1900.0       2   \n",
              "1      UDP  192.168.29.184  239.255.255.250     55086.0       1900.0       2   \n",
              "2      TCP   192.168.29.50    35.211.149.16     55462.0        443.0      29   \n",
              "3      TCP   192.168.29.50    145.40.89.200     49404.0        443.0      77   \n",
              "4      TCP   192.168.29.50      103.43.89.4     63382.0        443.0      63   \n",
              "\n",
              "      Data Size    Total Size  Data Speed Duration  Attack  Throughput  \\\n",
              "0     634 Bytes   1,002 Bytes  0.0 KB/Sec  34:01.8      -1           0   \n",
              "1     643 Bytes   1,020 Bytes  0.0 KB/Sec  35:02.2      -1           0   \n",
              "2   6,943 Bytes   8,956 Bytes  0.0 KB/Sec  02:58.8      -1           0   \n",
              "3  30,966 Bytes  34,674 Bytes  0.0 KB/Sec  15:42.8      -1           0   \n",
              "4  40,857 Bytes  43,935 Bytes  1.3 KB/Sec  00:30.3      -1           0   \n",
              "\n",
              "   Duration in seconds  \n",
              "0                 2041  \n",
              "1                 2102  \n",
              "2                  178  \n",
              "3                  942  \n",
              "4                   30  "
            ],
            "text/html": [
              "\n",
              "  <div id=\"df-a92a7569-12a4-486b-b94d-544661a30fde\">\n",
              "    <div class=\"colab-df-container\">\n",
              "      <div>\n",
              "<style scoped>\n",
              "    .dataframe tbody tr th:only-of-type {\n",
              "        vertical-align: middle;\n",
              "    }\n",
              "\n",
              "    .dataframe tbody tr th {\n",
              "        vertical-align: top;\n",
              "    }\n",
              "\n",
              "    .dataframe thead th {\n",
              "        text-align: right;\n",
              "    }\n",
              "</style>\n",
              "<table border=\"1\" class=\"dataframe\">\n",
              "  <thead>\n",
              "    <tr style=\"text-align: right;\">\n",
              "      <th></th>\n",
              "      <th>Protocol</th>\n",
              "      <th>Local Address</th>\n",
              "      <th>Remote Address</th>\n",
              "      <th>Local Port</th>\n",
              "      <th>Remote Port</th>\n",
              "      <th>Packets</th>\n",
              "      <th>Data Size</th>\n",
              "      <th>Total Size</th>\n",
              "      <th>Data Speed</th>\n",
              "      <th>Duration</th>\n",
              "      <th>Attack</th>\n",
              "      <th>Throughput</th>\n",
              "      <th>Duration in seconds</th>\n",
              "    </tr>\n",
              "  </thead>\n",
              "  <tbody>\n",
              "    <tr>\n",
              "      <th>0</th>\n",
              "      <td>UDP</td>\n",
              "      <td>192.168.29.184</td>\n",
              "      <td>239.255.255.250</td>\n",
              "      <td>35992.0</td>\n",
              "      <td>1900.0</td>\n",
              "      <td>2</td>\n",
              "      <td>634 Bytes</td>\n",
              "      <td>1,002 Bytes</td>\n",
              "      <td>0.0 KB/Sec</td>\n",
              "      <td>34:01.8</td>\n",
              "      <td>-1</td>\n",
              "      <td>0</td>\n",
              "      <td>2041</td>\n",
              "    </tr>\n",
              "    <tr>\n",
              "      <th>1</th>\n",
              "      <td>UDP</td>\n",
              "      <td>192.168.29.184</td>\n",
              "      <td>239.255.255.250</td>\n",
              "      <td>55086.0</td>\n",
              "      <td>1900.0</td>\n",
              "      <td>2</td>\n",
              "      <td>643 Bytes</td>\n",
              "      <td>1,020 Bytes</td>\n",
              "      <td>0.0 KB/Sec</td>\n",
              "      <td>35:02.2</td>\n",
              "      <td>-1</td>\n",
              "      <td>0</td>\n",
              "      <td>2102</td>\n",
              "    </tr>\n",
              "    <tr>\n",
              "      <th>2</th>\n",
              "      <td>TCP</td>\n",
              "      <td>192.168.29.50</td>\n",
              "      <td>35.211.149.16</td>\n",
              "      <td>55462.0</td>\n",
              "      <td>443.0</td>\n",
              "      <td>29</td>\n",
              "      <td>6,943 Bytes</td>\n",
              "      <td>8,956 Bytes</td>\n",
              "      <td>0.0 KB/Sec</td>\n",
              "      <td>02:58.8</td>\n",
              "      <td>-1</td>\n",
              "      <td>0</td>\n",
              "      <td>178</td>\n",
              "    </tr>\n",
              "    <tr>\n",
              "      <th>3</th>\n",
              "      <td>TCP</td>\n",
              "      <td>192.168.29.50</td>\n",
              "      <td>145.40.89.200</td>\n",
              "      <td>49404.0</td>\n",
              "      <td>443.0</td>\n",
              "      <td>77</td>\n",
              "      <td>30,966 Bytes</td>\n",
              "      <td>34,674 Bytes</td>\n",
              "      <td>0.0 KB/Sec</td>\n",
              "      <td>15:42.8</td>\n",
              "      <td>-1</td>\n",
              "      <td>0</td>\n",
              "      <td>942</td>\n",
              "    </tr>\n",
              "    <tr>\n",
              "      <th>4</th>\n",
              "      <td>TCP</td>\n",
              "      <td>192.168.29.50</td>\n",
              "      <td>103.43.89.4</td>\n",
              "      <td>63382.0</td>\n",
              "      <td>443.0</td>\n",
              "      <td>63</td>\n",
              "      <td>40,857 Bytes</td>\n",
              "      <td>43,935 Bytes</td>\n",
              "      <td>1.3 KB/Sec</td>\n",
              "      <td>00:30.3</td>\n",
              "      <td>-1</td>\n",
              "      <td>0</td>\n",
              "      <td>30</td>\n",
              "    </tr>\n",
              "  </tbody>\n",
              "</table>\n",
              "</div>\n",
              "      <button class=\"colab-df-convert\" onclick=\"convertToInteractive('df-a92a7569-12a4-486b-b94d-544661a30fde')\"\n",
              "              title=\"Convert this dataframe to an interactive table.\"\n",
              "              style=\"display:none;\">\n",
              "        \n",
              "  <svg xmlns=\"http://www.w3.org/2000/svg\" height=\"24px\"viewBox=\"0 0 24 24\"\n",
              "       width=\"24px\">\n",
              "    <path d=\"M0 0h24v24H0V0z\" fill=\"none\"/>\n",
              "    <path d=\"M18.56 5.44l.94 2.06.94-2.06 2.06-.94-2.06-.94-.94-2.06-.94 2.06-2.06.94zm-11 1L8.5 8.5l.94-2.06 2.06-.94-2.06-.94L8.5 2.5l-.94 2.06-2.06.94zm10 10l.94 2.06.94-2.06 2.06-.94-2.06-.94-.94-2.06-.94 2.06-2.06.94z\"/><path d=\"M17.41 7.96l-1.37-1.37c-.4-.4-.92-.59-1.43-.59-.52 0-1.04.2-1.43.59L10.3 9.45l-7.72 7.72c-.78.78-.78 2.05 0 2.83L4 21.41c.39.39.9.59 1.41.59.51 0 1.02-.2 1.41-.59l7.78-7.78 2.81-2.81c.8-.78.8-2.07 0-2.86zM5.41 20L4 18.59l7.72-7.72 1.47 1.35L5.41 20z\"/>\n",
              "  </svg>\n",
              "      </button>\n",
              "      \n",
              "  <style>\n",
              "    .colab-df-container {\n",
              "      display:flex;\n",
              "      flex-wrap:wrap;\n",
              "      gap: 12px;\n",
              "    }\n",
              "\n",
              "    .colab-df-convert {\n",
              "      background-color: #E8F0FE;\n",
              "      border: none;\n",
              "      border-radius: 50%;\n",
              "      cursor: pointer;\n",
              "      display: none;\n",
              "      fill: #1967D2;\n",
              "      height: 32px;\n",
              "      padding: 0 0 0 0;\n",
              "      width: 32px;\n",
              "    }\n",
              "\n",
              "    .colab-df-convert:hover {\n",
              "      background-color: #E2EBFA;\n",
              "      box-shadow: 0px 1px 2px rgba(60, 64, 67, 0.3), 0px 1px 3px 1px rgba(60, 64, 67, 0.15);\n",
              "      fill: #174EA6;\n",
              "    }\n",
              "\n",
              "    [theme=dark] .colab-df-convert {\n",
              "      background-color: #3B4455;\n",
              "      fill: #D2E3FC;\n",
              "    }\n",
              "\n",
              "    [theme=dark] .colab-df-convert:hover {\n",
              "      background-color: #434B5C;\n",
              "      box-shadow: 0px 1px 3px 1px rgba(0, 0, 0, 0.15);\n",
              "      filter: drop-shadow(0px 1px 2px rgba(0, 0, 0, 0.3));\n",
              "      fill: #FFFFFF;\n",
              "    }\n",
              "  </style>\n",
              "\n",
              "      <script>\n",
              "        const buttonEl =\n",
              "          document.querySelector('#df-a92a7569-12a4-486b-b94d-544661a30fde button.colab-df-convert');\n",
              "        buttonEl.style.display =\n",
              "          google.colab.kernel.accessAllowed ? 'block' : 'none';\n",
              "\n",
              "        async function convertToInteractive(key) {\n",
              "          const element = document.querySelector('#df-a92a7569-12a4-486b-b94d-544661a30fde');\n",
              "          const dataTable =\n",
              "            await google.colab.kernel.invokeFunction('convertToInteractive',\n",
              "                                                     [key], {});\n",
              "          if (!dataTable) return;\n",
              "\n",
              "          const docLinkHtml = 'Like what you see? Visit the ' +\n",
              "            '<a target=\"_blank\" href=https://colab.research.google.com/notebooks/data_table.ipynb>data table notebook</a>'\n",
              "            + ' to learn more about interactive tables.';\n",
              "          element.innerHTML = '';\n",
              "          dataTable['output_type'] = 'display_data';\n",
              "          await google.colab.output.renderOutput(dataTable, element);\n",
              "          const docLink = document.createElement('div');\n",
              "          docLink.innerHTML = docLinkHtml;\n",
              "          element.appendChild(docLink);\n",
              "        }\n",
              "      </script>\n",
              "    </div>\n",
              "  </div>\n",
              "  "
            ]
          },
          "metadata": {},
          "execution_count": 15
        }
      ],
      "source": [
        "dataset_train.head()"
      ]
    },
    {
      "cell_type": "code",
      "execution_count": 16,
      "metadata": {
        "colab": {
          "base_uri": "https://localhost:8080/"
        },
        "id": "Cvm9T21HzG8W",
        "outputId": "fba5f25c-190d-44ec-9d37-928a528711f2"
      },
      "outputs": [
        {
          "output_type": "stream",
          "name": "stderr",
          "text": [
            "<ipython-input-16-ad44b00ee02e>:5: SettingWithCopyWarning: \n",
            "A value is trying to be set on a copy of a slice from a DataFrame\n",
            "\n",
            "See the caveats in the documentation: https://pandas.pydata.org/pandas-docs/stable/user_guide/indexing.html#returning-a-view-versus-a-copy\n",
            "  dataset_train[\"Throughput\"][i] = val\n",
            "<ipython-input-16-ad44b00ee02e>:2: RuntimeWarning: divide by zero encountered in long_scalars\n",
            "  val = dataset_train[\"Packets\"][i]/dataset_train[\"Duration in seconds\"][i]\n"
          ]
        }
      ],
      "source": [
        "for i in range(len(dataset_train)):\n",
        "  val = dataset_train[\"Packets\"][i]/dataset_train[\"Duration in seconds\"][i]\n",
        "  if val==np.inf or val==-np.inf:\n",
        "    val = 10**15\n",
        "  dataset_train[\"Throughput\"][i] = val"
      ]
    },
    {
      "cell_type": "code",
      "execution_count": 17,
      "metadata": {
        "id": "E9nqQb40zHY0"
      },
      "outputs": [],
      "source": [
        "dataset_train=dataset_train.sort_values(by=['Throughput'])"
      ]
    },
    {
      "cell_type": "code",
      "execution_count": 18,
      "metadata": {
        "id": "iAqlpy-kj4on"
      },
      "outputs": [],
      "source": [
        "throughput=dataset_train['Throughput']"
      ]
    },
    {
      "cell_type": "code",
      "execution_count": 19,
      "metadata": {
        "id": "EOvbarXfzk-a"
      },
      "outputs": [],
      "source": [
        "throughput.replace([np.inf, -np.inf], np.nan, inplace=True)\n",
        "throughput.dropna(how=\"all\", inplace=True)"
      ]
    },
    {
      "cell_type": "code",
      "execution_count": 20,
      "metadata": {
        "colab": {
          "base_uri": "https://localhost:8080/"
        },
        "id": "eh6BVXbgzkuy",
        "outputId": "4edc6a2f-88b4-4d4b-d546-723fc4cefe8a"
      },
      "outputs": [
        {
          "output_type": "stream",
          "name": "stdout",
          "text": [
            "27400000000012.0 163262276457797.16\n"
          ]
        }
      ],
      "source": [
        "stdev = throughput.std()\n",
        "mean = throughput.mean()\n",
        "print(mean,stdev)"
      ]
    },
    {
      "cell_type": "code",
      "execution_count": 21,
      "metadata": {
        "id": "5VWsUhZaj4fE"
      },
      "outputs": [],
      "source": [
        "data=dataset_train[\"Throughput\"].tolist()"
      ]
    },
    {
      "cell_type": "code",
      "execution_count": 22,
      "metadata": {
        "colab": {
          "base_uri": "https://localhost:8080/"
        },
        "id": "h462xAozz4gd",
        "outputId": "c46159be-f3a2-4612-f87e-d84b1c9ce168"
      },
      "outputs": [
        {
          "output_type": "stream",
          "name": "stdout",
          "text": [
            "137\n"
          ]
        }
      ],
      "source": [
        "c=0\n",
        "for i in dataset_train['Throughput']:\n",
        "  if i==1000000000000000:\n",
        "    c=c+1\n",
        "\n",
        "print(c)"
      ]
    },
    {
      "cell_type": "code",
      "execution_count": 23,
      "metadata": {
        "colab": {
          "base_uri": "https://localhost:8080/",
          "height": 276
        },
        "id": "UAhpNwSSj4M2",
        "outputId": "fa832518-02e3-4c1c-8ce3-d20d3286fecf"
      },
      "outputs": [
        {
          "output_type": "display_data",
          "data": {
            "text/plain": [
              "<Figure size 432x288 with 1 Axes>"
            ],
            "image/png": "[encoded data removed]"
          },
          "metadata": {
            "needs_background": "light"
          }
        }
      ],
      "source": [
        "df = pd.DataFrame({\n",
        "      'data': data,\n",
        "      'mean': [mean for i in range(len(data))],\n",
        "      'std': [stdev for i in range(len(data))]})\n",
        "df.plot()\n",
        "plt.show()"
      ]
    },
    {
      "cell_type": "code",
      "execution_count": 24,
      "metadata": {
        "colab": {
          "base_uri": "https://localhost:8080/"
        },
        "id": "B7z_qApu3UpU",
        "outputId": "ba573160-8561-45b1-f59f-9be4b3dae92b"
      },
      "outputs": [
        {
          "output_type": "stream",
          "name": "stderr",
          "text": [
            "<ipython-input-24-5d4597eb4d8d>:5: SettingWithCopyWarning: \n",
            "A value is trying to be set on a copy of a slice from a DataFrame\n",
            "\n",
            "See the caveats in the documentation: https://pandas.pydata.org/pandas-docs/stable/user_guide/indexing.html#returning-a-view-versus-a-copy\n",
            "  dataset_train[\"Anomaly\"][i] = -1\n"
          ]
        }
      ],
      "source": [
        "dataset_train[\"Anomaly\"] = 1\n",
        "dataset_train.replace(np.nan,np.inf,inplace=True)\n",
        "for i in range(0,len(dataset_train[\"Total Size\"])):\n",
        "    if(abs(dataset_train[\"Throughput\"][i]-mean)<stdev):\n",
        "        dataset_train[\"Anomaly\"][i] = -1   "
      ]
    },
    {
      "cell_type": "code",
      "execution_count": 25,
      "metadata": {
        "id": "wZvVAMoe3VQe"
      },
      "outputs": [],
      "source": [
        "from sklearn.metrics import confusion_matrix,precision_score,accuracy_score,f1_score, classification_report\n",
        "import seaborn as sn\n",
        "tn, fp, fn, tp = confusion_matrix(dataset_train[\"Attack\"], dataset_train[\"Anomaly\"]).ravel()\n",
        "precision = precision_score(dataset_train[\"Attack\"], dataset_train[\"Anomaly\"])\n",
        "accuracy = accuracy_score(dataset_train[\"Attack\"], dataset_train[\"Anomaly\"])\n",
        "f1_score = f1_score(dataset_train[\"Attack\"], dataset_train[\"Anomaly\"])"
      ]
    },
    {
      "cell_type": "code",
      "execution_count": 26,
      "metadata": {
        "colab": {
          "base_uri": "https://localhost:8080/",
          "height": 279
        },
        "id": "7tqJpZUTGZUc",
        "outputId": "e3883204-8897-48fb-d450-3e49aeb35fbb"
      },
      "outputs": [
        {
          "output_type": "display_data",
          "data": {
            "text/plain": [
              "<Figure size 432x288 with 2 Axes>"
            ],
            "image/png": "[encoded data removed]"
          },
          "metadata": {
            "needs_background": "light"
          }
        }
      ],
      "source": [
        "from sklearn.metrics import ConfusionMatrixDisplay\n",
        "cm=confusion_matrix(dataset_train[\"Attack\"], dataset_train[\"Anomaly\"])\n",
        "disp_poly = ConfusionMatrixDisplay(cm)\n",
        "disp_poly.plot()\n",
        "plt.show()"
      ]
    },
    {
      "cell_type": "code",
      "execution_count": 27,
      "metadata": {
        "colab": {
          "base_uri": "https://localhost:8080/"
        },
        "id": "NB3iOvsh3ghm",
        "outputId": "b90fdc7d-d8c0-415b-90ea-f606fc5a3650"
      },
      "outputs": [
        {
          "output_type": "execute_result",
          "data": {
            "text/plain": [
              "((4850, 0, 13, 137), 1.0, 0.9974, 0.9547038327526133)"
            ]
          },
          "metadata": {},
          "execution_count": 27
        }
      ],
      "source": [
        "(tn, fp, fn, tp),precision,accuracy,f1_score"
      ]
    },
    {
      "cell_type": "markdown",
      "metadata": {
        "id": "IIGyiBS_3hJ6"
      },
      "source": [
        "## Testing"
      ]
    },
    {
      "cell_type": "code",
      "execution_count": 28,
      "metadata": {
        "colab": {
          "base_uri": "https://localhost:8080/"
        },
        "id": "90D5sjfUKZFW",
        "outputId": "4a0524d4-c210-43a1-854a-aa88f0fac5ea"
      },
      "outputs": [
        {
          "output_type": "stream",
          "name": "stdout",
          "text": [
            "12138\n",
            "1000\n"
          ]
        }
      ],
      "source": [
        "attack=pd.read_csv('FYP Dataset/DoS1.csv')\n",
        "attack=attack.append(pd.read_csv('FYP Dataset/DoS2.csv'))\n",
        "attack = attack.sample(frac = 1)\n",
        "print(len(attack))\n",
        "attack=attack[:1000]\n",
        "print(len(attack))"
      ]
    },
    {
      "cell_type": "code",
      "execution_count": 29,
      "metadata": {
        "colab": {
          "base_uri": "https://localhost:8080/"
        },
        "id": "S6eW73XUKpzB",
        "outputId": "b52654ca-4f68-4d1e-f66e-f35c05fc0503"
      },
      "outputs": [
        {
          "output_type": "stream",
          "name": "stdout",
          "text": [
            "14897\n"
          ]
        }
      ],
      "source": [
        "working=pd.read_csv('FYP Dataset/Working1.csv')\n",
        "working=working.append(pd.read_csv('FYP Dataset/Working2.csv'))\n",
        "working=working.append(pd.read_csv('FYP Dataset/Working3.csv'))\n",
        "working=working.append(pd.read_csv('FYP Dataset/Working4.csv'))\n",
        "working=working.append(pd.read_csv('FYP Dataset/Working5.csv'))\n",
        "working=working.append(pd.read_csv('FYP Dataset/Working6.csv'))\n",
        "working=working.append(pd.read_csv('FYP Dataset/Working7.csv'))\n",
        "working=working.append(pd.read_csv('FYP Dataset/Working8.csv'))\n",
        "working=working.append(pd.read_csv('FYP Dataset/Working9.csv'))\n",
        "working = working.sample(frac = 1)\n",
        "print(len(working))\n",
        "#working=working[:7000]\n",
        "#print(len(working))"
      ]
    },
    {
      "cell_type": "code",
      "execution_count": 30,
      "metadata": {
        "colab": {
          "base_uri": "https://localhost:8080/"
        },
        "id": "jI2W_4enK0RF",
        "outputId": "bdba6550-dad7-458a-e9d9-f9f7dc4f4727"
      },
      "outputs": [
        {
          "output_type": "stream",
          "name": "stdout",
          "text": [
            "11032\n"
          ]
        }
      ],
      "source": [
        "idle=pd.read_csv('FYP Dataset/Idle1.csv')\n",
        "idle=idle.append(pd.read_csv('FYP Dataset/Idle2.csv'))\n",
        "idle=idle.append(pd.read_csv('FYP Dataset/Idle3.csv'))\n",
        "idle=idle.append(pd.read_csv('FYP Dataset/Idle4.csv'))\n",
        "idle=idle.append(pd.read_csv('FYP Dataset/Idle5.csv'))\n",
        "idle=idle.append(pd.read_csv('FYP Dataset/Idle6.csv'))\n",
        "idle=idle.append(pd.read_csv('FYP Dataset/Idle7.csv'))\n",
        "idle=idle.append(pd.read_csv('FYP Dataset/Idle8.csv'))\n",
        "idle = idle.sample(frac = 1)\n",
        "print(len(idle))\n",
        "#idle=idle[:7400]\n",
        "# print(len(idle))"
      ]
    },
    {
      "cell_type": "code",
      "execution_count": 31,
      "metadata": {
        "colab": {
          "base_uri": "https://localhost:8080/",
          "height": 350
        },
        "id": "pnIge4KiLzzb",
        "outputId": "f254ed38-c3ce-4414-c273-1c8c4db1713c"
      },
      "outputs": [
        {
          "output_type": "display_data",
          "data": {
            "text/plain": [
              "<Figure size 720x360 with 1 Axes>"
            ],
            "image/png": "[encoded data removed]"
          },
          "metadata": {
            "needs_background": "light"
          }
        }
      ],
      "source": [
        "data={'Working System': len(working), 'Idle System': len(idle), 'System Under Attack': len(attack)}\n",
        "typeOfSystem= list(data.keys())\n",
        "NumberOfEntries=list(data.values())\n",
        "fig = plt.figure(figsize = (10, 5))\n",
        "total=len(working)+len(idle)+len(attack)\n",
        "graph=plt.bar(typeOfSystem, NumberOfEntries, color ='maroon',\n",
        "        width = 0.4)\n",
        "for bar in graph:\n",
        "    height = bar.get_height()\n",
        "    percent=height*100/total\n",
        "    plt.annotate( \"{}%\".format(int(percent)),(bar.get_x() + bar.get_width()/2, height+.05),ha=\"center\",va=\"bottom\",fontsize=15)\n",
        " \n",
        "plt.xlabel(\"Type of System\")\n",
        "plt.ylabel(\"Number of Entries\")\n",
        "plt.title(\"Our Dataset\")\n",
        "plt.show()"
      ]
    },
    {
      "cell_type": "code",
      "execution_count": 32,
      "metadata": {
        "id": "pAruhMO3M3Su"
      },
      "outputs": [],
      "source": [
        "idle[\"Attack\"] = -1\n",
        "working[\"Attack\"] = -1\n",
        "attack[\"Attack\"] = 1"
      ]
    },
    {
      "cell_type": "code",
      "execution_count": 33,
      "metadata": {
        "id": "EX8fs5aHOUCr"
      },
      "outputs": [],
      "source": [
        "ls=[working,idle,attack]\n",
        "dataset_test=pd.concat(ls)"
      ]
    },
    {
      "cell_type": "code",
      "execution_count": 34,
      "metadata": {
        "colab": {
          "base_uri": "https://localhost:8080/"
        },
        "id": "ZZHghWsgOyQt",
        "outputId": "d6283cf5-232e-4b7b-f94d-6a79c370f8f1"
      },
      "outputs": [
        {
          "output_type": "execute_result",
          "data": {
            "text/plain": [
              "26929"
            ]
          },
          "metadata": {},
          "execution_count": 34
        }
      ],
      "source": [
        "len(dataset_test)"
      ]
    },
    {
      "cell_type": "code",
      "execution_count": 35,
      "metadata": {
        "colab": {
          "base_uri": "https://localhost:8080/",
          "height": 441
        },
        "id": "U3fMGekNOz4i",
        "outputId": "5bb14f0a-b2f7-4c84-d68d-57459e24d0ac"
      },
      "outputs": [
        {
          "output_type": "execute_result",
          "data": {
            "text/plain": [
              "    Protocol   Local Address   Remote Address  Local Port  Remote Port  \\\n",
              "319      UDP  192.168.29.184  239.255.255.250     52250.0       1900.0   \n",
              "57       UDP   192.168.29.50  239.255.255.250     64073.0       1900.0   \n",
              "170      UDP       10.0.2.15      192.168.0.1     51008.0         53.0   \n",
              "168      UDP   192.168.29.50  239.255.255.250     53756.0       1900.0   \n",
              "701      TCP   192.168.29.50    35.241.26.164     51104.0        443.0   \n",
              "\n",
              "    Local Host               Remote Host Service Name Packets     Data Size  \\\n",
              "319        NaN                       NaN         ssdp       2     686 Bytes   \n",
              "57     Sumedha                       NaN         ssdp       8   1,400 Bytes   \n",
              "170        NaN                       NaN       domain       2     205 Bytes   \n",
              "168    Sumedha                       NaN         ssdp       8   1,392 Bytes   \n",
              "701    Sumedha  gce-beacons.gcp.gvt2.com        https     177  28,519 Bytes   \n",
              "\n",
              "       Total Size  Data Speed                Capture Time  \\\n",
              "319   1,118 Bytes  0.0 KB/Sec  12/14/2022 12:26:40 PM:889   \n",
              "57    1,827 Bytes  0.5 KB/Sec   12/15/2022 5:39:23 PM:154   \n",
              "170     335 Bytes         NaN   10/25/2022 9:22:00 AM:608   \n",
              "168   1,818 Bytes  0.4 KB/Sec   12/11/2022 9:14:30 AM:745   \n",
              "701  36,584 Bytes  0.0 KB/Sec   12/14/2022 7:31:57 PM:913   \n",
              "\n",
              "              Last Packet Time Duration  Attack  \n",
              "319  12/14/2022 1:13:41 PM:200  47:00.3      -1  \n",
              "57   12/15/2022 5:39:26 PM:183  00:03.0      -1  \n",
              "170  10/25/2022 9:22:00 AM:655  00:00.0      -1  \n",
              "168  12/11/2022 9:14:33 AM:778  00:03.0      -1  \n",
              "701  12/14/2022 7:46:40 PM:271  14:42.4      -1  "
            ],
            "text/html": [
              "\n",
              "  <div id=\"df-5307f797-ff1e-4a47-a8bb-b1c93193582a\">\n",
              "    <div class=\"colab-df-container\">\n",
              "      <div>\n",
              "<style scoped>\n",
              "    .dataframe tbody tr th:only-of-type {\n",
              "        vertical-align: middle;\n",
              "    }\n",
              "\n",
              "    .dataframe tbody tr th {\n",
              "        vertical-align: top;\n",
              "    }\n",
              "\n",
              "    .dataframe thead th {\n",
              "        text-align: right;\n",
              "    }\n",
              "</style>\n",
              "<table border=\"1\" class=\"dataframe\">\n",
              "  <thead>\n",
              "    <tr style=\"text-align: right;\">\n",
              "      <th></th>\n",
              "      <th>Protocol</th>\n",
              "      <th>Local Address</th>\n",
              "      <th>Remote Address</th>\n",
              "      <th>Local Port</th>\n",
              "      <th>Remote Port</th>\n",
              "      <th>Local Host</th>\n",
              "      <th>Remote Host</th>\n",
              "      <th>Service Name</th>\n",
              "      <th>Packets</th>\n",
              "      <th>Data Size</th>\n",
              "      <th>Total Size</th>\n",
              "      <th>Data Speed</th>\n",
              "      <th>Capture Time</th>\n",
              "      <th>Last Packet Time</th>\n",
              "      <th>Duration</th>\n",
              "      <th>Attack</th>\n",
              "    </tr>\n",
              "  </thead>\n",
              "  <tbody>\n",
              "    <tr>\n",
              "      <th>319</th>\n",
              "      <td>UDP</td>\n",
              "      <td>192.168.29.184</td>\n",
              "      <td>239.255.255.250</td>\n",
              "      <td>52250.0</td>\n",
              "      <td>1900.0</td>\n",
              "      <td>NaN</td>\n",
              "      <td>NaN</td>\n",
              "      <td>ssdp</td>\n",
              "      <td>2</td>\n",
              "      <td>686 Bytes</td>\n",
              "      <td>1,118 Bytes</td>\n",
              "      <td>0.0 KB/Sec</td>\n",
              "      <td>12/14/2022 12:26:40 PM:889</td>\n",
              "      <td>12/14/2022 1:13:41 PM:200</td>\n",
              "      <td>47:00.3</td>\n",
              "      <td>-1</td>\n",
              "    </tr>\n",
              "    <tr>\n",
              "      <th>57</th>\n",
              "      <td>UDP</td>\n",
              "      <td>192.168.29.50</td>\n",
              "      <td>239.255.255.250</td>\n",
              "      <td>64073.0</td>\n",
              "      <td>1900.0</td>\n",
              "      <td>Sumedha</td>\n",
              "      <td>NaN</td>\n",
              "      <td>ssdp</td>\n",
              "      <td>8</td>\n",
              "      <td>1,400 Bytes</td>\n",
              "      <td>1,827 Bytes</td>\n",
              "      <td>0.5 KB/Sec</td>\n",
              "      <td>12/15/2022 5:39:23 PM:154</td>\n",
              "      <td>12/15/2022 5:39:26 PM:183</td>\n",
              "      <td>00:03.0</td>\n",
              "      <td>-1</td>\n",
              "    </tr>\n",
              "    <tr>\n",
              "      <th>170</th>\n",
              "      <td>UDP</td>\n",
              "      <td>10.0.2.15</td>\n",
              "      <td>192.168.0.1</td>\n",
              "      <td>51008.0</td>\n",
              "      <td>53.0</td>\n",
              "      <td>NaN</td>\n",
              "      <td>NaN</td>\n",
              "      <td>domain</td>\n",
              "      <td>2</td>\n",
              "      <td>205 Bytes</td>\n",
              "      <td>335 Bytes</td>\n",
              "      <td>NaN</td>\n",
              "      <td>10/25/2022 9:22:00 AM:608</td>\n",
              "      <td>10/25/2022 9:22:00 AM:655</td>\n",
              "      <td>00:00.0</td>\n",
              "      <td>-1</td>\n",
              "    </tr>\n",
              "    <tr>\n",
              "      <th>168</th>\n",
              "      <td>UDP</td>\n",
              "      <td>192.168.29.50</td>\n",
              "      <td>239.255.255.250</td>\n",
              "      <td>53756.0</td>\n",
              "      <td>1900.0</td>\n",
              "      <td>Sumedha</td>\n",
              "      <td>NaN</td>\n",
              "      <td>ssdp</td>\n",
              "      <td>8</td>\n",
              "      <td>1,392 Bytes</td>\n",
              "      <td>1,818 Bytes</td>\n",
              "      <td>0.4 KB/Sec</td>\n",
              "      <td>12/11/2022 9:14:30 AM:745</td>\n",
              "      <td>12/11/2022 9:14:33 AM:778</td>\n",
              "      <td>00:03.0</td>\n",
              "      <td>-1</td>\n",
              "    </tr>\n",
              "    <tr>\n",
              "      <th>701</th>\n",
              "      <td>TCP</td>\n",
              "      <td>192.168.29.50</td>\n",
              "      <td>35.241.26.164</td>\n",
              "      <td>51104.0</td>\n",
              "      <td>443.0</td>\n",
              "      <td>Sumedha</td>\n",
              "      <td>gce-beacons.gcp.gvt2.com</td>\n",
              "      <td>https</td>\n",
              "      <td>177</td>\n",
              "      <td>28,519 Bytes</td>\n",
              "      <td>36,584 Bytes</td>\n",
              "      <td>0.0 KB/Sec</td>\n",
              "      <td>12/14/2022 7:31:57 PM:913</td>\n",
              "      <td>12/14/2022 7:46:40 PM:271</td>\n",
              "      <td>14:42.4</td>\n",
              "      <td>-1</td>\n",
              "    </tr>\n",
              "  </tbody>\n",
              "</table>\n",
              "</div>\n",
              "      <button class=\"colab-df-convert\" onclick=\"convertToInteractive('df-5307f797-ff1e-4a47-a8bb-b1c93193582a')\"\n",
              "              title=\"Convert this dataframe to an interactive table.\"\n",
              "              style=\"display:none;\">\n",
              "        \n",
              "  <svg xmlns=\"http://www.w3.org/2000/svg\" height=\"24px\"viewBox=\"0 0 24 24\"\n",
              "       width=\"24px\">\n",
              "    <path d=\"M0 0h24v24H0V0z\" fill=\"none\"/>\n",
              "    <path d=\"M18.56 5.44l.94 2.06.94-2.06 2.06-.94-2.06-.94-.94-2.06-.94 2.06-2.06.94zm-11 1L8.5 8.5l.94-2.06 2.06-.94-2.06-.94L8.5 2.5l-.94 2.06-2.06.94zm10 10l.94 2.06.94-2.06 2.06-.94-2.06-.94-.94-2.06-.94 2.06-2.06.94z\"/><path d=\"M17.41 7.96l-1.37-1.37c-.4-.4-.92-.59-1.43-.59-.52 0-1.04.2-1.43.59L10.3 9.45l-7.72 7.72c-.78.78-.78 2.05 0 2.83L4 21.41c.39.39.9.59 1.41.59.51 0 1.02-.2 1.41-.59l7.78-7.78 2.81-2.81c.8-.78.8-2.07 0-2.86zM5.41 20L4 18.59l7.72-7.72 1.47 1.35L5.41 20z\"/>\n",
              "  </svg>\n",
              "      </button>\n",
              "      \n",
              "  <style>\n",
              "    .colab-df-container {\n",
              "      display:flex;\n",
              "      flex-wrap:wrap;\n",
              "      gap: 12px;\n",
              "    }\n",
              "\n",
              "    .colab-df-convert {\n",
              "      background-color: #E8F0FE;\n",
              "      border: none;\n",
              "      border-radius: 50%;\n",
              "      cursor: pointer;\n",
              "      display: none;\n",
              "      fill: #1967D2;\n",
              "      height: 32px;\n",
              "      padding: 0 0 0 0;\n",
              "      width: 32px;\n",
              "    }\n",
              "\n",
              "    .colab-df-convert:hover {\n",
              "      background-color: #E2EBFA;\n",
              "      box-shadow: 0px 1px 2px rgba(60, 64, 67, 0.3), 0px 1px 3px 1px rgba(60, 64, 67, 0.15);\n",
              "      fill: #174EA6;\n",
              "    }\n",
              "\n",
              "    [theme=dark] .colab-df-convert {\n",
              "      background-color: #3B4455;\n",
              "      fill: #D2E3FC;\n",
              "    }\n",
              "\n",
              "    [theme=dark] .colab-df-convert:hover {\n",
              "      background-color: #434B5C;\n",
              "      box-shadow: 0px 1px 3px 1px rgba(0, 0, 0, 0.15);\n",
              "      filter: drop-shadow(0px 1px 2px rgba(0, 0, 0, 0.3));\n",
              "      fill: #FFFFFF;\n",
              "    }\n",
              "  </style>\n",
              "\n",
              "      <script>\n",
              "        const buttonEl =\n",
              "          document.querySelector('#df-5307f797-ff1e-4a47-a8bb-b1c93193582a button.colab-df-convert');\n",
              "        buttonEl.style.display =\n",
              "          google.colab.kernel.accessAllowed ? 'block' : 'none';\n",
              "\n",
              "        async function convertToInteractive(key) {\n",
              "          const element = document.querySelector('#df-5307f797-ff1e-4a47-a8bb-b1c93193582a');\n",
              "          const dataTable =\n",
              "            await google.colab.kernel.invokeFunction('convertToInteractive',\n",
              "                                                     [key], {});\n",
              "          if (!dataTable) return;\n",
              "\n",
              "          const docLinkHtml = 'Like what you see? Visit the ' +\n",
              "            '<a target=\"_blank\" href=https://colab.research.google.com/notebooks/data_table.ipynb>data table notebook</a>'\n",
              "            + ' to learn more about interactive tables.';\n",
              "          element.innerHTML = '';\n",
              "          dataTable['output_type'] = 'display_data';\n",
              "          await google.colab.output.renderOutput(dataTable, element);\n",
              "          const docLink = document.createElement('div');\n",
              "          docLink.innerHTML = docLinkHtml;\n",
              "          element.appendChild(docLink);\n",
              "        }\n",
              "      </script>\n",
              "    </div>\n",
              "  </div>\n",
              "  "
            ]
          },
          "metadata": {},
          "execution_count": 35
        }
      ],
      "source": [
        "dataset_test.head()"
      ]
    },
    {
      "cell_type": "code",
      "execution_count": 36,
      "metadata": {
        "colab": {
          "base_uri": "https://localhost:8080/",
          "height": 206
        },
        "id": "rM0yIT0sO4Dr",
        "outputId": "e4cc2fc2-b2e1-4b98-86b7-431bd3444c0d"
      },
      "outputs": [
        {
          "output_type": "execute_result",
          "data": {
            "text/plain": [
              "  Protocol   Local Address   Remote Address  Local Port  Remote Port Packets  \\\n",
              "0      UDP  192.168.29.184  239.255.255.250     52250.0       1900.0       2   \n",
              "1      UDP   192.168.29.50  239.255.255.250     64073.0       1900.0       8   \n",
              "2      UDP       10.0.2.15      192.168.0.1     51008.0         53.0       2   \n",
              "3      UDP   192.168.29.50  239.255.255.250     53756.0       1900.0       8   \n",
              "4      TCP   192.168.29.50    35.241.26.164     51104.0        443.0     177   \n",
              "\n",
              "      Data Size    Total Size  Data Speed Duration  Attack  \n",
              "0     686 Bytes   1,118 Bytes  0.0 KB/Sec  47:00.3      -1  \n",
              "1   1,400 Bytes   1,827 Bytes  0.5 KB/Sec  00:03.0      -1  \n",
              "2     205 Bytes     335 Bytes         NaN  00:00.0      -1  \n",
              "3   1,392 Bytes   1,818 Bytes  0.4 KB/Sec  00:03.0      -1  \n",
              "4  28,519 Bytes  36,584 Bytes  0.0 KB/Sec  14:42.4      -1  "
            ],
            "text/html": [
              "\n",
              "  <div id=\"df-d087f7e1-2719-4c5e-a5e0-74ef3a83855d\">\n",
              "    <div class=\"colab-df-container\">\n",
              "      <div>\n",
              "<style scoped>\n",
              "    .dataframe tbody tr th:only-of-type {\n",
              "        vertical-align: middle;\n",
              "    }\n",
              "\n",
              "    .dataframe tbody tr th {\n",
              "        vertical-align: top;\n",
              "    }\n",
              "\n",
              "    .dataframe thead th {\n",
              "        text-align: right;\n",
              "    }\n",
              "</style>\n",
              "<table border=\"1\" class=\"dataframe\">\n",
              "  <thead>\n",
              "    <tr style=\"text-align: right;\">\n",
              "      <th></th>\n",
              "      <th>Protocol</th>\n",
              "      <th>Local Address</th>\n",
              "      <th>Remote Address</th>\n",
              "      <th>Local Port</th>\n",
              "      <th>Remote Port</th>\n",
              "      <th>Packets</th>\n",
              "      <th>Data Size</th>\n",
              "      <th>Total Size</th>\n",
              "      <th>Data Speed</th>\n",
              "      <th>Duration</th>\n",
              "      <th>Attack</th>\n",
              "    </tr>\n",
              "  </thead>\n",
              "  <tbody>\n",
              "    <tr>\n",
              "      <th>0</th>\n",
              "      <td>UDP</td>\n",
              "      <td>192.168.29.184</td>\n",
              "      <td>239.255.255.250</td>\n",
              "      <td>52250.0</td>\n",
              "      <td>1900.0</td>\n",
              "      <td>2</td>\n",
              "      <td>686 Bytes</td>\n",
              "      <td>1,118 Bytes</td>\n",
              "      <td>0.0 KB/Sec</td>\n",
              "      <td>47:00.3</td>\n",
              "      <td>-1</td>\n",
              "    </tr>\n",
              "    <tr>\n",
              "      <th>1</th>\n",
              "      <td>UDP</td>\n",
              "      <td>192.168.29.50</td>\n",
              "      <td>239.255.255.250</td>\n",
              "      <td>64073.0</td>\n",
              "      <td>1900.0</td>\n",
              "      <td>8</td>\n",
              "      <td>1,400 Bytes</td>\n",
              "      <td>1,827 Bytes</td>\n",
              "      <td>0.5 KB/Sec</td>\n",
              "      <td>00:03.0</td>\n",
              "      <td>-1</td>\n",
              "    </tr>\n",
              "    <tr>\n",
              "      <th>2</th>\n",
              "      <td>UDP</td>\n",
              "      <td>10.0.2.15</td>\n",
              "      <td>192.168.0.1</td>\n",
              "      <td>51008.0</td>\n",
              "      <td>53.0</td>\n",
              "      <td>2</td>\n",
              "      <td>205 Bytes</td>\n",
              "      <td>335 Bytes</td>\n",
              "      <td>NaN</td>\n",
              "      <td>00:00.0</td>\n",
              "      <td>-1</td>\n",
              "    </tr>\n",
              "    <tr>\n",
              "      <th>3</th>\n",
              "      <td>UDP</td>\n",
              "      <td>192.168.29.50</td>\n",
              "      <td>239.255.255.250</td>\n",
              "      <td>53756.0</td>\n",
              "      <td>1900.0</td>\n",
              "      <td>8</td>\n",
              "      <td>1,392 Bytes</td>\n",
              "      <td>1,818 Bytes</td>\n",
              "      <td>0.4 KB/Sec</td>\n",
              "      <td>00:03.0</td>\n",
              "      <td>-1</td>\n",
              "    </tr>\n",
              "    <tr>\n",
              "      <th>4</th>\n",
              "      <td>TCP</td>\n",
              "      <td>192.168.29.50</td>\n",
              "      <td>35.241.26.164</td>\n",
              "      <td>51104.0</td>\n",
              "      <td>443.0</td>\n",
              "      <td>177</td>\n",
              "      <td>28,519 Bytes</td>\n",
              "      <td>36,584 Bytes</td>\n",
              "      <td>0.0 KB/Sec</td>\n",
              "      <td>14:42.4</td>\n",
              "      <td>-1</td>\n",
              "    </tr>\n",
              "  </tbody>\n",
              "</table>\n",
              "</div>\n",
              "      <button class=\"colab-df-convert\" onclick=\"convertToInteractive('df-d087f7e1-2719-4c5e-a5e0-74ef3a83855d')\"\n",
              "              title=\"Convert this dataframe to an interactive table.\"\n",
              "              style=\"display:none;\">\n",
              "        \n",
              "  <svg xmlns=\"http://www.w3.org/2000/svg\" height=\"24px\"viewBox=\"0 0 24 24\"\n",
              "       width=\"24px\">\n",
              "    <path d=\"M0 0h24v24H0V0z\" fill=\"none\"/>\n",
              "    <path d=\"M18.56 5.44l.94 2.06.94-2.06 2.06-.94-2.06-.94-.94-2.06-.94 2.06-2.06.94zm-11 1L8.5 8.5l.94-2.06 2.06-.94-2.06-.94L8.5 2.5l-.94 2.06-2.06.94zm10 10l.94 2.06.94-2.06 2.06-.94-2.06-.94-.94-2.06-.94 2.06-2.06.94z\"/><path d=\"M17.41 7.96l-1.37-1.37c-.4-.4-.92-.59-1.43-.59-.52 0-1.04.2-1.43.59L10.3 9.45l-7.72 7.72c-.78.78-.78 2.05 0 2.83L4 21.41c.39.39.9.59 1.41.59.51 0 1.02-.2 1.41-.59l7.78-7.78 2.81-2.81c.8-.78.8-2.07 0-2.86zM5.41 20L4 18.59l7.72-7.72 1.47 1.35L5.41 20z\"/>\n",
              "  </svg>\n",
              "      </button>\n",
              "      \n",
              "  <style>\n",
              "    .colab-df-container {\n",
              "      display:flex;\n",
              "      flex-wrap:wrap;\n",
              "      gap: 12px;\n",
              "    }\n",
              "\n",
              "    .colab-df-convert {\n",
              "      background-color: #E8F0FE;\n",
              "      border: none;\n",
              "      border-radius: 50%;\n",
              "      cursor: pointer;\n",
              "      display: none;\n",
              "      fill: #1967D2;\n",
              "      height: 32px;\n",
              "      padding: 0 0 0 0;\n",
              "      width: 32px;\n",
              "    }\n",
              "\n",
              "    .colab-df-convert:hover {\n",
              "      background-color: #E2EBFA;\n",
              "      box-shadow: 0px 1px 2px rgba(60, 64, 67, 0.3), 0px 1px 3px 1px rgba(60, 64, 67, 0.15);\n",
              "      fill: #174EA6;\n",
              "    }\n",
              "\n",
              "    [theme=dark] .colab-df-convert {\n",
              "      background-color: #3B4455;\n",
              "      fill: #D2E3FC;\n",
              "    }\n",
              "\n",
              "    [theme=dark] .colab-df-convert:hover {\n",
              "      background-color: #434B5C;\n",
              "      box-shadow: 0px 1px 3px 1px rgba(0, 0, 0, 0.15);\n",
              "      filter: drop-shadow(0px 1px 2px rgba(0, 0, 0, 0.3));\n",
              "      fill: #FFFFFF;\n",
              "    }\n",
              "  </style>\n",
              "\n",
              "      <script>\n",
              "        const buttonEl =\n",
              "          document.querySelector('#df-d087f7e1-2719-4c5e-a5e0-74ef3a83855d button.colab-df-convert');\n",
              "        buttonEl.style.display =\n",
              "          google.colab.kernel.accessAllowed ? 'block' : 'none';\n",
              "\n",
              "        async function convertToInteractive(key) {\n",
              "          const element = document.querySelector('#df-d087f7e1-2719-4c5e-a5e0-74ef3a83855d');\n",
              "          const dataTable =\n",
              "            await google.colab.kernel.invokeFunction('convertToInteractive',\n",
              "                                                     [key], {});\n",
              "          if (!dataTable) return;\n",
              "\n",
              "          const docLinkHtml = 'Like what you see? Visit the ' +\n",
              "            '<a target=\"_blank\" href=https://colab.research.google.com/notebooks/data_table.ipynb>data table notebook</a>'\n",
              "            + ' to learn more about interactive tables.';\n",
              "          element.innerHTML = '';\n",
              "          dataTable['output_type'] = 'display_data';\n",
              "          await google.colab.output.renderOutput(dataTable, element);\n",
              "          const docLink = document.createElement('div');\n",
              "          docLink.innerHTML = docLinkHtml;\n",
              "          element.appendChild(docLink);\n",
              "        }\n",
              "      </script>\n",
              "    </div>\n",
              "  </div>\n",
              "  "
            ]
          },
          "metadata": {},
          "execution_count": 36
        }
      ],
      "source": [
        "dataset_test = dataset_test.drop([\"Local Host\",\"Remote Host\",\"Service Name\",\"Capture Time\",\"Last Packet Time\"],axis=1)\n",
        "dataset_test = dataset_test.reset_index(drop = True)\n",
        "dataset_test.head()"
      ]
    },
    {
      "cell_type": "code",
      "execution_count": 37,
      "metadata": {
        "id": "EOFGqwFOP3xQ"
      },
      "outputs": [],
      "source": [
        "dataset_test['Throughput']=0"
      ]
    },
    {
      "cell_type": "code",
      "execution_count": 38,
      "metadata": {
        "id": "CxVLevu2TI-z"
      },
      "outputs": [],
      "source": [
        "dataset_test[\"Duration in seconds\"] = 0"
      ]
    },
    {
      "cell_type": "code",
      "execution_count": 39,
      "metadata": {
        "colab": {
          "base_uri": "https://localhost:8080/"
        },
        "id": "uDGWTLH0TRt-",
        "outputId": "46a541a7-2401-4963-b454-a1e5ec6914f5"
      },
      "outputs": [
        {
          "output_type": "stream",
          "name": "stderr",
          "text": [
            "<ipython-input-39-ee91ebca76a1>:5: SettingWithCopyWarning: \n",
            "A value is trying to be set on a copy of a slice from a DataFrame\n",
            "\n",
            "See the caveats in the documentation: https://pandas.pydata.org/pandas-docs/stable/user_guide/indexing.html#returning-a-view-versus-a-copy\n",
            "  dataset_test[\"Duration in seconds\"][i] = t.hour*3600 + t.minute*60 + t.second\n",
            "<ipython-input-39-ee91ebca76a1>:11: SettingWithCopyWarning: \n",
            "A value is trying to be set on a copy of a slice from a DataFrame\n",
            "\n",
            "See the caveats in the documentation: https://pandas.pydata.org/pandas-docs/stable/user_guide/indexing.html#returning-a-view-versus-a-copy\n",
            "  dataset_test[\"Packets\"][i] = dataset_test[\"Packets\"][i].translate(str.maketrans('', '', string.punctuation))\n",
            "<ipython-input-39-ee91ebca76a1>:12: SettingWithCopyWarning: \n",
            "A value is trying to be set on a copy of a slice from a DataFrame\n",
            "\n",
            "See the caveats in the documentation: https://pandas.pydata.org/pandas-docs/stable/user_guide/indexing.html#returning-a-view-versus-a-copy\n",
            "  dataset_test[\"Packets\"][i] = int(dataset_test[\"Packets\"][i].split(' ')[0])\n",
            "<ipython-input-39-ee91ebca76a1>:13: SettingWithCopyWarning: \n",
            "A value is trying to be set on a copy of a slice from a DataFrame\n",
            "\n",
            "See the caveats in the documentation: https://pandas.pydata.org/pandas-docs/stable/user_guide/indexing.html#returning-a-view-versus-a-copy\n",
            "  dataset_test[\"Packets\"][i] = int(dataset_test[\"Packets\"][i])\n",
            "<ipython-input-39-ee91ebca76a1>:8: SettingWithCopyWarning: \n",
            "A value is trying to be set on a copy of a slice from a DataFrame\n",
            "\n",
            "See the caveats in the documentation: https://pandas.pydata.org/pandas-docs/stable/user_guide/indexing.html#returning-a-view-versus-a-copy\n",
            "  dataset_test[\"Packets\"][i] = dataset_test[\"Packets\"][i]\n"
          ]
        }
      ],
      "source": [
        "import string\n",
        "from datetime import datetime\n",
        "for i in range(len(dataset_test)):\n",
        "  t = datetime.strptime(dataset_test[\"Duration\"][i].split('.')[0], '%M:%S').time()\n",
        "  dataset_test[\"Duration in seconds\"][i] = t.hour*3600 + t.minute*60 + t.second\n",
        "  \n",
        "  if(type(dataset_test[\"Packets\"][i])==int or type(dataset_test[\"Packets\"][i])==float):\n",
        "    dataset_test[\"Packets\"][i] = dataset_test[\"Packets\"][i]\n",
        "  else:\n",
        "    if(type(dataset_test[\"Packets\"][i])==str):\n",
        "      dataset_test[\"Packets\"][i] = dataset_test[\"Packets\"][i].translate(str.maketrans('', '', string.punctuation))\n",
        "      dataset_test[\"Packets\"][i] = int(dataset_test[\"Packets\"][i].split(' ')[0])\n",
        "      dataset_test[\"Packets\"][i] = int(dataset_test[\"Packets\"][i])"
      ]
    },
    {
      "cell_type": "code",
      "execution_count": 40,
      "metadata": {
        "colab": {
          "base_uri": "https://localhost:8080/",
          "height": 206
        },
        "id": "xux81Y-EV8A-",
        "outputId": "d0727b0d-4e9b-4367-94f5-4ca4d3bb94c3"
      },
      "outputs": [
        {
          "output_type": "execute_result",
          "data": {
            "text/plain": [
              "  Protocol   Local Address   Remote Address  Local Port  Remote Port Packets  \\\n",
              "0      UDP  192.168.29.184  239.255.255.250     52250.0       1900.0       2   \n",
              "1      UDP   192.168.29.50  239.255.255.250     64073.0       1900.0       8   \n",
              "2      UDP       10.0.2.15      192.168.0.1     51008.0         53.0       2   \n",
              "3      UDP   192.168.29.50  239.255.255.250     53756.0       1900.0       8   \n",
              "4      TCP   192.168.29.50    35.241.26.164     51104.0        443.0     177   \n",
              "\n",
              "      Data Size    Total Size  Data Speed Duration  Attack  Throughput  \\\n",
              "0     686 Bytes   1,118 Bytes  0.0 KB/Sec  47:00.3      -1           0   \n",
              "1   1,400 Bytes   1,827 Bytes  0.5 KB/Sec  00:03.0      -1           0   \n",
              "2     205 Bytes     335 Bytes         NaN  00:00.0      -1           0   \n",
              "3   1,392 Bytes   1,818 Bytes  0.4 KB/Sec  00:03.0      -1           0   \n",
              "4  28,519 Bytes  36,584 Bytes  0.0 KB/Sec  14:42.4      -1           0   \n",
              "\n",
              "   Duration in seconds  \n",
              "0                 2820  \n",
              "1                    3  \n",
              "2                    0  \n",
              "3                    3  \n",
              "4                  882  "
            ],
            "text/html": [
              "\n",
              "  <div id=\"df-82ab743c-95c3-42c3-b44a-20bd64b9e0a8\">\n",
              "    <div class=\"colab-df-container\">\n",
              "      <div>\n",
              "<style scoped>\n",
              "    .dataframe tbody tr th:only-of-type {\n",
              "        vertical-align: middle;\n",
              "    }\n",
              "\n",
              "    .dataframe tbody tr th {\n",
              "        vertical-align: top;\n",
              "    }\n",
              "\n",
              "    .dataframe thead th {\n",
              "        text-align: right;\n",
              "    }\n",
              "</style>\n",
              "<table border=\"1\" class=\"dataframe\">\n",
              "  <thead>\n",
              "    <tr style=\"text-align: right;\">\n",
              "      <th></th>\n",
              "      <th>Protocol</th>\n",
              "      <th>Local Address</th>\n",
              "      <th>Remote Address</th>\n",
              "      <th>Local Port</th>\n",
              "      <th>Remote Port</th>\n",
              "      <th>Packets</th>\n",
              "      <th>Data Size</th>\n",
              "      <th>Total Size</th>\n",
              "      <th>Data Speed</th>\n",
              "      <th>Duration</th>\n",
              "      <th>Attack</th>\n",
              "      <th>Throughput</th>\n",
              "      <th>Duration in seconds</th>\n",
              "    </tr>\n",
              "  </thead>\n",
              "  <tbody>\n",
              "    <tr>\n",
              "      <th>0</th>\n",
              "      <td>UDP</td>\n",
              "      <td>192.168.29.184</td>\n",
              "      <td>239.255.255.250</td>\n",
              "      <td>52250.0</td>\n",
              "      <td>1900.0</td>\n",
              "      <td>2</td>\n",
              "      <td>686 Bytes</td>\n",
              "      <td>1,118 Bytes</td>\n",
              "      <td>0.0 KB/Sec</td>\n",
              "      <td>47:00.3</td>\n",
              "      <td>-1</td>\n",
              "      <td>0</td>\n",
              "      <td>2820</td>\n",
              "    </tr>\n",
              "    <tr>\n",
              "      <th>1</th>\n",
              "      <td>UDP</td>\n",
              "      <td>192.168.29.50</td>\n",
              "      <td>239.255.255.250</td>\n",
              "      <td>64073.0</td>\n",
              "      <td>1900.0</td>\n",
              "      <td>8</td>\n",
              "      <td>1,400 Bytes</td>\n",
              "      <td>1,827 Bytes</td>\n",
              "      <td>0.5 KB/Sec</td>\n",
              "      <td>00:03.0</td>\n",
              "      <td>-1</td>\n",
              "      <td>0</td>\n",
              "      <td>3</td>\n",
              "    </tr>\n",
              "    <tr>\n",
              "      <th>2</th>\n",
              "      <td>UDP</td>\n",
              "      <td>10.0.2.15</td>\n",
              "      <td>192.168.0.1</td>\n",
              "      <td>51008.0</td>\n",
              "      <td>53.0</td>\n",
              "      <td>2</td>\n",
              "      <td>205 Bytes</td>\n",
              "      <td>335 Bytes</td>\n",
              "      <td>NaN</td>\n",
              "      <td>00:00.0</td>\n",
              "      <td>-1</td>\n",
              "      <td>0</td>\n",
              "      <td>0</td>\n",
              "    </tr>\n",
              "    <tr>\n",
              "      <th>3</th>\n",
              "      <td>UDP</td>\n",
              "      <td>192.168.29.50</td>\n",
              "      <td>239.255.255.250</td>\n",
              "      <td>53756.0</td>\n",
              "      <td>1900.0</td>\n",
              "      <td>8</td>\n",
              "      <td>1,392 Bytes</td>\n",
              "      <td>1,818 Bytes</td>\n",
              "      <td>0.4 KB/Sec</td>\n",
              "      <td>00:03.0</td>\n",
              "      <td>-1</td>\n",
              "      <td>0</td>\n",
              "      <td>3</td>\n",
              "    </tr>\n",
              "    <tr>\n",
              "      <th>4</th>\n",
              "      <td>TCP</td>\n",
              "      <td>192.168.29.50</td>\n",
              "      <td>35.241.26.164</td>\n",
              "      <td>51104.0</td>\n",
              "      <td>443.0</td>\n",
              "      <td>177</td>\n",
              "      <td>28,519 Bytes</td>\n",
              "      <td>36,584 Bytes</td>\n",
              "      <td>0.0 KB/Sec</td>\n",
              "      <td>14:42.4</td>\n",
              "      <td>-1</td>\n",
              "      <td>0</td>\n",
              "      <td>882</td>\n",
              "    </tr>\n",
              "  </tbody>\n",
              "</table>\n",
              "</div>\n",
              "      <button class=\"colab-df-convert\" onclick=\"convertToInteractive('df-82ab743c-95c3-42c3-b44a-20bd64b9e0a8')\"\n",
              "              title=\"Convert this dataframe to an interactive table.\"\n",
              "              style=\"display:none;\">\n",
              "        \n",
              "  <svg xmlns=\"http://www.w3.org/2000/svg\" height=\"24px\"viewBox=\"0 0 24 24\"\n",
              "       width=\"24px\">\n",
              "    <path d=\"M0 0h24v24H0V0z\" fill=\"none\"/>\n",
              "    <path d=\"M18.56 5.44l.94 2.06.94-2.06 2.06-.94-2.06-.94-.94-2.06-.94 2.06-2.06.94zm-11 1L8.5 8.5l.94-2.06 2.06-.94-2.06-.94L8.5 2.5l-.94 2.06-2.06.94zm10 10l.94 2.06.94-2.06 2.06-.94-2.06-.94-.94-2.06-.94 2.06-2.06.94z\"/><path d=\"M17.41 7.96l-1.37-1.37c-.4-.4-.92-.59-1.43-.59-.52 0-1.04.2-1.43.59L10.3 9.45l-7.72 7.72c-.78.78-.78 2.05 0 2.83L4 21.41c.39.39.9.59 1.41.59.51 0 1.02-.2 1.41-.59l7.78-7.78 2.81-2.81c.8-.78.8-2.07 0-2.86zM5.41 20L4 18.59l7.72-7.72 1.47 1.35L5.41 20z\"/>\n",
              "  </svg>\n",
              "      </button>\n",
              "      \n",
              "  <style>\n",
              "    .colab-df-container {\n",
              "      display:flex;\n",
              "      flex-wrap:wrap;\n",
              "      gap: 12px;\n",
              "    }\n",
              "\n",
              "    .colab-df-convert {\n",
              "      background-color: #E8F0FE;\n",
              "      border: none;\n",
              "      border-radius: 50%;\n",
              "      cursor: pointer;\n",
              "      display: none;\n",
              "      fill: #1967D2;\n",
              "      height: 32px;\n",
              "      padding: 0 0 0 0;\n",
              "      width: 32px;\n",
              "    }\n",
              "\n",
              "    .colab-df-convert:hover {\n",
              "      background-color: #E2EBFA;\n",
              "      box-shadow: 0px 1px 2px rgba(60, 64, 67, 0.3), 0px 1px 3px 1px rgba(60, 64, 67, 0.15);\n",
              "      fill: #174EA6;\n",
              "    }\n",
              "\n",
              "    [theme=dark] .colab-df-convert {\n",
              "      background-color: #3B4455;\n",
              "      fill: #D2E3FC;\n",
              "    }\n",
              "\n",
              "    [theme=dark] .colab-df-convert:hover {\n",
              "      background-color: #434B5C;\n",
              "      box-shadow: 0px 1px 3px 1px rgba(0, 0, 0, 0.15);\n",
              "      filter: drop-shadow(0px 1px 2px rgba(0, 0, 0, 0.3));\n",
              "      fill: #FFFFFF;\n",
              "    }\n",
              "  </style>\n",
              "\n",
              "      <script>\n",
              "        const buttonEl =\n",
              "          document.querySelector('#df-82ab743c-95c3-42c3-b44a-20bd64b9e0a8 button.colab-df-convert');\n",
              "        buttonEl.style.display =\n",
              "          google.colab.kernel.accessAllowed ? 'block' : 'none';\n",
              "\n",
              "        async function convertToInteractive(key) {\n",
              "          const element = document.querySelector('#df-82ab743c-95c3-42c3-b44a-20bd64b9e0a8');\n",
              "          const dataTable =\n",
              "            await google.colab.kernel.invokeFunction('convertToInteractive',\n",
              "                                                     [key], {});\n",
              "          if (!dataTable) return;\n",
              "\n",
              "          const docLinkHtml = 'Like what you see? Visit the ' +\n",
              "            '<a target=\"_blank\" href=https://colab.research.google.com/notebooks/data_table.ipynb>data table notebook</a>'\n",
              "            + ' to learn more about interactive tables.';\n",
              "          element.innerHTML = '';\n",
              "          dataTable['output_type'] = 'display_data';\n",
              "          await google.colab.output.renderOutput(dataTable, element);\n",
              "          const docLink = document.createElement('div');\n",
              "          docLink.innerHTML = docLinkHtml;\n",
              "          element.appendChild(docLink);\n",
              "        }\n",
              "      </script>\n",
              "    </div>\n",
              "  </div>\n",
              "  "
            ]
          },
          "metadata": {},
          "execution_count": 40
        }
      ],
      "source": [
        "dataset_test.head()"
      ]
    },
    {
      "cell_type": "code",
      "execution_count": 41,
      "metadata": {
        "colab": {
          "base_uri": "https://localhost:8080/"
        },
        "id": "DxMVdlylHOmx",
        "outputId": "b491bb1a-50f7-4245-b281-de6061d2feec"
      },
      "outputs": [
        {
          "output_type": "stream",
          "name": "stderr",
          "text": [
            "<ipython-input-41-f3b1ecf7bb72>:5: SettingWithCopyWarning: \n",
            "A value is trying to be set on a copy of a slice from a DataFrame\n",
            "\n",
            "See the caveats in the documentation: https://pandas.pydata.org/pandas-docs/stable/user_guide/indexing.html#returning-a-view-versus-a-copy\n",
            "  dataset_test[\"Throughput\"][i] = val\n",
            "<ipython-input-41-f3b1ecf7bb72>:2: RuntimeWarning: divide by zero encountered in long_scalars\n",
            "  val = dataset_test[\"Packets\"][i]/dataset_test[\"Duration in seconds\"][i]\n"
          ]
        }
      ],
      "source": [
        "for i in range(len(dataset_test)):\n",
        "  val = dataset_test[\"Packets\"][i]/dataset_test[\"Duration in seconds\"][i]\n",
        "  if val==np.inf or val==-np.inf:\n",
        "    val = 10**15\n",
        "  dataset_test[\"Throughput\"][i] = val"
      ]
    },
    {
      "cell_type": "code",
      "execution_count": 42,
      "metadata": {
        "colab": {
          "base_uri": "https://localhost:8080/",
          "height": 424
        },
        "id": "m8a2cbpCYGde",
        "outputId": "9b9c1da1-a5be-4039-bd84-524217b851e0"
      },
      "outputs": [
        {
          "output_type": "execute_result",
          "data": {
            "text/plain": [
              "      Protocol   Local Address   Remote Address  Local Port  Remote Port  \\\n",
              "0          UDP  192.168.29.184  239.255.255.250     52250.0       1900.0   \n",
              "1          UDP   192.168.29.50  239.255.255.250     64073.0       1900.0   \n",
              "2          UDP       10.0.2.15      192.168.0.1     51008.0         53.0   \n",
              "3          UDP   192.168.29.50  239.255.255.250     53756.0       1900.0   \n",
              "4          TCP   192.168.29.50    35.241.26.164     51104.0        443.0   \n",
              "...        ...             ...              ...         ...          ...   \n",
              "26924      UDP    10.15.13.179         10.0.2.4     54793.0      54427.0   \n",
              "26925      UDP    10.15.13.179         10.0.2.4     54793.0       2792.0   \n",
              "26926      UDP    10.15.13.179         10.0.2.4     54793.0      30293.0   \n",
              "26927      UDP    10.15.13.179         10.0.2.4     54793.0       1534.0   \n",
              "26928      UDP   192.168.0.191        10.0.2.15     50554.0       5458.0   \n",
              "\n",
              "      Packets     Data Size    Total Size  Data Speed Duration  Attack  \\\n",
              "0           2     686 Bytes   1,118 Bytes  0.0 KB/Sec  47:00.3      -1   \n",
              "1           8   1,400 Bytes   1,827 Bytes  0.5 KB/Sec  00:03.0      -1   \n",
              "2           2     205 Bytes     335 Bytes         NaN  00:00.0      -1   \n",
              "3           8   1,392 Bytes   1,818 Bytes  0.4 KB/Sec  00:03.0      -1   \n",
              "4         177  28,519 Bytes  36,584 Bytes  0.0 KB/Sec  14:42.4      -1   \n",
              "...       ...           ...           ...         ...      ...     ...   \n",
              "26924       1   1,472 Bytes   3,000 Bytes         NaN  00:00.0       1   \n",
              "26925       2   2,944 Bytes   4,500 Bytes         NaN  00:00.0       1   \n",
              "26926       2   2,944 Bytes   4,500 Bytes  0.0 KB/Sec  01:38.8       1   \n",
              "26927       2   2,944 Bytes   4,500 Bytes         NaN  00:00.0       1   \n",
              "26928       2   2,944 Bytes   4,500 Bytes         NaN  00:00.0       1   \n",
              "\n",
              "             Throughput  Duration in seconds  \n",
              "0                     0                 2820  \n",
              "1                     2                    3  \n",
              "2      1000000000000000                    0  \n",
              "3                     2                    3  \n",
              "4                     0                  882  \n",
              "...                 ...                  ...  \n",
              "26924  1000000000000000                    0  \n",
              "26925  1000000000000000                    0  \n",
              "26926                 0                   98  \n",
              "26927  1000000000000000                    0  \n",
              "26928  1000000000000000                    0  \n",
              "\n",
              "[26929 rows x 13 columns]"
            ],
            "text/html": [
              "\n",
              "  <div id=\"df-9c4b2130-99f3-442d-b8b2-e694ef717dd9\">\n",
              "    <div class=\"colab-df-container\">\n",
              "      <div>\n",
              "<style scoped>\n",
              "    .dataframe tbody tr th:only-of-type {\n",
              "        vertical-align: middle;\n",
              "    }\n",
              "\n",
              "    .dataframe tbody tr th {\n",
              "        vertical-align: top;\n",
              "    }\n",
              "\n",
              "    .dataframe thead th {\n",
              "        text-align: right;\n",
              "    }\n",
              "</style>\n",
              "<table border=\"1\" class=\"dataframe\">\n",
              "  <thead>\n",
              "    <tr style=\"text-align: right;\">\n",
              "      <th></th>\n",
              "      <th>Protocol</th>\n",
              "      <th>Local Address</th>\n",
              "      <th>Remote Address</th>\n",
              "      <th>Local Port</th>\n",
              "      <th>Remote Port</th>\n",
              "      <th>Packets</th>\n",
              "      <th>Data Size</th>\n",
              "      <th>Total Size</th>\n",
              "      <th>Data Speed</th>\n",
              "      <th>Duration</th>\n",
              "      <th>Attack</th>\n",
              "      <th>Throughput</th>\n",
              "      <th>Duration in seconds</th>\n",
              "    </tr>\n",
              "  </thead>\n",
              "  <tbody>\n",
              "    <tr>\n",
              "      <th>0</th>\n",
              "      <td>UDP</td>\n",
              "      <td>192.168.29.184</td>\n",
              "      <td>239.255.255.250</td>\n",
              "      <td>52250.0</td>\n",
              "      <td>1900.0</td>\n",
              "      <td>2</td>\n",
              "      <td>686 Bytes</td>\n",
              "      <td>1,118 Bytes</td>\n",
              "      <td>0.0 KB/Sec</td>\n",
              "      <td>47:00.3</td>\n",
              "      <td>-1</td>\n",
              "      <td>0</td>\n",
              "      <td>2820</td>\n",
              "    </tr>\n",
              "    <tr>\n",
              "      <th>1</th>\n",
              "      <td>UDP</td>\n",
              "      <td>192.168.29.50</td>\n",
              "      <td>239.255.255.250</td>\n",
              "      <td>64073.0</td>\n",
              "      <td>1900.0</td>\n",
              "      <td>8</td>\n",
              "      <td>1,400 Bytes</td>\n",
              "      <td>1,827 Bytes</td>\n",
              "      <td>0.5 KB/Sec</td>\n",
              "      <td>00:03.0</td>\n",
              "      <td>-1</td>\n",
              "      <td>2</td>\n",
              "      <td>3</td>\n",
              "    </tr>\n",
              "    <tr>\n",
              "      <th>2</th>\n",
              "      <td>UDP</td>\n",
              "      <td>10.0.2.15</td>\n",
              "      <td>192.168.0.1</td>\n",
              "      <td>51008.0</td>\n",
              "      <td>53.0</td>\n",
              "      <td>2</td>\n",
              "      <td>205 Bytes</td>\n",
              "      <td>335 Bytes</td>\n",
              "      <td>NaN</td>\n",
              "      <td>00:00.0</td>\n",
              "      <td>-1</td>\n",
              "      <td>1000000000000000</td>\n",
              "      <td>0</td>\n",
              "    </tr>\n",
              "    <tr>\n",
              "      <th>3</th>\n",
              "      <td>UDP</td>\n",
              "      <td>192.168.29.50</td>\n",
              "      <td>239.255.255.250</td>\n",
              "      <td>53756.0</td>\n",
              "      <td>1900.0</td>\n",
              "      <td>8</td>\n",
              "      <td>1,392 Bytes</td>\n",
              "      <td>1,818 Bytes</td>\n",
              "      <td>0.4 KB/Sec</td>\n",
              "      <td>00:03.0</td>\n",
              "      <td>-1</td>\n",
              "      <td>2</td>\n",
              "      <td>3</td>\n",
              "    </tr>\n",
              "    <tr>\n",
              "      <th>4</th>\n",
              "      <td>TCP</td>\n",
              "      <td>192.168.29.50</td>\n",
              "      <td>35.241.26.164</td>\n",
              "      <td>51104.0</td>\n",
              "      <td>443.0</td>\n",
              "      <td>177</td>\n",
              "      <td>28,519 Bytes</td>\n",
              "      <td>36,584 Bytes</td>\n",
              "      <td>0.0 KB/Sec</td>\n",
              "      <td>14:42.4</td>\n",
              "      <td>-1</td>\n",
              "      <td>0</td>\n",
              "      <td>882</td>\n",
              "    </tr>\n",
              "    <tr>\n",
              "      <th>...</th>\n",
              "      <td>...</td>\n",
              "      <td>...</td>\n",
              "      <td>...</td>\n",
              "      <td>...</td>\n",
              "      <td>...</td>\n",
              "      <td>...</td>\n",
              "      <td>...</td>\n",
              "      <td>...</td>\n",
              "      <td>...</td>\n",
              "      <td>...</td>\n",
              "      <td>...</td>\n",
              "      <td>...</td>\n",
              "      <td>...</td>\n",
              "    </tr>\n",
              "    <tr>\n",
              "      <th>26924</th>\n",
              "      <td>UDP</td>\n",
              "      <td>10.15.13.179</td>\n",
              "      <td>10.0.2.4</td>\n",
              "      <td>54793.0</td>\n",
              "      <td>54427.0</td>\n",
              "      <td>1</td>\n",
              "      <td>1,472 Bytes</td>\n",
              "      <td>3,000 Bytes</td>\n",
              "      <td>NaN</td>\n",
              "      <td>00:00.0</td>\n",
              "      <td>1</td>\n",
              "      <td>1000000000000000</td>\n",
              "      <td>0</td>\n",
              "    </tr>\n",
              "    <tr>\n",
              "      <th>26925</th>\n",
              "      <td>UDP</td>\n",
              "      <td>10.15.13.179</td>\n",
              "      <td>10.0.2.4</td>\n",
              "      <td>54793.0</td>\n",
              "      <td>2792.0</td>\n",
              "      <td>2</td>\n",
              "      <td>2,944 Bytes</td>\n",
              "      <td>4,500 Bytes</td>\n",
              "      <td>NaN</td>\n",
              "      <td>00:00.0</td>\n",
              "      <td>1</td>\n",
              "      <td>1000000000000000</td>\n",
              "      <td>0</td>\n",
              "    </tr>\n",
              "    <tr>\n",
              "      <th>26926</th>\n",
              "      <td>UDP</td>\n",
              "      <td>10.15.13.179</td>\n",
              "      <td>10.0.2.4</td>\n",
              "      <td>54793.0</td>\n",
              "      <td>30293.0</td>\n",
              "      <td>2</td>\n",
              "      <td>2,944 Bytes</td>\n",
              "      <td>4,500 Bytes</td>\n",
              "      <td>0.0 KB/Sec</td>\n",
              "      <td>01:38.8</td>\n",
              "      <td>1</td>\n",
              "      <td>0</td>\n",
              "      <td>98</td>\n",
              "    </tr>\n",
              "    <tr>\n",
              "      <th>26927</th>\n",
              "      <td>UDP</td>\n",
              "      <td>10.15.13.179</td>\n",
              "      <td>10.0.2.4</td>\n",
              "      <td>54793.0</td>\n",
              "      <td>1534.0</td>\n",
              "      <td>2</td>\n",
              "      <td>2,944 Bytes</td>\n",
              "      <td>4,500 Bytes</td>\n",
              "      <td>NaN</td>\n",
              "      <td>00:00.0</td>\n",
              "      <td>1</td>\n",
              "      <td>1000000000000000</td>\n",
              "      <td>0</td>\n",
              "    </tr>\n",
              "    <tr>\n",
              "      <th>26928</th>\n",
              "      <td>UDP</td>\n",
              "      <td>192.168.0.191</td>\n",
              "      <td>10.0.2.15</td>\n",
              "      <td>50554.0</td>\n",
              "      <td>5458.0</td>\n",
              "      <td>2</td>\n",
              "      <td>2,944 Bytes</td>\n",
              "      <td>4,500 Bytes</td>\n",
              "      <td>NaN</td>\n",
              "      <td>00:00.0</td>\n",
              "      <td>1</td>\n",
              "      <td>1000000000000000</td>\n",
              "      <td>0</td>\n",
              "    </tr>\n",
              "  </tbody>\n",
              "</table>\n",
              "<p>26929 rows × 13 columns</p>\n",
              "</div>\n",
              "      <button class=\"colab-df-convert\" onclick=\"convertToInteractive('df-9c4b2130-99f3-442d-b8b2-e694ef717dd9')\"\n",
              "              title=\"Convert this dataframe to an interactive table.\"\n",
              "              style=\"display:none;\">\n",
              "        \n",
              "  <svg xmlns=\"http://www.w3.org/2000/svg\" height=\"24px\"viewBox=\"0 0 24 24\"\n",
              "       width=\"24px\">\n",
              "    <path d=\"M0 0h24v24H0V0z\" fill=\"none\"/>\n",
              "    <path d=\"M18.56 5.44l.94 2.06.94-2.06 2.06-.94-2.06-.94-.94-2.06-.94 2.06-2.06.94zm-11 1L8.5 8.5l.94-2.06 2.06-.94-2.06-.94L8.5 2.5l-.94 2.06-2.06.94zm10 10l.94 2.06.94-2.06 2.06-.94-2.06-.94-.94-2.06-.94 2.06-2.06.94z\"/><path d=\"M17.41 7.96l-1.37-1.37c-.4-.4-.92-.59-1.43-.59-.52 0-1.04.2-1.43.59L10.3 9.45l-7.72 7.72c-.78.78-.78 2.05 0 2.83L4 21.41c.39.39.9.59 1.41.59.51 0 1.02-.2 1.41-.59l7.78-7.78 2.81-2.81c.8-.78.8-2.07 0-2.86zM5.41 20L4 18.59l7.72-7.72 1.47 1.35L5.41 20z\"/>\n",
              "  </svg>\n",
              "      </button>\n",
              "      \n",
              "  <style>\n",
              "    .colab-df-container {\n",
              "      display:flex;\n",
              "      flex-wrap:wrap;\n",
              "      gap: 12px;\n",
              "    }\n",
              "\n",
              "    .colab-df-convert {\n",
              "      background-color: #E8F0FE;\n",
              "      border: none;\n",
              "      border-radius: 50%;\n",
              "      cursor: pointer;\n",
              "      display: none;\n",
              "      fill: #1967D2;\n",
              "      height: 32px;\n",
              "      padding: 0 0 0 0;\n",
              "      width: 32px;\n",
              "    }\n",
              "\n",
              "    .colab-df-convert:hover {\n",
              "      background-color: #E2EBFA;\n",
              "      box-shadow: 0px 1px 2px rgba(60, 64, 67, 0.3), 0px 1px 3px 1px rgba(60, 64, 67, 0.15);\n",
              "      fill: #174EA6;\n",
              "    }\n",
              "\n",
              "    [theme=dark] .colab-df-convert {\n",
              "      background-color: #3B4455;\n",
              "      fill: #D2E3FC;\n",
              "    }\n",
              "\n",
              "    [theme=dark] .colab-df-convert:hover {\n",
              "      background-color: #434B5C;\n",
              "      box-shadow: 0px 1px 3px 1px rgba(0, 0, 0, 0.15);\n",
              "      filter: drop-shadow(0px 1px 2px rgba(0, 0, 0, 0.3));\n",
              "      fill: #FFFFFF;\n",
              "    }\n",
              "  </style>\n",
              "\n",
              "      <script>\n",
              "        const buttonEl =\n",
              "          document.querySelector('#df-9c4b2130-99f3-442d-b8b2-e694ef717dd9 button.colab-df-convert');\n",
              "        buttonEl.style.display =\n",
              "          google.colab.kernel.accessAllowed ? 'block' : 'none';\n",
              "\n",
              "        async function convertToInteractive(key) {\n",
              "          const element = document.querySelector('#df-9c4b2130-99f3-442d-b8b2-e694ef717dd9');\n",
              "          const dataTable =\n",
              "            await google.colab.kernel.invokeFunction('convertToInteractive',\n",
              "                                                     [key], {});\n",
              "          if (!dataTable) return;\n",
              "\n",
              "          const docLinkHtml = 'Like what you see? Visit the ' +\n",
              "            '<a target=\"_blank\" href=https://colab.research.google.com/notebooks/data_table.ipynb>data table notebook</a>'\n",
              "            + ' to learn more about interactive tables.';\n",
              "          element.innerHTML = '';\n",
              "          dataTable['output_type'] = 'display_data';\n",
              "          await google.colab.output.renderOutput(dataTable, element);\n",
              "          const docLink = document.createElement('div');\n",
              "          docLink.innerHTML = docLinkHtml;\n",
              "          element.appendChild(docLink);\n",
              "        }\n",
              "      </script>\n",
              "    </div>\n",
              "  </div>\n",
              "  "
            ]
          },
          "metadata": {},
          "execution_count": 42
        }
      ],
      "source": [
        "dataset_test"
      ]
    },
    {
      "cell_type": "code",
      "execution_count": 43,
      "metadata": {
        "id": "AEwHS7D29xVS"
      },
      "outputs": [],
      "source": [
        "dataset_test=dataset_test.sort_values(by=['Throughput'])"
      ]
    },
    {
      "cell_type": "code",
      "execution_count": 44,
      "metadata": {
        "colab": {
          "base_uri": "https://localhost:8080/",
          "height": 206
        },
        "id": "jXahPmGf91VS",
        "outputId": "fa3b1cbc-e12f-47fb-f811-10ba22d50a1c"
      },
      "outputs": [
        {
          "output_type": "execute_result",
          "data": {
            "text/plain": [
              "      Protocol   Local Address   Remote Address  Local Port  Remote Port  \\\n",
              "0          UDP  192.168.29.184  239.255.255.250     52250.0       1900.0   \n",
              "21990      UDP  192.168.29.184  239.255.255.250     47979.0       1900.0   \n",
              "21989      UDP  192.168.29.184  239.255.255.250     59115.0       1900.0   \n",
              "13290      UDP  192.168.29.184  239.255.255.250     40989.0       1900.0   \n",
              "13291      TCP   192.168.29.50       52.0.2.180     63039.0        443.0   \n",
              "\n",
              "      Packets      Data Size     Total Size  Data Speed Duration  Attack  \\\n",
              "0           2      686 Bytes    1,118 Bytes  0.0 KB/Sec  47:00.3      -1   \n",
              "21990       3      974 Bytes    1,370 Bytes  0.0 KB/Sec  13:01.4      -1   \n",
              "21989       2      631 Bytes    1,008 Bytes  0.0 KB/Sec  35:47.4      -1   \n",
              "13290       2      568 Bytes      936 Bytes  0.0 KB/Sec  58:59.4      -1   \n",
              "13291     142  152,692 Bytes  158,596 Bytes  1.0 KB/Sec  02:35.9      -1   \n",
              "\n",
              "       Throughput  Duration in seconds  \n",
              "0               0                 2820  \n",
              "21990           0                  781  \n",
              "21989           0                 2147  \n",
              "13290           0                 3539  \n",
              "13291           0                  155  "
            ],
            "text/html": [
              "\n",
              "  <div id=\"df-5ad2c0fd-ddfc-4023-aeaa-1beb866c6a28\">\n",
              "    <div class=\"colab-df-container\">\n",
              "      <div>\n",
              "<style scoped>\n",
              "    .dataframe tbody tr th:only-of-type {\n",
              "        vertical-align: middle;\n",
              "    }\n",
              "\n",
              "    .dataframe tbody tr th {\n",
              "        vertical-align: top;\n",
              "    }\n",
              "\n",
              "    .dataframe thead th {\n",
              "        text-align: right;\n",
              "    }\n",
              "</style>\n",
              "<table border=\"1\" class=\"dataframe\">\n",
              "  <thead>\n",
              "    <tr style=\"text-align: right;\">\n",
              "      <th></th>\n",
              "      <th>Protocol</th>\n",
              "      <th>Local Address</th>\n",
              "      <th>Remote Address</th>\n",
              "      <th>Local Port</th>\n",
              "      <th>Remote Port</th>\n",
              "      <th>Packets</th>\n",
              "      <th>Data Size</th>\n",
              "      <th>Total Size</th>\n",
              "      <th>Data Speed</th>\n",
              "      <th>Duration</th>\n",
              "      <th>Attack</th>\n",
              "      <th>Throughput</th>\n",
              "      <th>Duration in seconds</th>\n",
              "    </tr>\n",
              "  </thead>\n",
              "  <tbody>\n",
              "    <tr>\n",
              "      <th>0</th>\n",
              "      <td>UDP</td>\n",
              "      <td>192.168.29.184</td>\n",
              "      <td>239.255.255.250</td>\n",
              "      <td>52250.0</td>\n",
              "      <td>1900.0</td>\n",
              "      <td>2</td>\n",
              "      <td>686 Bytes</td>\n",
              "      <td>1,118 Bytes</td>\n",
              "      <td>0.0 KB/Sec</td>\n",
              "      <td>47:00.3</td>\n",
              "      <td>-1</td>\n",
              "      <td>0</td>\n",
              "      <td>2820</td>\n",
              "    </tr>\n",
              "    <tr>\n",
              "      <th>21990</th>\n",
              "      <td>UDP</td>\n",
              "      <td>192.168.29.184</td>\n",
              "      <td>239.255.255.250</td>\n",
              "      <td>47979.0</td>\n",
              "      <td>1900.0</td>\n",
              "      <td>3</td>\n",
              "      <td>974 Bytes</td>\n",
              "      <td>1,370 Bytes</td>\n",
              "      <td>0.0 KB/Sec</td>\n",
              "      <td>13:01.4</td>\n",
              "      <td>-1</td>\n",
              "      <td>0</td>\n",
              "      <td>781</td>\n",
              "    </tr>\n",
              "    <tr>\n",
              "      <th>21989</th>\n",
              "      <td>UDP</td>\n",
              "      <td>192.168.29.184</td>\n",
              "      <td>239.255.255.250</td>\n",
              "      <td>59115.0</td>\n",
              "      <td>1900.0</td>\n",
              "      <td>2</td>\n",
              "      <td>631 Bytes</td>\n",
              "      <td>1,008 Bytes</td>\n",
              "      <td>0.0 KB/Sec</td>\n",
              "      <td>35:47.4</td>\n",
              "      <td>-1</td>\n",
              "      <td>0</td>\n",
              "      <td>2147</td>\n",
              "    </tr>\n",
              "    <tr>\n",
              "      <th>13290</th>\n",
              "      <td>UDP</td>\n",
              "      <td>192.168.29.184</td>\n",
              "      <td>239.255.255.250</td>\n",
              "      <td>40989.0</td>\n",
              "      <td>1900.0</td>\n",
              "      <td>2</td>\n",
              "      <td>568 Bytes</td>\n",
              "      <td>936 Bytes</td>\n",
              "      <td>0.0 KB/Sec</td>\n",
              "      <td>58:59.4</td>\n",
              "      <td>-1</td>\n",
              "      <td>0</td>\n",
              "      <td>3539</td>\n",
              "    </tr>\n",
              "    <tr>\n",
              "      <th>13291</th>\n",
              "      <td>TCP</td>\n",
              "      <td>192.168.29.50</td>\n",
              "      <td>52.0.2.180</td>\n",
              "      <td>63039.0</td>\n",
              "      <td>443.0</td>\n",
              "      <td>142</td>\n",
              "      <td>152,692 Bytes</td>\n",
              "      <td>158,596 Bytes</td>\n",
              "      <td>1.0 KB/Sec</td>\n",
              "      <td>02:35.9</td>\n",
              "      <td>-1</td>\n",
              "      <td>0</td>\n",
              "      <td>155</td>\n",
              "    </tr>\n",
              "  </tbody>\n",
              "</table>\n",
              "</div>\n",
              "      <button class=\"colab-df-convert\" onclick=\"convertToInteractive('df-5ad2c0fd-ddfc-4023-aeaa-1beb866c6a28')\"\n",
              "              title=\"Convert this dataframe to an interactive table.\"\n",
              "              style=\"display:none;\">\n",
              "        \n",
              "  <svg xmlns=\"http://www.w3.org/2000/svg\" height=\"24px\"viewBox=\"0 0 24 24\"\n",
              "       width=\"24px\">\n",
              "    <path d=\"M0 0h24v24H0V0z\" fill=\"none\"/>\n",
              "    <path d=\"M18.56 5.44l.94 2.06.94-2.06 2.06-.94-2.06-.94-.94-2.06-.94 2.06-2.06.94zm-11 1L8.5 8.5l.94-2.06 2.06-.94-2.06-.94L8.5 2.5l-.94 2.06-2.06.94zm10 10l.94 2.06.94-2.06 2.06-.94-2.06-.94-.94-2.06-.94 2.06-2.06.94z\"/><path d=\"M17.41 7.96l-1.37-1.37c-.4-.4-.92-.59-1.43-.59-.52 0-1.04.2-1.43.59L10.3 9.45l-7.72 7.72c-.78.78-.78 2.05 0 2.83L4 21.41c.39.39.9.59 1.41.59.51 0 1.02-.2 1.41-.59l7.78-7.78 2.81-2.81c.8-.78.8-2.07 0-2.86zM5.41 20L4 18.59l7.72-7.72 1.47 1.35L5.41 20z\"/>\n",
              "  </svg>\n",
              "      </button>\n",
              "      \n",
              "  <style>\n",
              "    .colab-df-container {\n",
              "      display:flex;\n",
              "      flex-wrap:wrap;\n",
              "      gap: 12px;\n",
              "    }\n",
              "\n",
              "    .colab-df-convert {\n",
              "      background-color: #E8F0FE;\n",
              "      border: none;\n",
              "      border-radius: 50%;\n",
              "      cursor: pointer;\n",
              "      display: none;\n",
              "      fill: #1967D2;\n",
              "      height: 32px;\n",
              "      padding: 0 0 0 0;\n",
              "      width: 32px;\n",
              "    }\n",
              "\n",
              "    .colab-df-convert:hover {\n",
              "      background-color: #E2EBFA;\n",
              "      box-shadow: 0px 1px 2px rgba(60, 64, 67, 0.3), 0px 1px 3px 1px rgba(60, 64, 67, 0.15);\n",
              "      fill: #174EA6;\n",
              "    }\n",
              "\n",
              "    [theme=dark] .colab-df-convert {\n",
              "      background-color: #3B4455;\n",
              "      fill: #D2E3FC;\n",
              "    }\n",
              "\n",
              "    [theme=dark] .colab-df-convert:hover {\n",
              "      background-color: #434B5C;\n",
              "      box-shadow: 0px 1px 3px 1px rgba(0, 0, 0, 0.15);\n",
              "      filter: drop-shadow(0px 1px 2px rgba(0, 0, 0, 0.3));\n",
              "      fill: #FFFFFF;\n",
              "    }\n",
              "  </style>\n",
              "\n",
              "      <script>\n",
              "        const buttonEl =\n",
              "          document.querySelector('#df-5ad2c0fd-ddfc-4023-aeaa-1beb866c6a28 button.colab-df-convert');\n",
              "        buttonEl.style.display =\n",
              "          google.colab.kernel.accessAllowed ? 'block' : 'none';\n",
              "\n",
              "        async function convertToInteractive(key) {\n",
              "          const element = document.querySelector('#df-5ad2c0fd-ddfc-4023-aeaa-1beb866c6a28');\n",
              "          const dataTable =\n",
              "            await google.colab.kernel.invokeFunction('convertToInteractive',\n",
              "                                                     [key], {});\n",
              "          if (!dataTable) return;\n",
              "\n",
              "          const docLinkHtml = 'Like what you see? Visit the ' +\n",
              "            '<a target=\"_blank\" href=https://colab.research.google.com/notebooks/data_table.ipynb>data table notebook</a>'\n",
              "            + ' to learn more about interactive tables.';\n",
              "          element.innerHTML = '';\n",
              "          dataTable['output_type'] = 'display_data';\n",
              "          await google.colab.output.renderOutput(dataTable, element);\n",
              "          const docLink = document.createElement('div');\n",
              "          docLink.innerHTML = docLinkHtml;\n",
              "          element.appendChild(docLink);\n",
              "        }\n",
              "      </script>\n",
              "    </div>\n",
              "  </div>\n",
              "  "
            ]
          },
          "metadata": {},
          "execution_count": 44
        }
      ],
      "source": [
        "dataset_test.head()"
      ]
    },
    {
      "cell_type": "code",
      "execution_count": 45,
      "metadata": {
        "id": "VWaJBHlpYStp"
      },
      "outputs": [],
      "source": [
        "throughput=dataset_test['Throughput']"
      ]
    },
    {
      "cell_type": "code",
      "execution_count": 46,
      "metadata": {
        "id": "5T8AT3AOYdHo"
      },
      "outputs": [],
      "source": [
        "throughput.replace([np.inf, -np.inf], np.nan, inplace=True)\n",
        "throughput.dropna(how=\"all\", inplace=True)"
      ]
    },
    {
      "cell_type": "code",
      "execution_count": 47,
      "metadata": {
        "id": "bQxoFmnaec5W"
      },
      "outputs": [],
      "source": [
        "data=dataset_test[\"Throughput\"].tolist()"
      ]
    },
    {
      "cell_type": "code",
      "execution_count": 48,
      "metadata": {
        "colab": {
          "base_uri": "https://localhost:8080/"
        },
        "id": "Qx7bvbf9yKKu",
        "outputId": "36e528e8-13f4-44d8-b301-1c965913a42f"
      },
      "outputs": [
        {
          "output_type": "stream",
          "name": "stdout",
          "text": [
            "1339\n"
          ]
        }
      ],
      "source": [
        "c=0\n",
        "for i in dataset_test['Throughput']:\n",
        "  if i==1000000000000000:\n",
        "    c=c+1\n",
        "\n",
        "print(c)"
      ]
    },
    {
      "cell_type": "code",
      "execution_count": 49,
      "metadata": {
        "colab": {
          "base_uri": "https://localhost:8080/",
          "height": 276
        },
        "id": "bZ_hIVpeeJKH",
        "outputId": "5a5abc52-16c6-46e8-fbd0-034e38b390ed"
      },
      "outputs": [
        {
          "output_type": "display_data",
          "data": {
            "text/plain": [
              "<Figure size 432x288 with 1 Axes>"
            ],
            "image/png": "[encoded data removed]"
          },
          "metadata": {
            "needs_background": "light"
          }
        }
      ],
      "source": [
        "df = pd.DataFrame({\n",
        "      'data': data,\n",
        "      'mean': [mean for i in range(len(data))],\n",
        "      'std': [stdev for i in range(len(data))]})\n",
        "df.plot()\n",
        "plt.show()"
      ]
    },
    {
      "cell_type": "code",
      "execution_count": 50,
      "metadata": {
        "colab": {
          "base_uri": "https://localhost:8080/"
        },
        "id": "GICA8snaZJPa",
        "outputId": "1da9d680-5a78-4699-b6e2-7e9a2569245a"
      },
      "outputs": [
        {
          "output_type": "stream",
          "name": "stderr",
          "text": [
            "<ipython-input-50-4caa7296dcdc>:5: SettingWithCopyWarning: \n",
            "A value is trying to be set on a copy of a slice from a DataFrame\n",
            "\n",
            "See the caveats in the documentation: https://pandas.pydata.org/pandas-docs/stable/user_guide/indexing.html#returning-a-view-versus-a-copy\n",
            "  dataset_test[\"Anomaly\"][i] = -1\n"
          ]
        }
      ],
      "source": [
        "dataset_test[\"Anomaly\"] = 1\n",
        "dataset_test.replace(np.nan,np.inf,inplace=True)\n",
        "for i in range(0,len(dataset_test[\"Total Size\"])):\n",
        "    if(abs(dataset_test[\"Throughput\"][i]-mean)<stdev):\n",
        "        dataset_test[\"Anomaly\"][i] = -1   "
      ]
    },
    {
      "cell_type": "code",
      "execution_count": 51,
      "metadata": {
        "id": "h58zflyvZvgB"
      },
      "outputs": [],
      "source": [
        "from sklearn.metrics import confusion_matrix,precision_score,accuracy_score,f1_score, classification_report\n",
        "import seaborn as sn\n",
        "tn, fp, fn, tp = confusion_matrix(dataset_test[\"Attack\"], dataset_test[\"Anomaly\"]).ravel()\n",
        "precision = precision_score(dataset_test[\"Attack\"], dataset_test[\"Anomaly\"])\n",
        "accuracy = accuracy_score(dataset_test[\"Attack\"], dataset_test[\"Anomaly\"])\n",
        "f1_score = f1_score(dataset_test[\"Attack\"], dataset_test[\"Anomaly\"])"
      ]
    },
    {
      "cell_type": "code",
      "execution_count": 52,
      "metadata": {
        "colab": {
          "base_uri": "https://localhost:8080/",
          "height": 279
        },
        "id": "kqd8JZlKHpPZ",
        "outputId": "1127a46a-7ba3-4536-f573-ecf3fd6bd510"
      },
      "outputs": [
        {
          "output_type": "display_data",
          "data": {
            "text/plain": [
              "<Figure size 432x288 with 2 Axes>"
            ],
            "image/png": "[encoded data removed]"
          },
          "metadata": {
            "needs_background": "light"
          }
        }
      ],
      "source": [
        "from sklearn.metrics import ConfusionMatrixDisplay\n",
        "cm=confusion_matrix(dataset_test[\"Attack\"], dataset_test[\"Anomaly\"])\n",
        "disp_poly = ConfusionMatrixDisplay(cm)\n",
        "disp_poly.plot()\n",
        "plt.show()"
      ]
    },
    {
      "cell_type": "code",
      "execution_count": 53,
      "metadata": {
        "colab": {
          "base_uri": "https://localhost:8080/"
        },
        "id": "fFYtSx82aHFR",
        "outputId": "080f9ac6-1697-40fd-940f-d0f5cde92c99"
      },
      "outputs": [
        {
          "output_type": "execute_result",
          "data": {
            "text/plain": [
              "((25537, 392, 53, 947),\n",
              " 0.707244212098581,\n",
              " 0.983475064057336,\n",
              " 0.8097477554510474)"
            ]
          },
          "metadata": {},
          "execution_count": 53
        }
      ],
      "source": [
        "(tn, fp, fn, tp),precision,accuracy,f1_score"
      ]
    },
    {
      "cell_type": "markdown",
      "metadata": {
        "id": "3xOQy1bT9fzI"
      },
      "source": [
        "## Entropy Based"
      ]
    },
    {
      "cell_type": "code",
      "execution_count": 54,
      "metadata": {
        "id": "FSuvlhLDdMe3"
      },
      "outputs": [],
      "source": [
        "import scipy.stats\n",
        "def entropy_calc(data):\n",
        "    p_data = data.value_counts()           \n",
        "    entropy = scipy.stats.entropy(p_data)  \n",
        "    return entropy"
      ]
    },
    {
      "cell_type": "code",
      "execution_count": 55,
      "metadata": {
        "colab": {
          "base_uri": "https://localhost:8080/"
        },
        "id": "EaQikSfrbBbO",
        "outputId": "eaf7287f-1428-4ed6-9f23-e8402730daa1"
      },
      "outputs": [
        {
          "output_type": "stream",
          "name": "stderr",
          "text": [
            "<ipython-input-55-99b041f0ca6a>:3: SettingWithCopyWarning: \n",
            "A value is trying to be set on a copy of a slice from a DataFrame\n",
            "\n",
            "See the caveats in the documentation: https://pandas.pydata.org/pandas-docs/stable/user_guide/indexing.html#returning-a-view-versus-a-copy\n",
            "  dataset_test[\"Entropy Remote Port\"][i] = entropy_calc(dataset_test[\"Remote Port\"][:i+1])\n"
          ]
        }
      ],
      "source": [
        "dataset_test[\"Entropy Remote Port\"] = 0.0\n",
        "for i in range(0,len(dataset_test)):\n",
        "  dataset_test[\"Entropy Remote Port\"][i] = entropy_calc(dataset_test[\"Remote Port\"][:i+1])"
      ]
    },
    {
      "cell_type": "code",
      "execution_count": 56,
      "metadata": {
        "colab": {
          "base_uri": "https://localhost:8080/",
          "height": 354
        },
        "id": "xZcCXELAckXa",
        "outputId": "f9ed1134-959d-4c5d-c54e-de207f75c46e"
      },
      "outputs": [
        {
          "output_type": "execute_result",
          "data": {
            "text/plain": [
              "      Protocol   Local Address   Remote Address  Local Port  Remote Port  \\\n",
              "0          UDP  192.168.29.184  239.255.255.250     52250.0       1900.0   \n",
              "21990      UDP  192.168.29.184  239.255.255.250     47979.0       1900.0   \n",
              "21989      UDP  192.168.29.184  239.255.255.250     59115.0       1900.0   \n",
              "13290      UDP  192.168.29.184  239.255.255.250     40989.0       1900.0   \n",
              "13291      TCP   192.168.29.50       52.0.2.180     63039.0        443.0   \n",
              "\n",
              "       Packets      Data Size     Total Size  Data Speed Duration  Attack  \\\n",
              "0            2      686 Bytes    1,118 Bytes  0.0 KB/Sec  47:00.3      -1   \n",
              "21990        3      974 Bytes    1,370 Bytes  0.0 KB/Sec  13:01.4      -1   \n",
              "21989        2      631 Bytes    1,008 Bytes  0.0 KB/Sec  35:47.4      -1   \n",
              "13290        2      568 Bytes      936 Bytes  0.0 KB/Sec  58:59.4      -1   \n",
              "13291      142  152,692 Bytes  158,596 Bytes  1.0 KB/Sec  02:35.9      -1   \n",
              "\n",
              "       Throughput  Duration in seconds  Anomaly  Entropy Remote Port  \n",
              "0               0                 2820       -1             0.000000  \n",
              "21990           0                  781       -1             1.163531  \n",
              "21989           0                 2147       -1             1.163542  \n",
              "13290           0                 3539       -1             1.186272  \n",
              "13291           0                  155       -1             1.186393  "
            ],
            "text/html": [
              "\n",
              "  <div id=\"df-a740075c-7a40-4db9-b015-2fd7a444dc14\">\n",
              "    <div class=\"colab-df-container\">\n",
              "      <div>\n",
              "<style scoped>\n",
              "    .dataframe tbody tr th:only-of-type {\n",
              "        vertical-align: middle;\n",
              "    }\n",
              "\n",
              "    .dataframe tbody tr th {\n",
              "        vertical-align: top;\n",
              "    }\n",
              "\n",
              "    .dataframe thead th {\n",
              "        text-align: right;\n",
              "    }\n",
              "</style>\n",
              "<table border=\"1\" class=\"dataframe\">\n",
              "  <thead>\n",
              "    <tr style=\"text-align: right;\">\n",
              "      <th></th>\n",
              "      <th>Protocol</th>\n",
              "      <th>Local Address</th>\n",
              "      <th>Remote Address</th>\n",
              "      <th>Local Port</th>\n",
              "      <th>Remote Port</th>\n",
              "      <th>Packets</th>\n",
              "      <th>Data Size</th>\n",
              "      <th>Total Size</th>\n",
              "      <th>Data Speed</th>\n",
              "      <th>Duration</th>\n",
              "      <th>Attack</th>\n",
              "      <th>Throughput</th>\n",
              "      <th>Duration in seconds</th>\n",
              "      <th>Anomaly</th>\n",
              "      <th>Entropy Remote Port</th>\n",
              "    </tr>\n",
              "  </thead>\n",
              "  <tbody>\n",
              "    <tr>\n",
              "      <th>0</th>\n",
              "      <td>UDP</td>\n",
              "      <td>192.168.29.184</td>\n",
              "      <td>239.255.255.250</td>\n",
              "      <td>52250.0</td>\n",
              "      <td>1900.0</td>\n",
              "      <td>2</td>\n",
              "      <td>686 Bytes</td>\n",
              "      <td>1,118 Bytes</td>\n",
              "      <td>0.0 KB/Sec</td>\n",
              "      <td>47:00.3</td>\n",
              "      <td>-1</td>\n",
              "      <td>0</td>\n",
              "      <td>2820</td>\n",
              "      <td>-1</td>\n",
              "      <td>0.000000</td>\n",
              "    </tr>\n",
              "    <tr>\n",
              "      <th>21990</th>\n",
              "      <td>UDP</td>\n",
              "      <td>192.168.29.184</td>\n",
              "      <td>239.255.255.250</td>\n",
              "      <td>47979.0</td>\n",
              "      <td>1900.0</td>\n",
              "      <td>3</td>\n",
              "      <td>974 Bytes</td>\n",
              "      <td>1,370 Bytes</td>\n",
              "      <td>0.0 KB/Sec</td>\n",
              "      <td>13:01.4</td>\n",
              "      <td>-1</td>\n",
              "      <td>0</td>\n",
              "      <td>781</td>\n",
              "      <td>-1</td>\n",
              "      <td>1.163531</td>\n",
              "    </tr>\n",
              "    <tr>\n",
              "      <th>21989</th>\n",
              "      <td>UDP</td>\n",
              "      <td>192.168.29.184</td>\n",
              "      <td>239.255.255.250</td>\n",
              "      <td>59115.0</td>\n",
              "      <td>1900.0</td>\n",
              "      <td>2</td>\n",
              "      <td>631 Bytes</td>\n",
              "      <td>1,008 Bytes</td>\n",
              "      <td>0.0 KB/Sec</td>\n",
              "      <td>35:47.4</td>\n",
              "      <td>-1</td>\n",
              "      <td>0</td>\n",
              "      <td>2147</td>\n",
              "      <td>-1</td>\n",
              "      <td>1.163542</td>\n",
              "    </tr>\n",
              "    <tr>\n",
              "      <th>13290</th>\n",
              "      <td>UDP</td>\n",
              "      <td>192.168.29.184</td>\n",
              "      <td>239.255.255.250</td>\n",
              "      <td>40989.0</td>\n",
              "      <td>1900.0</td>\n",
              "      <td>2</td>\n",
              "      <td>568 Bytes</td>\n",
              "      <td>936 Bytes</td>\n",
              "      <td>0.0 KB/Sec</td>\n",
              "      <td>58:59.4</td>\n",
              "      <td>-1</td>\n",
              "      <td>0</td>\n",
              "      <td>3539</td>\n",
              "      <td>-1</td>\n",
              "      <td>1.186272</td>\n",
              "    </tr>\n",
              "    <tr>\n",
              "      <th>13291</th>\n",
              "      <td>TCP</td>\n",
              "      <td>192.168.29.50</td>\n",
              "      <td>52.0.2.180</td>\n",
              "      <td>63039.0</td>\n",
              "      <td>443.0</td>\n",
              "      <td>142</td>\n",
              "      <td>152,692 Bytes</td>\n",
              "      <td>158,596 Bytes</td>\n",
              "      <td>1.0 KB/Sec</td>\n",
              "      <td>02:35.9</td>\n",
              "      <td>-1</td>\n",
              "      <td>0</td>\n",
              "      <td>155</td>\n",
              "      <td>-1</td>\n",
              "      <td>1.186393</td>\n",
              "    </tr>\n",
              "  </tbody>\n",
              "</table>\n",
              "</div>\n",
              "      <button class=\"colab-df-convert\" onclick=\"convertToInteractive('df-a740075c-7a40-4db9-b015-2fd7a444dc14')\"\n",
              "              title=\"Convert this dataframe to an interactive table.\"\n",
              "              style=\"display:none;\">\n",
              "        \n",
              "  <svg xmlns=\"http://www.w3.org/2000/svg\" height=\"24px\"viewBox=\"0 0 24 24\"\n",
              "       width=\"24px\">\n",
              "    <path d=\"M0 0h24v24H0V0z\" fill=\"none\"/>\n",
              "    <path d=\"M18.56 5.44l.94 2.06.94-2.06 2.06-.94-2.06-.94-.94-2.06-.94 2.06-2.06.94zm-11 1L8.5 8.5l.94-2.06 2.06-.94-2.06-.94L8.5 2.5l-.94 2.06-2.06.94zm10 10l.94 2.06.94-2.06 2.06-.94-2.06-.94-.94-2.06-.94 2.06-2.06.94z\"/><path d=\"M17.41 7.96l-1.37-1.37c-.4-.4-.92-.59-1.43-.59-.52 0-1.04.2-1.43.59L10.3 9.45l-7.72 7.72c-.78.78-.78 2.05 0 2.83L4 21.41c.39.39.9.59 1.41.59.51 0 1.02-.2 1.41-.59l7.78-7.78 2.81-2.81c.8-.78.8-2.07 0-2.86zM5.41 20L4 18.59l7.72-7.72 1.47 1.35L5.41 20z\"/>\n",
              "  </svg>\n",
              "      </button>\n",
              "      \n",
              "  <style>\n",
              "    .colab-df-container {\n",
              "      display:flex;\n",
              "      flex-wrap:wrap;\n",
              "      gap: 12px;\n",
              "    }\n",
              "\n",
              "    .colab-df-convert {\n",
              "      background-color: #E8F0FE;\n",
              "      border: none;\n",
              "      border-radius: 50%;\n",
              "      cursor: pointer;\n",
              "      display: none;\n",
              "      fill: #1967D2;\n",
              "      height: 32px;\n",
              "      padding: 0 0 0 0;\n",
              "      width: 32px;\n",
              "    }\n",
              "\n",
              "    .colab-df-convert:hover {\n",
              "      background-color: #E2EBFA;\n",
              "      box-shadow: 0px 1px 2px rgba(60, 64, 67, 0.3), 0px 1px 3px 1px rgba(60, 64, 67, 0.15);\n",
              "      fill: #174EA6;\n",
              "    }\n",
              "\n",
              "    [theme=dark] .colab-df-convert {\n",
              "      background-color: #3B4455;\n",
              "      fill: #D2E3FC;\n",
              "    }\n",
              "\n",
              "    [theme=dark] .colab-df-convert:hover {\n",
              "      background-color: #434B5C;\n",
              "      box-shadow: 0px 1px 3px 1px rgba(0, 0, 0, 0.15);\n",
              "      filter: drop-shadow(0px 1px 2px rgba(0, 0, 0, 0.3));\n",
              "      fill: #FFFFFF;\n",
              "    }\n",
              "  </style>\n",
              "\n",
              "      <script>\n",
              "        const buttonEl =\n",
              "          document.querySelector('#df-a740075c-7a40-4db9-b015-2fd7a444dc14 button.colab-df-convert');\n",
              "        buttonEl.style.display =\n",
              "          google.colab.kernel.accessAllowed ? 'block' : 'none';\n",
              "\n",
              "        async function convertToInteractive(key) {\n",
              "          const element = document.querySelector('#df-a740075c-7a40-4db9-b015-2fd7a444dc14');\n",
              "          const dataTable =\n",
              "            await google.colab.kernel.invokeFunction('convertToInteractive',\n",
              "                                                     [key], {});\n",
              "          if (!dataTable) return;\n",
              "\n",
              "          const docLinkHtml = 'Like what you see? Visit the ' +\n",
              "            '<a target=\"_blank\" href=https://colab.research.google.com/notebooks/data_table.ipynb>data table notebook</a>'\n",
              "            + ' to learn more about interactive tables.';\n",
              "          element.innerHTML = '';\n",
              "          dataTable['output_type'] = 'display_data';\n",
              "          await google.colab.output.renderOutput(dataTable, element);\n",
              "          const docLink = document.createElement('div');\n",
              "          docLink.innerHTML = docLinkHtml;\n",
              "          element.appendChild(docLink);\n",
              "        }\n",
              "      </script>\n",
              "    </div>\n",
              "  </div>\n",
              "  "
            ]
          },
          "metadata": {},
          "execution_count": 56
        }
      ],
      "source": [
        "dataset_test.head()"
      ]
    },
    {
      "cell_type": "code",
      "execution_count": 57,
      "metadata": {
        "colab": {
          "base_uri": "https://localhost:8080/"
        },
        "id": "dnFYhCc3krXL",
        "outputId": "e91acd21-d986-4ba0-8be8-1b9e6b767fb4"
      },
      "outputs": [
        {
          "output_type": "stream",
          "name": "stderr",
          "text": [
            "<ipython-input-57-d8192ffc375e>:5: SettingWithCopyWarning: \n",
            "A value is trying to be set on a copy of a slice from a DataFrame\n",
            "\n",
            "See the caveats in the documentation: https://pandas.pydata.org/pandas-docs/stable/user_guide/indexing.html#returning-a-view-versus-a-copy\n",
            "  dataset_test[\"Anomaly Remote Port Entropy Based\"][i] = 1\n"
          ]
        }
      ],
      "source": [
        "dataset_test[\"Anomaly Remote Port Entropy Based\"] = -1\n",
        "check_port = dataset_test[\"Entropy Remote Port\"][0]\n",
        "for i in range(0,len(dataset_test)):\n",
        "    if (dataset_test[\"Entropy Remote Port\"][i]>=check_port) and (dataset_test['Throughput'][i] >mean):\n",
        "        dataset_test[\"Anomaly Remote Port Entropy Based\"][i] = 1\n",
        "    check_port=dataset_test[\"Entropy Remote Port\"][i]"
      ]
    },
    {
      "cell_type": "code",
      "execution_count": 58,
      "metadata": {
        "id": "P84vPtCTjrxY"
      },
      "outputs": [],
      "source": [
        "dataset_test.to_csv('FYP Dataset/file.csv', header=True, index=False)"
      ]
    },
    {
      "cell_type": "code",
      "execution_count": 59,
      "metadata": {
        "colab": {
          "base_uri": "https://localhost:8080/"
        },
        "id": "KqdiGP0T_hbb",
        "outputId": "de9a35af-1cf8-40de-b65c-43ab3e8edf6e"
      },
      "outputs": [
        {
          "output_type": "execute_result",
          "data": {
            "text/plain": [
              "((25868, 61, 140, 860),\n",
              " 0.9337676438653637,\n",
              " 0.9925359278101675,\n",
              " 0.8953669963560645)"
            ]
          },
          "metadata": {},
          "execution_count": 59
        }
      ],
      "source": [
        "from sklearn.metrics import confusion_matrix,precision_score,accuracy_score,f1_score, classification_report\n",
        "tn, fp, fn, tp = confusion_matrix(dataset_test[\"Attack\"], dataset_test[\"Anomaly Remote Port Entropy Based\"]).ravel()\n",
        "precision = precision_score(dataset_test[\"Attack\"], dataset_test[\"Anomaly Remote Port Entropy Based\"])\n",
        "accuracy = accuracy_score(dataset_test[\"Attack\"], dataset_test[\"Anomaly Remote Port Entropy Based\"])\n",
        "f1_score = f1_score(dataset_test[\"Attack\"], dataset_test[\"Anomaly Remote Port Entropy Based\"])\n",
        "(tn,fp,fn,tp), precision, accuracy, f1_score"
      ]
    },
    {
      "cell_type": "code",
      "execution_count": 60,
      "metadata": {
        "colab": {
          "base_uri": "https://localhost:8080/"
        },
        "id": "csvNdwyifyes",
        "outputId": "2a424e9f-7c31-4e07-e2e0-9e1ee3d55ae6"
      },
      "outputs": [
        {
          "output_type": "stream",
          "name": "stderr",
          "text": [
            "<ipython-input-60-8752eabf6d76>:3: SettingWithCopyWarning: \n",
            "A value is trying to be set on a copy of a slice from a DataFrame\n",
            "\n",
            "See the caveats in the documentation: https://pandas.pydata.org/pandas-docs/stable/user_guide/indexing.html#returning-a-view-versus-a-copy\n",
            "  dataset_test[\"Entropy Throughput\"][i] = entropy_calc(dataset_test[\"Throughput\"][:i+1])\n"
          ]
        }
      ],
      "source": [
        "dataset_test[\"Entropy Throughput\"] = 0.0\n",
        "for i in range(0,len(dataset_test)):\n",
        "  dataset_test[\"Entropy Throughput\"][i] = entropy_calc(dataset_test[\"Throughput\"][:i+1])"
      ]
    },
    {
      "cell_type": "code",
      "execution_count": 65,
      "metadata": {
        "colab": {
          "base_uri": "https://localhost:8080/"
        },
        "id": "TeQxdT8X8SBY",
        "outputId": "0a2f4a33-31a6-41bf-8353-ee076de5d6d7"
      },
      "outputs": [
        {
          "output_type": "stream",
          "name": "stderr",
          "text": [
            "<ipython-input-65-945067488720>:5: SettingWithCopyWarning: \n",
            "A value is trying to be set on a copy of a slice from a DataFrame\n",
            "\n",
            "See the caveats in the documentation: https://pandas.pydata.org/pandas-docs/stable/user_guide/indexing.html#returning-a-view-versus-a-copy\n",
            "  dataset_test[\"Anomaly Throughput Entropy Based\"][i] = 1\n"
          ]
        }
      ],
      "source": [
        "dataset_test[\"Anomaly Throughput Entropy Based\"] = -1\n",
        "check_throughput = dataset_test[\"Entropy Throughput\"][0]\n",
        "for i in range(0,len(dataset_test)):\n",
        "    if (dataset_test[\"Entropy Throughput\"][i]>=check_throughput) and (dataset_test['Throughput'][i] >mean):\n",
        "        dataset_test[\"Anomaly Throughput Entropy Based\"][i] = 1\n",
        "    check_throughput=dataset_test[\"Entropy Throughput\"][i]"
      ]
    },
    {
      "cell_type": "code",
      "execution_count": 66,
      "metadata": {
        "colab": {
          "base_uri": "https://localhost:8080/"
        },
        "id": "QysQTVoK8eRm",
        "outputId": "ce8b4316-ba59-4d7c-9c84-6a8d85459e19"
      },
      "outputs": [
        {
          "output_type": "execute_result",
          "data": {
            "text/plain": [
              "((25537, 392, 53, 947),\n",
              " 0.707244212098581,\n",
              " 0.983475064057336,\n",
              " 0.8097477554510474)"
            ]
          },
          "metadata": {},
          "execution_count": 66
        }
      ],
      "source": [
        "from sklearn.metrics import confusion_matrix,precision_score,accuracy_score,f1_score, classification_report\n",
        "tn, fp, fn, tp = confusion_matrix(dataset_test[\"Attack\"], dataset_test[\"Anomaly Throughput Entropy Based\"]).ravel()\n",
        "precision = precision_score(dataset_test[\"Attack\"], dataset_test[\"Anomaly Throughput Entropy Based\"])\n",
        "accuracy = accuracy_score(dataset_test[\"Attack\"], dataset_test[\"Anomaly Throughput Entropy Based\"])\n",
        "f1_score = f1_score(dataset_test[\"Attack\"], dataset_test[\"Anomaly Throughput Entropy Based\"])\n",
        "(tn,fp,fn,tp), precision, accuracy, f1_score"
      ]
    },
    {
      "cell_type": "code",
      "execution_count": 64,
      "metadata": {
        "id": "2S8Gc1mg8ncI"
      },
      "outputs": [],
      "source": []
    }
  ],
  "metadata": {
    "colab": {
      "provenance": []
    },
    "kernelspec": {
      "display_name": "Python 3",
      "name": "python3"
    },
    "language_info": {
      "name": "python"
    }
  },
  "nbformat": 4,
  "nbformat_minor": 0
}
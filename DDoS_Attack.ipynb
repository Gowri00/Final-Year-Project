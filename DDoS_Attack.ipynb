{
  "cells": [
    {
      "cell_type": "code",
      "execution_count": 1,
      "metadata": {
        "colab": {
          "base_uri": "https://localhost:8080/"
        },
        "id": "6EbDPtXpvQUI",
        "outputId": "6c936c8e-df0b-4360-805d-ebbfa1e39d98"
      },
      "outputs": [
        {
          "output_type": "stream",
          "name": "stdout",
          "text": [
            "Mounted at /content/gdrive\n"
          ]
        }
      ],
      "source": [
        "from google.colab import drive\n",
        "drive.mount('/content/gdrive')"
      ]
    },
    {
      "cell_type": "code",
      "execution_count": 2,
      "metadata": {
        "colab": {
          "base_uri": "https://localhost:8080/"
        },
        "id": "hKMHQOk8vcrV",
        "outputId": "8fa24786-a648-41bf-f25e-d6b871481689"
      },
      "outputs": [
        {
          "output_type": "stream",
          "name": "stdout",
          "text": [
            "/content/gdrive/MyDrive\n"
          ]
        }
      ],
      "source": [
        "%cd 'gdrive/MyDrive'"
      ]
    },
    {
      "cell_type": "code",
      "execution_count": 3,
      "metadata": {
        "colab": {
          "base_uri": "https://localhost:8080/"
        },
        "id": "6Alxz7CNvejE",
        "outputId": "8cc1f4d8-da0b-4d90-8300-4b5bcf29faa8"
      },
      "outputs": [
        {
          "output_type": "stream",
          "name": "stdout",
          "text": [
            "DDoS1.csv  DoS1.csv   Idle2.csv  Idle6.csv     Working2.csv  Working6.csv\n",
            "DDoS2.csv  DoS2.csv   Idle3.csv  Idle7.csv     Working3.csv  Working7.csv\n",
            "DDoS3.csv  file.csv   Idle4.csv  Idle8.csv     Working4.csv  Working8.csv\n",
            "DDoS4.csv  Idle1.csv  Idle5.csv  Working1.csv  Working5.csv  Working9.csv\n"
          ]
        }
      ],
      "source": [
        "!ls 'FYP Dataset'"
      ]
    },
    {
      "cell_type": "code",
      "execution_count": 4,
      "metadata": {
        "id": "ykOZQPISvgNL"
      },
      "outputs": [],
      "source": [
        "import pandas as pd"
      ]
    },
    {
      "cell_type": "code",
      "execution_count": 5,
      "metadata": {
        "colab": {
          "base_uri": "https://localhost:8080/"
        },
        "id": "OwWVwe6IhLtJ",
        "outputId": "343283d3-61db-4578-d43d-762bc607ec3c"
      },
      "outputs": [
        {
          "output_type": "stream",
          "name": "stdout",
          "text": [
            "10788\n",
            "3042\n",
            "4444\n"
          ]
        }
      ],
      "source": [
        "attack=pd.read_csv('FYP Dataset/DDoS1.csv')\n",
        "attack = attack.sample(frac = 1)\n",
        "print(len(attack))\n",
        "attack=attack[:150]\n",
        "working=pd.read_csv('FYP Dataset/Working1.csv')\n",
        "working = working.sample(frac = 1)\n",
        "print(len(working))\n",
        "working=working[:3000]\n",
        "idle=pd.read_csv('FYP Dataset/Idle1.csv')\n",
        "idle = idle.sample(frac = 1)\n",
        "print(len(idle))\n",
        "idle=idle[:1850]"
      ]
    },
    {
      "cell_type": "code",
      "execution_count": 6,
      "metadata": {
        "id": "r9Wdh8Xnijkq"
      },
      "outputs": [],
      "source": [
        "import numpy as np\n",
        "import matplotlib.pyplot as plt"
      ]
    },
    {
      "cell_type": "code",
      "execution_count": 7,
      "metadata": {
        "colab": {
          "base_uri": "https://localhost:8080/",
          "height": 350
        },
        "id": "uuqBxvJlin03",
        "outputId": "b03ed077-771c-44d4-c740-ac6aaa79c507"
      },
      "outputs": [
        {
          "output_type": "display_data",
          "data": {
            "text/plain": [
              "<Figure size 720x360 with 1 Axes>"
            ],
            "image/png": "[encoded data removed]"
          },
          "metadata": {
            "needs_background": "light"
          }
        }
      ],
      "source": [
        "data={'Working System': len(working), 'Idle System': len(idle), 'System Under Attack': len(attack)}\n",
        "typeOfSystem= list(data.keys())\n",
        "NumberOfEntries=list(data.values())\n",
        "fig = plt.figure(figsize = (10, 5))\n",
        "total=len(working)+len(idle)+len(attack)\n",
        "graph=plt.bar(typeOfSystem, NumberOfEntries, color ='maroon',\n",
        "        width = 0.4)\n",
        "for bar in graph:\n",
        "    height = bar.get_height()\n",
        "    percent=height*100/total\n",
        "    plt.annotate( \"{}%\".format(int(percent)),(bar.get_x() + bar.get_width()/2, height+.05),ha=\"center\",va=\"bottom\",fontsize=15)\n",
        " \n",
        "plt.xlabel(\"Type of System\")\n",
        "plt.ylabel(\"Number of Entries\")\n",
        "plt.title(\"Our Dataset\")\n",
        "plt.show()"
      ]
    },
    {
      "cell_type": "code",
      "execution_count": 8,
      "metadata": {
        "id": "iPwcw5WSjL9g"
      },
      "outputs": [],
      "source": [
        "idle[\"Attack\"] = -1\n",
        "working[\"Attack\"] = -1\n",
        "attack[\"Attack\"] = 1"
      ]
    },
    {
      "cell_type": "code",
      "execution_count": 9,
      "metadata": {
        "id": "ay-ZUkorjO_e"
      },
      "outputs": [],
      "source": [
        "ls=[working,idle,attack]\n",
        "dataset_train=pd.concat(ls)"
      ]
    },
    {
      "cell_type": "code",
      "execution_count": 10,
      "metadata": {
        "colab": {
          "base_uri": "https://localhost:8080/"
        },
        "id": "Ikg2PFpBjPWA",
        "outputId": "d75b2a66-fe32-4a92-c8a9-26bd9beca378"
      },
      "outputs": [
        {
          "output_type": "execute_result",
          "data": {
            "text/plain": [
              "5000"
            ]
          },
          "metadata": {},
          "execution_count": 10
        }
      ],
      "source": [
        "len(dataset_train)"
      ]
    },
    {
      "cell_type": "code",
      "execution_count": 11,
      "metadata": {
        "colab": {
          "base_uri": "https://localhost:8080/",
          "height": 441
        },
        "id": "5-nzSEDGjPo6",
        "outputId": "992a70a0-1127-468a-9207-08a425d4a4d7"
      },
      "outputs": [
        {
          "output_type": "execute_result",
          "data": {
            "text/plain": [
              "     Protocol  Local Address   Remote Address  Local Port  Remote Port  \\\n",
              "2247      TCP  192.168.29.50      5.62.53.230     52323.0        443.0   \n",
              "740       TCP  192.168.29.50   66.225.223.159     55468.0        443.0   \n",
              "1368      TCP  192.168.29.50  162.159.128.232     54224.0        443.0   \n",
              "2998      TCP  192.168.29.50  199.115.119.227     49375.0        443.0   \n",
              "183       TCP  192.168.29.50    67.199.150.86     63589.0        443.0   \n",
              "\n",
              "     Local Host                    Remote Host Service Name Packets  \\\n",
              "2247    Sumedha  ipm-provider.ns1.ff.avast.com        https      43   \n",
              "740     Sumedha                            NaN        https      20   \n",
              "1368    Sumedha                            NaN        https     185   \n",
              "2998    Sumedha                            NaN        https      17   \n",
              "183     Sumedha                            NaN        https      33   \n",
              "\n",
              "         Data Size     Total Size  Data Speed                Capture Time  \\\n",
              "2247  23,350 Bytes   25,645 Bytes  0.1 KB/Sec   12/10/2022 9:45:34 AM:741   \n",
              "740    7,008 Bytes    8,365 Bytes  1.4 KB/Sec   12/10/2022 8:39:48 AM:388   \n",
              "1368  94,719 Bytes  102,338 Bytes  0.6 KB/Sec   12/10/2022 9:01:40 AM:371   \n",
              "2998   3,428 Bytes    4,665 Bytes  0.6 KB/Sec  12/10/2022 10:48:38 AM:038   \n",
              "183    9,644 Bytes   11,521 Bytes  2.9 KB/Sec   12/10/2022 8:36:04 AM:078   \n",
              "\n",
              "                Last Packet Time Duration  Attack  \n",
              "2247   12/10/2022 9:48:10 AM:448  02:35.7      -1  \n",
              "740    12/10/2022 8:39:53 AM:245  00:04.9      -1  \n",
              "1368   12/10/2022 9:04:23 AM:911  02:43.5      -1  \n",
              "2998  12/10/2022 10:48:43 AM:877  00:05.8      -1  \n",
              "183    12/10/2022 8:36:07 AM:333  00:03.3      -1  "
            ],
            "text/html": [
              "\n",
              "  <div id=\"df-d11d654d-b435-44dc-b47d-5e27f93c2430\">\n",
              "    <div class=\"colab-df-container\">\n",
              "      <div>\n",
              "<style scoped>\n",
              "    .dataframe tbody tr th:only-of-type {\n",
              "        vertical-align: middle;\n",
              "    }\n",
              "\n",
              "    .dataframe tbody tr th {\n",
              "        vertical-align: top;\n",
              "    }\n",
              "\n",
              "    .dataframe thead th {\n",
              "        text-align: right;\n",
              "    }\n",
              "</style>\n",
              "<table border=\"1\" class=\"dataframe\">\n",
              "  <thead>\n",
              "    <tr style=\"text-align: right;\">\n",
              "      <th></th>\n",
              "      <th>Protocol</th>\n",
              "      <th>Local Address</th>\n",
              "      <th>Remote Address</th>\n",
              "      <th>Local Port</th>\n",
              "      <th>Remote Port</th>\n",
              "      <th>Local Host</th>\n",
              "      <th>Remote Host</th>\n",
              "      <th>Service Name</th>\n",
              "      <th>Packets</th>\n",
              "      <th>Data Size</th>\n",
              "      <th>Total Size</th>\n",
              "      <th>Data Speed</th>\n",
              "      <th>Capture Time</th>\n",
              "      <th>Last Packet Time</th>\n",
              "      <th>Duration</th>\n",
              "      <th>Attack</th>\n",
              "    </tr>\n",
              "  </thead>\n",
              "  <tbody>\n",
              "    <tr>\n",
              "      <th>2247</th>\n",
              "      <td>TCP</td>\n",
              "      <td>192.168.29.50</td>\n",
              "      <td>5.62.53.230</td>\n",
              "      <td>52323.0</td>\n",
              "      <td>443.0</td>\n",
              "      <td>Sumedha</td>\n",
              "      <td>ipm-provider.ns1.ff.avast.com</td>\n",
              "      <td>https</td>\n",
              "      <td>43</td>\n",
              "      <td>23,350 Bytes</td>\n",
              "      <td>25,645 Bytes</td>\n",
              "      <td>0.1 KB/Sec</td>\n",
              "      <td>12/10/2022 9:45:34 AM:741</td>\n",
              "      <td>12/10/2022 9:48:10 AM:448</td>\n",
              "      <td>02:35.7</td>\n",
              "      <td>-1</td>\n",
              "    </tr>\n",
              "    <tr>\n",
              "      <th>740</th>\n",
              "      <td>TCP</td>\n",
              "      <td>192.168.29.50</td>\n",
              "      <td>66.225.223.159</td>\n",
              "      <td>55468.0</td>\n",
              "      <td>443.0</td>\n",
              "      <td>Sumedha</td>\n",
              "      <td>NaN</td>\n",
              "      <td>https</td>\n",
              "      <td>20</td>\n",
              "      <td>7,008 Bytes</td>\n",
              "      <td>8,365 Bytes</td>\n",
              "      <td>1.4 KB/Sec</td>\n",
              "      <td>12/10/2022 8:39:48 AM:388</td>\n",
              "      <td>12/10/2022 8:39:53 AM:245</td>\n",
              "      <td>00:04.9</td>\n",
              "      <td>-1</td>\n",
              "    </tr>\n",
              "    <tr>\n",
              "      <th>1368</th>\n",
              "      <td>TCP</td>\n",
              "      <td>192.168.29.50</td>\n",
              "      <td>162.159.128.232</td>\n",
              "      <td>54224.0</td>\n",
              "      <td>443.0</td>\n",
              "      <td>Sumedha</td>\n",
              "      <td>NaN</td>\n",
              "      <td>https</td>\n",
              "      <td>185</td>\n",
              "      <td>94,719 Bytes</td>\n",
              "      <td>102,338 Bytes</td>\n",
              "      <td>0.6 KB/Sec</td>\n",
              "      <td>12/10/2022 9:01:40 AM:371</td>\n",
              "      <td>12/10/2022 9:04:23 AM:911</td>\n",
              "      <td>02:43.5</td>\n",
              "      <td>-1</td>\n",
              "    </tr>\n",
              "    <tr>\n",
              "      <th>2998</th>\n",
              "      <td>TCP</td>\n",
              "      <td>192.168.29.50</td>\n",
              "      <td>199.115.119.227</td>\n",
              "      <td>49375.0</td>\n",
              "      <td>443.0</td>\n",
              "      <td>Sumedha</td>\n",
              "      <td>NaN</td>\n",
              "      <td>https</td>\n",
              "      <td>17</td>\n",
              "      <td>3,428 Bytes</td>\n",
              "      <td>4,665 Bytes</td>\n",
              "      <td>0.6 KB/Sec</td>\n",
              "      <td>12/10/2022 10:48:38 AM:038</td>\n",
              "      <td>12/10/2022 10:48:43 AM:877</td>\n",
              "      <td>00:05.8</td>\n",
              "      <td>-1</td>\n",
              "    </tr>\n",
              "    <tr>\n",
              "      <th>183</th>\n",
              "      <td>TCP</td>\n",
              "      <td>192.168.29.50</td>\n",
              "      <td>67.199.150.86</td>\n",
              "      <td>63589.0</td>\n",
              "      <td>443.0</td>\n",
              "      <td>Sumedha</td>\n",
              "      <td>NaN</td>\n",
              "      <td>https</td>\n",
              "      <td>33</td>\n",
              "      <td>9,644 Bytes</td>\n",
              "      <td>11,521 Bytes</td>\n",
              "      <td>2.9 KB/Sec</td>\n",
              "      <td>12/10/2022 8:36:04 AM:078</td>\n",
              "      <td>12/10/2022 8:36:07 AM:333</td>\n",
              "      <td>00:03.3</td>\n",
              "      <td>-1</td>\n",
              "    </tr>\n",
              "  </tbody>\n",
              "</table>\n",
              "</div>\n",
              "      <button class=\"colab-df-convert\" onclick=\"convertToInteractive('df-d11d654d-b435-44dc-b47d-5e27f93c2430')\"\n",
              "              title=\"Convert this dataframe to an interactive table.\"\n",
              "              style=\"display:none;\">\n",
              "        \n",
              "  <svg xmlns=\"http://www.w3.org/2000/svg\" height=\"24px\"viewBox=\"0 0 24 24\"\n",
              "       width=\"24px\">\n",
              "    <path d=\"M0 0h24v24H0V0z\" fill=\"none\"/>\n",
              "    <path d=\"M18.56 5.44l.94 2.06.94-2.06 2.06-.94-2.06-.94-.94-2.06-.94 2.06-2.06.94zm-11 1L8.5 8.5l.94-2.06 2.06-.94-2.06-.94L8.5 2.5l-.94 2.06-2.06.94zm10 10l.94 2.06.94-2.06 2.06-.94-2.06-.94-.94-2.06-.94 2.06-2.06.94z\"/><path d=\"M17.41 7.96l-1.37-1.37c-.4-.4-.92-.59-1.43-.59-.52 0-1.04.2-1.43.59L10.3 9.45l-7.72 7.72c-.78.78-.78 2.05 0 2.83L4 21.41c.39.39.9.59 1.41.59.51 0 1.02-.2 1.41-.59l7.78-7.78 2.81-2.81c.8-.78.8-2.07 0-2.86zM5.41 20L4 18.59l7.72-7.72 1.47 1.35L5.41 20z\"/>\n",
              "  </svg>\n",
              "      </button>\n",
              "      \n",
              "  <style>\n",
              "    .colab-df-container {\n",
              "      display:flex;\n",
              "      flex-wrap:wrap;\n",
              "      gap: 12px;\n",
              "    }\n",
              "\n",
              "    .colab-df-convert {\n",
              "      background-color: #E8F0FE;\n",
              "      border: none;\n",
              "      border-radius: 50%;\n",
              "      cursor: pointer;\n",
              "      display: none;\n",
              "      fill: #1967D2;\n",
              "      height: 32px;\n",
              "      padding: 0 0 0 0;\n",
              "      width: 32px;\n",
              "    }\n",
              "\n",
              "    .colab-df-convert:hover {\n",
              "      background-color: #E2EBFA;\n",
              "      box-shadow: 0px 1px 2px rgba(60, 64, 67, 0.3), 0px 1px 3px 1px rgba(60, 64, 67, 0.15);\n",
              "      fill: #174EA6;\n",
              "    }\n",
              "\n",
              "    [theme=dark] .colab-df-convert {\n",
              "      background-color: #3B4455;\n",
              "      fill: #D2E3FC;\n",
              "    }\n",
              "\n",
              "    [theme=dark] .colab-df-convert:hover {\n",
              "      background-color: #434B5C;\n",
              "      box-shadow: 0px 1px 3px 1px rgba(0, 0, 0, 0.15);\n",
              "      filter: drop-shadow(0px 1px 2px rgba(0, 0, 0, 0.3));\n",
              "      fill: #FFFFFF;\n",
              "    }\n",
              "  </style>\n",
              "\n",
              "      <script>\n",
              "        const buttonEl =\n",
              "          document.querySelector('#df-d11d654d-b435-44dc-b47d-5e27f93c2430 button.colab-df-convert');\n",
              "        buttonEl.style.display =\n",
              "          google.colab.kernel.accessAllowed ? 'block' : 'none';\n",
              "\n",
              "        async function convertToInteractive(key) {\n",
              "          const element = document.querySelector('#df-d11d654d-b435-44dc-b47d-5e27f93c2430');\n",
              "          const dataTable =\n",
              "            await google.colab.kernel.invokeFunction('convertToInteractive',\n",
              "                                                     [key], {});\n",
              "          if (!dataTable) return;\n",
              "\n",
              "          const docLinkHtml = 'Like what you see? Visit the ' +\n",
              "            '<a target=\"_blank\" href=https://colab.research.google.com/notebooks/data_table.ipynb>data table notebook</a>'\n",
              "            + ' to learn more about interactive tables.';\n",
              "          element.innerHTML = '';\n",
              "          dataTable['output_type'] = 'display_data';\n",
              "          await google.colab.output.renderOutput(dataTable, element);\n",
              "          const docLink = document.createElement('div');\n",
              "          docLink.innerHTML = docLinkHtml;\n",
              "          element.appendChild(docLink);\n",
              "        }\n",
              "      </script>\n",
              "    </div>\n",
              "  </div>\n",
              "  "
            ]
          },
          "metadata": {},
          "execution_count": 11
        }
      ],
      "source": [
        "dataset_train.head()"
      ]
    },
    {
      "cell_type": "code",
      "execution_count": 12,
      "metadata": {
        "colab": {
          "base_uri": "https://localhost:8080/",
          "height": 206
        },
        "id": "ubrSOKiTjQHW",
        "outputId": "0f727027-9c37-4877-ff0c-382fd32f5e13"
      },
      "outputs": [
        {
          "output_type": "execute_result",
          "data": {
            "text/plain": [
              "  Protocol  Local Address   Remote Address  Local Port  Remote Port Packets  \\\n",
              "0      TCP  192.168.29.50      5.62.53.230     52323.0        443.0      43   \n",
              "1      TCP  192.168.29.50   66.225.223.159     55468.0        443.0      20   \n",
              "2      TCP  192.168.29.50  162.159.128.232     54224.0        443.0     185   \n",
              "3      TCP  192.168.29.50  199.115.119.227     49375.0        443.0      17   \n",
              "4      TCP  192.168.29.50    67.199.150.86     63589.0        443.0      33   \n",
              "\n",
              "      Data Size     Total Size  Data Speed Duration  Attack  \n",
              "0  23,350 Bytes   25,645 Bytes  0.1 KB/Sec  02:35.7      -1  \n",
              "1   7,008 Bytes    8,365 Bytes  1.4 KB/Sec  00:04.9      -1  \n",
              "2  94,719 Bytes  102,338 Bytes  0.6 KB/Sec  02:43.5      -1  \n",
              "3   3,428 Bytes    4,665 Bytes  0.6 KB/Sec  00:05.8      -1  \n",
              "4   9,644 Bytes   11,521 Bytes  2.9 KB/Sec  00:03.3      -1  "
            ],
            "text/html": [
              "\n",
              "  <div id=\"df-b719c06f-e222-41d8-9efb-f9938c4067bb\">\n",
              "    <div class=\"colab-df-container\">\n",
              "      <div>\n",
              "<style scoped>\n",
              "    .dataframe tbody tr th:only-of-type {\n",
              "        vertical-align: middle;\n",
              "    }\n",
              "\n",
              "    .dataframe tbody tr th {\n",
              "        vertical-align: top;\n",
              "    }\n",
              "\n",
              "    .dataframe thead th {\n",
              "        text-align: right;\n",
              "    }\n",
              "</style>\n",
              "<table border=\"1\" class=\"dataframe\">\n",
              "  <thead>\n",
              "    <tr style=\"text-align: right;\">\n",
              "      <th></th>\n",
              "      <th>Protocol</th>\n",
              "      <th>Local Address</th>\n",
              "      <th>Remote Address</th>\n",
              "      <th>Local Port</th>\n",
              "      <th>Remote Port</th>\n",
              "      <th>Packets</th>\n",
              "      <th>Data Size</th>\n",
              "      <th>Total Size</th>\n",
              "      <th>Data Speed</th>\n",
              "      <th>Duration</th>\n",
              "      <th>Attack</th>\n",
              "    </tr>\n",
              "  </thead>\n",
              "  <tbody>\n",
              "    <tr>\n",
              "      <th>0</th>\n",
              "      <td>TCP</td>\n",
              "      <td>192.168.29.50</td>\n",
              "      <td>5.62.53.230</td>\n",
              "      <td>52323.0</td>\n",
              "      <td>443.0</td>\n",
              "      <td>43</td>\n",
              "      <td>23,350 Bytes</td>\n",
              "      <td>25,645 Bytes</td>\n",
              "      <td>0.1 KB/Sec</td>\n",
              "      <td>02:35.7</td>\n",
              "      <td>-1</td>\n",
              "    </tr>\n",
              "    <tr>\n",
              "      <th>1</th>\n",
              "      <td>TCP</td>\n",
              "      <td>192.168.29.50</td>\n",
              "      <td>66.225.223.159</td>\n",
              "      <td>55468.0</td>\n",
              "      <td>443.0</td>\n",
              "      <td>20</td>\n",
              "      <td>7,008 Bytes</td>\n",
              "      <td>8,365 Bytes</td>\n",
              "      <td>1.4 KB/Sec</td>\n",
              "      <td>00:04.9</td>\n",
              "      <td>-1</td>\n",
              "    </tr>\n",
              "    <tr>\n",
              "      <th>2</th>\n",
              "      <td>TCP</td>\n",
              "      <td>192.168.29.50</td>\n",
              "      <td>162.159.128.232</td>\n",
              "      <td>54224.0</td>\n",
              "      <td>443.0</td>\n",
              "      <td>185</td>\n",
              "      <td>94,719 Bytes</td>\n",
              "      <td>102,338 Bytes</td>\n",
              "      <td>0.6 KB/Sec</td>\n",
              "      <td>02:43.5</td>\n",
              "      <td>-1</td>\n",
              "    </tr>\n",
              "    <tr>\n",
              "      <th>3</th>\n",
              "      <td>TCP</td>\n",
              "      <td>192.168.29.50</td>\n",
              "      <td>199.115.119.227</td>\n",
              "      <td>49375.0</td>\n",
              "      <td>443.0</td>\n",
              "      <td>17</td>\n",
              "      <td>3,428 Bytes</td>\n",
              "      <td>4,665 Bytes</td>\n",
              "      <td>0.6 KB/Sec</td>\n",
              "      <td>00:05.8</td>\n",
              "      <td>-1</td>\n",
              "    </tr>\n",
              "    <tr>\n",
              "      <th>4</th>\n",
              "      <td>TCP</td>\n",
              "      <td>192.168.29.50</td>\n",
              "      <td>67.199.150.86</td>\n",
              "      <td>63589.0</td>\n",
              "      <td>443.0</td>\n",
              "      <td>33</td>\n",
              "      <td>9,644 Bytes</td>\n",
              "      <td>11,521 Bytes</td>\n",
              "      <td>2.9 KB/Sec</td>\n",
              "      <td>00:03.3</td>\n",
              "      <td>-1</td>\n",
              "    </tr>\n",
              "  </tbody>\n",
              "</table>\n",
              "</div>\n",
              "      <button class=\"colab-df-convert\" onclick=\"convertToInteractive('df-b719c06f-e222-41d8-9efb-f9938c4067bb')\"\n",
              "              title=\"Convert this dataframe to an interactive table.\"\n",
              "              style=\"display:none;\">\n",
              "        \n",
              "  <svg xmlns=\"http://www.w3.org/2000/svg\" height=\"24px\"viewBox=\"0 0 24 24\"\n",
              "       width=\"24px\">\n",
              "    <path d=\"M0 0h24v24H0V0z\" fill=\"none\"/>\n",
              "    <path d=\"M18.56 5.44l.94 2.06.94-2.06 2.06-.94-2.06-.94-.94-2.06-.94 2.06-2.06.94zm-11 1L8.5 8.5l.94-2.06 2.06-.94-2.06-.94L8.5 2.5l-.94 2.06-2.06.94zm10 10l.94 2.06.94-2.06 2.06-.94-2.06-.94-.94-2.06-.94 2.06-2.06.94z\"/><path d=\"M17.41 7.96l-1.37-1.37c-.4-.4-.92-.59-1.43-.59-.52 0-1.04.2-1.43.59L10.3 9.45l-7.72 7.72c-.78.78-.78 2.05 0 2.83L4 21.41c.39.39.9.59 1.41.59.51 0 1.02-.2 1.41-.59l7.78-7.78 2.81-2.81c.8-.78.8-2.07 0-2.86zM5.41 20L4 18.59l7.72-7.72 1.47 1.35L5.41 20z\"/>\n",
              "  </svg>\n",
              "      </button>\n",
              "      \n",
              "  <style>\n",
              "    .colab-df-container {\n",
              "      display:flex;\n",
              "      flex-wrap:wrap;\n",
              "      gap: 12px;\n",
              "    }\n",
              "\n",
              "    .colab-df-convert {\n",
              "      background-color: #E8F0FE;\n",
              "      border: none;\n",
              "      border-radius: 50%;\n",
              "      cursor: pointer;\n",
              "      display: none;\n",
              "      fill: #1967D2;\n",
              "      height: 32px;\n",
              "      padding: 0 0 0 0;\n",
              "      width: 32px;\n",
              "    }\n",
              "\n",
              "    .colab-df-convert:hover {\n",
              "      background-color: #E2EBFA;\n",
              "      box-shadow: 0px 1px 2px rgba(60, 64, 67, 0.3), 0px 1px 3px 1px rgba(60, 64, 67, 0.15);\n",
              "      fill: #174EA6;\n",
              "    }\n",
              "\n",
              "    [theme=dark] .colab-df-convert {\n",
              "      background-color: #3B4455;\n",
              "      fill: #D2E3FC;\n",
              "    }\n",
              "\n",
              "    [theme=dark] .colab-df-convert:hover {\n",
              "      background-color: #434B5C;\n",
              "      box-shadow: 0px 1px 3px 1px rgba(0, 0, 0, 0.15);\n",
              "      filter: drop-shadow(0px 1px 2px rgba(0, 0, 0, 0.3));\n",
              "      fill: #FFFFFF;\n",
              "    }\n",
              "  </style>\n",
              "\n",
              "      <script>\n",
              "        const buttonEl =\n",
              "          document.querySelector('#df-b719c06f-e222-41d8-9efb-f9938c4067bb button.colab-df-convert');\n",
              "        buttonEl.style.display =\n",
              "          google.colab.kernel.accessAllowed ? 'block' : 'none';\n",
              "\n",
              "        async function convertToInteractive(key) {\n",
              "          const element = document.querySelector('#df-b719c06f-e222-41d8-9efb-f9938c4067bb');\n",
              "          const dataTable =\n",
              "            await google.colab.kernel.invokeFunction('convertToInteractive',\n",
              "                                                     [key], {});\n",
              "          if (!dataTable) return;\n",
              "\n",
              "          const docLinkHtml = 'Like what you see? Visit the ' +\n",
              "            '<a target=\"_blank\" href=https://colab.research.google.com/notebooks/data_table.ipynb>data table notebook</a>'\n",
              "            + ' to learn more about interactive tables.';\n",
              "          element.innerHTML = '';\n",
              "          dataTable['output_type'] = 'display_data';\n",
              "          await google.colab.output.renderOutput(dataTable, element);\n",
              "          const docLink = document.createElement('div');\n",
              "          docLink.innerHTML = docLinkHtml;\n",
              "          element.appendChild(docLink);\n",
              "        }\n",
              "      </script>\n",
              "    </div>\n",
              "  </div>\n",
              "  "
            ]
          },
          "metadata": {},
          "execution_count": 12
        }
      ],
      "source": [
        "dataset_train = dataset_train.drop([\"Local Host\",\"Remote Host\",\"Service Name\",\"Capture Time\",\"Last Packet Time\"],axis=1)\n",
        "dataset_train = dataset_train.reset_index(drop = True)\n",
        "dataset_train.head()"
      ]
    },
    {
      "cell_type": "code",
      "execution_count": 13,
      "metadata": {
        "id": "M2EId2LZjQkL"
      },
      "outputs": [],
      "source": [
        "dataset_train['Throughput']=0\n",
        "dataset_train[\"Duration in seconds\"] = 0"
      ]
    },
    {
      "cell_type": "code",
      "execution_count": 14,
      "metadata": {
        "colab": {
          "base_uri": "https://localhost:8080/"
        },
        "id": "WAGPmdlsj477",
        "outputId": "0081293a-2028-4bba-e2fa-b34b4541abfe"
      },
      "outputs": [
        {
          "output_type": "stream",
          "name": "stderr",
          "text": [
            "<ipython-input-14-22298153ade2>:5: SettingWithCopyWarning: \n",
            "A value is trying to be set on a copy of a slice from a DataFrame\n",
            "\n",
            "See the caveats in the documentation: https://pandas.pydata.org/pandas-docs/stable/user_guide/indexing.html#returning-a-view-versus-a-copy\n",
            "  dataset_train[\"Duration in seconds\"][i] = t.hour*3600 + t.minute*60 + t.second\n",
            "<ipython-input-14-22298153ade2>:11: SettingWithCopyWarning: \n",
            "A value is trying to be set on a copy of a slice from a DataFrame\n",
            "\n",
            "See the caveats in the documentation: https://pandas.pydata.org/pandas-docs/stable/user_guide/indexing.html#returning-a-view-versus-a-copy\n",
            "  dataset_train[\"Packets\"][i] = dataset_train[\"Packets\"][i].translate(str.maketrans('', '', string.punctuation))\n",
            "<ipython-input-14-22298153ade2>:12: SettingWithCopyWarning: \n",
            "A value is trying to be set on a copy of a slice from a DataFrame\n",
            "\n",
            "See the caveats in the documentation: https://pandas.pydata.org/pandas-docs/stable/user_guide/indexing.html#returning-a-view-versus-a-copy\n",
            "  dataset_train[\"Packets\"][i] = int(dataset_train[\"Packets\"][i].split(' ')[0])\n",
            "<ipython-input-14-22298153ade2>:13: SettingWithCopyWarning: \n",
            "A value is trying to be set on a copy of a slice from a DataFrame\n",
            "\n",
            "See the caveats in the documentation: https://pandas.pydata.org/pandas-docs/stable/user_guide/indexing.html#returning-a-view-versus-a-copy\n",
            "  dataset_train[\"Packets\"][i] = int(dataset_train[\"Packets\"][i])\n"
          ]
        }
      ],
      "source": [
        "import string\n",
        "from datetime import datetime\n",
        "for i in range(len(dataset_train)):\n",
        "  t = datetime.strptime(dataset_train[\"Duration\"][i].split('.')[0], '%M:%S').time()\n",
        "  dataset_train[\"Duration in seconds\"][i] = t.hour*3600 + t.minute*60 + t.second\n",
        "  \n",
        "  if(type(dataset_train[\"Packets\"][i])==int or type(dataset_train[\"Packets\"][i])==float):\n",
        "    dataset_train[\"Packets\"][i] = dataset_train[\"Packets\"][i]\n",
        "  else:\n",
        "    if(type(dataset_train[\"Packets\"][i])==str):\n",
        "      dataset_train[\"Packets\"][i] = dataset_train[\"Packets\"][i].translate(str.maketrans('', '', string.punctuation))\n",
        "      dataset_train[\"Packets\"][i] = int(dataset_train[\"Packets\"][i].split(' ')[0])\n",
        "      dataset_train[\"Packets\"][i] = int(dataset_train[\"Packets\"][i])"
      ]
    },
    {
      "cell_type": "code",
      "execution_count": 15,
      "metadata": {
        "colab": {
          "base_uri": "https://localhost:8080/",
          "height": 206
        },
        "id": "jfOJSkLAj40T",
        "outputId": "fe65da68-d2bd-45d2-d499-e8c0cc777200"
      },
      "outputs": [
        {
          "output_type": "execute_result",
          "data": {
            "text/plain": [
              "  Protocol  Local Address   Remote Address  Local Port  Remote Port Packets  \\\n",
              "0      TCP  192.168.29.50      5.62.53.230     52323.0        443.0      43   \n",
              "1      TCP  192.168.29.50   66.225.223.159     55468.0        443.0      20   \n",
              "2      TCP  192.168.29.50  162.159.128.232     54224.0        443.0     185   \n",
              "3      TCP  192.168.29.50  199.115.119.227     49375.0        443.0      17   \n",
              "4      TCP  192.168.29.50    67.199.150.86     63589.0        443.0      33   \n",
              "\n",
              "      Data Size     Total Size  Data Speed Duration  Attack  Throughput  \\\n",
              "0  23,350 Bytes   25,645 Bytes  0.1 KB/Sec  02:35.7      -1           0   \n",
              "1   7,008 Bytes    8,365 Bytes  1.4 KB/Sec  00:04.9      -1           0   \n",
              "2  94,719 Bytes  102,338 Bytes  0.6 KB/Sec  02:43.5      -1           0   \n",
              "3   3,428 Bytes    4,665 Bytes  0.6 KB/Sec  00:05.8      -1           0   \n",
              "4   9,644 Bytes   11,521 Bytes  2.9 KB/Sec  00:03.3      -1           0   \n",
              "\n",
              "   Duration in seconds  \n",
              "0                  155  \n",
              "1                    4  \n",
              "2                  163  \n",
              "3                    5  \n",
              "4                    3  "
            ],
            "text/html": [
              "\n",
              "  <div id=\"df-d869fadb-3520-4efb-889e-5e95147cda30\">\n",
              "    <div class=\"colab-df-container\">\n",
              "      <div>\n",
              "<style scoped>\n",
              "    .dataframe tbody tr th:only-of-type {\n",
              "        vertical-align: middle;\n",
              "    }\n",
              "\n",
              "    .dataframe tbody tr th {\n",
              "        vertical-align: top;\n",
              "    }\n",
              "\n",
              "    .dataframe thead th {\n",
              "        text-align: right;\n",
              "    }\n",
              "</style>\n",
              "<table border=\"1\" class=\"dataframe\">\n",
              "  <thead>\n",
              "    <tr style=\"text-align: right;\">\n",
              "      <th></th>\n",
              "      <th>Protocol</th>\n",
              "      <th>Local Address</th>\n",
              "      <th>Remote Address</th>\n",
              "      <th>Local Port</th>\n",
              "      <th>Remote Port</th>\n",
              "      <th>Packets</th>\n",
              "      <th>Data Size</th>\n",
              "      <th>Total Size</th>\n",
              "      <th>Data Speed</th>\n",
              "      <th>Duration</th>\n",
              "      <th>Attack</th>\n",
              "      <th>Throughput</th>\n",
              "      <th>Duration in seconds</th>\n",
              "    </tr>\n",
              "  </thead>\n",
              "  <tbody>\n",
              "    <tr>\n",
              "      <th>0</th>\n",
              "      <td>TCP</td>\n",
              "      <td>192.168.29.50</td>\n",
              "      <td>5.62.53.230</td>\n",
              "      <td>52323.0</td>\n",
              "      <td>443.0</td>\n",
              "      <td>43</td>\n",
              "      <td>23,350 Bytes</td>\n",
              "      <td>25,645 Bytes</td>\n",
              "      <td>0.1 KB/Sec</td>\n",
              "      <td>02:35.7</td>\n",
              "      <td>-1</td>\n",
              "      <td>0</td>\n",
              "      <td>155</td>\n",
              "    </tr>\n",
              "    <tr>\n",
              "      <th>1</th>\n",
              "      <td>TCP</td>\n",
              "      <td>192.168.29.50</td>\n",
              "      <td>66.225.223.159</td>\n",
              "      <td>55468.0</td>\n",
              "      <td>443.0</td>\n",
              "      <td>20</td>\n",
              "      <td>7,008 Bytes</td>\n",
              "      <td>8,365 Bytes</td>\n",
              "      <td>1.4 KB/Sec</td>\n",
              "      <td>00:04.9</td>\n",
              "      <td>-1</td>\n",
              "      <td>0</td>\n",
              "      <td>4</td>\n",
              "    </tr>\n",
              "    <tr>\n",
              "      <th>2</th>\n",
              "      <td>TCP</td>\n",
              "      <td>192.168.29.50</td>\n",
              "      <td>162.159.128.232</td>\n",
              "      <td>54224.0</td>\n",
              "      <td>443.0</td>\n",
              "      <td>185</td>\n",
              "      <td>94,719 Bytes</td>\n",
              "      <td>102,338 Bytes</td>\n",
              "      <td>0.6 KB/Sec</td>\n",
              "      <td>02:43.5</td>\n",
              "      <td>-1</td>\n",
              "      <td>0</td>\n",
              "      <td>163</td>\n",
              "    </tr>\n",
              "    <tr>\n",
              "      <th>3</th>\n",
              "      <td>TCP</td>\n",
              "      <td>192.168.29.50</td>\n",
              "      <td>199.115.119.227</td>\n",
              "      <td>49375.0</td>\n",
              "      <td>443.0</td>\n",
              "      <td>17</td>\n",
              "      <td>3,428 Bytes</td>\n",
              "      <td>4,665 Bytes</td>\n",
              "      <td>0.6 KB/Sec</td>\n",
              "      <td>00:05.8</td>\n",
              "      <td>-1</td>\n",
              "      <td>0</td>\n",
              "      <td>5</td>\n",
              "    </tr>\n",
              "    <tr>\n",
              "      <th>4</th>\n",
              "      <td>TCP</td>\n",
              "      <td>192.168.29.50</td>\n",
              "      <td>67.199.150.86</td>\n",
              "      <td>63589.0</td>\n",
              "      <td>443.0</td>\n",
              "      <td>33</td>\n",
              "      <td>9,644 Bytes</td>\n",
              "      <td>11,521 Bytes</td>\n",
              "      <td>2.9 KB/Sec</td>\n",
              "      <td>00:03.3</td>\n",
              "      <td>-1</td>\n",
              "      <td>0</td>\n",
              "      <td>3</td>\n",
              "    </tr>\n",
              "  </tbody>\n",
              "</table>\n",
              "</div>\n",
              "      <button class=\"colab-df-convert\" onclick=\"convertToInteractive('df-d869fadb-3520-4efb-889e-5e95147cda30')\"\n",
              "              title=\"Convert this dataframe to an interactive table.\"\n",
              "              style=\"display:none;\">\n",
              "        \n",
              "  <svg xmlns=\"http://www.w3.org/2000/svg\" height=\"24px\"viewBox=\"0 0 24 24\"\n",
              "       width=\"24px\">\n",
              "    <path d=\"M0 0h24v24H0V0z\" fill=\"none\"/>\n",
              "    <path d=\"M18.56 5.44l.94 2.06.94-2.06 2.06-.94-2.06-.94-.94-2.06-.94 2.06-2.06.94zm-11 1L8.5 8.5l.94-2.06 2.06-.94-2.06-.94L8.5 2.5l-.94 2.06-2.06.94zm10 10l.94 2.06.94-2.06 2.06-.94-2.06-.94-.94-2.06-.94 2.06-2.06.94z\"/><path d=\"M17.41 7.96l-1.37-1.37c-.4-.4-.92-.59-1.43-.59-.52 0-1.04.2-1.43.59L10.3 9.45l-7.72 7.72c-.78.78-.78 2.05 0 2.83L4 21.41c.39.39.9.59 1.41.59.51 0 1.02-.2 1.41-.59l7.78-7.78 2.81-2.81c.8-.78.8-2.07 0-2.86zM5.41 20L4 18.59l7.72-7.72 1.47 1.35L5.41 20z\"/>\n",
              "  </svg>\n",
              "      </button>\n",
              "      \n",
              "  <style>\n",
              "    .colab-df-container {\n",
              "      display:flex;\n",
              "      flex-wrap:wrap;\n",
              "      gap: 12px;\n",
              "    }\n",
              "\n",
              "    .colab-df-convert {\n",
              "      background-color: #E8F0FE;\n",
              "      border: none;\n",
              "      border-radius: 50%;\n",
              "      cursor: pointer;\n",
              "      display: none;\n",
              "      fill: #1967D2;\n",
              "      height: 32px;\n",
              "      padding: 0 0 0 0;\n",
              "      width: 32px;\n",
              "    }\n",
              "\n",
              "    .colab-df-convert:hover {\n",
              "      background-color: #E2EBFA;\n",
              "      box-shadow: 0px 1px 2px rgba(60, 64, 67, 0.3), 0px 1px 3px 1px rgba(60, 64, 67, 0.15);\n",
              "      fill: #174EA6;\n",
              "    }\n",
              "\n",
              "    [theme=dark] .colab-df-convert {\n",
              "      background-color: #3B4455;\n",
              "      fill: #D2E3FC;\n",
              "    }\n",
              "\n",
              "    [theme=dark] .colab-df-convert:hover {\n",
              "      background-color: #434B5C;\n",
              "      box-shadow: 0px 1px 3px 1px rgba(0, 0, 0, 0.15);\n",
              "      filter: drop-shadow(0px 1px 2px rgba(0, 0, 0, 0.3));\n",
              "      fill: #FFFFFF;\n",
              "    }\n",
              "  </style>\n",
              "\n",
              "      <script>\n",
              "        const buttonEl =\n",
              "          document.querySelector('#df-d869fadb-3520-4efb-889e-5e95147cda30 button.colab-df-convert');\n",
              "        buttonEl.style.display =\n",
              "          google.colab.kernel.accessAllowed ? 'block' : 'none';\n",
              "\n",
              "        async function convertToInteractive(key) {\n",
              "          const element = document.querySelector('#df-d869fadb-3520-4efb-889e-5e95147cda30');\n",
              "          const dataTable =\n",
              "            await google.colab.kernel.invokeFunction('convertToInteractive',\n",
              "                                                     [key], {});\n",
              "          if (!dataTable) return;\n",
              "\n",
              "          const docLinkHtml = 'Like what you see? Visit the ' +\n",
              "            '<a target=\"_blank\" href=https://colab.research.google.com/notebooks/data_table.ipynb>data table notebook</a>'\n",
              "            + ' to learn more about interactive tables.';\n",
              "          element.innerHTML = '';\n",
              "          dataTable['output_type'] = 'display_data';\n",
              "          await google.colab.output.renderOutput(dataTable, element);\n",
              "          const docLink = document.createElement('div');\n",
              "          docLink.innerHTML = docLinkHtml;\n",
              "          element.appendChild(docLink);\n",
              "        }\n",
              "      </script>\n",
              "    </div>\n",
              "  </div>\n",
              "  "
            ]
          },
          "metadata": {},
          "execution_count": 15
        }
      ],
      "source": [
        "dataset_train.head()"
      ]
    },
    {
      "cell_type": "code",
      "execution_count": 16,
      "metadata": {
        "colab": {
          "base_uri": "https://localhost:8080/"
        },
        "id": "Cvm9T21HzG8W",
        "outputId": "c5cef0f3-5581-44c7-e223-05c1f30c8cd7"
      },
      "outputs": [
        {
          "output_type": "stream",
          "name": "stderr",
          "text": [
            "<ipython-input-16-ad44b00ee02e>:5: SettingWithCopyWarning: \n",
            "A value is trying to be set on a copy of a slice from a DataFrame\n",
            "\n",
            "See the caveats in the documentation: https://pandas.pydata.org/pandas-docs/stable/user_guide/indexing.html#returning-a-view-versus-a-copy\n",
            "  dataset_train[\"Throughput\"][i] = val\n",
            "<ipython-input-16-ad44b00ee02e>:2: RuntimeWarning: divide by zero encountered in long_scalars\n",
            "  val = dataset_train[\"Packets\"][i]/dataset_train[\"Duration in seconds\"][i]\n"
          ]
        }
      ],
      "source": [
        "for i in range(len(dataset_train)):\n",
        "  val = dataset_train[\"Packets\"][i]/dataset_train[\"Duration in seconds\"][i]\n",
        "  if val==np.inf or val==-np.inf:\n",
        "    val = 10**15\n",
        "  dataset_train[\"Throughput\"][i] = val"
      ]
    },
    {
      "cell_type": "code",
      "execution_count": 17,
      "metadata": {
        "id": "E9nqQb40zHY0"
      },
      "outputs": [],
      "source": [
        "dataset_train=dataset_train.sort_values(by=['Throughput'])"
      ]
    },
    {
      "cell_type": "code",
      "execution_count": 18,
      "metadata": {
        "id": "iAqlpy-kj4on"
      },
      "outputs": [],
      "source": [
        "throughput=dataset_train['Throughput']"
      ]
    },
    {
      "cell_type": "code",
      "execution_count": 19,
      "metadata": {
        "id": "EOvbarXfzk-a"
      },
      "outputs": [],
      "source": [
        "throughput.replace([np.inf, -np.inf], np.nan, inplace=True)\n",
        "throughput.dropna(how=\"all\", inplace=True)"
      ]
    },
    {
      "cell_type": "code",
      "execution_count": 20,
      "metadata": {
        "colab": {
          "base_uri": "https://localhost:8080/"
        },
        "id": "eh6BVXbgzkuy",
        "outputId": "684c3f22-2390-41b7-ebec-e096385d1a3f"
      },
      "outputs": [
        {
          "output_type": "stream",
          "name": "stdout",
          "text": [
            "28200000000011.516 165560387920568.22\n"
          ]
        }
      ],
      "source": [
        "stdev = throughput.std()\n",
        "mean = throughput.mean()\n",
        "print(mean,stdev)"
      ]
    },
    {
      "cell_type": "code",
      "execution_count": 21,
      "metadata": {
        "id": "5VWsUhZaj4fE"
      },
      "outputs": [],
      "source": [
        "data=dataset_train[\"Throughput\"].tolist()"
      ]
    },
    {
      "cell_type": "code",
      "execution_count": 22,
      "metadata": {
        "colab": {
          "base_uri": "https://localhost:8080/"
        },
        "id": "h462xAozz4gd",
        "outputId": "25b5fa7e-b724-4f1e-c23d-517866391a51"
      },
      "outputs": [
        {
          "output_type": "stream",
          "name": "stdout",
          "text": [
            "141\n"
          ]
        }
      ],
      "source": [
        "c=0\n",
        "for i in dataset_train['Throughput']:\n",
        "  if i==1000000000000000:\n",
        "    c=c+1\n",
        "\n",
        "print(c)"
      ]
    },
    {
      "cell_type": "code",
      "execution_count": 23,
      "metadata": {
        "colab": {
          "base_uri": "https://localhost:8080/",
          "height": 276
        },
        "id": "UAhpNwSSj4M2",
        "outputId": "2bb896ab-5ba8-4b45-8866-aa629c6dbcb2"
      },
      "outputs": [
        {
          "output_type": "display_data",
          "data": {
            "text/plain": [
              "<Figure size 432x288 with 1 Axes>"
            ],
            "image/png": "[encoded data removed]"
          },
          "metadata": {
            "needs_background": "light"
          }
        }
      ],
      "source": [
        "df = pd.DataFrame({\n",
        "      'data': data,\n",
        "      'mean': [mean for i in range(len(data))],\n",
        "      'std': [stdev for i in range(len(data))]})\n",
        "df.plot()\n",
        "plt.show()"
      ]
    },
    {
      "cell_type": "code",
      "execution_count": 24,
      "metadata": {
        "colab": {
          "base_uri": "https://localhost:8080/"
        },
        "id": "B7z_qApu3UpU",
        "outputId": "12756238-e76f-4319-ff21-83a0cc5f73f2"
      },
      "outputs": [
        {
          "output_type": "stream",
          "name": "stderr",
          "text": [
            "<ipython-input-24-5d4597eb4d8d>:5: SettingWithCopyWarning: \n",
            "A value is trying to be set on a copy of a slice from a DataFrame\n",
            "\n",
            "See the caveats in the documentation: https://pandas.pydata.org/pandas-docs/stable/user_guide/indexing.html#returning-a-view-versus-a-copy\n",
            "  dataset_train[\"Anomaly\"][i] = -1\n"
          ]
        }
      ],
      "source": [
        "dataset_train[\"Anomaly\"] = 1\n",
        "dataset_train.replace(np.nan,np.inf,inplace=True)\n",
        "for i in range(0,len(dataset_train[\"Total Size\"])):\n",
        "    if(abs(dataset_train[\"Throughput\"][i]-mean)<stdev):\n",
        "        dataset_train[\"Anomaly\"][i] = -1   "
      ]
    },
    {
      "cell_type": "code",
      "execution_count": 25,
      "metadata": {
        "id": "wZvVAMoe3VQe"
      },
      "outputs": [],
      "source": [
        "from sklearn.metrics import confusion_matrix,precision_score,accuracy_score,f1_score, classification_report\n",
        "import seaborn as sn\n",
        "tn, fp, fn, tp = confusion_matrix(dataset_train[\"Attack\"], dataset_train[\"Anomaly\"]).ravel()\n",
        "precision = precision_score(dataset_train[\"Attack\"], dataset_train[\"Anomaly\"])\n",
        "accuracy = accuracy_score(dataset_train[\"Attack\"], dataset_train[\"Anomaly\"])\n",
        "f1_score = f1_score(dataset_train[\"Attack\"], dataset_train[\"Anomaly\"])"
      ]
    },
    {
      "cell_type": "code",
      "execution_count": 26,
      "metadata": {
        "colab": {
          "base_uri": "https://localhost:8080/",
          "height": 279
        },
        "id": "7tqJpZUTGZUc",
        "outputId": "49f12324-410e-4a8a-ee44-f8315ce18419"
      },
      "outputs": [
        {
          "output_type": "display_data",
          "data": {
            "text/plain": [
              "<Figure size 432x288 with 2 Axes>"
            ],
            "image/png": "[encoded data removed]"
          },
          "metadata": {
            "needs_background": "light"
          }
        }
      ],
      "source": [
        "from sklearn.metrics import ConfusionMatrixDisplay\n",
        "cm=confusion_matrix(dataset_train[\"Attack\"], dataset_train[\"Anomaly\"])\n",
        "disp_poly = ConfusionMatrixDisplay(cm)\n",
        "disp_poly.plot()\n",
        "plt.show()"
      ]
    },
    {
      "cell_type": "code",
      "execution_count": 27,
      "metadata": {
        "colab": {
          "base_uri": "https://localhost:8080/"
        },
        "id": "NB3iOvsh3ghm",
        "outputId": "b6cdfb32-afc8-443d-fa0e-5f3928474cca"
      },
      "outputs": [
        {
          "output_type": "execute_result",
          "data": {
            "text/plain": [
              "((4850, 0, 9, 141), 1.0, 0.9982, 0.9690721649484536)"
            ]
          },
          "metadata": {},
          "execution_count": 27
        }
      ],
      "source": [
        "(tn, fp, fn, tp),precision,accuracy,f1_score"
      ]
    },
    {
      "cell_type": "markdown",
      "metadata": {
        "id": "IIGyiBS_3hJ6"
      },
      "source": [
        "## Testing"
      ]
    },
    {
      "cell_type": "code",
      "execution_count": 28,
      "metadata": {
        "colab": {
          "base_uri": "https://localhost:8080/"
        },
        "id": "90D5sjfUKZFW",
        "outputId": "66dc5325-8e57-44e4-fa4b-24b45b61bcee"
      },
      "outputs": [
        {
          "output_type": "stream",
          "name": "stdout",
          "text": [
            "64993\n",
            "1000\n"
          ]
        }
      ],
      "source": [
        "attack=pd.read_csv('FYP Dataset/DDoS1.csv')\n",
        "attack=attack.append(pd.read_csv('FYP Dataset/DDoS2.csv'))\n",
        "attack=attack.append(pd.read_csv('FYP Dataset/DDoS3.csv'))\n",
        "attack=attack.append(pd.read_csv('FYP Dataset/DDoS4.csv'))\n",
        "attack = attack.sample(frac = 1)\n",
        "print(len(attack))\n",
        "attack=attack[:1000]\n",
        "print(len(attack))"
      ]
    },
    {
      "cell_type": "code",
      "execution_count": 29,
      "metadata": {
        "colab": {
          "base_uri": "https://localhost:8080/"
        },
        "id": "S6eW73XUKpzB",
        "outputId": "2087b98b-23d3-411f-ac08-a20098b3418f"
      },
      "outputs": [
        {
          "output_type": "stream",
          "name": "stdout",
          "text": [
            "14897\n"
          ]
        }
      ],
      "source": [
        "working=pd.read_csv('FYP Dataset/Working1.csv')\n",
        "working=working.append(pd.read_csv('FYP Dataset/Working2.csv'))\n",
        "working=working.append(pd.read_csv('FYP Dataset/Working3.csv'))\n",
        "working=working.append(pd.read_csv('FYP Dataset/Working4.csv'))\n",
        "working=working.append(pd.read_csv('FYP Dataset/Working5.csv'))\n",
        "working=working.append(pd.read_csv('FYP Dataset/Working6.csv'))\n",
        "working=working.append(pd.read_csv('FYP Dataset/Working7.csv'))\n",
        "working=working.append(pd.read_csv('FYP Dataset/Working8.csv'))\n",
        "working=working.append(pd.read_csv('FYP Dataset/Working9.csv'))\n",
        "working = working.sample(frac = 1)\n",
        "print(len(working))\n",
        "#working=working[:7000]\n",
        "#print(len(working))"
      ]
    },
    {
      "cell_type": "code",
      "execution_count": 30,
      "metadata": {
        "colab": {
          "base_uri": "https://localhost:8080/"
        },
        "id": "jI2W_4enK0RF",
        "outputId": "4f191a66-465f-4b47-f7e5-4e96e6f9ff59"
      },
      "outputs": [
        {
          "output_type": "stream",
          "name": "stdout",
          "text": [
            "11032\n"
          ]
        }
      ],
      "source": [
        "idle=pd.read_csv('FYP Dataset/Idle1.csv')\n",
        "idle=idle.append(pd.read_csv('FYP Dataset/Idle2.csv'))\n",
        "idle=idle.append(pd.read_csv('FYP Dataset/Idle3.csv'))\n",
        "idle=idle.append(pd.read_csv('FYP Dataset/Idle4.csv'))\n",
        "idle=idle.append(pd.read_csv('FYP Dataset/Idle5.csv'))\n",
        "idle=idle.append(pd.read_csv('FYP Dataset/Idle6.csv'))\n",
        "idle=idle.append(pd.read_csv('FYP Dataset/Idle7.csv'))\n",
        "idle=idle.append(pd.read_csv('FYP Dataset/Idle8.csv'))\n",
        "idle = idle.sample(frac = 1)\n",
        "print(len(idle))\n",
        "#idle=idle[:7400]\n",
        "# print(len(idle))"
      ]
    },
    {
      "cell_type": "code",
      "execution_count": 31,
      "metadata": {
        "colab": {
          "base_uri": "https://localhost:8080/",
          "height": 350
        },
        "id": "pnIge4KiLzzb",
        "outputId": "17c8396e-1f34-4724-be6e-2a7556cbc661"
      },
      "outputs": [
        {
          "output_type": "display_data",
          "data": {
            "text/plain": [
              "<Figure size 720x360 with 1 Axes>"
            ],
            "image/png": "[encoded data removed]"
          },
          "metadata": {
            "needs_background": "light"
          }
        }
      ],
      "source": [
        "data={'Working System': len(working), 'Idle System': len(idle), 'System Under Attack': len(attack)}\n",
        "typeOfSystem= list(data.keys())\n",
        "NumberOfEntries=list(data.values())\n",
        "fig = plt.figure(figsize = (10, 5))\n",
        "total=len(working)+len(idle)+len(attack)\n",
        "graph=plt.bar(typeOfSystem, NumberOfEntries, color ='maroon',\n",
        "        width = 0.4)\n",
        "for bar in graph:\n",
        "    height = bar.get_height()\n",
        "    percent=height*100/total\n",
        "    plt.annotate( \"{}%\".format(int(percent)),(bar.get_x() + bar.get_width()/2, height+.05),ha=\"center\",va=\"bottom\",fontsize=15)\n",
        " \n",
        "plt.xlabel(\"Type of System\")\n",
        "plt.ylabel(\"Number of Entries\")\n",
        "plt.title(\"Our Dataset\")\n",
        "plt.show()"
      ]
    },
    {
      "cell_type": "code",
      "execution_count": 32,
      "metadata": {
        "id": "pAruhMO3M3Su"
      },
      "outputs": [],
      "source": [
        "idle[\"Attack\"] = -1\n",
        "working[\"Attack\"] = -1\n",
        "attack[\"Attack\"] = 1"
      ]
    },
    {
      "cell_type": "code",
      "execution_count": 33,
      "metadata": {
        "id": "EX8fs5aHOUCr"
      },
      "outputs": [],
      "source": [
        "ls=[working,idle,attack]\n",
        "dataset_test=pd.concat(ls)"
      ]
    },
    {
      "cell_type": "code",
      "execution_count": 34,
      "metadata": {
        "colab": {
          "base_uri": "https://localhost:8080/"
        },
        "id": "ZZHghWsgOyQt",
        "outputId": "7115fd53-b8c3-42bf-b86f-37a2cb268d37"
      },
      "outputs": [
        {
          "output_type": "execute_result",
          "data": {
            "text/plain": [
              "26929"
            ]
          },
          "metadata": {},
          "execution_count": 34
        }
      ],
      "source": [
        "len(dataset_test)"
      ]
    },
    {
      "cell_type": "code",
      "execution_count": 35,
      "metadata": {
        "colab": {
          "base_uri": "https://localhost:8080/",
          "height": 478
        },
        "id": "U3fMGekNOz4i",
        "outputId": "37cb2632-3b4a-4ddf-94c1-aa73fd7244b9"
      },
      "outputs": [
        {
          "output_type": "execute_result",
          "data": {
            "text/plain": [
              "    Protocol    Local Address   Remote Address  Local Port  Remote Port  \\\n",
              "542      UDP        10.0.2.15      192.168.0.1     50302.0         53.0   \n",
              "595      TCP  192.168.137.188       23.44.10.9     53779.0        443.0   \n",
              "81       UDP   192.168.137.84  239.255.255.250     49923.0       1900.0   \n",
              "642      TCP    192.168.29.50   35.197.154.200     52942.0        443.0   \n",
              "331      UDP    192.168.29.50  239.255.255.250     59248.0       1900.0   \n",
              "\n",
              "                     Local Host                 Remote Host Service Name  \\\n",
              "542                         NaN                         NaN       domain   \n",
              "595                         NaN  e35862.dscj.akamaiedge.net        https   \n",
              "81   LAPTOP-54PG1OGH.mshome.net                         NaN         ssdp   \n",
              "642                         NaN  rest.gti.mcafee.akadns.net        https   \n",
              "331                     Sumedha                         NaN         ssdp   \n",
              "\n",
              "    Packets     Data Size    Total Size  Data Speed  \\\n",
              "542       4     712 Bytes     885 Bytes         NaN   \n",
              "595      75  54,451 Bytes  58,071 Bytes  1.5 KB/Sec   \n",
              "81        8   1,400 Bytes   1,827 Bytes  0.5 KB/Sec   \n",
              "642      51  27,630 Bytes  30,247 Bytes  4.0 KB/Sec   \n",
              "331       8   1,392 Bytes   1,818 Bytes  0.5 KB/Sec   \n",
              "\n",
              "                   Capture Time            Last Packet Time Duration  Attack  \n",
              "542   10/25/2022 9:34:06 AM:858   10/25/2022 9:34:08 AM:555  00:01.7      -1  \n",
              "595   11/12/2022 1:01:48 AM:583   11/12/2022 1:02:23 AM:720  00:35.1      -1  \n",
              "81     11/7/2022 4:45:01 PM:783    11/7/2022 4:45:04 PM:803  00:03.0      -1  \n",
              "642  12/14/2022 10:05:07 AM:404  12/14/2022 10:05:14 AM:066  00:06.7      -1  \n",
              "331   12/14/2022 5:59:26 PM:766   12/14/2022 5:59:29 PM:796  00:03.0      -1  "
            ],
            "text/html": [
              "\n",
              "  <div id=\"df-8557929e-908f-400b-b1dc-8029fa035bbd\">\n",
              "    <div class=\"colab-df-container\">\n",
              "      <div>\n",
              "<style scoped>\n",
              "    .dataframe tbody tr th:only-of-type {\n",
              "        vertical-align: middle;\n",
              "    }\n",
              "\n",
              "    .dataframe tbody tr th {\n",
              "        vertical-align: top;\n",
              "    }\n",
              "\n",
              "    .dataframe thead th {\n",
              "        text-align: right;\n",
              "    }\n",
              "</style>\n",
              "<table border=\"1\" class=\"dataframe\">\n",
              "  <thead>\n",
              "    <tr style=\"text-align: right;\">\n",
              "      <th></th>\n",
              "      <th>Protocol</th>\n",
              "      <th>Local Address</th>\n",
              "      <th>Remote Address</th>\n",
              "      <th>Local Port</th>\n",
              "      <th>Remote Port</th>\n",
              "      <th>Local Host</th>\n",
              "      <th>Remote Host</th>\n",
              "      <th>Service Name</th>\n",
              "      <th>Packets</th>\n",
              "      <th>Data Size</th>\n",
              "      <th>Total Size</th>\n",
              "      <th>Data Speed</th>\n",
              "      <th>Capture Time</th>\n",
              "      <th>Last Packet Time</th>\n",
              "      <th>Duration</th>\n",
              "      <th>Attack</th>\n",
              "    </tr>\n",
              "  </thead>\n",
              "  <tbody>\n",
              "    <tr>\n",
              "      <th>542</th>\n",
              "      <td>UDP</td>\n",
              "      <td>10.0.2.15</td>\n",
              "      <td>192.168.0.1</td>\n",
              "      <td>50302.0</td>\n",
              "      <td>53.0</td>\n",
              "      <td>NaN</td>\n",
              "      <td>NaN</td>\n",
              "      <td>domain</td>\n",
              "      <td>4</td>\n",
              "      <td>712 Bytes</td>\n",
              "      <td>885 Bytes</td>\n",
              "      <td>NaN</td>\n",
              "      <td>10/25/2022 9:34:06 AM:858</td>\n",
              "      <td>10/25/2022 9:34:08 AM:555</td>\n",
              "      <td>00:01.7</td>\n",
              "      <td>-1</td>\n",
              "    </tr>\n",
              "    <tr>\n",
              "      <th>595</th>\n",
              "      <td>TCP</td>\n",
              "      <td>192.168.137.188</td>\n",
              "      <td>23.44.10.9</td>\n",
              "      <td>53779.0</td>\n",
              "      <td>443.0</td>\n",
              "      <td>NaN</td>\n",
              "      <td>e35862.dscj.akamaiedge.net</td>\n",
              "      <td>https</td>\n",
              "      <td>75</td>\n",
              "      <td>54,451 Bytes</td>\n",
              "      <td>58,071 Bytes</td>\n",
              "      <td>1.5 KB/Sec</td>\n",
              "      <td>11/12/2022 1:01:48 AM:583</td>\n",
              "      <td>11/12/2022 1:02:23 AM:720</td>\n",
              "      <td>00:35.1</td>\n",
              "      <td>-1</td>\n",
              "    </tr>\n",
              "    <tr>\n",
              "      <th>81</th>\n",
              "      <td>UDP</td>\n",
              "      <td>192.168.137.84</td>\n",
              "      <td>239.255.255.250</td>\n",
              "      <td>49923.0</td>\n",
              "      <td>1900.0</td>\n",
              "      <td>LAPTOP-54PG1OGH.mshome.net</td>\n",
              "      <td>NaN</td>\n",
              "      <td>ssdp</td>\n",
              "      <td>8</td>\n",
              "      <td>1,400 Bytes</td>\n",
              "      <td>1,827 Bytes</td>\n",
              "      <td>0.5 KB/Sec</td>\n",
              "      <td>11/7/2022 4:45:01 PM:783</td>\n",
              "      <td>11/7/2022 4:45:04 PM:803</td>\n",
              "      <td>00:03.0</td>\n",
              "      <td>-1</td>\n",
              "    </tr>\n",
              "    <tr>\n",
              "      <th>642</th>\n",
              "      <td>TCP</td>\n",
              "      <td>192.168.29.50</td>\n",
              "      <td>35.197.154.200</td>\n",
              "      <td>52942.0</td>\n",
              "      <td>443.0</td>\n",
              "      <td>NaN</td>\n",
              "      <td>rest.gti.mcafee.akadns.net</td>\n",
              "      <td>https</td>\n",
              "      <td>51</td>\n",
              "      <td>27,630 Bytes</td>\n",
              "      <td>30,247 Bytes</td>\n",
              "      <td>4.0 KB/Sec</td>\n",
              "      <td>12/14/2022 10:05:07 AM:404</td>\n",
              "      <td>12/14/2022 10:05:14 AM:066</td>\n",
              "      <td>00:06.7</td>\n",
              "      <td>-1</td>\n",
              "    </tr>\n",
              "    <tr>\n",
              "      <th>331</th>\n",
              "      <td>UDP</td>\n",
              "      <td>192.168.29.50</td>\n",
              "      <td>239.255.255.250</td>\n",
              "      <td>59248.0</td>\n",
              "      <td>1900.0</td>\n",
              "      <td>Sumedha</td>\n",
              "      <td>NaN</td>\n",
              "      <td>ssdp</td>\n",
              "      <td>8</td>\n",
              "      <td>1,392 Bytes</td>\n",
              "      <td>1,818 Bytes</td>\n",
              "      <td>0.5 KB/Sec</td>\n",
              "      <td>12/14/2022 5:59:26 PM:766</td>\n",
              "      <td>12/14/2022 5:59:29 PM:796</td>\n",
              "      <td>00:03.0</td>\n",
              "      <td>-1</td>\n",
              "    </tr>\n",
              "  </tbody>\n",
              "</table>\n",
              "</div>\n",
              "      <button class=\"colab-df-convert\" onclick=\"convertToInteractive('df-8557929e-908f-400b-b1dc-8029fa035bbd')\"\n",
              "              title=\"Convert this dataframe to an interactive table.\"\n",
              "              style=\"display:none;\">\n",
              "        \n",
              "  <svg xmlns=\"http://www.w3.org/2000/svg\" height=\"24px\"viewBox=\"0 0 24 24\"\n",
              "       width=\"24px\">\n",
              "    <path d=\"M0 0h24v24H0V0z\" fill=\"none\"/>\n",
              "    <path d=\"M18.56 5.44l.94 2.06.94-2.06 2.06-.94-2.06-.94-.94-2.06-.94 2.06-2.06.94zm-11 1L8.5 8.5l.94-2.06 2.06-.94-2.06-.94L8.5 2.5l-.94 2.06-2.06.94zm10 10l.94 2.06.94-2.06 2.06-.94-2.06-.94-.94-2.06-.94 2.06-2.06.94z\"/><path d=\"M17.41 7.96l-1.37-1.37c-.4-.4-.92-.59-1.43-.59-.52 0-1.04.2-1.43.59L10.3 9.45l-7.72 7.72c-.78.78-.78 2.05 0 2.83L4 21.41c.39.39.9.59 1.41.59.51 0 1.02-.2 1.41-.59l7.78-7.78 2.81-2.81c.8-.78.8-2.07 0-2.86zM5.41 20L4 18.59l7.72-7.72 1.47 1.35L5.41 20z\"/>\n",
              "  </svg>\n",
              "      </button>\n",
              "      \n",
              "  <style>\n",
              "    .colab-df-container {\n",
              "      display:flex;\n",
              "      flex-wrap:wrap;\n",
              "      gap: 12px;\n",
              "    }\n",
              "\n",
              "    .colab-df-convert {\n",
              "      background-color: #E8F0FE;\n",
              "      border: none;\n",
              "      border-radius: 50%;\n",
              "      cursor: pointer;\n",
              "      display: none;\n",
              "      fill: #1967D2;\n",
              "      height: 32px;\n",
              "      padding: 0 0 0 0;\n",
              "      width: 32px;\n",
              "    }\n",
              "\n",
              "    .colab-df-convert:hover {\n",
              "      background-color: #E2EBFA;\n",
              "      box-shadow: 0px 1px 2px rgba(60, 64, 67, 0.3), 0px 1px 3px 1px rgba(60, 64, 67, 0.15);\n",
              "      fill: #174EA6;\n",
              "    }\n",
              "\n",
              "    [theme=dark] .colab-df-convert {\n",
              "      background-color: #3B4455;\n",
              "      fill: #D2E3FC;\n",
              "    }\n",
              "\n",
              "    [theme=dark] .colab-df-convert:hover {\n",
              "      background-color: #434B5C;\n",
              "      box-shadow: 0px 1px 3px 1px rgba(0, 0, 0, 0.15);\n",
              "      filter: drop-shadow(0px 1px 2px rgba(0, 0, 0, 0.3));\n",
              "      fill: #FFFFFF;\n",
              "    }\n",
              "  </style>\n",
              "\n",
              "      <script>\n",
              "        const buttonEl =\n",
              "          document.querySelector('#df-8557929e-908f-400b-b1dc-8029fa035bbd button.colab-df-convert');\n",
              "        buttonEl.style.display =\n",
              "          google.colab.kernel.accessAllowed ? 'block' : 'none';\n",
              "\n",
              "        async function convertToInteractive(key) {\n",
              "          const element = document.querySelector('#df-8557929e-908f-400b-b1dc-8029fa035bbd');\n",
              "          const dataTable =\n",
              "            await google.colab.kernel.invokeFunction('convertToInteractive',\n",
              "                                                     [key], {});\n",
              "          if (!dataTable) return;\n",
              "\n",
              "          const docLinkHtml = 'Like what you see? Visit the ' +\n",
              "            '<a target=\"_blank\" href=https://colab.research.google.com/notebooks/data_table.ipynb>data table notebook</a>'\n",
              "            + ' to learn more about interactive tables.';\n",
              "          element.innerHTML = '';\n",
              "          dataTable['output_type'] = 'display_data';\n",
              "          await google.colab.output.renderOutput(dataTable, element);\n",
              "          const docLink = document.createElement('div');\n",
              "          docLink.innerHTML = docLinkHtml;\n",
              "          element.appendChild(docLink);\n",
              "        }\n",
              "      </script>\n",
              "    </div>\n",
              "  </div>\n",
              "  "
            ]
          },
          "metadata": {},
          "execution_count": 35
        }
      ],
      "source": [
        "dataset_test.head()"
      ]
    },
    {
      "cell_type": "code",
      "execution_count": 36,
      "metadata": {
        "colab": {
          "base_uri": "https://localhost:8080/",
          "height": 206
        },
        "id": "rM0yIT0sO4Dr",
        "outputId": "7f7395c7-a74a-43ae-c211-288d83557ba4"
      },
      "outputs": [
        {
          "output_type": "execute_result",
          "data": {
            "text/plain": [
              "  Protocol    Local Address   Remote Address  Local Port  Remote Port Packets  \\\n",
              "0      UDP        10.0.2.15      192.168.0.1     50302.0         53.0       4   \n",
              "1      TCP  192.168.137.188       23.44.10.9     53779.0        443.0      75   \n",
              "2      UDP   192.168.137.84  239.255.255.250     49923.0       1900.0       8   \n",
              "3      TCP    192.168.29.50   35.197.154.200     52942.0        443.0      51   \n",
              "4      UDP    192.168.29.50  239.255.255.250     59248.0       1900.0       8   \n",
              "\n",
              "      Data Size    Total Size  Data Speed Duration  Attack  \n",
              "0     712 Bytes     885 Bytes         NaN  00:01.7      -1  \n",
              "1  54,451 Bytes  58,071 Bytes  1.5 KB/Sec  00:35.1      -1  \n",
              "2   1,400 Bytes   1,827 Bytes  0.5 KB/Sec  00:03.0      -1  \n",
              "3  27,630 Bytes  30,247 Bytes  4.0 KB/Sec  00:06.7      -1  \n",
              "4   1,392 Bytes   1,818 Bytes  0.5 KB/Sec  00:03.0      -1  "
            ],
            "text/html": [
              "\n",
              "  <div id=\"df-e2edbb06-85bc-4030-85cb-5a032ff9bd3e\">\n",
              "    <div class=\"colab-df-container\">\n",
              "      <div>\n",
              "<style scoped>\n",
              "    .dataframe tbody tr th:only-of-type {\n",
              "        vertical-align: middle;\n",
              "    }\n",
              "\n",
              "    .dataframe tbody tr th {\n",
              "        vertical-align: top;\n",
              "    }\n",
              "\n",
              "    .dataframe thead th {\n",
              "        text-align: right;\n",
              "    }\n",
              "</style>\n",
              "<table border=\"1\" class=\"dataframe\">\n",
              "  <thead>\n",
              "    <tr style=\"text-align: right;\">\n",
              "      <th></th>\n",
              "      <th>Protocol</th>\n",
              "      <th>Local Address</th>\n",
              "      <th>Remote Address</th>\n",
              "      <th>Local Port</th>\n",
              "      <th>Remote Port</th>\n",
              "      <th>Packets</th>\n",
              "      <th>Data Size</th>\n",
              "      <th>Total Size</th>\n",
              "      <th>Data Speed</th>\n",
              "      <th>Duration</th>\n",
              "      <th>Attack</th>\n",
              "    </tr>\n",
              "  </thead>\n",
              "  <tbody>\n",
              "    <tr>\n",
              "      <th>0</th>\n",
              "      <td>UDP</td>\n",
              "      <td>10.0.2.15</td>\n",
              "      <td>192.168.0.1</td>\n",
              "      <td>50302.0</td>\n",
              "      <td>53.0</td>\n",
              "      <td>4</td>\n",
              "      <td>712 Bytes</td>\n",
              "      <td>885 Bytes</td>\n",
              "      <td>NaN</td>\n",
              "      <td>00:01.7</td>\n",
              "      <td>-1</td>\n",
              "    </tr>\n",
              "    <tr>\n",
              "      <th>1</th>\n",
              "      <td>TCP</td>\n",
              "      <td>192.168.137.188</td>\n",
              "      <td>23.44.10.9</td>\n",
              "      <td>53779.0</td>\n",
              "      <td>443.0</td>\n",
              "      <td>75</td>\n",
              "      <td>54,451 Bytes</td>\n",
              "      <td>58,071 Bytes</td>\n",
              "      <td>1.5 KB/Sec</td>\n",
              "      <td>00:35.1</td>\n",
              "      <td>-1</td>\n",
              "    </tr>\n",
              "    <tr>\n",
              "      <th>2</th>\n",
              "      <td>UDP</td>\n",
              "      <td>192.168.137.84</td>\n",
              "      <td>239.255.255.250</td>\n",
              "      <td>49923.0</td>\n",
              "      <td>1900.0</td>\n",
              "      <td>8</td>\n",
              "      <td>1,400 Bytes</td>\n",
              "      <td>1,827 Bytes</td>\n",
              "      <td>0.5 KB/Sec</td>\n",
              "      <td>00:03.0</td>\n",
              "      <td>-1</td>\n",
              "    </tr>\n",
              "    <tr>\n",
              "      <th>3</th>\n",
              "      <td>TCP</td>\n",
              "      <td>192.168.29.50</td>\n",
              "      <td>35.197.154.200</td>\n",
              "      <td>52942.0</td>\n",
              "      <td>443.0</td>\n",
              "      <td>51</td>\n",
              "      <td>27,630 Bytes</td>\n",
              "      <td>30,247 Bytes</td>\n",
              "      <td>4.0 KB/Sec</td>\n",
              "      <td>00:06.7</td>\n",
              "      <td>-1</td>\n",
              "    </tr>\n",
              "    <tr>\n",
              "      <th>4</th>\n",
              "      <td>UDP</td>\n",
              "      <td>192.168.29.50</td>\n",
              "      <td>239.255.255.250</td>\n",
              "      <td>59248.0</td>\n",
              "      <td>1900.0</td>\n",
              "      <td>8</td>\n",
              "      <td>1,392 Bytes</td>\n",
              "      <td>1,818 Bytes</td>\n",
              "      <td>0.5 KB/Sec</td>\n",
              "      <td>00:03.0</td>\n",
              "      <td>-1</td>\n",
              "    </tr>\n",
              "  </tbody>\n",
              "</table>\n",
              "</div>\n",
              "      <button class=\"colab-df-convert\" onclick=\"convertToInteractive('df-e2edbb06-85bc-4030-85cb-5a032ff9bd3e')\"\n",
              "              title=\"Convert this dataframe to an interactive table.\"\n",
              "              style=\"display:none;\">\n",
              "        \n",
              "  <svg xmlns=\"http://www.w3.org/2000/svg\" height=\"24px\"viewBox=\"0 0 24 24\"\n",
              "       width=\"24px\">\n",
              "    <path d=\"M0 0h24v24H0V0z\" fill=\"none\"/>\n",
              "    <path d=\"M18.56 5.44l.94 2.06.94-2.06 2.06-.94-2.06-.94-.94-2.06-.94 2.06-2.06.94zm-11 1L8.5 8.5l.94-2.06 2.06-.94-2.06-.94L8.5 2.5l-.94 2.06-2.06.94zm10 10l.94 2.06.94-2.06 2.06-.94-2.06-.94-.94-2.06-.94 2.06-2.06.94z\"/><path d=\"M17.41 7.96l-1.37-1.37c-.4-.4-.92-.59-1.43-.59-.52 0-1.04.2-1.43.59L10.3 9.45l-7.72 7.72c-.78.78-.78 2.05 0 2.83L4 21.41c.39.39.9.59 1.41.59.51 0 1.02-.2 1.41-.59l7.78-7.78 2.81-2.81c.8-.78.8-2.07 0-2.86zM5.41 20L4 18.59l7.72-7.72 1.47 1.35L5.41 20z\"/>\n",
              "  </svg>\n",
              "      </button>\n",
              "      \n",
              "  <style>\n",
              "    .colab-df-container {\n",
              "      display:flex;\n",
              "      flex-wrap:wrap;\n",
              "      gap: 12px;\n",
              "    }\n",
              "\n",
              "    .colab-df-convert {\n",
              "      background-color: #E8F0FE;\n",
              "      border: none;\n",
              "      border-radius: 50%;\n",
              "      cursor: pointer;\n",
              "      display: none;\n",
              "      fill: #1967D2;\n",
              "      height: 32px;\n",
              "      padding: 0 0 0 0;\n",
              "      width: 32px;\n",
              "    }\n",
              "\n",
              "    .colab-df-convert:hover {\n",
              "      background-color: #E2EBFA;\n",
              "      box-shadow: 0px 1px 2px rgba(60, 64, 67, 0.3), 0px 1px 3px 1px rgba(60, 64, 67, 0.15);\n",
              "      fill: #174EA6;\n",
              "    }\n",
              "\n",
              "    [theme=dark] .colab-df-convert {\n",
              "      background-color: #3B4455;\n",
              "      fill: #D2E3FC;\n",
              "    }\n",
              "\n",
              "    [theme=dark] .colab-df-convert:hover {\n",
              "      background-color: #434B5C;\n",
              "      box-shadow: 0px 1px 3px 1px rgba(0, 0, 0, 0.15);\n",
              "      filter: drop-shadow(0px 1px 2px rgba(0, 0, 0, 0.3));\n",
              "      fill: #FFFFFF;\n",
              "    }\n",
              "  </style>\n",
              "\n",
              "      <script>\n",
              "        const buttonEl =\n",
              "          document.querySelector('#df-e2edbb06-85bc-4030-85cb-5a032ff9bd3e button.colab-df-convert');\n",
              "        buttonEl.style.display =\n",
              "          google.colab.kernel.accessAllowed ? 'block' : 'none';\n",
              "\n",
              "        async function convertToInteractive(key) {\n",
              "          const element = document.querySelector('#df-e2edbb06-85bc-4030-85cb-5a032ff9bd3e');\n",
              "          const dataTable =\n",
              "            await google.colab.kernel.invokeFunction('convertToInteractive',\n",
              "                                                     [key], {});\n",
              "          if (!dataTable) return;\n",
              "\n",
              "          const docLinkHtml = 'Like what you see? Visit the ' +\n",
              "            '<a target=\"_blank\" href=https://colab.research.google.com/notebooks/data_table.ipynb>data table notebook</a>'\n",
              "            + ' to learn more about interactive tables.';\n",
              "          element.innerHTML = '';\n",
              "          dataTable['output_type'] = 'display_data';\n",
              "          await google.colab.output.renderOutput(dataTable, element);\n",
              "          const docLink = document.createElement('div');\n",
              "          docLink.innerHTML = docLinkHtml;\n",
              "          element.appendChild(docLink);\n",
              "        }\n",
              "      </script>\n",
              "    </div>\n",
              "  </div>\n",
              "  "
            ]
          },
          "metadata": {},
          "execution_count": 36
        }
      ],
      "source": [
        "dataset_test = dataset_test.drop([\"Local Host\",\"Remote Host\",\"Service Name\",\"Capture Time\",\"Last Packet Time\"],axis=1)\n",
        "dataset_test = dataset_test.reset_index(drop = True)\n",
        "dataset_test.head()"
      ]
    },
    {
      "cell_type": "code",
      "execution_count": 37,
      "metadata": {
        "id": "EOFGqwFOP3xQ"
      },
      "outputs": [],
      "source": [
        "dataset_test['Throughput']=0"
      ]
    },
    {
      "cell_type": "code",
      "execution_count": 38,
      "metadata": {
        "id": "CxVLevu2TI-z"
      },
      "outputs": [],
      "source": [
        "dataset_test[\"Duration in seconds\"] = 0"
      ]
    },
    {
      "cell_type": "code",
      "execution_count": 39,
      "metadata": {
        "colab": {
          "base_uri": "https://localhost:8080/"
        },
        "id": "uDGWTLH0TRt-",
        "outputId": "8ad641a0-c29c-425a-e78c-d31042e5846e"
      },
      "outputs": [
        {
          "output_type": "stream",
          "name": "stderr",
          "text": [
            "<ipython-input-39-ee91ebca76a1>:5: SettingWithCopyWarning: \n",
            "A value is trying to be set on a copy of a slice from a DataFrame\n",
            "\n",
            "See the caveats in the documentation: https://pandas.pydata.org/pandas-docs/stable/user_guide/indexing.html#returning-a-view-versus-a-copy\n",
            "  dataset_test[\"Duration in seconds\"][i] = t.hour*3600 + t.minute*60 + t.second\n",
            "<ipython-input-39-ee91ebca76a1>:11: SettingWithCopyWarning: \n",
            "A value is trying to be set on a copy of a slice from a DataFrame\n",
            "\n",
            "See the caveats in the documentation: https://pandas.pydata.org/pandas-docs/stable/user_guide/indexing.html#returning-a-view-versus-a-copy\n",
            "  dataset_test[\"Packets\"][i] = dataset_test[\"Packets\"][i].translate(str.maketrans('', '', string.punctuation))\n",
            "<ipython-input-39-ee91ebca76a1>:12: SettingWithCopyWarning: \n",
            "A value is trying to be set on a copy of a slice from a DataFrame\n",
            "\n",
            "See the caveats in the documentation: https://pandas.pydata.org/pandas-docs/stable/user_guide/indexing.html#returning-a-view-versus-a-copy\n",
            "  dataset_test[\"Packets\"][i] = int(dataset_test[\"Packets\"][i].split(' ')[0])\n",
            "<ipython-input-39-ee91ebca76a1>:13: SettingWithCopyWarning: \n",
            "A value is trying to be set on a copy of a slice from a DataFrame\n",
            "\n",
            "See the caveats in the documentation: https://pandas.pydata.org/pandas-docs/stable/user_guide/indexing.html#returning-a-view-versus-a-copy\n",
            "  dataset_test[\"Packets\"][i] = int(dataset_test[\"Packets\"][i])\n"
          ]
        }
      ],
      "source": [
        "import string\n",
        "from datetime import datetime\n",
        "for i in range(len(dataset_test)):\n",
        "  t = datetime.strptime(dataset_test[\"Duration\"][i].split('.')[0], '%M:%S').time()\n",
        "  dataset_test[\"Duration in seconds\"][i] = t.hour*3600 + t.minute*60 + t.second\n",
        "  \n",
        "  if(type(dataset_test[\"Packets\"][i])==int or type(dataset_test[\"Packets\"][i])==float):\n",
        "    dataset_test[\"Packets\"][i] = dataset_test[\"Packets\"][i]\n",
        "  else:\n",
        "    if(type(dataset_test[\"Packets\"][i])==str):\n",
        "      dataset_test[\"Packets\"][i] = dataset_test[\"Packets\"][i].translate(str.maketrans('', '', string.punctuation))\n",
        "      dataset_test[\"Packets\"][i] = int(dataset_test[\"Packets\"][i].split(' ')[0])\n",
        "      dataset_test[\"Packets\"][i] = int(dataset_test[\"Packets\"][i])"
      ]
    },
    {
      "cell_type": "code",
      "execution_count": 40,
      "metadata": {
        "colab": {
          "base_uri": "https://localhost:8080/",
          "height": 206
        },
        "id": "xux81Y-EV8A-",
        "outputId": "b3874dd9-7f15-4bda-a3f6-0191987ad3a6"
      },
      "outputs": [
        {
          "output_type": "execute_result",
          "data": {
            "text/plain": [
              "  Protocol    Local Address   Remote Address  Local Port  Remote Port Packets  \\\n",
              "0      UDP        10.0.2.15      192.168.0.1     50302.0         53.0       4   \n",
              "1      TCP  192.168.137.188       23.44.10.9     53779.0        443.0      75   \n",
              "2      UDP   192.168.137.84  239.255.255.250     49923.0       1900.0       8   \n",
              "3      TCP    192.168.29.50   35.197.154.200     52942.0        443.0      51   \n",
              "4      UDP    192.168.29.50  239.255.255.250     59248.0       1900.0       8   \n",
              "\n",
              "      Data Size    Total Size  Data Speed Duration  Attack  Throughput  \\\n",
              "0     712 Bytes     885 Bytes         NaN  00:01.7      -1           0   \n",
              "1  54,451 Bytes  58,071 Bytes  1.5 KB/Sec  00:35.1      -1           0   \n",
              "2   1,400 Bytes   1,827 Bytes  0.5 KB/Sec  00:03.0      -1           0   \n",
              "3  27,630 Bytes  30,247 Bytes  4.0 KB/Sec  00:06.7      -1           0   \n",
              "4   1,392 Bytes   1,818 Bytes  0.5 KB/Sec  00:03.0      -1           0   \n",
              "\n",
              "   Duration in seconds  \n",
              "0                    1  \n",
              "1                   35  \n",
              "2                    3  \n",
              "3                    6  \n",
              "4                    3  "
            ],
            "text/html": [
              "\n",
              "  <div id=\"df-76abac73-977d-4d2b-9a62-e20b88a4eb95\">\n",
              "    <div class=\"colab-df-container\">\n",
              "      <div>\n",
              "<style scoped>\n",
              "    .dataframe tbody tr th:only-of-type {\n",
              "        vertical-align: middle;\n",
              "    }\n",
              "\n",
              "    .dataframe tbody tr th {\n",
              "        vertical-align: top;\n",
              "    }\n",
              "\n",
              "    .dataframe thead th {\n",
              "        text-align: right;\n",
              "    }\n",
              "</style>\n",
              "<table border=\"1\" class=\"dataframe\">\n",
              "  <thead>\n",
              "    <tr style=\"text-align: right;\">\n",
              "      <th></th>\n",
              "      <th>Protocol</th>\n",
              "      <th>Local Address</th>\n",
              "      <th>Remote Address</th>\n",
              "      <th>Local Port</th>\n",
              "      <th>Remote Port</th>\n",
              "      <th>Packets</th>\n",
              "      <th>Data Size</th>\n",
              "      <th>Total Size</th>\n",
              "      <th>Data Speed</th>\n",
              "      <th>Duration</th>\n",
              "      <th>Attack</th>\n",
              "      <th>Throughput</th>\n",
              "      <th>Duration in seconds</th>\n",
              "    </tr>\n",
              "  </thead>\n",
              "  <tbody>\n",
              "    <tr>\n",
              "      <th>0</th>\n",
              "      <td>UDP</td>\n",
              "      <td>10.0.2.15</td>\n",
              "      <td>192.168.0.1</td>\n",
              "      <td>50302.0</td>\n",
              "      <td>53.0</td>\n",
              "      <td>4</td>\n",
              "      <td>712 Bytes</td>\n",
              "      <td>885 Bytes</td>\n",
              "      <td>NaN</td>\n",
              "      <td>00:01.7</td>\n",
              "      <td>-1</td>\n",
              "      <td>0</td>\n",
              "      <td>1</td>\n",
              "    </tr>\n",
              "    <tr>\n",
              "      <th>1</th>\n",
              "      <td>TCP</td>\n",
              "      <td>192.168.137.188</td>\n",
              "      <td>23.44.10.9</td>\n",
              "      <td>53779.0</td>\n",
              "      <td>443.0</td>\n",
              "      <td>75</td>\n",
              "      <td>54,451 Bytes</td>\n",
              "      <td>58,071 Bytes</td>\n",
              "      <td>1.5 KB/Sec</td>\n",
              "      <td>00:35.1</td>\n",
              "      <td>-1</td>\n",
              "      <td>0</td>\n",
              "      <td>35</td>\n",
              "    </tr>\n",
              "    <tr>\n",
              "      <th>2</th>\n",
              "      <td>UDP</td>\n",
              "      <td>192.168.137.84</td>\n",
              "      <td>239.255.255.250</td>\n",
              "      <td>49923.0</td>\n",
              "      <td>1900.0</td>\n",
              "      <td>8</td>\n",
              "      <td>1,400 Bytes</td>\n",
              "      <td>1,827 Bytes</td>\n",
              "      <td>0.5 KB/Sec</td>\n",
              "      <td>00:03.0</td>\n",
              "      <td>-1</td>\n",
              "      <td>0</td>\n",
              "      <td>3</td>\n",
              "    </tr>\n",
              "    <tr>\n",
              "      <th>3</th>\n",
              "      <td>TCP</td>\n",
              "      <td>192.168.29.50</td>\n",
              "      <td>35.197.154.200</td>\n",
              "      <td>52942.0</td>\n",
              "      <td>443.0</td>\n",
              "      <td>51</td>\n",
              "      <td>27,630 Bytes</td>\n",
              "      <td>30,247 Bytes</td>\n",
              "      <td>4.0 KB/Sec</td>\n",
              "      <td>00:06.7</td>\n",
              "      <td>-1</td>\n",
              "      <td>0</td>\n",
              "      <td>6</td>\n",
              "    </tr>\n",
              "    <tr>\n",
              "      <th>4</th>\n",
              "      <td>UDP</td>\n",
              "      <td>192.168.29.50</td>\n",
              "      <td>239.255.255.250</td>\n",
              "      <td>59248.0</td>\n",
              "      <td>1900.0</td>\n",
              "      <td>8</td>\n",
              "      <td>1,392 Bytes</td>\n",
              "      <td>1,818 Bytes</td>\n",
              "      <td>0.5 KB/Sec</td>\n",
              "      <td>00:03.0</td>\n",
              "      <td>-1</td>\n",
              "      <td>0</td>\n",
              "      <td>3</td>\n",
              "    </tr>\n",
              "  </tbody>\n",
              "</table>\n",
              "</div>\n",
              "      <button class=\"colab-df-convert\" onclick=\"convertToInteractive('df-76abac73-977d-4d2b-9a62-e20b88a4eb95')\"\n",
              "              title=\"Convert this dataframe to an interactive table.\"\n",
              "              style=\"display:none;\">\n",
              "        \n",
              "  <svg xmlns=\"http://www.w3.org/2000/svg\" height=\"24px\"viewBox=\"0 0 24 24\"\n",
              "       width=\"24px\">\n",
              "    <path d=\"M0 0h24v24H0V0z\" fill=\"none\"/>\n",
              "    <path d=\"M18.56 5.44l.94 2.06.94-2.06 2.06-.94-2.06-.94-.94-2.06-.94 2.06-2.06.94zm-11 1L8.5 8.5l.94-2.06 2.06-.94-2.06-.94L8.5 2.5l-.94 2.06-2.06.94zm10 10l.94 2.06.94-2.06 2.06-.94-2.06-.94-.94-2.06-.94 2.06-2.06.94z\"/><path d=\"M17.41 7.96l-1.37-1.37c-.4-.4-.92-.59-1.43-.59-.52 0-1.04.2-1.43.59L10.3 9.45l-7.72 7.72c-.78.78-.78 2.05 0 2.83L4 21.41c.39.39.9.59 1.41.59.51 0 1.02-.2 1.41-.59l7.78-7.78 2.81-2.81c.8-.78.8-2.07 0-2.86zM5.41 20L4 18.59l7.72-7.72 1.47 1.35L5.41 20z\"/>\n",
              "  </svg>\n",
              "      </button>\n",
              "      \n",
              "  <style>\n",
              "    .colab-df-container {\n",
              "      display:flex;\n",
              "      flex-wrap:wrap;\n",
              "      gap: 12px;\n",
              "    }\n",
              "\n",
              "    .colab-df-convert {\n",
              "      background-color: #E8F0FE;\n",
              "      border: none;\n",
              "      border-radius: 50%;\n",
              "      cursor: pointer;\n",
              "      display: none;\n",
              "      fill: #1967D2;\n",
              "      height: 32px;\n",
              "      padding: 0 0 0 0;\n",
              "      width: 32px;\n",
              "    }\n",
              "\n",
              "    .colab-df-convert:hover {\n",
              "      background-color: #E2EBFA;\n",
              "      box-shadow: 0px 1px 2px rgba(60, 64, 67, 0.3), 0px 1px 3px 1px rgba(60, 64, 67, 0.15);\n",
              "      fill: #174EA6;\n",
              "    }\n",
              "\n",
              "    [theme=dark] .colab-df-convert {\n",
              "      background-color: #3B4455;\n",
              "      fill: #D2E3FC;\n",
              "    }\n",
              "\n",
              "    [theme=dark] .colab-df-convert:hover {\n",
              "      background-color: #434B5C;\n",
              "      box-shadow: 0px 1px 3px 1px rgba(0, 0, 0, 0.15);\n",
              "      filter: drop-shadow(0px 1px 2px rgba(0, 0, 0, 0.3));\n",
              "      fill: #FFFFFF;\n",
              "    }\n",
              "  </style>\n",
              "\n",
              "      <script>\n",
              "        const buttonEl =\n",
              "          document.querySelector('#df-76abac73-977d-4d2b-9a62-e20b88a4eb95 button.colab-df-convert');\n",
              "        buttonEl.style.display =\n",
              "          google.colab.kernel.accessAllowed ? 'block' : 'none';\n",
              "\n",
              "        async function convertToInteractive(key) {\n",
              "          const element = document.querySelector('#df-76abac73-977d-4d2b-9a62-e20b88a4eb95');\n",
              "          const dataTable =\n",
              "            await google.colab.kernel.invokeFunction('convertToInteractive',\n",
              "                                                     [key], {});\n",
              "          if (!dataTable) return;\n",
              "\n",
              "          const docLinkHtml = 'Like what you see? Visit the ' +\n",
              "            '<a target=\"_blank\" href=https://colab.research.google.com/notebooks/data_table.ipynb>data table notebook</a>'\n",
              "            + ' to learn more about interactive tables.';\n",
              "          element.innerHTML = '';\n",
              "          dataTable['output_type'] = 'display_data';\n",
              "          await google.colab.output.renderOutput(dataTable, element);\n",
              "          const docLink = document.createElement('div');\n",
              "          docLink.innerHTML = docLinkHtml;\n",
              "          element.appendChild(docLink);\n",
              "        }\n",
              "      </script>\n",
              "    </div>\n",
              "  </div>\n",
              "  "
            ]
          },
          "metadata": {},
          "execution_count": 40
        }
      ],
      "source": [
        "dataset_test.head()"
      ]
    },
    {
      "cell_type": "code",
      "execution_count": 41,
      "metadata": {
        "colab": {
          "base_uri": "https://localhost:8080/"
        },
        "id": "DxMVdlylHOmx",
        "outputId": "8fa3d63e-11dd-4cff-ebb3-ca4e810a86f9"
      },
      "outputs": [
        {
          "output_type": "stream",
          "name": "stderr",
          "text": [
            "<ipython-input-41-f3b1ecf7bb72>:5: SettingWithCopyWarning: \n",
            "A value is trying to be set on a copy of a slice from a DataFrame\n",
            "\n",
            "See the caveats in the documentation: https://pandas.pydata.org/pandas-docs/stable/user_guide/indexing.html#returning-a-view-versus-a-copy\n",
            "  dataset_test[\"Throughput\"][i] = val\n",
            "<ipython-input-41-f3b1ecf7bb72>:2: RuntimeWarning: divide by zero encountered in long_scalars\n",
            "  val = dataset_test[\"Packets\"][i]/dataset_test[\"Duration in seconds\"][i]\n"
          ]
        }
      ],
      "source": [
        "for i in range(len(dataset_test)):\n",
        "  val = dataset_test[\"Packets\"][i]/dataset_test[\"Duration in seconds\"][i]\n",
        "  if val==np.inf or val==-np.inf:\n",
        "    val = 10**15\n",
        "  dataset_test[\"Throughput\"][i] = val"
      ]
    },
    {
      "cell_type": "code",
      "execution_count": 42,
      "metadata": {
        "colab": {
          "base_uri": "https://localhost:8080/",
          "height": 424
        },
        "id": "m8a2cbpCYGde",
        "outputId": "c3f752af-fd9b-4fc1-862e-7d03fe2d333a"
      },
      "outputs": [
        {
          "output_type": "execute_result",
          "data": {
            "text/plain": [
              "      Protocol    Local Address   Remote Address  Local Port  Remote Port  \\\n",
              "0          UDP        10.0.2.15      192.168.0.1     50302.0         53.0   \n",
              "1          TCP  192.168.137.188       23.44.10.9     53779.0        443.0   \n",
              "2          UDP   192.168.137.84  239.255.255.250     49923.0       1900.0   \n",
              "3          TCP    192.168.29.50   35.197.154.200     52942.0        443.0   \n",
              "4          UDP    192.168.29.50  239.255.255.250     59248.0       1900.0   \n",
              "...        ...              ...              ...         ...          ...   \n",
              "26924      UDP     10.15.13.179         10.0.2.4     56329.0      15551.0   \n",
              "26925      UDP     10.15.13.208         10.0.2.4     58083.0      31040.0   \n",
              "26926      UDP      10.15.9.111         10.0.2.4     55619.0       6592.0   \n",
              "26927      UDP      10.15.9.111         10.0.2.4     55619.0        159.0   \n",
              "26928      UDP      10.15.9.111         10.0.2.4     55619.0      43241.0   \n",
              "\n",
              "      Packets     Data Size    Total Size  Data Speed Duration  Attack  \\\n",
              "0           4     712 Bytes     885 Bytes         NaN  00:01.7      -1   \n",
              "1          75  54,451 Bytes  58,071 Bytes  1.5 KB/Sec  00:35.1      -1   \n",
              "2           8   1,400 Bytes   1,827 Bytes  0.5 KB/Sec  00:03.0      -1   \n",
              "3          51  27,630 Bytes  30,247 Bytes  4.0 KB/Sec  00:06.7      -1   \n",
              "4           8   1,392 Bytes   1,818 Bytes  0.5 KB/Sec  00:03.0      -1   \n",
              "...       ...           ...           ...         ...      ...     ...   \n",
              "26924       1   1,472 Bytes   3,000 Bytes         NaN  00:00.0       1   \n",
              "26925       1   1,472 Bytes   3,000 Bytes         NaN  00:00.0       1   \n",
              "26926       2   2,944 Bytes   4,500 Bytes  0.0 KB/Sec  01:10.3       1   \n",
              "26927       1   1,472 Bytes   3,000 Bytes         NaN  00:00.0       1   \n",
              "26928       1   1,472 Bytes   3,000 Bytes         NaN  00:00.0       1   \n",
              "\n",
              "             Throughput  Duration in seconds  \n",
              "0                     4                    1  \n",
              "1                     2                   35  \n",
              "2                     2                    3  \n",
              "3                     8                    6  \n",
              "4                     2                    3  \n",
              "...                 ...                  ...  \n",
              "26924  1000000000000000                    0  \n",
              "26925  1000000000000000                    0  \n",
              "26926                 0                   70  \n",
              "26927  1000000000000000                    0  \n",
              "26928  1000000000000000                    0  \n",
              "\n",
              "[26929 rows x 13 columns]"
            ],
            "text/html": [
              "\n",
              "  <div id=\"df-4d67a4c0-ac84-4e6b-8617-749fc89969dd\">\n",
              "    <div class=\"colab-df-container\">\n",
              "      <div>\n",
              "<style scoped>\n",
              "    .dataframe tbody tr th:only-of-type {\n",
              "        vertical-align: middle;\n",
              "    }\n",
              "\n",
              "    .dataframe tbody tr th {\n",
              "        vertical-align: top;\n",
              "    }\n",
              "\n",
              "    .dataframe thead th {\n",
              "        text-align: right;\n",
              "    }\n",
              "</style>\n",
              "<table border=\"1\" class=\"dataframe\">\n",
              "  <thead>\n",
              "    <tr style=\"text-align: right;\">\n",
              "      <th></th>\n",
              "      <th>Protocol</th>\n",
              "      <th>Local Address</th>\n",
              "      <th>Remote Address</th>\n",
              "      <th>Local Port</th>\n",
              "      <th>Remote Port</th>\n",
              "      <th>Packets</th>\n",
              "      <th>Data Size</th>\n",
              "      <th>Total Size</th>\n",
              "      <th>Data Speed</th>\n",
              "      <th>Duration</th>\n",
              "      <th>Attack</th>\n",
              "      <th>Throughput</th>\n",
              "      <th>Duration in seconds</th>\n",
              "    </tr>\n",
              "  </thead>\n",
              "  <tbody>\n",
              "    <tr>\n",
              "      <th>0</th>\n",
              "      <td>UDP</td>\n",
              "      <td>10.0.2.15</td>\n",
              "      <td>192.168.0.1</td>\n",
              "      <td>50302.0</td>\n",
              "      <td>53.0</td>\n",
              "      <td>4</td>\n",
              "      <td>712 Bytes</td>\n",
              "      <td>885 Bytes</td>\n",
              "      <td>NaN</td>\n",
              "      <td>00:01.7</td>\n",
              "      <td>-1</td>\n",
              "      <td>4</td>\n",
              "      <td>1</td>\n",
              "    </tr>\n",
              "    <tr>\n",
              "      <th>1</th>\n",
              "      <td>TCP</td>\n",
              "      <td>192.168.137.188</td>\n",
              "      <td>23.44.10.9</td>\n",
              "      <td>53779.0</td>\n",
              "      <td>443.0</td>\n",
              "      <td>75</td>\n",
              "      <td>54,451 Bytes</td>\n",
              "      <td>58,071 Bytes</td>\n",
              "      <td>1.5 KB/Sec</td>\n",
              "      <td>00:35.1</td>\n",
              "      <td>-1</td>\n",
              "      <td>2</td>\n",
              "      <td>35</td>\n",
              "    </tr>\n",
              "    <tr>\n",
              "      <th>2</th>\n",
              "      <td>UDP</td>\n",
              "      <td>192.168.137.84</td>\n",
              "      <td>239.255.255.250</td>\n",
              "      <td>49923.0</td>\n",
              "      <td>1900.0</td>\n",
              "      <td>8</td>\n",
              "      <td>1,400 Bytes</td>\n",
              "      <td>1,827 Bytes</td>\n",
              "      <td>0.5 KB/Sec</td>\n",
              "      <td>00:03.0</td>\n",
              "      <td>-1</td>\n",
              "      <td>2</td>\n",
              "      <td>3</td>\n",
              "    </tr>\n",
              "    <tr>\n",
              "      <th>3</th>\n",
              "      <td>TCP</td>\n",
              "      <td>192.168.29.50</td>\n",
              "      <td>35.197.154.200</td>\n",
              "      <td>52942.0</td>\n",
              "      <td>443.0</td>\n",
              "      <td>51</td>\n",
              "      <td>27,630 Bytes</td>\n",
              "      <td>30,247 Bytes</td>\n",
              "      <td>4.0 KB/Sec</td>\n",
              "      <td>00:06.7</td>\n",
              "      <td>-1</td>\n",
              "      <td>8</td>\n",
              "      <td>6</td>\n",
              "    </tr>\n",
              "    <tr>\n",
              "      <th>4</th>\n",
              "      <td>UDP</td>\n",
              "      <td>192.168.29.50</td>\n",
              "      <td>239.255.255.250</td>\n",
              "      <td>59248.0</td>\n",
              "      <td>1900.0</td>\n",
              "      <td>8</td>\n",
              "      <td>1,392 Bytes</td>\n",
              "      <td>1,818 Bytes</td>\n",
              "      <td>0.5 KB/Sec</td>\n",
              "      <td>00:03.0</td>\n",
              "      <td>-1</td>\n",
              "      <td>2</td>\n",
              "      <td>3</td>\n",
              "    </tr>\n",
              "    <tr>\n",
              "      <th>...</th>\n",
              "      <td>...</td>\n",
              "      <td>...</td>\n",
              "      <td>...</td>\n",
              "      <td>...</td>\n",
              "      <td>...</td>\n",
              "      <td>...</td>\n",
              "      <td>...</td>\n",
              "      <td>...</td>\n",
              "      <td>...</td>\n",
              "      <td>...</td>\n",
              "      <td>...</td>\n",
              "      <td>...</td>\n",
              "      <td>...</td>\n",
              "    </tr>\n",
              "    <tr>\n",
              "      <th>26924</th>\n",
              "      <td>UDP</td>\n",
              "      <td>10.15.13.179</td>\n",
              "      <td>10.0.2.4</td>\n",
              "      <td>56329.0</td>\n",
              "      <td>15551.0</td>\n",
              "      <td>1</td>\n",
              "      <td>1,472 Bytes</td>\n",
              "      <td>3,000 Bytes</td>\n",
              "      <td>NaN</td>\n",
              "      <td>00:00.0</td>\n",
              "      <td>1</td>\n",
              "      <td>1000000000000000</td>\n",
              "      <td>0</td>\n",
              "    </tr>\n",
              "    <tr>\n",
              "      <th>26925</th>\n",
              "      <td>UDP</td>\n",
              "      <td>10.15.13.208</td>\n",
              "      <td>10.0.2.4</td>\n",
              "      <td>58083.0</td>\n",
              "      <td>31040.0</td>\n",
              "      <td>1</td>\n",
              "      <td>1,472 Bytes</td>\n",
              "      <td>3,000 Bytes</td>\n",
              "      <td>NaN</td>\n",
              "      <td>00:00.0</td>\n",
              "      <td>1</td>\n",
              "      <td>1000000000000000</td>\n",
              "      <td>0</td>\n",
              "    </tr>\n",
              "    <tr>\n",
              "      <th>26926</th>\n",
              "      <td>UDP</td>\n",
              "      <td>10.15.9.111</td>\n",
              "      <td>10.0.2.4</td>\n",
              "      <td>55619.0</td>\n",
              "      <td>6592.0</td>\n",
              "      <td>2</td>\n",
              "      <td>2,944 Bytes</td>\n",
              "      <td>4,500 Bytes</td>\n",
              "      <td>0.0 KB/Sec</td>\n",
              "      <td>01:10.3</td>\n",
              "      <td>1</td>\n",
              "      <td>0</td>\n",
              "      <td>70</td>\n",
              "    </tr>\n",
              "    <tr>\n",
              "      <th>26927</th>\n",
              "      <td>UDP</td>\n",
              "      <td>10.15.9.111</td>\n",
              "      <td>10.0.2.4</td>\n",
              "      <td>55619.0</td>\n",
              "      <td>159.0</td>\n",
              "      <td>1</td>\n",
              "      <td>1,472 Bytes</td>\n",
              "      <td>3,000 Bytes</td>\n",
              "      <td>NaN</td>\n",
              "      <td>00:00.0</td>\n",
              "      <td>1</td>\n",
              "      <td>1000000000000000</td>\n",
              "      <td>0</td>\n",
              "    </tr>\n",
              "    <tr>\n",
              "      <th>26928</th>\n",
              "      <td>UDP</td>\n",
              "      <td>10.15.9.111</td>\n",
              "      <td>10.0.2.4</td>\n",
              "      <td>55619.0</td>\n",
              "      <td>43241.0</td>\n",
              "      <td>1</td>\n",
              "      <td>1,472 Bytes</td>\n",
              "      <td>3,000 Bytes</td>\n",
              "      <td>NaN</td>\n",
              "      <td>00:00.0</td>\n",
              "      <td>1</td>\n",
              "      <td>1000000000000000</td>\n",
              "      <td>0</td>\n",
              "    </tr>\n",
              "  </tbody>\n",
              "</table>\n",
              "<p>26929 rows × 13 columns</p>\n",
              "</div>\n",
              "      <button class=\"colab-df-convert\" onclick=\"convertToInteractive('df-4d67a4c0-ac84-4e6b-8617-749fc89969dd')\"\n",
              "              title=\"Convert this dataframe to an interactive table.\"\n",
              "              style=\"display:none;\">\n",
              "        \n",
              "  <svg xmlns=\"http://www.w3.org/2000/svg\" height=\"24px\"viewBox=\"0 0 24 24\"\n",
              "       width=\"24px\">\n",
              "    <path d=\"M0 0h24v24H0V0z\" fill=\"none\"/>\n",
              "    <path d=\"M18.56 5.44l.94 2.06.94-2.06 2.06-.94-2.06-.94-.94-2.06-.94 2.06-2.06.94zm-11 1L8.5 8.5l.94-2.06 2.06-.94-2.06-.94L8.5 2.5l-.94 2.06-2.06.94zm10 10l.94 2.06.94-2.06 2.06-.94-2.06-.94-.94-2.06-.94 2.06-2.06.94z\"/><path d=\"M17.41 7.96l-1.37-1.37c-.4-.4-.92-.59-1.43-.59-.52 0-1.04.2-1.43.59L10.3 9.45l-7.72 7.72c-.78.78-.78 2.05 0 2.83L4 21.41c.39.39.9.59 1.41.59.51 0 1.02-.2 1.41-.59l7.78-7.78 2.81-2.81c.8-.78.8-2.07 0-2.86zM5.41 20L4 18.59l7.72-7.72 1.47 1.35L5.41 20z\"/>\n",
              "  </svg>\n",
              "      </button>\n",
              "      \n",
              "  <style>\n",
              "    .colab-df-container {\n",
              "      display:flex;\n",
              "      flex-wrap:wrap;\n",
              "      gap: 12px;\n",
              "    }\n",
              "\n",
              "    .colab-df-convert {\n",
              "      background-color: #E8F0FE;\n",
              "      border: none;\n",
              "      border-radius: 50%;\n",
              "      cursor: pointer;\n",
              "      display: none;\n",
              "      fill: #1967D2;\n",
              "      height: 32px;\n",
              "      padding: 0 0 0 0;\n",
              "      width: 32px;\n",
              "    }\n",
              "\n",
              "    .colab-df-convert:hover {\n",
              "      background-color: #E2EBFA;\n",
              "      box-shadow: 0px 1px 2px rgba(60, 64, 67, 0.3), 0px 1px 3px 1px rgba(60, 64, 67, 0.15);\n",
              "      fill: #174EA6;\n",
              "    }\n",
              "\n",
              "    [theme=dark] .colab-df-convert {\n",
              "      background-color: #3B4455;\n",
              "      fill: #D2E3FC;\n",
              "    }\n",
              "\n",
              "    [theme=dark] .colab-df-convert:hover {\n",
              "      background-color: #434B5C;\n",
              "      box-shadow: 0px 1px 3px 1px rgba(0, 0, 0, 0.15);\n",
              "      filter: drop-shadow(0px 1px 2px rgba(0, 0, 0, 0.3));\n",
              "      fill: #FFFFFF;\n",
              "    }\n",
              "  </style>\n",
              "\n",
              "      <script>\n",
              "        const buttonEl =\n",
              "          document.querySelector('#df-4d67a4c0-ac84-4e6b-8617-749fc89969dd button.colab-df-convert');\n",
              "        buttonEl.style.display =\n",
              "          google.colab.kernel.accessAllowed ? 'block' : 'none';\n",
              "\n",
              "        async function convertToInteractive(key) {\n",
              "          const element = document.querySelector('#df-4d67a4c0-ac84-4e6b-8617-749fc89969dd');\n",
              "          const dataTable =\n",
              "            await google.colab.kernel.invokeFunction('convertToInteractive',\n",
              "                                                     [key], {});\n",
              "          if (!dataTable) return;\n",
              "\n",
              "          const docLinkHtml = 'Like what you see? Visit the ' +\n",
              "            '<a target=\"_blank\" href=https://colab.research.google.com/notebooks/data_table.ipynb>data table notebook</a>'\n",
              "            + ' to learn more about interactive tables.';\n",
              "          element.innerHTML = '';\n",
              "          dataTable['output_type'] = 'display_data';\n",
              "          await google.colab.output.renderOutput(dataTable, element);\n",
              "          const docLink = document.createElement('div');\n",
              "          docLink.innerHTML = docLinkHtml;\n",
              "          element.appendChild(docLink);\n",
              "        }\n",
              "      </script>\n",
              "    </div>\n",
              "  </div>\n",
              "  "
            ]
          },
          "metadata": {},
          "execution_count": 42
        }
      ],
      "source": [
        "dataset_test"
      ]
    },
    {
      "cell_type": "code",
      "execution_count": 43,
      "metadata": {
        "id": "AEwHS7D29xVS"
      },
      "outputs": [],
      "source": [
        "dataset_test=dataset_test.sort_values(by=['Throughput'])"
      ]
    },
    {
      "cell_type": "code",
      "execution_count": 44,
      "metadata": {
        "colab": {
          "base_uri": "https://localhost:8080/",
          "height": 206
        },
        "id": "jXahPmGf91VS",
        "outputId": "a7ef499b-52c9-4811-9f11-abd370308a78"
      },
      "outputs": [
        {
          "output_type": "execute_result",
          "data": {
            "text/plain": [
              "      Protocol   Local Address   Remote Address  Local Port  Remote Port  \\\n",
              "10142      TCP   192.168.29.50    20.44.229.112     51533.0        443.0   \n",
              "12885      UDP  192.168.29.184  239.255.255.250     42205.0       1900.0   \n",
              "21657      TCP   192.168.29.50     13.35.238.22     61230.0        443.0   \n",
              "12887      UDP  192.168.29.184  239.255.255.250     37021.0       1900.0   \n",
              "21656      UDP  192.168.29.184  239.255.255.250     38628.0       1900.0   \n",
              "\n",
              "      Packets     Data Size    Total Size  Data Speed Duration  Attack  \\\n",
              "10142      38  18,855 Bytes  20,602 Bytes  0.2 KB/Sec  01:19.6      -1   \n",
              "12885       2     633 Bytes   1,057 Bytes  0.0 KB/Sec  11:00.2      -1   \n",
              "21657      46   3,044 Bytes   5,501 Bytes  0.0 KB/Sec  04:00.1      -1   \n",
              "12887       2     641 Bytes   1,073 Bytes  0.0 KB/Sec  49:59.7      -1   \n",
              "21656       2     678 Bytes   1,100 Bytes  0.0 KB/Sec  53:00.5      -1   \n",
              "\n",
              "       Throughput  Duration in seconds  \n",
              "10142           0                   79  \n",
              "12885           0                  660  \n",
              "21657           0                  240  \n",
              "12887           0                 2999  \n",
              "21656           0                 3180  "
            ],
            "text/html": [
              "\n",
              "  <div id=\"df-20703daf-7494-4097-a813-b6fed0829bbb\">\n",
              "    <div class=\"colab-df-container\">\n",
              "      <div>\n",
              "<style scoped>\n",
              "    .dataframe tbody tr th:only-of-type {\n",
              "        vertical-align: middle;\n",
              "    }\n",
              "\n",
              "    .dataframe tbody tr th {\n",
              "        vertical-align: top;\n",
              "    }\n",
              "\n",
              "    .dataframe thead th {\n",
              "        text-align: right;\n",
              "    }\n",
              "</style>\n",
              "<table border=\"1\" class=\"dataframe\">\n",
              "  <thead>\n",
              "    <tr style=\"text-align: right;\">\n",
              "      <th></th>\n",
              "      <th>Protocol</th>\n",
              "      <th>Local Address</th>\n",
              "      <th>Remote Address</th>\n",
              "      <th>Local Port</th>\n",
              "      <th>Remote Port</th>\n",
              "      <th>Packets</th>\n",
              "      <th>Data Size</th>\n",
              "      <th>Total Size</th>\n",
              "      <th>Data Speed</th>\n",
              "      <th>Duration</th>\n",
              "      <th>Attack</th>\n",
              "      <th>Throughput</th>\n",
              "      <th>Duration in seconds</th>\n",
              "    </tr>\n",
              "  </thead>\n",
              "  <tbody>\n",
              "    <tr>\n",
              "      <th>10142</th>\n",
              "      <td>TCP</td>\n",
              "      <td>192.168.29.50</td>\n",
              "      <td>20.44.229.112</td>\n",
              "      <td>51533.0</td>\n",
              "      <td>443.0</td>\n",
              "      <td>38</td>\n",
              "      <td>18,855 Bytes</td>\n",
              "      <td>20,602 Bytes</td>\n",
              "      <td>0.2 KB/Sec</td>\n",
              "      <td>01:19.6</td>\n",
              "      <td>-1</td>\n",
              "      <td>0</td>\n",
              "      <td>79</td>\n",
              "    </tr>\n",
              "    <tr>\n",
              "      <th>12885</th>\n",
              "      <td>UDP</td>\n",
              "      <td>192.168.29.184</td>\n",
              "      <td>239.255.255.250</td>\n",
              "      <td>42205.0</td>\n",
              "      <td>1900.0</td>\n",
              "      <td>2</td>\n",
              "      <td>633 Bytes</td>\n",
              "      <td>1,057 Bytes</td>\n",
              "      <td>0.0 KB/Sec</td>\n",
              "      <td>11:00.2</td>\n",
              "      <td>-1</td>\n",
              "      <td>0</td>\n",
              "      <td>660</td>\n",
              "    </tr>\n",
              "    <tr>\n",
              "      <th>21657</th>\n",
              "      <td>TCP</td>\n",
              "      <td>192.168.29.50</td>\n",
              "      <td>13.35.238.22</td>\n",
              "      <td>61230.0</td>\n",
              "      <td>443.0</td>\n",
              "      <td>46</td>\n",
              "      <td>3,044 Bytes</td>\n",
              "      <td>5,501 Bytes</td>\n",
              "      <td>0.0 KB/Sec</td>\n",
              "      <td>04:00.1</td>\n",
              "      <td>-1</td>\n",
              "      <td>0</td>\n",
              "      <td>240</td>\n",
              "    </tr>\n",
              "    <tr>\n",
              "      <th>12887</th>\n",
              "      <td>UDP</td>\n",
              "      <td>192.168.29.184</td>\n",
              "      <td>239.255.255.250</td>\n",
              "      <td>37021.0</td>\n",
              "      <td>1900.0</td>\n",
              "      <td>2</td>\n",
              "      <td>641 Bytes</td>\n",
              "      <td>1,073 Bytes</td>\n",
              "      <td>0.0 KB/Sec</td>\n",
              "      <td>49:59.7</td>\n",
              "      <td>-1</td>\n",
              "      <td>0</td>\n",
              "      <td>2999</td>\n",
              "    </tr>\n",
              "    <tr>\n",
              "      <th>21656</th>\n",
              "      <td>UDP</td>\n",
              "      <td>192.168.29.184</td>\n",
              "      <td>239.255.255.250</td>\n",
              "      <td>38628.0</td>\n",
              "      <td>1900.0</td>\n",
              "      <td>2</td>\n",
              "      <td>678 Bytes</td>\n",
              "      <td>1,100 Bytes</td>\n",
              "      <td>0.0 KB/Sec</td>\n",
              "      <td>53:00.5</td>\n",
              "      <td>-1</td>\n",
              "      <td>0</td>\n",
              "      <td>3180</td>\n",
              "    </tr>\n",
              "  </tbody>\n",
              "</table>\n",
              "</div>\n",
              "      <button class=\"colab-df-convert\" onclick=\"convertToInteractive('df-20703daf-7494-4097-a813-b6fed0829bbb')\"\n",
              "              title=\"Convert this dataframe to an interactive table.\"\n",
              "              style=\"display:none;\">\n",
              "        \n",
              "  <svg xmlns=\"http://www.w3.org/2000/svg\" height=\"24px\"viewBox=\"0 0 24 24\"\n",
              "       width=\"24px\">\n",
              "    <path d=\"M0 0h24v24H0V0z\" fill=\"none\"/>\n",
              "    <path d=\"M18.56 5.44l.94 2.06.94-2.06 2.06-.94-2.06-.94-.94-2.06-.94 2.06-2.06.94zm-11 1L8.5 8.5l.94-2.06 2.06-.94-2.06-.94L8.5 2.5l-.94 2.06-2.06.94zm10 10l.94 2.06.94-2.06 2.06-.94-2.06-.94-.94-2.06-.94 2.06-2.06.94z\"/><path d=\"M17.41 7.96l-1.37-1.37c-.4-.4-.92-.59-1.43-.59-.52 0-1.04.2-1.43.59L10.3 9.45l-7.72 7.72c-.78.78-.78 2.05 0 2.83L4 21.41c.39.39.9.59 1.41.59.51 0 1.02-.2 1.41-.59l7.78-7.78 2.81-2.81c.8-.78.8-2.07 0-2.86zM5.41 20L4 18.59l7.72-7.72 1.47 1.35L5.41 20z\"/>\n",
              "  </svg>\n",
              "      </button>\n",
              "      \n",
              "  <style>\n",
              "    .colab-df-container {\n",
              "      display:flex;\n",
              "      flex-wrap:wrap;\n",
              "      gap: 12px;\n",
              "    }\n",
              "\n",
              "    .colab-df-convert {\n",
              "      background-color: #E8F0FE;\n",
              "      border: none;\n",
              "      border-radius: 50%;\n",
              "      cursor: pointer;\n",
              "      display: none;\n",
              "      fill: #1967D2;\n",
              "      height: 32px;\n",
              "      padding: 0 0 0 0;\n",
              "      width: 32px;\n",
              "    }\n",
              "\n",
              "    .colab-df-convert:hover {\n",
              "      background-color: #E2EBFA;\n",
              "      box-shadow: 0px 1px 2px rgba(60, 64, 67, 0.3), 0px 1px 3px 1px rgba(60, 64, 67, 0.15);\n",
              "      fill: #174EA6;\n",
              "    }\n",
              "\n",
              "    [theme=dark] .colab-df-convert {\n",
              "      background-color: #3B4455;\n",
              "      fill: #D2E3FC;\n",
              "    }\n",
              "\n",
              "    [theme=dark] .colab-df-convert:hover {\n",
              "      background-color: #434B5C;\n",
              "      box-shadow: 0px 1px 3px 1px rgba(0, 0, 0, 0.15);\n",
              "      filter: drop-shadow(0px 1px 2px rgba(0, 0, 0, 0.3));\n",
              "      fill: #FFFFFF;\n",
              "    }\n",
              "  </style>\n",
              "\n",
              "      <script>\n",
              "        const buttonEl =\n",
              "          document.querySelector('#df-20703daf-7494-4097-a813-b6fed0829bbb button.colab-df-convert');\n",
              "        buttonEl.style.display =\n",
              "          google.colab.kernel.accessAllowed ? 'block' : 'none';\n",
              "\n",
              "        async function convertToInteractive(key) {\n",
              "          const element = document.querySelector('#df-20703daf-7494-4097-a813-b6fed0829bbb');\n",
              "          const dataTable =\n",
              "            await google.colab.kernel.invokeFunction('convertToInteractive',\n",
              "                                                     [key], {});\n",
              "          if (!dataTable) return;\n",
              "\n",
              "          const docLinkHtml = 'Like what you see? Visit the ' +\n",
              "            '<a target=\"_blank\" href=https://colab.research.google.com/notebooks/data_table.ipynb>data table notebook</a>'\n",
              "            + ' to learn more about interactive tables.';\n",
              "          element.innerHTML = '';\n",
              "          dataTable['output_type'] = 'display_data';\n",
              "          await google.colab.output.renderOutput(dataTable, element);\n",
              "          const docLink = document.createElement('div');\n",
              "          docLink.innerHTML = docLinkHtml;\n",
              "          element.appendChild(docLink);\n",
              "        }\n",
              "      </script>\n",
              "    </div>\n",
              "  </div>\n",
              "  "
            ]
          },
          "metadata": {},
          "execution_count": 44
        }
      ],
      "source": [
        "dataset_test.head()"
      ]
    },
    {
      "cell_type": "code",
      "execution_count": 45,
      "metadata": {
        "id": "VWaJBHlpYStp"
      },
      "outputs": [],
      "source": [
        "throughput=dataset_test['Throughput']"
      ]
    },
    {
      "cell_type": "code",
      "execution_count": 46,
      "metadata": {
        "id": "5T8AT3AOYdHo"
      },
      "outputs": [],
      "source": [
        "throughput.replace([np.inf, -np.inf], np.nan, inplace=True)\n",
        "throughput.dropna(how=\"all\", inplace=True)"
      ]
    },
    {
      "cell_type": "code",
      "execution_count": 47,
      "metadata": {
        "id": "bQxoFmnaec5W"
      },
      "outputs": [],
      "source": [
        "data=dataset_test[\"Throughput\"].tolist()"
      ]
    },
    {
      "cell_type": "code",
      "execution_count": 48,
      "metadata": {
        "colab": {
          "base_uri": "https://localhost:8080/"
        },
        "id": "Qx7bvbf9yKKu",
        "outputId": "32561481-e0f3-4a24-f3e9-cf7088e4eb90"
      },
      "outputs": [
        {
          "output_type": "stream",
          "name": "stdout",
          "text": [
            "1251\n"
          ]
        }
      ],
      "source": [
        "c=0\n",
        "for i in dataset_test['Throughput']:\n",
        "  if i==1000000000000000:\n",
        "    c=c+1\n",
        "\n",
        "print(c)"
      ]
    },
    {
      "cell_type": "code",
      "execution_count": 49,
      "metadata": {
        "colab": {
          "base_uri": "https://localhost:8080/",
          "height": 276
        },
        "id": "bZ_hIVpeeJKH",
        "outputId": "25d4b6a8-32be-4279-8d20-8b6876d117a2"
      },
      "outputs": [
        {
          "output_type": "display_data",
          "data": {
            "text/plain": [
              "<Figure size 432x288 with 1 Axes>"
            ],
            "image/png": "[encoded data removed]"
          },
          "metadata": {
            "needs_background": "light"
          }
        }
      ],
      "source": [
        "df = pd.DataFrame({\n",
        "      'data': data,\n",
        "      'mean': [mean for i in range(len(data))],\n",
        "      'std': [stdev for i in range(len(data))]})\n",
        "df.plot()\n",
        "plt.show()"
      ]
    },
    {
      "cell_type": "code",
      "execution_count": 50,
      "metadata": {
        "colab": {
          "base_uri": "https://localhost:8080/"
        },
        "id": "GICA8snaZJPa",
        "outputId": "02e861c3-477a-42b5-e147-5ff7548fb3ff"
      },
      "outputs": [
        {
          "output_type": "stream",
          "name": "stderr",
          "text": [
            "<ipython-input-50-4caa7296dcdc>:5: SettingWithCopyWarning: \n",
            "A value is trying to be set on a copy of a slice from a DataFrame\n",
            "\n",
            "See the caveats in the documentation: https://pandas.pydata.org/pandas-docs/stable/user_guide/indexing.html#returning-a-view-versus-a-copy\n",
            "  dataset_test[\"Anomaly\"][i] = -1\n"
          ]
        }
      ],
      "source": [
        "dataset_test[\"Anomaly\"] = 1\n",
        "dataset_test.replace(np.nan,np.inf,inplace=True)\n",
        "for i in range(0,len(dataset_test[\"Total Size\"])):\n",
        "    if(abs(dataset_test[\"Throughput\"][i]-mean)<stdev):\n",
        "        dataset_test[\"Anomaly\"][i] = -1   "
      ]
    },
    {
      "cell_type": "code",
      "execution_count": 51,
      "metadata": {
        "id": "h58zflyvZvgB"
      },
      "outputs": [],
      "source": [
        "from sklearn.metrics import confusion_matrix,precision_score,accuracy_score,f1_score, classification_report\n",
        "import seaborn as sn\n",
        "tn, fp, fn, tp = confusion_matrix(dataset_test[\"Attack\"], dataset_test[\"Anomaly\"]).ravel()\n",
        "precision = precision_score(dataset_test[\"Attack\"], dataset_test[\"Anomaly\"])\n",
        "accuracy = accuracy_score(dataset_test[\"Attack\"], dataset_test[\"Anomaly\"])\n",
        "f1_score = f1_score(dataset_test[\"Attack\"], dataset_test[\"Anomaly\"])"
      ]
    },
    {
      "cell_type": "code",
      "execution_count": 52,
      "metadata": {
        "colab": {
          "base_uri": "https://localhost:8080/",
          "height": 279
        },
        "id": "kqd8JZlKHpPZ",
        "outputId": "45e6b966-5b67-42c7-9eb9-d2c3048ef1f7"
      },
      "outputs": [
        {
          "output_type": "display_data",
          "data": {
            "text/plain": [
              "<Figure size 432x288 with 2 Axes>"
            ],
            "image/png": "[encoded data removed]"
          },
          "metadata": {
            "needs_background": "light"
          }
        }
      ],
      "source": [
        "from sklearn.metrics import ConfusionMatrixDisplay\n",
        "cm=confusion_matrix(dataset_test[\"Attack\"], dataset_test[\"Anomaly\"])\n",
        "disp_poly = ConfusionMatrixDisplay(cm)\n",
        "disp_poly.plot()\n",
        "plt.show()"
      ]
    },
    {
      "cell_type": "code",
      "execution_count": 53,
      "metadata": {
        "colab": {
          "base_uri": "https://localhost:8080/"
        },
        "id": "fFYtSx82aHFR",
        "outputId": "cf65ab97-24df-457e-fe5c-d122e237db47"
      },
      "outputs": [
        {
          "output_type": "execute_result",
          "data": {
            "text/plain": [
              "((25537, 392, 141, 859),\n",
              " 0.6866506794564349,\n",
              " 0.9802072115563147,\n",
              " 0.763216348289649)"
            ]
          },
          "metadata": {},
          "execution_count": 53
        }
      ],
      "source": [
        "(tn, fp, fn, tp),precision,accuracy,f1_score"
      ]
    },
    {
      "cell_type": "markdown",
      "metadata": {
        "id": "3xOQy1bT9fzI"
      },
      "source": [
        "## Entropy Based"
      ]
    },
    {
      "cell_type": "code",
      "execution_count": 54,
      "metadata": {
        "id": "FSuvlhLDdMe3"
      },
      "outputs": [],
      "source": [
        "import scipy.stats\n",
        "def entropy_calc(data):\n",
        "    p_data = data.value_counts()           \n",
        "    entropy = scipy.stats.entropy(p_data)  \n",
        "    return entropy"
      ]
    },
    {
      "cell_type": "code",
      "execution_count": 55,
      "metadata": {
        "colab": {
          "base_uri": "https://localhost:8080/"
        },
        "id": "EaQikSfrbBbO",
        "outputId": "65a007cf-1c83-4578-b779-8a1600e0b38a"
      },
      "outputs": [
        {
          "output_type": "stream",
          "name": "stderr",
          "text": [
            "<ipython-input-55-99b041f0ca6a>:3: SettingWithCopyWarning: \n",
            "A value is trying to be set on a copy of a slice from a DataFrame\n",
            "\n",
            "See the caveats in the documentation: https://pandas.pydata.org/pandas-docs/stable/user_guide/indexing.html#returning-a-view-versus-a-copy\n",
            "  dataset_test[\"Entropy Remote Port\"][i] = entropy_calc(dataset_test[\"Remote Port\"][:i+1])\n"
          ]
        }
      ],
      "source": [
        "dataset_test[\"Entropy Remote Port\"] = 0.0\n",
        "for i in range(0,len(dataset_test)):\n",
        "  dataset_test[\"Entropy Remote Port\"][i] = entropy_calc(dataset_test[\"Remote Port\"][:i+1])"
      ]
    },
    {
      "cell_type": "code",
      "execution_count": 56,
      "metadata": {
        "colab": {
          "base_uri": "https://localhost:8080/",
          "height": 354
        },
        "id": "xZcCXELAckXa",
        "outputId": "0e1ae685-6774-4f5f-9c54-c78b29228939"
      },
      "outputs": [
        {
          "output_type": "execute_result",
          "data": {
            "text/plain": [
              "      Protocol   Local Address   Remote Address  Local Port  Remote Port  \\\n",
              "10142      TCP   192.168.29.50    20.44.229.112     51533.0        443.0   \n",
              "12885      UDP  192.168.29.184  239.255.255.250     42205.0       1900.0   \n",
              "21657      TCP   192.168.29.50     13.35.238.22     61230.0        443.0   \n",
              "12887      UDP  192.168.29.184  239.255.255.250     37021.0       1900.0   \n",
              "21656      UDP  192.168.29.184  239.255.255.250     38628.0       1900.0   \n",
              "\n",
              "       Packets     Data Size    Total Size  Data Speed Duration  Attack  \\\n",
              "10142       38  18,855 Bytes  20,602 Bytes  0.2 KB/Sec  01:19.6      -1   \n",
              "12885        2     633 Bytes   1,057 Bytes  0.0 KB/Sec  11:00.2      -1   \n",
              "21657       46   3,044 Bytes   5,501 Bytes  0.0 KB/Sec  04:00.1      -1   \n",
              "12887        2     641 Bytes   1,073 Bytes  0.0 KB/Sec  49:59.7      -1   \n",
              "21656        2     678 Bytes   1,100 Bytes  0.0 KB/Sec  53:00.5      -1   \n",
              "\n",
              "       Throughput  Duration in seconds  Anomaly  Entropy Remote Port  \n",
              "10142           0                   79       -1             1.131007  \n",
              "12885           0                  660       -1             1.190211  \n",
              "21657           0                  240       -1             1.204652  \n",
              "12887           0                 2999       -1             1.190330  \n",
              "21656           0                 3180       -1             1.204664  "
            ],
            "text/html": [
              "\n",
              "  <div id=\"df-f2c2adc1-e6cd-47b0-ab53-6ea5534e34c6\">\n",
              "    <div class=\"colab-df-container\">\n",
              "      <div>\n",
              "<style scoped>\n",
              "    .dataframe tbody tr th:only-of-type {\n",
              "        vertical-align: middle;\n",
              "    }\n",
              "\n",
              "    .dataframe tbody tr th {\n",
              "        vertical-align: top;\n",
              "    }\n",
              "\n",
              "    .dataframe thead th {\n",
              "        text-align: right;\n",
              "    }\n",
              "</style>\n",
              "<table border=\"1\" class=\"dataframe\">\n",
              "  <thead>\n",
              "    <tr style=\"text-align: right;\">\n",
              "      <th></th>\n",
              "      <th>Protocol</th>\n",
              "      <th>Local Address</th>\n",
              "      <th>Remote Address</th>\n",
              "      <th>Local Port</th>\n",
              "      <th>Remote Port</th>\n",
              "      <th>Packets</th>\n",
              "      <th>Data Size</th>\n",
              "      <th>Total Size</th>\n",
              "      <th>Data Speed</th>\n",
              "      <th>Duration</th>\n",
              "      <th>Attack</th>\n",
              "      <th>Throughput</th>\n",
              "      <th>Duration in seconds</th>\n",
              "      <th>Anomaly</th>\n",
              "      <th>Entropy Remote Port</th>\n",
              "    </tr>\n",
              "  </thead>\n",
              "  <tbody>\n",
              "    <tr>\n",
              "      <th>10142</th>\n",
              "      <td>TCP</td>\n",
              "      <td>192.168.29.50</td>\n",
              "      <td>20.44.229.112</td>\n",
              "      <td>51533.0</td>\n",
              "      <td>443.0</td>\n",
              "      <td>38</td>\n",
              "      <td>18,855 Bytes</td>\n",
              "      <td>20,602 Bytes</td>\n",
              "      <td>0.2 KB/Sec</td>\n",
              "      <td>01:19.6</td>\n",
              "      <td>-1</td>\n",
              "      <td>0</td>\n",
              "      <td>79</td>\n",
              "      <td>-1</td>\n",
              "      <td>1.131007</td>\n",
              "    </tr>\n",
              "    <tr>\n",
              "      <th>12885</th>\n",
              "      <td>UDP</td>\n",
              "      <td>192.168.29.184</td>\n",
              "      <td>239.255.255.250</td>\n",
              "      <td>42205.0</td>\n",
              "      <td>1900.0</td>\n",
              "      <td>2</td>\n",
              "      <td>633 Bytes</td>\n",
              "      <td>1,057 Bytes</td>\n",
              "      <td>0.0 KB/Sec</td>\n",
              "      <td>11:00.2</td>\n",
              "      <td>-1</td>\n",
              "      <td>0</td>\n",
              "      <td>660</td>\n",
              "      <td>-1</td>\n",
              "      <td>1.190211</td>\n",
              "    </tr>\n",
              "    <tr>\n",
              "      <th>21657</th>\n",
              "      <td>TCP</td>\n",
              "      <td>192.168.29.50</td>\n",
              "      <td>13.35.238.22</td>\n",
              "      <td>61230.0</td>\n",
              "      <td>443.0</td>\n",
              "      <td>46</td>\n",
              "      <td>3,044 Bytes</td>\n",
              "      <td>5,501 Bytes</td>\n",
              "      <td>0.0 KB/Sec</td>\n",
              "      <td>04:00.1</td>\n",
              "      <td>-1</td>\n",
              "      <td>0</td>\n",
              "      <td>240</td>\n",
              "      <td>-1</td>\n",
              "      <td>1.204652</td>\n",
              "    </tr>\n",
              "    <tr>\n",
              "      <th>12887</th>\n",
              "      <td>UDP</td>\n",
              "      <td>192.168.29.184</td>\n",
              "      <td>239.255.255.250</td>\n",
              "      <td>37021.0</td>\n",
              "      <td>1900.0</td>\n",
              "      <td>2</td>\n",
              "      <td>641 Bytes</td>\n",
              "      <td>1,073 Bytes</td>\n",
              "      <td>0.0 KB/Sec</td>\n",
              "      <td>49:59.7</td>\n",
              "      <td>-1</td>\n",
              "      <td>0</td>\n",
              "      <td>2999</td>\n",
              "      <td>-1</td>\n",
              "      <td>1.190330</td>\n",
              "    </tr>\n",
              "    <tr>\n",
              "      <th>21656</th>\n",
              "      <td>UDP</td>\n",
              "      <td>192.168.29.184</td>\n",
              "      <td>239.255.255.250</td>\n",
              "      <td>38628.0</td>\n",
              "      <td>1900.0</td>\n",
              "      <td>2</td>\n",
              "      <td>678 Bytes</td>\n",
              "      <td>1,100 Bytes</td>\n",
              "      <td>0.0 KB/Sec</td>\n",
              "      <td>53:00.5</td>\n",
              "      <td>-1</td>\n",
              "      <td>0</td>\n",
              "      <td>3180</td>\n",
              "      <td>-1</td>\n",
              "      <td>1.204664</td>\n",
              "    </tr>\n",
              "  </tbody>\n",
              "</table>\n",
              "</div>\n",
              "      <button class=\"colab-df-convert\" onclick=\"convertToInteractive('df-f2c2adc1-e6cd-47b0-ab53-6ea5534e34c6')\"\n",
              "              title=\"Convert this dataframe to an interactive table.\"\n",
              "              style=\"display:none;\">\n",
              "        \n",
              "  <svg xmlns=\"http://www.w3.org/2000/svg\" height=\"24px\"viewBox=\"0 0 24 24\"\n",
              "       width=\"24px\">\n",
              "    <path d=\"M0 0h24v24H0V0z\" fill=\"none\"/>\n",
              "    <path d=\"M18.56 5.44l.94 2.06.94-2.06 2.06-.94-2.06-.94-.94-2.06-.94 2.06-2.06.94zm-11 1L8.5 8.5l.94-2.06 2.06-.94-2.06-.94L8.5 2.5l-.94 2.06-2.06.94zm10 10l.94 2.06.94-2.06 2.06-.94-2.06-.94-.94-2.06-.94 2.06-2.06.94z\"/><path d=\"M17.41 7.96l-1.37-1.37c-.4-.4-.92-.59-1.43-.59-.52 0-1.04.2-1.43.59L10.3 9.45l-7.72 7.72c-.78.78-.78 2.05 0 2.83L4 21.41c.39.39.9.59 1.41.59.51 0 1.02-.2 1.41-.59l7.78-7.78 2.81-2.81c.8-.78.8-2.07 0-2.86zM5.41 20L4 18.59l7.72-7.72 1.47 1.35L5.41 20z\"/>\n",
              "  </svg>\n",
              "      </button>\n",
              "      \n",
              "  <style>\n",
              "    .colab-df-container {\n",
              "      display:flex;\n",
              "      flex-wrap:wrap;\n",
              "      gap: 12px;\n",
              "    }\n",
              "\n",
              "    .colab-df-convert {\n",
              "      background-color: #E8F0FE;\n",
              "      border: none;\n",
              "      border-radius: 50%;\n",
              "      cursor: pointer;\n",
              "      display: none;\n",
              "      fill: #1967D2;\n",
              "      height: 32px;\n",
              "      padding: 0 0 0 0;\n",
              "      width: 32px;\n",
              "    }\n",
              "\n",
              "    .colab-df-convert:hover {\n",
              "      background-color: #E2EBFA;\n",
              "      box-shadow: 0px 1px 2px rgba(60, 64, 67, 0.3), 0px 1px 3px 1px rgba(60, 64, 67, 0.15);\n",
              "      fill: #174EA6;\n",
              "    }\n",
              "\n",
              "    [theme=dark] .colab-df-convert {\n",
              "      background-color: #3B4455;\n",
              "      fill: #D2E3FC;\n",
              "    }\n",
              "\n",
              "    [theme=dark] .colab-df-convert:hover {\n",
              "      background-color: #434B5C;\n",
              "      box-shadow: 0px 1px 3px 1px rgba(0, 0, 0, 0.15);\n",
              "      filter: drop-shadow(0px 1px 2px rgba(0, 0, 0, 0.3));\n",
              "      fill: #FFFFFF;\n",
              "    }\n",
              "  </style>\n",
              "\n",
              "      <script>\n",
              "        const buttonEl =\n",
              "          document.querySelector('#df-f2c2adc1-e6cd-47b0-ab53-6ea5534e34c6 button.colab-df-convert');\n",
              "        buttonEl.style.display =\n",
              "          google.colab.kernel.accessAllowed ? 'block' : 'none';\n",
              "\n",
              "        async function convertToInteractive(key) {\n",
              "          const element = document.querySelector('#df-f2c2adc1-e6cd-47b0-ab53-6ea5534e34c6');\n",
              "          const dataTable =\n",
              "            await google.colab.kernel.invokeFunction('convertToInteractive',\n",
              "                                                     [key], {});\n",
              "          if (!dataTable) return;\n",
              "\n",
              "          const docLinkHtml = 'Like what you see? Visit the ' +\n",
              "            '<a target=\"_blank\" href=https://colab.research.google.com/notebooks/data_table.ipynb>data table notebook</a>'\n",
              "            + ' to learn more about interactive tables.';\n",
              "          element.innerHTML = '';\n",
              "          dataTable['output_type'] = 'display_data';\n",
              "          await google.colab.output.renderOutput(dataTable, element);\n",
              "          const docLink = document.createElement('div');\n",
              "          docLink.innerHTML = docLinkHtml;\n",
              "          element.appendChild(docLink);\n",
              "        }\n",
              "      </script>\n",
              "    </div>\n",
              "  </div>\n",
              "  "
            ]
          },
          "metadata": {},
          "execution_count": 56
        }
      ],
      "source": [
        "dataset_test.head()"
      ]
    },
    {
      "cell_type": "code",
      "execution_count": 57,
      "metadata": {
        "colab": {
          "base_uri": "https://localhost:8080/"
        },
        "id": "dnFYhCc3krXL",
        "outputId": "aca8fd9b-d917-4fd3-a639-0f39f18e6cb5"
      },
      "outputs": [
        {
          "output_type": "stream",
          "name": "stderr",
          "text": [
            "<ipython-input-57-d8192ffc375e>:5: SettingWithCopyWarning: \n",
            "A value is trying to be set on a copy of a slice from a DataFrame\n",
            "\n",
            "See the caveats in the documentation: https://pandas.pydata.org/pandas-docs/stable/user_guide/indexing.html#returning-a-view-versus-a-copy\n",
            "  dataset_test[\"Anomaly Remote Port Entropy Based\"][i] = 1\n"
          ]
        }
      ],
      "source": [
        "dataset_test[\"Anomaly Remote Port Entropy Based\"] = -1\n",
        "check_port = dataset_test[\"Entropy Remote Port\"][0]\n",
        "for i in range(0,len(dataset_test)):\n",
        "    if (dataset_test[\"Entropy Remote Port\"][i]>=check_port) and (dataset_test['Throughput'][i] >mean):\n",
        "        dataset_test[\"Anomaly Remote Port Entropy Based\"][i] = 1\n",
        "    check_port=dataset_test[\"Entropy Remote Port\"][i]"
      ]
    },
    {
      "cell_type": "code",
      "execution_count": 58,
      "metadata": {
        "id": "P84vPtCTjrxY"
      },
      "outputs": [],
      "source": [
        "dataset_test.to_csv('FYP Dataset/file.csv', header=True, index=False)"
      ]
    },
    {
      "cell_type": "code",
      "execution_count": 59,
      "metadata": {
        "colab": {
          "base_uri": "https://localhost:8080/"
        },
        "id": "KqdiGP0T_hbb",
        "outputId": "ec9feed2-e892-46b1-8d66-7138132aa822"
      },
      "outputs": [
        {
          "output_type": "execute_result",
          "data": {
            "text/plain": [
              "((25878, 51, 216, 784),\n",
              " 0.9389221556886228,\n",
              " 0.9900850384344015,\n",
              " 0.8544959128065396)"
            ]
          },
          "metadata": {},
          "execution_count": 59
        }
      ],
      "source": [
        "from sklearn.metrics import confusion_matrix,precision_score,accuracy_score,f1_score, classification_report\n",
        "tn, fp, fn, tp = confusion_matrix(dataset_test[\"Attack\"], dataset_test[\"Anomaly Remote Port Entropy Based\"]).ravel()\n",
        "precision = precision_score(dataset_test[\"Attack\"], dataset_test[\"Anomaly Remote Port Entropy Based\"])\n",
        "accuracy = accuracy_score(dataset_test[\"Attack\"], dataset_test[\"Anomaly Remote Port Entropy Based\"])\n",
        "f1_score = f1_score(dataset_test[\"Attack\"], dataset_test[\"Anomaly Remote Port Entropy Based\"])\n",
        "(tn,fp,fn,tp), precision, accuracy, f1_score"
      ]
    },
    {
      "cell_type": "code",
      "execution_count": 60,
      "metadata": {
        "colab": {
          "base_uri": "https://localhost:8080/"
        },
        "id": "csvNdwyifyes",
        "outputId": "8040b192-d3b3-4e77-c591-75385b8cbde6"
      },
      "outputs": [
        {
          "output_type": "stream",
          "name": "stderr",
          "text": [
            "<ipython-input-60-8752eabf6d76>:3: SettingWithCopyWarning: \n",
            "A value is trying to be set on a copy of a slice from a DataFrame\n",
            "\n",
            "See the caveats in the documentation: https://pandas.pydata.org/pandas-docs/stable/user_guide/indexing.html#returning-a-view-versus-a-copy\n",
            "  dataset_test[\"Entropy Throughput\"][i] = entropy_calc(dataset_test[\"Throughput\"][:i+1])\n"
          ]
        }
      ],
      "source": [
        "dataset_test[\"Entropy Throughput\"] = 0.0\n",
        "for i in range(0,len(dataset_test)):\n",
        "  dataset_test[\"Entropy Throughput\"][i] = entropy_calc(dataset_test[\"Throughput\"][:i+1])"
      ]
    },
    {
      "cell_type": "code",
      "execution_count": 61,
      "metadata": {
        "colab": {
          "base_uri": "https://localhost:8080/"
        },
        "id": "TeQxdT8X8SBY",
        "outputId": "07d9c9e5-380b-4b06-ed09-b9b08270d99a"
      },
      "outputs": [
        {
          "output_type": "stream",
          "name": "stderr",
          "text": [
            "<ipython-input-61-945067488720>:5: SettingWithCopyWarning: \n",
            "A value is trying to be set on a copy of a slice from a DataFrame\n",
            "\n",
            "See the caveats in the documentation: https://pandas.pydata.org/pandas-docs/stable/user_guide/indexing.html#returning-a-view-versus-a-copy\n",
            "  dataset_test[\"Anomaly Throughput Entropy Based\"][i] = 1\n"
          ]
        }
      ],
      "source": [
        "dataset_test[\"Anomaly Throughput Entropy Based\"] = -1\n",
        "check_throughput = dataset_test[\"Entropy Throughput\"][0]\n",
        "for i in range(0,len(dataset_test)):\n",
        "    if (dataset_test[\"Entropy Throughput\"][i]>=check_throughput) and (dataset_test['Throughput'][i] >mean):\n",
        "        dataset_test[\"Anomaly Throughput Entropy Based\"][i] = 1\n",
        "    check_throughput=dataset_test[\"Entropy Throughput\"][i]"
      ]
    },
    {
      "cell_type": "code",
      "execution_count": 62,
      "metadata": {
        "colab": {
          "base_uri": "https://localhost:8080/"
        },
        "id": "QysQTVoK8eRm",
        "outputId": "fe50716b-9bf7-4148-9248-0f441d65a331"
      },
      "outputs": [
        {
          "output_type": "execute_result",
          "data": {
            "text/plain": [
              "((25537, 392, 141, 859),\n",
              " 0.6866506794564349,\n",
              " 0.9802072115563147,\n",
              " 0.763216348289649)"
            ]
          },
          "metadata": {},
          "execution_count": 62
        }
      ],
      "source": [
        "from sklearn.metrics import confusion_matrix,precision_score,accuracy_score,f1_score, classification_report\n",
        "tn, fp, fn, tp = confusion_matrix(dataset_test[\"Attack\"], dataset_test[\"Anomaly Throughput Entropy Based\"]).ravel()\n",
        "precision = precision_score(dataset_test[\"Attack\"], dataset_test[\"Anomaly Throughput Entropy Based\"])\n",
        "accuracy = accuracy_score(dataset_test[\"Attack\"], dataset_test[\"Anomaly Throughput Entropy Based\"])\n",
        "f1_score = f1_score(dataset_test[\"Attack\"], dataset_test[\"Anomaly Throughput Entropy Based\"])\n",
        "(tn,fp,fn,tp), precision, accuracy, f1_score"
      ]
    }
  ],
  "metadata": {
    "colab": {
      "provenance": []
    },
    "kernelspec": {
      "display_name": "Python 3",
      "name": "python3"
    },
    "language_info": {
      "name": "python"
    }
  },
  "nbformat": 4,
  "nbformat_minor": 0
}
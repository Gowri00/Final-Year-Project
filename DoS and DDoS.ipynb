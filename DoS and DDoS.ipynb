{
 "cells": [
  {
   "cell_type": "code",
   "execution_count": 544,
   "metadata": {},
   "outputs": [],
   "source": [
    "import pandas as pd\n",
    "import matplotlib.pyplot as plt\n",
    "import string\n",
    "import numpy as np\n",
    "from datetime import datetime\n",
    "import time\n",
    "import scipy\n",
    "from math import e\n",
    "df_attack_test = pd.read_csv(\"Dataset/DDosAttack.csv\")\n",
    "df_idle = pd.read_csv(\"Dataset/IdleSystem.csv\")\n",
    "df_working = pd.read_csv(\"Dataset/WorkingSystem.csv\")\n",
    "df_attack = pd.read_csv(\"Dataset/Dos_10k.csv\")"
   ]
  },
  {
   "cell_type": "code",
   "execution_count": 545,
   "metadata": {},
   "outputs": [],
   "source": [
    "# DDoS dataset\n",
    "df_ddos_g = pd.read_csv(\"Dataset/DDos Gowri.csv\")\n",
    "df_ddos_m = pd.read_csv(\"Dataset/DDos Mukesh.csv\")\n",
    "df_ddos_l = pd.read_csv(\"Dataset/DDos Likhita.csv\")\n",
    "df_ddos_s = pd.read_csv(\"Dataset/DDos Sumedha.csv\")\n",
    "df_ddos_attack = pd.concat([df_ddos_g,df_ddos_m,df_ddos_l,df_ddos_s])"
   ]
  },
  {
   "cell_type": "code",
   "execution_count": 547,
   "metadata": {},
   "outputs": [],
   "source": [
    "# df_ddos_attack"
   ]
  },
  {
   "cell_type": "markdown",
   "metadata": {},
   "source": [
    "# Notes: "
   ]
  },
  {
   "cell_type": "raw",
   "metadata": {},
   "source": [
    "* Idle system : \n",
    "    total packets : 151781\n",
    "    duration : 20394\n",
    "* working system : \n",
    "    total packets : 168034\n",
    "    duration : 25019\n",
    "* system under attack : \n",
    "    total packets : 8606\n",
    "    duration : 30\n",
    "    "
   ]
  },
  {
   "cell_type": "code",
   "execution_count": 548,
   "metadata": {},
   "outputs": [
    {
     "data": {
      "text/html": [
       "<div>\n",
       "<style scoped>\n",
       "    .dataframe tbody tr th:only-of-type {\n",
       "        vertical-align: middle;\n",
       "    }\n",
       "\n",
       "    .dataframe tbody tr th {\n",
       "        vertical-align: top;\n",
       "    }\n",
       "\n",
       "    .dataframe thead th {\n",
       "        text-align: right;\n",
       "    }\n",
       "</style>\n",
       "<table border=\"1\" class=\"dataframe\">\n",
       "  <thead>\n",
       "    <tr style=\"text-align: right;\">\n",
       "      <th></th>\n",
       "      <th>Index</th>\n",
       "      <th>Protocol</th>\n",
       "      <th>Local Address</th>\n",
       "      <th>Remote Address</th>\n",
       "      <th>Local Port</th>\n",
       "      <th>Remote Port</th>\n",
       "      <th>Local Host</th>\n",
       "      <th>Remote Host</th>\n",
       "      <th>Service Name</th>\n",
       "      <th>Packets</th>\n",
       "      <th>Data Size</th>\n",
       "      <th>Total Size</th>\n",
       "      <th>Data Speed</th>\n",
       "      <th>Capture Time</th>\n",
       "      <th>Last Packet Time</th>\n",
       "      <th>Duration</th>\n",
       "      <th>Attack</th>\n",
       "    </tr>\n",
       "  </thead>\n",
       "  <tbody>\n",
       "    <tr>\n",
       "      <td>0</td>\n",
       "      <td>1</td>\n",
       "      <td>TCP</td>\n",
       "      <td>10.0.2.15</td>\n",
       "      <td>41.63.105.0</td>\n",
       "      <td>49699.0</td>\n",
       "      <td>80.0</td>\n",
       "      <td>NaN</td>\n",
       "      <td>https-41-63-105-0.hyd.llnw.net</td>\n",
       "      <td>http</td>\n",
       "      <td>214</td>\n",
       "      <td>257,800 Bytes</td>\n",
       "      <td>267,860 Bytes</td>\n",
       "      <td>3227.7 KB/Sec</td>\n",
       "      <td>10/25/2022 8:39:11 AM:097</td>\n",
       "      <td>10/25/2022 8:39:43 AM:672</td>\n",
       "      <td>00:32.6</td>\n",
       "      <td>-1</td>\n",
       "    </tr>\n",
       "    <tr>\n",
       "      <td>1</td>\n",
       "      <td>2</td>\n",
       "      <td>TCP</td>\n",
       "      <td>10.0.2.15</td>\n",
       "      <td>41.63.105.128</td>\n",
       "      <td>49709.0</td>\n",
       "      <td>80.0</td>\n",
       "      <td>NaN</td>\n",
       "      <td>https-41-63-105-128.hyd.llnw.net</td>\n",
       "      <td>http</td>\n",
       "      <td>36</td>\n",
       "      <td>32,122 Bytes</td>\n",
       "      <td>33,603 Bytes</td>\n",
       "      <td>667.4 KB/Sec</td>\n",
       "      <td>10/25/2022 8:39:12 AM:160</td>\n",
       "      <td>10/25/2022 8:39:25 AM:176</td>\n",
       "      <td>00:13.0</td>\n",
       "      <td>-1</td>\n",
       "    </tr>\n",
       "    <tr>\n",
       "      <td>2</td>\n",
       "      <td>3</td>\n",
       "      <td>TCP</td>\n",
       "      <td>10.0.2.15</td>\n",
       "      <td>41.63.105.128</td>\n",
       "      <td>49698.0</td>\n",
       "      <td>80.0</td>\n",
       "      <td>NaN</td>\n",
       "      <td>https-41-63-105-128.hyd.llnw.net</td>\n",
       "      <td>http</td>\n",
       "      <td>298</td>\n",
       "      <td>365,003 Bytes</td>\n",
       "      <td>376,964 Bytes</td>\n",
       "      <td>5749.2 KB/Sec</td>\n",
       "      <td>10/25/2022 8:39:12 AM:160</td>\n",
       "      <td>10/25/2022 8:39:38 AM:362</td>\n",
       "      <td>00:26.2</td>\n",
       "      <td>-1</td>\n",
       "    </tr>\n",
       "    <tr>\n",
       "      <td>3</td>\n",
       "      <td>4</td>\n",
       "      <td>TCP</td>\n",
       "      <td>10.0.2.15</td>\n",
       "      <td>117.18.232.240</td>\n",
       "      <td>49696.0</td>\n",
       "      <td>80.0</td>\n",
       "      <td>NaN</td>\n",
       "      <td>NaN</td>\n",
       "      <td>http</td>\n",
       "      <td>114</td>\n",
       "      <td>131,402 Bytes</td>\n",
       "      <td>136,003 Bytes</td>\n",
       "      <td>2069.7 KB/Sec</td>\n",
       "      <td>10/25/2022 8:39:12 AM:176</td>\n",
       "      <td>10/25/2022 8:39:30 AM:012</td>\n",
       "      <td>00:17.8</td>\n",
       "      <td>-1</td>\n",
       "    </tr>\n",
       "    <tr>\n",
       "      <td>4</td>\n",
       "      <td>5</td>\n",
       "      <td>TCP</td>\n",
       "      <td>10.0.2.15</td>\n",
       "      <td>41.63.105.128</td>\n",
       "      <td>49694.0</td>\n",
       "      <td>80.0</td>\n",
       "      <td>NaN</td>\n",
       "      <td>https-41-63-105-128.hyd.llnw.net</td>\n",
       "      <td>http</td>\n",
       "      <td>4</td>\n",
       "      <td>1,461 Bytes</td>\n",
       "      <td>1,662 Bytes</td>\n",
       "      <td>NaN</td>\n",
       "      <td>10/25/2022 8:39:12 AM:176</td>\n",
       "      <td>10/25/2022 8:39:13 AM:332</td>\n",
       "      <td>00:01.2</td>\n",
       "      <td>-1</td>\n",
       "    </tr>\n",
       "    <tr>\n",
       "      <td>...</td>\n",
       "      <td>...</td>\n",
       "      <td>...</td>\n",
       "      <td>...</td>\n",
       "      <td>...</td>\n",
       "      <td>...</td>\n",
       "      <td>...</td>\n",
       "      <td>...</td>\n",
       "      <td>...</td>\n",
       "      <td>...</td>\n",
       "      <td>...</td>\n",
       "      <td>...</td>\n",
       "      <td>...</td>\n",
       "      <td>...</td>\n",
       "      <td>...</td>\n",
       "      <td>...</td>\n",
       "      <td>...</td>\n",
       "      <td>...</td>\n",
       "    </tr>\n",
       "    <tr>\n",
       "      <td>562</td>\n",
       "      <td>563</td>\n",
       "      <td>UDP</td>\n",
       "      <td>10.0.2.15</td>\n",
       "      <td>239.255.255.250</td>\n",
       "      <td>58540.0</td>\n",
       "      <td>1900.0</td>\n",
       "      <td>NaN</td>\n",
       "      <td>NaN</td>\n",
       "      <td>ssdp</td>\n",
       "      <td>8</td>\n",
       "      <td>1,400 Bytes</td>\n",
       "      <td>1,827 Bytes</td>\n",
       "      <td>29.1 KB/Sec</td>\n",
       "      <td>10/25/2022 8:57:04 AM:431</td>\n",
       "      <td>10/25/2022 8:57:07 AM:742</td>\n",
       "      <td>00:03.3</td>\n",
       "      <td>-1</td>\n",
       "    </tr>\n",
       "    <tr>\n",
       "      <td>563</td>\n",
       "      <td>564</td>\n",
       "      <td>UDP</td>\n",
       "      <td>10.0.2.15</td>\n",
       "      <td>192.168.0.1</td>\n",
       "      <td>52927.0</td>\n",
       "      <td>53.0</td>\n",
       "      <td>NaN</td>\n",
       "      <td>NaN</td>\n",
       "      <td>domain</td>\n",
       "      <td>2</td>\n",
       "      <td>217 Bytes</td>\n",
       "      <td>354 Bytes</td>\n",
       "      <td>NaN</td>\n",
       "      <td>10/25/2022 8:57:06 AM:337</td>\n",
       "      <td>10/25/2022 8:57:06 AM:337</td>\n",
       "      <td>00:00.0</td>\n",
       "      <td>-1</td>\n",
       "    </tr>\n",
       "    <tr>\n",
       "      <td>564</td>\n",
       "      <td>565</td>\n",
       "      <td>TCP</td>\n",
       "      <td>10.0.2.15</td>\n",
       "      <td>104.120.154.29</td>\n",
       "      <td>50119.0</td>\n",
       "      <td>443.0</td>\n",
       "      <td>NaN</td>\n",
       "      <td>a104-120-154-29.deploy.static.akamaitechnologi...</td>\n",
       "      <td>https</td>\n",
       "      <td>17</td>\n",
       "      <td>7,166 Bytes</td>\n",
       "      <td>8,106 Bytes</td>\n",
       "      <td>466.5 KB/Sec</td>\n",
       "      <td>10/25/2022 8:57:06 AM:415</td>\n",
       "      <td>10/25/2022 8:57:07 AM:086</td>\n",
       "      <td>00:00.7</td>\n",
       "      <td>-1</td>\n",
       "    </tr>\n",
       "    <tr>\n",
       "      <td>565</td>\n",
       "      <td>566</td>\n",
       "      <td>TCP</td>\n",
       "      <td>10.0.2.15</td>\n",
       "      <td>41.63.105.128</td>\n",
       "      <td>50120.0</td>\n",
       "      <td>80.0</td>\n",
       "      <td>NaN</td>\n",
       "      <td>https-41-63-105-128.hyd.llnw.net</td>\n",
       "      <td>http</td>\n",
       "      <td>1,081</td>\n",
       "      <td>1,051,576 Bytes</td>\n",
       "      <td>1,095,283 Bytes</td>\n",
       "      <td>5462.4 KB/Sec</td>\n",
       "      <td>10/25/2022 8:57:07 AM:279</td>\n",
       "      <td>10/25/2022 8:57:15 AM:571</td>\n",
       "      <td>00:08.3</td>\n",
       "      <td>-1</td>\n",
       "    </tr>\n",
       "    <tr>\n",
       "      <td>566</td>\n",
       "      <td>567</td>\n",
       "      <td>TCP</td>\n",
       "      <td>10.0.2.15</td>\n",
       "      <td>41.63.105.0</td>\n",
       "      <td>50121.0</td>\n",
       "      <td>80.0</td>\n",
       "      <td>NaN</td>\n",
       "      <td>https-41-63-105-0.hyd.llnw.net</td>\n",
       "      <td>http</td>\n",
       "      <td>4</td>\n",
       "      <td>1,485 Bytes</td>\n",
       "      <td>2,112 Bytes</td>\n",
       "      <td>NaN</td>\n",
       "      <td>10/25/2022 8:57:07 AM:336</td>\n",
       "      <td>10/25/2022 8:57:07 AM:493</td>\n",
       "      <td>00:00.2</td>\n",
       "      <td>-1</td>\n",
       "    </tr>\n",
       "  </tbody>\n",
       "</table>\n",
       "<p>24842 rows × 17 columns</p>\n",
       "</div>"
      ],
      "text/plain": [
       "     Index Protocol Local Address   Remote Address  Local Port  Remote Port  \\\n",
       "0        1      TCP     10.0.2.15      41.63.105.0     49699.0         80.0   \n",
       "1        2      TCP     10.0.2.15    41.63.105.128     49709.0         80.0   \n",
       "2        3      TCP     10.0.2.15    41.63.105.128     49698.0         80.0   \n",
       "3        4      TCP     10.0.2.15   117.18.232.240     49696.0         80.0   \n",
       "4        5      TCP     10.0.2.15    41.63.105.128     49694.0         80.0   \n",
       "..     ...      ...           ...              ...         ...          ...   \n",
       "562    563      UDP     10.0.2.15  239.255.255.250     58540.0       1900.0   \n",
       "563    564      UDP     10.0.2.15      192.168.0.1     52927.0         53.0   \n",
       "564    565      TCP     10.0.2.15   104.120.154.29     50119.0        443.0   \n",
       "565    566      TCP     10.0.2.15    41.63.105.128     50120.0         80.0   \n",
       "566    567      TCP     10.0.2.15      41.63.105.0     50121.0         80.0   \n",
       "\n",
       "    Local Host                                        Remote Host  \\\n",
       "0          NaN                     https-41-63-105-0.hyd.llnw.net   \n",
       "1          NaN                   https-41-63-105-128.hyd.llnw.net   \n",
       "2          NaN                   https-41-63-105-128.hyd.llnw.net   \n",
       "3          NaN                                                NaN   \n",
       "4          NaN                   https-41-63-105-128.hyd.llnw.net   \n",
       "..         ...                                                ...   \n",
       "562        NaN                                                NaN   \n",
       "563        NaN                                                NaN   \n",
       "564        NaN  a104-120-154-29.deploy.static.akamaitechnologi...   \n",
       "565        NaN                   https-41-63-105-128.hyd.llnw.net   \n",
       "566        NaN                     https-41-63-105-0.hyd.llnw.net   \n",
       "\n",
       "    Service Name Packets        Data Size       Total Size     Data Speed  \\\n",
       "0           http     214    257,800 Bytes    267,860 Bytes  3227.7 KB/Sec   \n",
       "1           http      36     32,122 Bytes     33,603 Bytes   667.4 KB/Sec   \n",
       "2           http     298    365,003 Bytes    376,964 Bytes  5749.2 KB/Sec   \n",
       "3           http     114    131,402 Bytes    136,003 Bytes  2069.7 KB/Sec   \n",
       "4           http       4      1,461 Bytes      1,662 Bytes            NaN   \n",
       "..           ...     ...              ...              ...            ...   \n",
       "562         ssdp       8      1,400 Bytes      1,827 Bytes    29.1 KB/Sec   \n",
       "563       domain       2        217 Bytes        354 Bytes            NaN   \n",
       "564        https      17      7,166 Bytes      8,106 Bytes   466.5 KB/Sec   \n",
       "565         http   1,081  1,051,576 Bytes  1,095,283 Bytes  5462.4 KB/Sec   \n",
       "566         http       4      1,485 Bytes      2,112 Bytes            NaN   \n",
       "\n",
       "                  Capture Time           Last Packet Time Duration  Attack  \n",
       "0    10/25/2022 8:39:11 AM:097  10/25/2022 8:39:43 AM:672  00:32.6      -1  \n",
       "1    10/25/2022 8:39:12 AM:160  10/25/2022 8:39:25 AM:176  00:13.0      -1  \n",
       "2    10/25/2022 8:39:12 AM:160  10/25/2022 8:39:38 AM:362  00:26.2      -1  \n",
       "3    10/25/2022 8:39:12 AM:176  10/25/2022 8:39:30 AM:012  00:17.8      -1  \n",
       "4    10/25/2022 8:39:12 AM:176  10/25/2022 8:39:13 AM:332  00:01.2      -1  \n",
       "..                         ...                        ...      ...     ...  \n",
       "562  10/25/2022 8:57:04 AM:431  10/25/2022 8:57:07 AM:742  00:03.3      -1  \n",
       "563  10/25/2022 8:57:06 AM:337  10/25/2022 8:57:06 AM:337  00:00.0      -1  \n",
       "564  10/25/2022 8:57:06 AM:415  10/25/2022 8:57:07 AM:086  00:00.7      -1  \n",
       "565  10/25/2022 8:57:07 AM:279  10/25/2022 8:57:15 AM:571  00:08.3      -1  \n",
       "566  10/25/2022 8:57:07 AM:336  10/25/2022 8:57:07 AM:493  00:00.2      -1  \n",
       "\n",
       "[24842 rows x 17 columns]"
      ]
     },
     "execution_count": 548,
     "metadata": {},
     "output_type": "execute_result"
    }
   ],
   "source": [
    "# ls = [df_idle , df_idle , df_attack, df_attack, df_idle, df_idle, df_working, df_idle, df_idle, df_working]\n",
    "df_idle[\"Attack\"] = -1\n",
    "df_working[\"Attack\"] = -1\n",
    "df_attack[\"Attack\"] = 1\n",
    "ls = [df_idle,df_idle, df_attack,df_working,df_working,df_working,df_attack, df_idle,df_idle]\n",
    "df = pd.concat(ls)\n",
    "df"
   ]
  },
  {
   "cell_type": "code",
   "execution_count": 549,
   "metadata": {},
   "outputs": [
    {
     "data": {
      "text/html": [
       "<div>\n",
       "<style scoped>\n",
       "    .dataframe tbody tr th:only-of-type {\n",
       "        vertical-align: middle;\n",
       "    }\n",
       "\n",
       "    .dataframe tbody tr th {\n",
       "        vertical-align: top;\n",
       "    }\n",
       "\n",
       "    .dataframe thead th {\n",
       "        text-align: right;\n",
       "    }\n",
       "</style>\n",
       "<table border=\"1\" class=\"dataframe\">\n",
       "  <thead>\n",
       "    <tr style=\"text-align: right;\">\n",
       "      <th></th>\n",
       "      <th>Protocol</th>\n",
       "      <th>Local Address</th>\n",
       "      <th>Remote Address</th>\n",
       "      <th>Local Port</th>\n",
       "      <th>Remote Port</th>\n",
       "      <th>Service Name</th>\n",
       "      <th>Packets</th>\n",
       "      <th>Data Size</th>\n",
       "      <th>Total Size</th>\n",
       "      <th>Data Speed</th>\n",
       "      <th>Capture Time</th>\n",
       "      <th>Last Packet Time</th>\n",
       "      <th>Duration</th>\n",
       "      <th>Attack</th>\n",
       "    </tr>\n",
       "  </thead>\n",
       "  <tbody>\n",
       "    <tr>\n",
       "      <td>0</td>\n",
       "      <td>TCP</td>\n",
       "      <td>10.0.2.15</td>\n",
       "      <td>41.63.105.0</td>\n",
       "      <td>49699.0</td>\n",
       "      <td>80.0</td>\n",
       "      <td>http</td>\n",
       "      <td>214</td>\n",
       "      <td>257,800 Bytes</td>\n",
       "      <td>267,860 Bytes</td>\n",
       "      <td>3227.7 KB/Sec</td>\n",
       "      <td>10/25/2022 8:39:11 AM:097</td>\n",
       "      <td>10/25/2022 8:39:43 AM:672</td>\n",
       "      <td>00:32.6</td>\n",
       "      <td>-1</td>\n",
       "    </tr>\n",
       "    <tr>\n",
       "      <td>1</td>\n",
       "      <td>TCP</td>\n",
       "      <td>10.0.2.15</td>\n",
       "      <td>41.63.105.128</td>\n",
       "      <td>49709.0</td>\n",
       "      <td>80.0</td>\n",
       "      <td>http</td>\n",
       "      <td>36</td>\n",
       "      <td>32,122 Bytes</td>\n",
       "      <td>33,603 Bytes</td>\n",
       "      <td>667.4 KB/Sec</td>\n",
       "      <td>10/25/2022 8:39:12 AM:160</td>\n",
       "      <td>10/25/2022 8:39:25 AM:176</td>\n",
       "      <td>00:13.0</td>\n",
       "      <td>-1</td>\n",
       "    </tr>\n",
       "    <tr>\n",
       "      <td>2</td>\n",
       "      <td>TCP</td>\n",
       "      <td>10.0.2.15</td>\n",
       "      <td>41.63.105.128</td>\n",
       "      <td>49698.0</td>\n",
       "      <td>80.0</td>\n",
       "      <td>http</td>\n",
       "      <td>298</td>\n",
       "      <td>365,003 Bytes</td>\n",
       "      <td>376,964 Bytes</td>\n",
       "      <td>5749.2 KB/Sec</td>\n",
       "      <td>10/25/2022 8:39:12 AM:160</td>\n",
       "      <td>10/25/2022 8:39:38 AM:362</td>\n",
       "      <td>00:26.2</td>\n",
       "      <td>-1</td>\n",
       "    </tr>\n",
       "    <tr>\n",
       "      <td>3</td>\n",
       "      <td>TCP</td>\n",
       "      <td>10.0.2.15</td>\n",
       "      <td>117.18.232.240</td>\n",
       "      <td>49696.0</td>\n",
       "      <td>80.0</td>\n",
       "      <td>http</td>\n",
       "      <td>114</td>\n",
       "      <td>131,402 Bytes</td>\n",
       "      <td>136,003 Bytes</td>\n",
       "      <td>2069.7 KB/Sec</td>\n",
       "      <td>10/25/2022 8:39:12 AM:176</td>\n",
       "      <td>10/25/2022 8:39:30 AM:012</td>\n",
       "      <td>00:17.8</td>\n",
       "      <td>-1</td>\n",
       "    </tr>\n",
       "    <tr>\n",
       "      <td>4</td>\n",
       "      <td>TCP</td>\n",
       "      <td>10.0.2.15</td>\n",
       "      <td>41.63.105.128</td>\n",
       "      <td>49694.0</td>\n",
       "      <td>80.0</td>\n",
       "      <td>http</td>\n",
       "      <td>4</td>\n",
       "      <td>1,461 Bytes</td>\n",
       "      <td>1,662 Bytes</td>\n",
       "      <td>NaN</td>\n",
       "      <td>10/25/2022 8:39:12 AM:176</td>\n",
       "      <td>10/25/2022 8:39:13 AM:332</td>\n",
       "      <td>00:01.2</td>\n",
       "      <td>-1</td>\n",
       "    </tr>\n",
       "    <tr>\n",
       "      <td>...</td>\n",
       "      <td>...</td>\n",
       "      <td>...</td>\n",
       "      <td>...</td>\n",
       "      <td>...</td>\n",
       "      <td>...</td>\n",
       "      <td>...</td>\n",
       "      <td>...</td>\n",
       "      <td>...</td>\n",
       "      <td>...</td>\n",
       "      <td>...</td>\n",
       "      <td>...</td>\n",
       "      <td>...</td>\n",
       "      <td>...</td>\n",
       "      <td>...</td>\n",
       "    </tr>\n",
       "    <tr>\n",
       "      <td>24837</td>\n",
       "      <td>UDP</td>\n",
       "      <td>10.0.2.15</td>\n",
       "      <td>239.255.255.250</td>\n",
       "      <td>58540.0</td>\n",
       "      <td>1900.0</td>\n",
       "      <td>ssdp</td>\n",
       "      <td>8</td>\n",
       "      <td>1,400 Bytes</td>\n",
       "      <td>1,827 Bytes</td>\n",
       "      <td>29.1 KB/Sec</td>\n",
       "      <td>10/25/2022 8:57:04 AM:431</td>\n",
       "      <td>10/25/2022 8:57:07 AM:742</td>\n",
       "      <td>00:03.3</td>\n",
       "      <td>-1</td>\n",
       "    </tr>\n",
       "    <tr>\n",
       "      <td>24838</td>\n",
       "      <td>UDP</td>\n",
       "      <td>10.0.2.15</td>\n",
       "      <td>192.168.0.1</td>\n",
       "      <td>52927.0</td>\n",
       "      <td>53.0</td>\n",
       "      <td>domain</td>\n",
       "      <td>2</td>\n",
       "      <td>217 Bytes</td>\n",
       "      <td>354 Bytes</td>\n",
       "      <td>NaN</td>\n",
       "      <td>10/25/2022 8:57:06 AM:337</td>\n",
       "      <td>10/25/2022 8:57:06 AM:337</td>\n",
       "      <td>00:00.0</td>\n",
       "      <td>-1</td>\n",
       "    </tr>\n",
       "    <tr>\n",
       "      <td>24839</td>\n",
       "      <td>TCP</td>\n",
       "      <td>10.0.2.15</td>\n",
       "      <td>104.120.154.29</td>\n",
       "      <td>50119.0</td>\n",
       "      <td>443.0</td>\n",
       "      <td>https</td>\n",
       "      <td>17</td>\n",
       "      <td>7,166 Bytes</td>\n",
       "      <td>8,106 Bytes</td>\n",
       "      <td>466.5 KB/Sec</td>\n",
       "      <td>10/25/2022 8:57:06 AM:415</td>\n",
       "      <td>10/25/2022 8:57:07 AM:086</td>\n",
       "      <td>00:00.7</td>\n",
       "      <td>-1</td>\n",
       "    </tr>\n",
       "    <tr>\n",
       "      <td>24840</td>\n",
       "      <td>TCP</td>\n",
       "      <td>10.0.2.15</td>\n",
       "      <td>41.63.105.128</td>\n",
       "      <td>50120.0</td>\n",
       "      <td>80.0</td>\n",
       "      <td>http</td>\n",
       "      <td>1,081</td>\n",
       "      <td>1,051,576 Bytes</td>\n",
       "      <td>1,095,283 Bytes</td>\n",
       "      <td>5462.4 KB/Sec</td>\n",
       "      <td>10/25/2022 8:57:07 AM:279</td>\n",
       "      <td>10/25/2022 8:57:15 AM:571</td>\n",
       "      <td>00:08.3</td>\n",
       "      <td>-1</td>\n",
       "    </tr>\n",
       "    <tr>\n",
       "      <td>24841</td>\n",
       "      <td>TCP</td>\n",
       "      <td>10.0.2.15</td>\n",
       "      <td>41.63.105.0</td>\n",
       "      <td>50121.0</td>\n",
       "      <td>80.0</td>\n",
       "      <td>http</td>\n",
       "      <td>4</td>\n",
       "      <td>1,485 Bytes</td>\n",
       "      <td>2,112 Bytes</td>\n",
       "      <td>NaN</td>\n",
       "      <td>10/25/2022 8:57:07 AM:336</td>\n",
       "      <td>10/25/2022 8:57:07 AM:493</td>\n",
       "      <td>00:00.2</td>\n",
       "      <td>-1</td>\n",
       "    </tr>\n",
       "  </tbody>\n",
       "</table>\n",
       "<p>24842 rows × 14 columns</p>\n",
       "</div>"
      ],
      "text/plain": [
       "      Protocol Local Address   Remote Address  Local Port  Remote Port  \\\n",
       "0          TCP     10.0.2.15      41.63.105.0     49699.0         80.0   \n",
       "1          TCP     10.0.2.15    41.63.105.128     49709.0         80.0   \n",
       "2          TCP     10.0.2.15    41.63.105.128     49698.0         80.0   \n",
       "3          TCP     10.0.2.15   117.18.232.240     49696.0         80.0   \n",
       "4          TCP     10.0.2.15    41.63.105.128     49694.0         80.0   \n",
       "...        ...           ...              ...         ...          ...   \n",
       "24837      UDP     10.0.2.15  239.255.255.250     58540.0       1900.0   \n",
       "24838      UDP     10.0.2.15      192.168.0.1     52927.0         53.0   \n",
       "24839      TCP     10.0.2.15   104.120.154.29     50119.0        443.0   \n",
       "24840      TCP     10.0.2.15    41.63.105.128     50120.0         80.0   \n",
       "24841      TCP     10.0.2.15      41.63.105.0     50121.0         80.0   \n",
       "\n",
       "      Service Name Packets        Data Size       Total Size     Data Speed  \\\n",
       "0             http     214    257,800 Bytes    267,860 Bytes  3227.7 KB/Sec   \n",
       "1             http      36     32,122 Bytes     33,603 Bytes   667.4 KB/Sec   \n",
       "2             http     298    365,003 Bytes    376,964 Bytes  5749.2 KB/Sec   \n",
       "3             http     114    131,402 Bytes    136,003 Bytes  2069.7 KB/Sec   \n",
       "4             http       4      1,461 Bytes      1,662 Bytes            NaN   \n",
       "...            ...     ...              ...              ...            ...   \n",
       "24837         ssdp       8      1,400 Bytes      1,827 Bytes    29.1 KB/Sec   \n",
       "24838       domain       2        217 Bytes        354 Bytes            NaN   \n",
       "24839        https      17      7,166 Bytes      8,106 Bytes   466.5 KB/Sec   \n",
       "24840         http   1,081  1,051,576 Bytes  1,095,283 Bytes  5462.4 KB/Sec   \n",
       "24841         http       4      1,485 Bytes      2,112 Bytes            NaN   \n",
       "\n",
       "                    Capture Time           Last Packet Time Duration  Attack  \n",
       "0      10/25/2022 8:39:11 AM:097  10/25/2022 8:39:43 AM:672  00:32.6      -1  \n",
       "1      10/25/2022 8:39:12 AM:160  10/25/2022 8:39:25 AM:176  00:13.0      -1  \n",
       "2      10/25/2022 8:39:12 AM:160  10/25/2022 8:39:38 AM:362  00:26.2      -1  \n",
       "3      10/25/2022 8:39:12 AM:176  10/25/2022 8:39:30 AM:012  00:17.8      -1  \n",
       "4      10/25/2022 8:39:12 AM:176  10/25/2022 8:39:13 AM:332  00:01.2      -1  \n",
       "...                          ...                        ...      ...     ...  \n",
       "24837  10/25/2022 8:57:04 AM:431  10/25/2022 8:57:07 AM:742  00:03.3      -1  \n",
       "24838  10/25/2022 8:57:06 AM:337  10/25/2022 8:57:06 AM:337  00:00.0      -1  \n",
       "24839  10/25/2022 8:57:06 AM:415  10/25/2022 8:57:07 AM:086  00:00.7      -1  \n",
       "24840  10/25/2022 8:57:07 AM:279  10/25/2022 8:57:15 AM:571  00:08.3      -1  \n",
       "24841  10/25/2022 8:57:07 AM:336  10/25/2022 8:57:07 AM:493  00:00.2      -1  \n",
       "\n",
       "[24842 rows x 14 columns]"
      ]
     },
     "execution_count": 549,
     "metadata": {},
     "output_type": "execute_result"
    }
   ],
   "source": [
    "df = df.drop([\"Index\",\"Local Host\",\"Remote Host\"],axis=1)\n",
    "# dropping the rows having NaN values\n",
    "# df = df.dropna(subset=[\"Data Speed\"])\n",
    "# To reset the indices\n",
    "df = df.reset_index(drop = True)\n",
    "df"
   ]
  },
  {
   "cell_type": "raw",
   "metadata": {},
   "source": [
    "# print(df[\"Duration\"].to_string())\n",
    "t = datetime.strptime(df[\"Duration\"][0].split('.')[0], '%M:%S')\n",
    "t1 = datetime.strptime(df[\"Duration\"][1].split('.')[0], '%M:%S')\n",
    "t = t.time()\n",
    "t, t.hour , t.minute, t.second, (t.hour*3600 + t.minute*60+ t.second) "
   ]
  },
  {
   "cell_type": "raw",
   "metadata": {},
   "source": [
    "t = t1.time()\n",
    "t, t.hour , t.minute, t.second, (t.hour*3600 + t.minute*60+ t.second) "
   ]
  },
  {
   "cell_type": "code",
   "execution_count": 550,
   "metadata": {},
   "outputs": [
    {
     "name": "stderr",
     "output_type": "stream",
     "text": [
      "C:\\Users\\Gowri\\Anaconda3\\lib\\site-packages\\ipykernel_launcher.py:5: SettingWithCopyWarning: \n",
      "A value is trying to be set on a copy of a slice from a DataFrame\n",
      "\n",
      "See the caveats in the documentation: http://pandas.pydata.org/pandas-docs/stable/user_guide/indexing.html#returning-a-view-versus-a-copy\n",
      "  \"\"\"\n",
      "C:\\Users\\Gowri\\Anaconda3\\lib\\site-packages\\ipykernel_launcher.py:6: SettingWithCopyWarning: \n",
      "A value is trying to be set on a copy of a slice from a DataFrame\n",
      "\n",
      "See the caveats in the documentation: http://pandas.pydata.org/pandas-docs/stable/user_guide/indexing.html#returning-a-view-versus-a-copy\n",
      "  \n",
      "C:\\Users\\Gowri\\Anaconda3\\lib\\site-packages\\ipykernel_launcher.py:8: SettingWithCopyWarning: \n",
      "A value is trying to be set on a copy of a slice from a DataFrame\n",
      "\n",
      "See the caveats in the documentation: http://pandas.pydata.org/pandas-docs/stable/user_guide/indexing.html#returning-a-view-versus-a-copy\n",
      "  \n",
      "C:\\Users\\Gowri\\Anaconda3\\lib\\site-packages\\ipykernel_launcher.py:9: SettingWithCopyWarning: \n",
      "A value is trying to be set on a copy of a slice from a DataFrame\n",
      "\n",
      "See the caveats in the documentation: http://pandas.pydata.org/pandas-docs/stable/user_guide/indexing.html#returning-a-view-versus-a-copy\n",
      "  if __name__ == '__main__':\n",
      "C:\\Users\\Gowri\\Anaconda3\\lib\\site-packages\\ipykernel_launcher.py:13: SettingWithCopyWarning: \n",
      "A value is trying to be set on a copy of a slice from a DataFrame\n",
      "\n",
      "See the caveats in the documentation: http://pandas.pydata.org/pandas-docs/stable/user_guide/indexing.html#returning-a-view-versus-a-copy\n",
      "  del sys.path[0]\n",
      "C:\\Users\\Gowri\\Anaconda3\\lib\\site-packages\\ipykernel_launcher.py:17: SettingWithCopyWarning: \n",
      "A value is trying to be set on a copy of a slice from a DataFrame\n",
      "\n",
      "See the caveats in the documentation: http://pandas.pydata.org/pandas-docs/stable/user_guide/indexing.html#returning-a-view-versus-a-copy\n",
      "C:\\Users\\Gowri\\Anaconda3\\lib\\site-packages\\ipykernel_launcher.py:19: SettingWithCopyWarning: \n",
      "A value is trying to be set on a copy of a slice from a DataFrame\n",
      "\n",
      "See the caveats in the documentation: http://pandas.pydata.org/pandas-docs/stable/user_guide/indexing.html#returning-a-view-versus-a-copy\n",
      "C:\\Users\\Gowri\\Anaconda3\\lib\\site-packages\\ipykernel_launcher.py:20: SettingWithCopyWarning: \n",
      "A value is trying to be set on a copy of a slice from a DataFrame\n",
      "\n",
      "See the caveats in the documentation: http://pandas.pydata.org/pandas-docs/stable/user_guide/indexing.html#returning-a-view-versus-a-copy\n",
      "C:\\Users\\Gowri\\Anaconda3\\lib\\site-packages\\ipykernel_launcher.py:21: SettingWithCopyWarning: \n",
      "A value is trying to be set on a copy of a slice from a DataFrame\n",
      "\n",
      "See the caveats in the documentation: http://pandas.pydata.org/pandas-docs/stable/user_guide/indexing.html#returning-a-view-versus-a-copy\n"
     ]
    }
   ],
   "source": [
    "df[\"Throughput\"] = 0\n",
    "df[\"Duration in seconds\"] = 0\n",
    "type(df[\"Total Size\"][0])\n",
    "for i in range(0,len(df[\"Total Size\"])):\n",
    "    df[\"Total Size\"][i] = df[\"Total Size\"][i].translate(str.maketrans('', '', string.punctuation))\n",
    "    df[\"Total Size\"][i] = int(df[\"Total Size\"][i].split(' ')[0])\n",
    "    \n",
    "    df[\"Data Size\"][i] = df[\"Data Size\"][i].translate(str.maketrans('', '', string.punctuation))\n",
    "    df[\"Data Size\"][i] = int(df[\"Data Size\"][i].split(' ')[0])\n",
    "    \n",
    "#     df_s[\"Data speed\"][i] = df_s[\"Data speed\"][i].split(' ')[0]\n",
    "#     print(i)\n",
    "    df[\"Data Speed\"][i] = float(str(df[\"Data Speed\"][i]).split(' ')[0])\n",
    "#     df_s[\"Data speed\"][i] = float(df_s[\"Data speed\"][i])\n",
    "\n",
    "    t = datetime.strptime(df[\"Duration\"][i].split('.')[0], '%M:%S').time()\n",
    "    df[\"Duration in seconds\"][i] = t.hour*3600 + t.minute*60 + t.second\n",
    "    \n",
    "    df[\"Packets\"][i] = df[\"Packets\"][i].translate(str.maketrans('', '', string.punctuation))\n",
    "    df[\"Packets\"][i] = int(df[\"Packets\"][i].split(' ')[0])\n",
    "    df[\"Packets\"][i] = int(df[\"Packets\"][i])\n",
    "    \n",
    "#     df[\"Throughput\"] - \n",
    "    "
   ]
  },
  {
   "cell_type": "raw",
   "metadata": {},
   "source": [
    "type(df[\"Duration\"][0])"
   ]
  },
  {
   "cell_type": "code",
   "execution_count": 551,
   "metadata": {},
   "outputs": [
    {
     "data": {
      "text/plain": [
       "(583227, 1162302)"
      ]
     },
     "execution_count": 551,
     "metadata": {},
     "output_type": "execute_result"
    }
   ],
   "source": [
    "df[\"Duration in seconds\"].sum(),df[\"Packets\"].sum()"
   ]
  },
  {
   "cell_type": "code",
   "execution_count": 552,
   "metadata": {},
   "outputs": [
    {
     "data": {
      "text/plain": [
       "[<matplotlib.lines.Line2D at 0x1365d577fc8>]"
      ]
     },
     "execution_count": 552,
     "metadata": {},
     "output_type": "execute_result"
    },
    {
     "data": {
      "image/png": "[encoded data removed]",
      "text/plain": [
       "<Figure size 432x288 with 1 Axes>"
      ]
     },
     "metadata": {
      "needs_background": "light"
     },
     "output_type": "display_data"
    }
   ],
   "source": [
    "plt.plot(df[\"Duration in seconds\"])"
   ]
  },
  {
   "cell_type": "code",
   "execution_count": 553,
   "metadata": {},
   "outputs": [
    {
     "data": {
      "text/plain": [
       "[<matplotlib.lines.Line2D at 0x1365d5dc9c8>]"
      ]
     },
     "execution_count": 553,
     "metadata": {},
     "output_type": "execute_result"
    },
    {
     "data": {
      "image/png": "[encoded data removed]",
      "text/plain": [
       "<Figure size 432x288 with 1 Axes>"
      ]
     },
     "metadata": {
      "needs_background": "light"
     },
     "output_type": "display_data"
    }
   ],
   "source": [
    "plt.plot(df[\"Packets\"])"
   ]
  },
  {
   "cell_type": "code",
   "execution_count": 554,
   "metadata": {},
   "outputs": [
    {
     "data": {
      "text/plain": [
       "[<matplotlib.lines.Line2D at 0x1365d649508>]"
      ]
     },
     "execution_count": 554,
     "metadata": {},
     "output_type": "execute_result"
    },
    {
     "data": {
      "image/png": "[encoded data removed]",
      "text/plain": [
       "<Figure size 432x288 with 1 Axes>"
      ]
     },
     "metadata": {
      "needs_background": "light"
     },
     "output_type": "display_data"
    }
   ],
   "source": [
    "plt.plot(df[\"Data Speed\"])"
   ]
  },
  {
   "cell_type": "code",
   "execution_count": 555,
   "metadata": {},
   "outputs": [],
   "source": [
    "# df"
   ]
  },
  {
   "cell_type": "code",
   "execution_count": 556,
   "metadata": {},
   "outputs": [
    {
     "name": "stderr",
     "output_type": "stream",
     "text": [
      "C:\\Users\\Gowri\\Anaconda3\\lib\\site-packages\\ipykernel_launcher.py:6: SettingWithCopyWarning: \n",
      "A value is trying to be set on a copy of a slice from a DataFrame\n",
      "\n",
      "See the caveats in the documentation: http://pandas.pydata.org/pandas-docs/stable/user_guide/indexing.html#returning-a-view-versus-a-copy\n",
      "  \n",
      "C:\\Users\\Gowri\\Anaconda3\\lib\\site-packages\\ipykernel_launcher.py:3: RuntimeWarning: divide by zero encountered in longlong_scalars\n",
      "  This is separate from the ipykernel package so we can avoid doing imports until\n"
     ]
    }
   ],
   "source": [
    "df[\"Throughput\"] = 0.0\n",
    "for i in range(0,len(df[\"Total Size\"])):\n",
    "    val = df[\"Packets\"][i]/df[\"Duration in seconds\"][i]\n",
    "    if val==np.inf or val==-np.inf:\n",
    "        val = 10**20\n",
    "    df[\"Throughput\"][i] = val"
   ]
  },
  {
   "cell_type": "code",
   "execution_count": 496,
   "metadata": {},
   "outputs": [],
   "source": [
    "# df"
   ]
  },
  {
   "cell_type": "code",
   "execution_count": 561,
   "metadata": {},
   "outputs": [
    {
     "data": {
      "text/plain": [
       "[<matplotlib.lines.Line2D at 0x1365d70db08>]"
      ]
     },
     "execution_count": 561,
     "metadata": {},
     "output_type": "execute_result"
    },
    {
     "data": {
      "image/png": "[encoded data removed]",
      "text/plain": [
       "<Figure size 1440x648 with 1 Axes>"
      ]
     },
     "metadata": {
      "needs_background": "light"
     },
     "output_type": "display_data"
    }
   ],
   "source": [
    "f = plt.figure()\n",
    "f.set_figwidth(20)\n",
    "f.set_figheight(9)\n",
    "plt.plot(df[\"Throughput\"])"
   ]
  },
  {
   "cell_type": "code",
   "execution_count": 562,
   "metadata": {},
   "outputs": [],
   "source": [
    "throughput = df[\"Throughput\"]"
   ]
  },
  {
   "cell_type": "code",
   "execution_count": 563,
   "metadata": {},
   "outputs": [
    {
     "data": {
      "text/plain": [
       "0        6.687500e+00\n",
       "1        2.769231e+00\n",
       "2        1.146154e+01\n",
       "3        6.705882e+00\n",
       "4        4.000000e+00\n",
       "             ...     \n",
       "24837    2.666667e+00\n",
       "24838    1.000000e+20\n",
       "24839    1.000000e+20\n",
       "24840    1.351250e+02\n",
       "24841    1.000000e+20\n",
       "Name: Throughput, Length: 24842, dtype: float64"
      ]
     },
     "execution_count": 563,
     "metadata": {},
     "output_type": "execute_result"
    }
   ],
   "source": [
    "throughput.replace([np.inf, -np.inf], np.nan, inplace=True)\n",
    "throughput.dropna(how=\"all\", inplace=True)\n",
    "throughput"
   ]
  },
  {
   "cell_type": "code",
   "execution_count": 564,
   "metadata": {},
   "outputs": [
    {
     "data": {
      "text/plain": [
       "1e+20"
      ]
     },
     "execution_count": 564,
     "metadata": {},
     "output_type": "execute_result"
    }
   ],
   "source": [
    "median = throughput.median()\n",
    "median"
   ]
  },
  {
   "cell_type": "code",
   "execution_count": 565,
   "metadata": {},
   "outputs": [
    {
     "data": {
      "text/plain": [
       "6.894774977858064e+19"
      ]
     },
     "execution_count": 565,
     "metadata": {},
     "output_type": "execute_result"
    }
   ],
   "source": [
    "mean = throughput.mean()\n",
    "mean"
   ]
  },
  {
   "cell_type": "code",
   "execution_count": 566,
   "metadata": {},
   "outputs": [
    {
     "name": "stderr",
     "output_type": "stream",
     "text": [
      "C:\\Users\\Gowri\\Anaconda3\\lib\\site-packages\\ipykernel_launcher.py:6: SettingWithCopyWarning: \n",
      "A value is trying to be set on a copy of a slice from a DataFrame\n",
      "\n",
      "See the caveats in the documentation: http://pandas.pydata.org/pandas-docs/stable/user_guide/indexing.html#returning-a-view-versus-a-copy\n",
      "  \n"
     ]
    }
   ],
   "source": [
    "df[\"Anomaly\"] = -1\n",
    "df.replace(np.nan,np.inf,inplace=True)\n",
    "for i in range(0,len(df[\"Total Size\"])):\n",
    "    if(df[\"Throughput\"][i]>mean):\n",
    "#         print(df[\"Throughput\"][i],mean)\n",
    "        df[\"Anomaly\"][i] = 1\n",
    "        "
   ]
  },
  {
   "cell_type": "code",
   "execution_count": 567,
   "metadata": {},
   "outputs": [
    {
     "data": {
      "text/plain": [
       "[<matplotlib.lines.Line2D at 0x1365ded9808>]"
      ]
     },
     "execution_count": 567,
     "metadata": {},
     "output_type": "execute_result"
    },
    {
     "data": {
      "image/png": "[encoded data removed]",
      "text/plain": [
       "<Figure size 3600x648 with 1 Axes>"
      ]
     },
     "metadata": {
      "needs_background": "light"
     },
     "output_type": "display_data"
    }
   ],
   "source": [
    "f = plt.figure()\n",
    "f.set_figwidth(50)\n",
    "f.set_figheight(9)\n",
    "plt.plot(df[\"Anomaly\"])"
   ]
  },
  {
   "cell_type": "code",
   "execution_count": 568,
   "metadata": {},
   "outputs": [],
   "source": [
    "from sklearn.metrics import confusion_matrix,precision_score,accuracy_score,f1_score, classification_report\n",
    "tn, fp, fn, tp = confusion_matrix(df[\"Attack\"], df[\"Anomaly\"]).ravel()\n",
    "precision = precision_score(df[\"Attack\"], df[\"Anomaly\"])\n",
    "accuracy = accuracy_score(df[\"Attack\"], df[\"Anomaly\"])\n",
    "f1_score = f1_score(df[\"Attack\"], df[\"Anomaly\"])"
   ]
  },
  {
   "cell_type": "code",
   "execution_count": 569,
   "metadata": {},
   "outputs": [
    {
     "data": {
      "text/plain": [
       "((3302, 1390, 4412, 15738),\n",
       " 0.9188463334890238,\n",
       " 0.7664439256098543,\n",
       " 0.8443586029293416)"
      ]
     },
     "execution_count": 569,
     "metadata": {},
     "output_type": "execute_result"
    }
   ],
   "source": [
    "(tn,fp,fn,tp), precision, accuracy, f1_score"
   ]
  },
  {
   "cell_type": "code",
   "execution_count": 570,
   "metadata": {},
   "outputs": [
    {
     "name": "stdout",
     "output_type": "stream",
     "text": [
      "              precision    recall  f1-score   support\n",
      "\n",
      "          -1       0.43      0.70      0.53      4692\n",
      "           1       0.92      0.78      0.84     20150\n",
      "\n",
      "    accuracy                           0.77     24842\n",
      "   macro avg       0.67      0.74      0.69     24842\n",
      "weighted avg       0.83      0.77      0.79     24842\n",
      "\n"
     ]
    }
   ],
   "source": [
    "print(classification_report(df[\"Attack\"], df[\"Anomaly\"]))"
   ]
  },
  {
   "cell_type": "code",
   "execution_count": 571,
   "metadata": {},
   "outputs": [
    {
     "data": {
      "text/plain": [
       "0.2189578163771712"
      ]
     },
     "execution_count": 571,
     "metadata": {},
     "output_type": "execute_result"
    }
   ],
   "source": [
    "miss_rate = fn/(fn+tp)\n",
    "miss_rate"
   ]
  },
  {
   "cell_type": "markdown",
   "metadata": {},
   "source": [
    "# Entropy"
   ]
  },
  {
   "cell_type": "code",
   "execution_count": 572,
   "metadata": {},
   "outputs": [
    {
     "name": "stderr",
     "output_type": "stream",
     "text": [
      "C:\\Users\\Gowri\\Anaconda3\\lib\\site-packages\\ipykernel_launcher.py:9: SettingWithCopyWarning: \n",
      "A value is trying to be set on a copy of a slice from a DataFrame\n",
      "\n",
      "See the caveats in the documentation: http://pandas.pydata.org/pandas-docs/stable/user_guide/indexing.html#returning-a-view-versus-a-copy\n",
      "  if __name__ == '__main__':\n",
      "C:\\Users\\Gowri\\Anaconda3\\lib\\site-packages\\ipykernel_launcher.py:10: SettingWithCopyWarning: \n",
      "A value is trying to be set on a copy of a slice from a DataFrame\n",
      "\n",
      "See the caveats in the documentation: http://pandas.pydata.org/pandas-docs/stable/user_guide/indexing.html#returning-a-view-versus-a-copy\n",
      "  # Remove the CWD from sys.path while we load stuff.\n",
      "C:\\Users\\Gowri\\Anaconda3\\lib\\site-packages\\ipykernel_launcher.py:11: SettingWithCopyWarning: \n",
      "A value is trying to be set on a copy of a slice from a DataFrame\n",
      "\n",
      "See the caveats in the documentation: http://pandas.pydata.org/pandas-docs/stable/user_guide/indexing.html#returning-a-view-versus-a-copy\n",
      "  # This is added back by InteractiveShellApp.init_path()\n"
     ]
    },
    {
     "data": {
      "text/html": [
       "<div>\n",
       "<style scoped>\n",
       "    .dataframe tbody tr th:only-of-type {\n",
       "        vertical-align: middle;\n",
       "    }\n",
       "\n",
       "    .dataframe tbody tr th {\n",
       "        vertical-align: top;\n",
       "    }\n",
       "\n",
       "    .dataframe thead th {\n",
       "        text-align: right;\n",
       "    }\n",
       "</style>\n",
       "<table border=\"1\" class=\"dataframe\">\n",
       "  <thead>\n",
       "    <tr style=\"text-align: right;\">\n",
       "      <th></th>\n",
       "      <th>Protocol</th>\n",
       "      <th>Local Address</th>\n",
       "      <th>Remote Address</th>\n",
       "      <th>Local Port</th>\n",
       "      <th>Remote Port</th>\n",
       "      <th>Service Name</th>\n",
       "      <th>Packets</th>\n",
       "      <th>Data Size</th>\n",
       "      <th>Total Size</th>\n",
       "      <th>Data Speed</th>\n",
       "      <th>Capture Time</th>\n",
       "      <th>Last Packet Time</th>\n",
       "      <th>Duration</th>\n",
       "      <th>Attack</th>\n",
       "      <th>Throughput</th>\n",
       "      <th>Duration in seconds</th>\n",
       "      <th>Anomaly</th>\n",
       "      <th>Entropy throughput</th>\n",
       "      <th>Entropy Remote Address</th>\n",
       "      <th>Entropy Remote Port</th>\n",
       "    </tr>\n",
       "  </thead>\n",
       "  <tbody>\n",
       "    <tr>\n",
       "      <td>0</td>\n",
       "      <td>TCP</td>\n",
       "      <td>10.0.2.15</td>\n",
       "      <td>41.63.105.0</td>\n",
       "      <td>49699.0</td>\n",
       "      <td>80.0</td>\n",
       "      <td>http</td>\n",
       "      <td>214</td>\n",
       "      <td>257800</td>\n",
       "      <td>267860</td>\n",
       "      <td>3227.7</td>\n",
       "      <td>10/25/2022 8:39:11 AM:097</td>\n",
       "      <td>10/25/2022 8:39:43 AM:672</td>\n",
       "      <td>00:32.6</td>\n",
       "      <td>-1</td>\n",
       "      <td>6.687500e+00</td>\n",
       "      <td>32</td>\n",
       "      <td>-1</td>\n",
       "      <td>0.000000</td>\n",
       "      <td>0.000000</td>\n",
       "      <td>0.000000</td>\n",
       "    </tr>\n",
       "    <tr>\n",
       "      <td>1</td>\n",
       "      <td>TCP</td>\n",
       "      <td>10.0.2.15</td>\n",
       "      <td>41.63.105.128</td>\n",
       "      <td>49709.0</td>\n",
       "      <td>80.0</td>\n",
       "      <td>http</td>\n",
       "      <td>36</td>\n",
       "      <td>32122</td>\n",
       "      <td>33603</td>\n",
       "      <td>667.4</td>\n",
       "      <td>10/25/2022 8:39:12 AM:160</td>\n",
       "      <td>10/25/2022 8:39:25 AM:176</td>\n",
       "      <td>00:13.0</td>\n",
       "      <td>-1</td>\n",
       "      <td>2.769231e+00</td>\n",
       "      <td>13</td>\n",
       "      <td>-1</td>\n",
       "      <td>0.693147</td>\n",
       "      <td>0.693147</td>\n",
       "      <td>0.000000</td>\n",
       "    </tr>\n",
       "    <tr>\n",
       "      <td>2</td>\n",
       "      <td>TCP</td>\n",
       "      <td>10.0.2.15</td>\n",
       "      <td>41.63.105.128</td>\n",
       "      <td>49698.0</td>\n",
       "      <td>80.0</td>\n",
       "      <td>http</td>\n",
       "      <td>298</td>\n",
       "      <td>365003</td>\n",
       "      <td>376964</td>\n",
       "      <td>5749.2</td>\n",
       "      <td>10/25/2022 8:39:12 AM:160</td>\n",
       "      <td>10/25/2022 8:39:38 AM:362</td>\n",
       "      <td>00:26.2</td>\n",
       "      <td>-1</td>\n",
       "      <td>1.146154e+01</td>\n",
       "      <td>26</td>\n",
       "      <td>-1</td>\n",
       "      <td>1.098612</td>\n",
       "      <td>0.636514</td>\n",
       "      <td>0.000000</td>\n",
       "    </tr>\n",
       "    <tr>\n",
       "      <td>3</td>\n",
       "      <td>TCP</td>\n",
       "      <td>10.0.2.15</td>\n",
       "      <td>117.18.232.240</td>\n",
       "      <td>49696.0</td>\n",
       "      <td>80.0</td>\n",
       "      <td>http</td>\n",
       "      <td>114</td>\n",
       "      <td>131402</td>\n",
       "      <td>136003</td>\n",
       "      <td>2069.7</td>\n",
       "      <td>10/25/2022 8:39:12 AM:176</td>\n",
       "      <td>10/25/2022 8:39:30 AM:012</td>\n",
       "      <td>00:17.8</td>\n",
       "      <td>-1</td>\n",
       "      <td>6.705882e+00</td>\n",
       "      <td>17</td>\n",
       "      <td>-1</td>\n",
       "      <td>1.386294</td>\n",
       "      <td>1.039721</td>\n",
       "      <td>0.000000</td>\n",
       "    </tr>\n",
       "    <tr>\n",
       "      <td>4</td>\n",
       "      <td>TCP</td>\n",
       "      <td>10.0.2.15</td>\n",
       "      <td>41.63.105.128</td>\n",
       "      <td>49694.0</td>\n",
       "      <td>80.0</td>\n",
       "      <td>http</td>\n",
       "      <td>4</td>\n",
       "      <td>1461</td>\n",
       "      <td>1662</td>\n",
       "      <td>inf</td>\n",
       "      <td>10/25/2022 8:39:12 AM:176</td>\n",
       "      <td>10/25/2022 8:39:13 AM:332</td>\n",
       "      <td>00:01.2</td>\n",
       "      <td>-1</td>\n",
       "      <td>4.000000e+00</td>\n",
       "      <td>1</td>\n",
       "      <td>-1</td>\n",
       "      <td>1.609438</td>\n",
       "      <td>0.950271</td>\n",
       "      <td>0.000000</td>\n",
       "    </tr>\n",
       "    <tr>\n",
       "      <td>...</td>\n",
       "      <td>...</td>\n",
       "      <td>...</td>\n",
       "      <td>...</td>\n",
       "      <td>...</td>\n",
       "      <td>...</td>\n",
       "      <td>...</td>\n",
       "      <td>...</td>\n",
       "      <td>...</td>\n",
       "      <td>...</td>\n",
       "      <td>...</td>\n",
       "      <td>...</td>\n",
       "      <td>...</td>\n",
       "      <td>...</td>\n",
       "      <td>...</td>\n",
       "      <td>...</td>\n",
       "      <td>...</td>\n",
       "      <td>...</td>\n",
       "      <td>...</td>\n",
       "      <td>...</td>\n",
       "      <td>...</td>\n",
       "    </tr>\n",
       "    <tr>\n",
       "      <td>24837</td>\n",
       "      <td>UDP</td>\n",
       "      <td>10.0.2.15</td>\n",
       "      <td>239.255.255.250</td>\n",
       "      <td>58540.0</td>\n",
       "      <td>1900.0</td>\n",
       "      <td>ssdp</td>\n",
       "      <td>8</td>\n",
       "      <td>1400</td>\n",
       "      <td>1827</td>\n",
       "      <td>29.1</td>\n",
       "      <td>10/25/2022 8:57:04 AM:431</td>\n",
       "      <td>10/25/2022 8:57:07 AM:742</td>\n",
       "      <td>00:03.3</td>\n",
       "      <td>-1</td>\n",
       "      <td>2.666667e+00</td>\n",
       "      <td>3</td>\n",
       "      <td>-1</td>\n",
       "      <td>1.929190</td>\n",
       "      <td>1.281422</td>\n",
       "      <td>8.093012</td>\n",
       "    </tr>\n",
       "    <tr>\n",
       "      <td>24838</td>\n",
       "      <td>UDP</td>\n",
       "      <td>10.0.2.15</td>\n",
       "      <td>192.168.0.1</td>\n",
       "      <td>52927.0</td>\n",
       "      <td>53.0</td>\n",
       "      <td>domain</td>\n",
       "      <td>2</td>\n",
       "      <td>217</td>\n",
       "      <td>354</td>\n",
       "      <td>inf</td>\n",
       "      <td>10/25/2022 8:57:06 AM:337</td>\n",
       "      <td>10/25/2022 8:57:06 AM:337</td>\n",
       "      <td>00:00.0</td>\n",
       "      <td>-1</td>\n",
       "      <td>1.000000e+20</td>\n",
       "      <td>0</td>\n",
       "      <td>1</td>\n",
       "      <td>1.929127</td>\n",
       "      <td>1.281484</td>\n",
       "      <td>8.092800</td>\n",
       "    </tr>\n",
       "    <tr>\n",
       "      <td>24839</td>\n",
       "      <td>TCP</td>\n",
       "      <td>10.0.2.15</td>\n",
       "      <td>104.120.154.29</td>\n",
       "      <td>50119.0</td>\n",
       "      <td>443.0</td>\n",
       "      <td>https</td>\n",
       "      <td>17</td>\n",
       "      <td>7166</td>\n",
       "      <td>8106</td>\n",
       "      <td>466.5</td>\n",
       "      <td>10/25/2022 8:57:06 AM:415</td>\n",
       "      <td>10/25/2022 8:57:07 AM:086</td>\n",
       "      <td>00:00.7</td>\n",
       "      <td>-1</td>\n",
       "      <td>1.000000e+20</td>\n",
       "      <td>0</td>\n",
       "      <td>1</td>\n",
       "      <td>1.929064</td>\n",
       "      <td>1.281612</td>\n",
       "      <td>8.092570</td>\n",
       "    </tr>\n",
       "    <tr>\n",
       "      <td>24840</td>\n",
       "      <td>TCP</td>\n",
       "      <td>10.0.2.15</td>\n",
       "      <td>41.63.105.128</td>\n",
       "      <td>50120.0</td>\n",
       "      <td>80.0</td>\n",
       "      <td>http</td>\n",
       "      <td>1081</td>\n",
       "      <td>1051576</td>\n",
       "      <td>1095283</td>\n",
       "      <td>5462.4</td>\n",
       "      <td>10/25/2022 8:57:07 AM:279</td>\n",
       "      <td>10/25/2022 8:57:15 AM:571</td>\n",
       "      <td>00:08.3</td>\n",
       "      <td>-1</td>\n",
       "      <td>1.351250e+02</td>\n",
       "      <td>8</td>\n",
       "      <td>-1</td>\n",
       "      <td>1.929344</td>\n",
       "      <td>1.281751</td>\n",
       "      <td>8.092377</td>\n",
       "    </tr>\n",
       "    <tr>\n",
       "      <td>24841</td>\n",
       "      <td>TCP</td>\n",
       "      <td>10.0.2.15</td>\n",
       "      <td>41.63.105.0</td>\n",
       "      <td>50121.0</td>\n",
       "      <td>80.0</td>\n",
       "      <td>http</td>\n",
       "      <td>4</td>\n",
       "      <td>1485</td>\n",
       "      <td>2112</td>\n",
       "      <td>inf</td>\n",
       "      <td>10/25/2022 8:57:07 AM:336</td>\n",
       "      <td>10/25/2022 8:57:07 AM:493</td>\n",
       "      <td>00:00.2</td>\n",
       "      <td>-1</td>\n",
       "      <td>1.000000e+20</td>\n",
       "      <td>0</td>\n",
       "      <td>1</td>\n",
       "      <td>1.929281</td>\n",
       "      <td>1.281933</td>\n",
       "      <td>8.092184</td>\n",
       "    </tr>\n",
       "  </tbody>\n",
       "</table>\n",
       "<p>24842 rows × 20 columns</p>\n",
       "</div>"
      ],
      "text/plain": [
       "      Protocol Local Address   Remote Address  Local Port  Remote Port  \\\n",
       "0          TCP     10.0.2.15      41.63.105.0     49699.0         80.0   \n",
       "1          TCP     10.0.2.15    41.63.105.128     49709.0         80.0   \n",
       "2          TCP     10.0.2.15    41.63.105.128     49698.0         80.0   \n",
       "3          TCP     10.0.2.15   117.18.232.240     49696.0         80.0   \n",
       "4          TCP     10.0.2.15    41.63.105.128     49694.0         80.0   \n",
       "...        ...           ...              ...         ...          ...   \n",
       "24837      UDP     10.0.2.15  239.255.255.250     58540.0       1900.0   \n",
       "24838      UDP     10.0.2.15      192.168.0.1     52927.0         53.0   \n",
       "24839      TCP     10.0.2.15   104.120.154.29     50119.0        443.0   \n",
       "24840      TCP     10.0.2.15    41.63.105.128     50120.0         80.0   \n",
       "24841      TCP     10.0.2.15      41.63.105.0     50121.0         80.0   \n",
       "\n",
       "      Service Name  Packets  Data Size  Total Size  Data Speed  \\\n",
       "0             http      214     257800      267860      3227.7   \n",
       "1             http       36      32122       33603       667.4   \n",
       "2             http      298     365003      376964      5749.2   \n",
       "3             http      114     131402      136003      2069.7   \n",
       "4             http        4       1461        1662         inf   \n",
       "...            ...      ...        ...         ...         ...   \n",
       "24837         ssdp        8       1400        1827        29.1   \n",
       "24838       domain        2        217         354         inf   \n",
       "24839        https       17       7166        8106       466.5   \n",
       "24840         http     1081    1051576     1095283      5462.4   \n",
       "24841         http        4       1485        2112         inf   \n",
       "\n",
       "                    Capture Time           Last Packet Time Duration  Attack  \\\n",
       "0      10/25/2022 8:39:11 AM:097  10/25/2022 8:39:43 AM:672  00:32.6      -1   \n",
       "1      10/25/2022 8:39:12 AM:160  10/25/2022 8:39:25 AM:176  00:13.0      -1   \n",
       "2      10/25/2022 8:39:12 AM:160  10/25/2022 8:39:38 AM:362  00:26.2      -1   \n",
       "3      10/25/2022 8:39:12 AM:176  10/25/2022 8:39:30 AM:012  00:17.8      -1   \n",
       "4      10/25/2022 8:39:12 AM:176  10/25/2022 8:39:13 AM:332  00:01.2      -1   \n",
       "...                          ...                        ...      ...     ...   \n",
       "24837  10/25/2022 8:57:04 AM:431  10/25/2022 8:57:07 AM:742  00:03.3      -1   \n",
       "24838  10/25/2022 8:57:06 AM:337  10/25/2022 8:57:06 AM:337  00:00.0      -1   \n",
       "24839  10/25/2022 8:57:06 AM:415  10/25/2022 8:57:07 AM:086  00:00.7      -1   \n",
       "24840  10/25/2022 8:57:07 AM:279  10/25/2022 8:57:15 AM:571  00:08.3      -1   \n",
       "24841  10/25/2022 8:57:07 AM:336  10/25/2022 8:57:07 AM:493  00:00.2      -1   \n",
       "\n",
       "         Throughput  Duration in seconds  Anomaly  Entropy throughput  \\\n",
       "0      6.687500e+00                   32       -1            0.000000   \n",
       "1      2.769231e+00                   13       -1            0.693147   \n",
       "2      1.146154e+01                   26       -1            1.098612   \n",
       "3      6.705882e+00                   17       -1            1.386294   \n",
       "4      4.000000e+00                    1       -1            1.609438   \n",
       "...             ...                  ...      ...                 ...   \n",
       "24837  2.666667e+00                    3       -1            1.929190   \n",
       "24838  1.000000e+20                    0        1            1.929127   \n",
       "24839  1.000000e+20                    0        1            1.929064   \n",
       "24840  1.351250e+02                    8       -1            1.929344   \n",
       "24841  1.000000e+20                    0        1            1.929281   \n",
       "\n",
       "       Entropy Remote Address  Entropy Remote Port  \n",
       "0                    0.000000             0.000000  \n",
       "1                    0.693147             0.000000  \n",
       "2                    0.636514             0.000000  \n",
       "3                    1.039721             0.000000  \n",
       "4                    0.950271             0.000000  \n",
       "...                       ...                  ...  \n",
       "24837                1.281422             8.093012  \n",
       "24838                1.281484             8.092800  \n",
       "24839                1.281612             8.092570  \n",
       "24840                1.281751             8.092377  \n",
       "24841                1.281933             8.092184  \n",
       "\n",
       "[24842 rows x 20 columns]"
      ]
     },
     "execution_count": 572,
     "metadata": {},
     "output_type": "execute_result"
    }
   ],
   "source": [
    "def entropy_calc(data):\n",
    "    p_data = data.value_counts()           # counts occurrence of each value\n",
    "    entropy = scipy.stats.entropy(p_data)  # get entropy from counts\n",
    "    return entropy\n",
    "df[\"Entropy throughput\"] = 0.0\n",
    "df[\"Entropy Remote Address\"] = 0.0\n",
    "df[\"Entropy Remote Port\"] = 0.0\n",
    "for i in range(0,len(df[\"Total Size\"])):\n",
    "    df[\"Entropy throughput\"][i] = entropy_calc(df[\"Throughput\"][:i+1])\n",
    "    df[\"Entropy Remote Address\"][i] = entropy_calc(df[\"Remote Address\"][:i+1])\n",
    "    df[\"Entropy Remote Port\"][i] = entropy_calc(df[\"Remote Port\"][:i+1])\n",
    "    \n",
    "df    "
   ]
  },
  {
   "cell_type": "code",
   "execution_count": 573,
   "metadata": {},
   "outputs": [
    {
     "data": {
      "text/plain": [
       "[<matplotlib.lines.Line2D at 0x1365f236508>]"
      ]
     },
     "execution_count": 573,
     "metadata": {},
     "output_type": "execute_result"
    },
    {
     "data": {
      "image/png": "[encoded data removed]",
      "text/plain": [
       "<Figure size 432x288 with 1 Axes>"
      ]
     },
     "metadata": {
      "needs_background": "light"
     },
     "output_type": "display_data"
    },
    {
     "data": {
      "image/png": "[encoded data removed]",
      "text/plain": [
       "<Figure size 432x288 with 1 Axes>"
      ]
     },
     "metadata": {
      "needs_background": "light"
     },
     "output_type": "display_data"
    },
    {
     "data": {
      "image/png": "[encoded data removed]",
      "text/plain": [
       "<Figure size 432x288 with 1 Axes>"
      ]
     },
     "metadata": {
      "needs_background": "light"
     },
     "output_type": "display_data"
    }
   ],
   "source": [
    "plt.plot(df[\"Entropy throughput\"])\n",
    "plt.figure()\n",
    "plt.plot(df[\"Entropy Remote Address\"])\n",
    "plt.figure()\n",
    "plt.plot(df[\"Entropy Remote Port\"])"
   ]
  },
  {
   "cell_type": "code",
   "execution_count": 578,
   "metadata": {},
   "outputs": [
    {
     "name": "stderr",
     "output_type": "stream",
     "text": [
      "C:\\Users\\Gowri\\Anaconda3\\lib\\site-packages\\ipykernel_launcher.py:10: SettingWithCopyWarning: \n",
      "A value is trying to be set on a copy of a slice from a DataFrame\n",
      "\n",
      "See the caveats in the documentation: http://pandas.pydata.org/pandas-docs/stable/user_guide/indexing.html#returning-a-view-versus-a-copy\n",
      "  # Remove the CWD from sys.path while we load stuff.\n",
      "C:\\Users\\Gowri\\Anaconda3\\lib\\site-packages\\ipykernel_launcher.py:8: SettingWithCopyWarning: \n",
      "A value is trying to be set on a copy of a slice from a DataFrame\n",
      "\n",
      "See the caveats in the documentation: http://pandas.pydata.org/pandas-docs/stable/user_guide/indexing.html#returning-a-view-versus-a-copy\n",
      "  \n"
     ]
    }
   ],
   "source": [
    "## Entropy throughput anomaly detection\n",
    "df[\"Anomaly entropy based\"] = -1\n",
    "df[\"Anomaly port entropy based\"] = -1\n",
    "checkval = df[\"Entropy throughput\"][0]\n",
    "check_port = df[\"Entropy Remote Port\"][0]\n",
    "for i in range(0,len(df[\"Total Size\"])):\n",
    "    if df[\"Entropy throughput\"][i]<checkval:\n",
    "        df[\"Anomaly entropy based\"][i] = 1\n",
    "    if df[\"Entropy Remote Port\"][i]>check_port:\n",
    "        df[\"Anomaly port entropy based\"][i] = 1\n",
    "    check_port = df[\"Entropy Remote Port\"][i]\n",
    "    checkval = df[\"Entropy throughput\"][i]\n",
    "# df[\"Entropy throughput\"][0],checkval,type(df[\"Entropy throughput\"][0]),type(checkval),df[\"Entropy throughput\"][i]<checkval"
   ]
  },
  {
   "cell_type": "code",
   "execution_count": 579,
   "metadata": {},
   "outputs": [
    {
     "data": {
      "text/plain": [
       "[<matplotlib.lines.Line2D at 0x1365f4dc288>]"
      ]
     },
     "execution_count": 579,
     "metadata": {},
     "output_type": "execute_result"
    },
    {
     "data": {
      "image/png": "[encoded data removed]",
      "text/plain": [
       "<Figure size 3600x648 with 1 Axes>"
      ]
     },
     "metadata": {
      "needs_background": "light"
     },
     "output_type": "display_data"
    },
    {
     "data": {
      "image/png": "[encoded data removed]",
      "text/plain": [
       "<Figure size 432x288 with 1 Axes>"
      ]
     },
     "metadata": {
      "needs_background": "light"
     },
     "output_type": "display_data"
    }
   ],
   "source": [
    "f = plt.figure()\n",
    "f.set_figwidth(50)\n",
    "f.set_figheight(9)\n",
    "plt.plot(df[\"Anomaly entropy based\"])\n",
    "plt.figure()\n",
    "plt.plot(df[\"Anomaly port entropy based\"])"
   ]
  },
  {
   "cell_type": "code",
   "execution_count": 576,
   "metadata": {},
   "outputs": [
    {
     "data": {
      "text/plain": [
       "((3257, 1435, 4411, 15739),\n",
       " 0.9164434610457669,\n",
       " 0.7646727316641172,\n",
       " 0.843371557175008)"
      ]
     },
     "execution_count": 576,
     "metadata": {},
     "output_type": "execute_result"
    }
   ],
   "source": [
    "from sklearn.metrics import confusion_matrix,precision_score,accuracy_score,f1_score, classification_report\n",
    "tn, fp, fn, tp = confusion_matrix(df[\"Attack\"], df[\"Anomaly entropy based\"]).ravel()\n",
    "precision = precision_score(df[\"Attack\"], df[\"Anomaly entropy based\"])\n",
    "accuracy = accuracy_score(df[\"Attack\"], df[\"Anomaly entropy based\"])\n",
    "f1_score = f1_score(df[\"Attack\"], df[\"Anomaly entropy based\"])\n",
    "(tn,fp,fn,tp), precision, accuracy, f1_score"
   ]
  },
  {
   "cell_type": "code",
   "execution_count": 580,
   "metadata": {},
   "outputs": [
    {
     "data": {
      "text/plain": [
       "((4355, 337, 381, 19769),\n",
       " 0.983238834178852,\n",
       " 0.9710973351581998,\n",
       " 0.9821641494435612)"
      ]
     },
     "execution_count": 580,
     "metadata": {},
     "output_type": "execute_result"
    }
   ],
   "source": [
    "from sklearn.metrics import confusion_matrix,precision_score,accuracy_score,f1_score, classification_report\n",
    "tn, fp, fn, tp = confusion_matrix(df[\"Attack\"], df[\"Anomaly port entropy based\"]).ravel()\n",
    "precision = precision_score(df[\"Attack\"], df[\"Anomaly port entropy based\"])\n",
    "accuracy = accuracy_score(df[\"Attack\"], df[\"Anomaly port entropy based\"])\n",
    "f1_score = f1_score(df[\"Attack\"], df[\"Anomaly port entropy based\"])\n",
    "(tn,fp,fn,tp), precision, accuracy, f1_score"
   ]
  },
  {
   "cell_type": "markdown",
   "metadata": {},
   "source": [
    "# SVM"
   ]
  },
  {
   "cell_type": "code",
   "execution_count": 340,
   "metadata": {},
   "outputs": [],
   "source": [
    "from sklearn.svm import OneClassSVM\n",
    "# dfsvm = df[[\"Local Port\",\"Remote Port\",\"Packets\",\"Data Size\",\"Total Size\",\"Data Speed\",\"Capture Time\",\"Last Packet Time\",\"Duration\",\"Throughput\",\"Duration in seconds\"]]\n",
    "model = OneClassSVM(kernel = 'poly', gamma = 0.001, nu = 0.03).fit(df[[\"Packets\",\"Data Size\",\"Total Size\",\"Throughput\",\"Duration in seconds\"]])"
   ]
  },
  {
   "cell_type": "code",
   "execution_count": 341,
   "metadata": {},
   "outputs": [],
   "source": [
    "# df[df[\"Data Speed\"]==np.inf]\n",
    "# type(df[\"Data Speed\"][4])\n",
    "y_pred = model.predict(df[[\"Packets\",\"Data Size\",\"Total Size\",\"Throughput\",\"Duration in seconds\"]])"
   ]
  },
  {
   "cell_type": "code",
   "execution_count": 342,
   "metadata": {},
   "outputs": [
    {
     "name": "stdout",
     "output_type": "stream",
     "text": [
      "(201, 3924, 0, 7128) 0.6449511400651465 0.6512929885363903\n",
      "              precision    recall  f1-score   support\n",
      "\n",
      "          -1       1.00      0.05      0.09      4125\n",
      "           1       0.64      1.00      0.78      7128\n",
      "\n",
      "    accuracy                           0.65     11253\n",
      "   macro avg       0.82      0.52      0.44     11253\n",
      "weighted avg       0.78      0.65      0.53     11253\n",
      "\n"
     ]
    }
   ],
   "source": [
    "tn, fp, fn, tp = confusion_matrix(df[\"Attack\"], y_pred).ravel()\n",
    "precision = precision_score(df[\"Attack\"], y_pred)\n",
    "accuracy = accuracy_score(df[\"Attack\"], y_pred)\n",
    "# f1_score = f1_score(df[\"Attack\"], y_pred)\n",
    "# y_pred\n",
    "print((tn,fp,fn,tp), precision, accuracy)\n",
    "print(classification_report(df[\"Attack\"], y_pred))"
   ]
  },
  {
   "cell_type": "markdown",
   "metadata": {},
   "source": [
    "# Logistic Regression"
   ]
  },
  {
   "cell_type": "code",
   "execution_count": null,
   "metadata": {},
   "outputs": [],
   "source": [
    "from sklearn.linear_model import LogisticRegression\n",
    "logisticRegr = LogisticRegression()\n",
    "# https://towardsdatascience.com/logistic-regression-using-python-sklearn-numpy-mnist-handwriting-recognition-matplotlib-a6b31e2b166a"
   ]
  }
 ],
 "metadata": {
  "kernelspec": {
   "display_name": "Python 3",
   "language": "python",
   "name": "python3"
  },
  "language_info": {
   "codemirror_mode": {
    "name": "ipython",
    "version": 3
   },
   "file_extension": ".py",
   "mimetype": "text/x-python",
   "name": "python",
   "nbconvert_exporter": "python",
   "pygments_lexer": "ipython3",
   "version": "3.7.4"
  }
 },
 "nbformat": 4,
 "nbformat_minor": 2
}

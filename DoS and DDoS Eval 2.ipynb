{
 "cells": [
  {
   "cell_type": "code",
   "execution_count": 52,
   "metadata": {},
   "outputs": [],
   "source": [
    "import pandas as pd\n",
    "import matplotlib.pyplot as plt\n",
    "import string\n",
    "import numpy as np\n",
    "from datetime import datetime\n",
    "import time\n",
    "import scipy\n",
    "from math import e\n",
    "df_attack_test = pd.read_csv(\"Dataset/DDosAttack.csv\")\n",
    "df_idle = pd.read_csv(\"Dataset/IdleSystem.csv\")\n",
    "df_working = pd.read_csv(\"Dataset/WorkingSystem.csv\")\n",
    "df_attack = pd.read_csv(\"Dataset/Dos_10k.csv\")"
   ]
  },
  {
   "cell_type": "code",
   "execution_count": 53,
   "metadata": {},
   "outputs": [],
   "source": [
    "# DDoS dataset\n",
    "df_ddos_g = pd.read_csv(\"Dataset/DDos Gowri.csv\")\n",
    "df_ddos_m = pd.read_csv(\"Dataset/DDos Mukesh.csv\")\n",
    "df_ddos_l = pd.read_csv(\"Dataset/DDos Likhita.csv\")\n",
    "df_ddos_s = pd.read_csv(\"Dataset/DDos Sumedha.csv\")\n",
    "df_ddos_attack = pd.concat([df_ddos_g,df_ddos_m,df_ddos_l,df_ddos_s])"
   ]
  },
  {
   "cell_type": "markdown",
   "metadata": {},
   "source": [
    "# Notes: "
   ]
  },
  {
   "cell_type": "raw",
   "metadata": {},
   "source": [
    "* Idle system : \n",
    "    total packets : 151781\n",
    "    duration : 20394\n",
    "    7.44\n",
    "* working system : \n",
    "    total packets : 168034\n",
    "    duration : 25019\n",
    "    6.71\n",
    "* system under attack : \n",
    "    total packets : 25538\n",
    "    duration : 213297\n",
    "    286.6"
   ]
  },
  {
   "cell_type": "code",
   "execution_count": 57,
   "metadata": {},
   "outputs": [
    {
     "data": {
      "text/html": [
       "<div>\n",
       "<style scoped>\n",
       "    .dataframe tbody tr th:only-of-type {\n",
       "        vertical-align: middle;\n",
       "    }\n",
       "\n",
       "    .dataframe tbody tr th {\n",
       "        vertical-align: top;\n",
       "    }\n",
       "\n",
       "    .dataframe thead th {\n",
       "        text-align: right;\n",
       "    }\n",
       "</style>\n",
       "<table border=\"1\" class=\"dataframe\">\n",
       "  <thead>\n",
       "    <tr style=\"text-align: right;\">\n",
       "      <th></th>\n",
       "      <th>Index</th>\n",
       "      <th>Protocol</th>\n",
       "      <th>Local Address</th>\n",
       "      <th>Remote Address</th>\n",
       "      <th>Local Port</th>\n",
       "      <th>Remote Port</th>\n",
       "      <th>Local Host</th>\n",
       "      <th>Remote Host</th>\n",
       "      <th>Service Name</th>\n",
       "      <th>Packets</th>\n",
       "      <th>Data Size</th>\n",
       "      <th>Total Size</th>\n",
       "      <th>Data Speed</th>\n",
       "      <th>Capture Time</th>\n",
       "      <th>Last Packet Time</th>\n",
       "      <th>Duration</th>\n",
       "      <th>Attack</th>\n",
       "    </tr>\n",
       "  </thead>\n",
       "  <tbody>\n",
       "    <tr>\n",
       "      <td>0</td>\n",
       "      <td>1</td>\n",
       "      <td>TCP</td>\n",
       "      <td>10.0.2.15</td>\n",
       "      <td>41.63.105.0</td>\n",
       "      <td>49699.0</td>\n",
       "      <td>80.0</td>\n",
       "      <td>NaN</td>\n",
       "      <td>https-41-63-105-0.hyd.llnw.net</td>\n",
       "      <td>http</td>\n",
       "      <td>214</td>\n",
       "      <td>257,800 Bytes</td>\n",
       "      <td>267,860 Bytes</td>\n",
       "      <td>3227.7 KB/Sec</td>\n",
       "      <td>10/25/2022 8:39:11 AM:097</td>\n",
       "      <td>10/25/2022 8:39:43 AM:672</td>\n",
       "      <td>00:32.6</td>\n",
       "      <td>-1</td>\n",
       "    </tr>\n",
       "    <tr>\n",
       "      <td>1</td>\n",
       "      <td>2</td>\n",
       "      <td>TCP</td>\n",
       "      <td>10.0.2.15</td>\n",
       "      <td>41.63.105.128</td>\n",
       "      <td>49709.0</td>\n",
       "      <td>80.0</td>\n",
       "      <td>NaN</td>\n",
       "      <td>https-41-63-105-128.hyd.llnw.net</td>\n",
       "      <td>http</td>\n",
       "      <td>36</td>\n",
       "      <td>32,122 Bytes</td>\n",
       "      <td>33,603 Bytes</td>\n",
       "      <td>667.4 KB/Sec</td>\n",
       "      <td>10/25/2022 8:39:12 AM:160</td>\n",
       "      <td>10/25/2022 8:39:25 AM:176</td>\n",
       "      <td>00:13.0</td>\n",
       "      <td>-1</td>\n",
       "    </tr>\n",
       "    <tr>\n",
       "      <td>2</td>\n",
       "      <td>3</td>\n",
       "      <td>TCP</td>\n",
       "      <td>10.0.2.15</td>\n",
       "      <td>41.63.105.128</td>\n",
       "      <td>49698.0</td>\n",
       "      <td>80.0</td>\n",
       "      <td>NaN</td>\n",
       "      <td>https-41-63-105-128.hyd.llnw.net</td>\n",
       "      <td>http</td>\n",
       "      <td>298</td>\n",
       "      <td>365,003 Bytes</td>\n",
       "      <td>376,964 Bytes</td>\n",
       "      <td>5749.2 KB/Sec</td>\n",
       "      <td>10/25/2022 8:39:12 AM:160</td>\n",
       "      <td>10/25/2022 8:39:38 AM:362</td>\n",
       "      <td>00:26.2</td>\n",
       "      <td>-1</td>\n",
       "    </tr>\n",
       "    <tr>\n",
       "      <td>3</td>\n",
       "      <td>4</td>\n",
       "      <td>TCP</td>\n",
       "      <td>10.0.2.15</td>\n",
       "      <td>117.18.232.240</td>\n",
       "      <td>49696.0</td>\n",
       "      <td>80.0</td>\n",
       "      <td>NaN</td>\n",
       "      <td>NaN</td>\n",
       "      <td>http</td>\n",
       "      <td>114</td>\n",
       "      <td>131,402 Bytes</td>\n",
       "      <td>136,003 Bytes</td>\n",
       "      <td>2069.7 KB/Sec</td>\n",
       "      <td>10/25/2022 8:39:12 AM:176</td>\n",
       "      <td>10/25/2022 8:39:30 AM:012</td>\n",
       "      <td>00:17.8</td>\n",
       "      <td>-1</td>\n",
       "    </tr>\n",
       "    <tr>\n",
       "      <td>4</td>\n",
       "      <td>5</td>\n",
       "      <td>TCP</td>\n",
       "      <td>10.0.2.15</td>\n",
       "      <td>41.63.105.128</td>\n",
       "      <td>49694.0</td>\n",
       "      <td>80.0</td>\n",
       "      <td>NaN</td>\n",
       "      <td>https-41-63-105-128.hyd.llnw.net</td>\n",
       "      <td>http</td>\n",
       "      <td>4</td>\n",
       "      <td>1,461 Bytes</td>\n",
       "      <td>1,662 Bytes</td>\n",
       "      <td>NaN</td>\n",
       "      <td>10/25/2022 8:39:12 AM:176</td>\n",
       "      <td>10/25/2022 8:39:13 AM:332</td>\n",
       "      <td>00:01.2</td>\n",
       "      <td>-1</td>\n",
       "    </tr>\n",
       "    <tr>\n",
       "      <td>...</td>\n",
       "      <td>...</td>\n",
       "      <td>...</td>\n",
       "      <td>...</td>\n",
       "      <td>...</td>\n",
       "      <td>...</td>\n",
       "      <td>...</td>\n",
       "      <td>...</td>\n",
       "      <td>...</td>\n",
       "      <td>...</td>\n",
       "      <td>...</td>\n",
       "      <td>...</td>\n",
       "      <td>...</td>\n",
       "      <td>...</td>\n",
       "      <td>...</td>\n",
       "      <td>...</td>\n",
       "      <td>...</td>\n",
       "      <td>...</td>\n",
       "    </tr>\n",
       "    <tr>\n",
       "      <td>803</td>\n",
       "      <td>804</td>\n",
       "      <td>TCP</td>\n",
       "      <td>10.0.2.15</td>\n",
       "      <td>8.241.161.254</td>\n",
       "      <td>50728.0</td>\n",
       "      <td>80.0</td>\n",
       "      <td>NaN</td>\n",
       "      <td>NaN</td>\n",
       "      <td>http</td>\n",
       "      <td>4</td>\n",
       "      <td>1,431 Bytes</td>\n",
       "      <td>1,944 Bytes</td>\n",
       "      <td>93.2 KB/Sec</td>\n",
       "      <td>10/25/2022 9:40:49 AM:286</td>\n",
       "      <td>10/25/2022 9:40:50 AM:810</td>\n",
       "      <td>00:01.5</td>\n",
       "      <td>-1</td>\n",
       "    </tr>\n",
       "    <tr>\n",
       "      <td>804</td>\n",
       "      <td>805</td>\n",
       "      <td>UDP</td>\n",
       "      <td>10.0.2.15</td>\n",
       "      <td>192.168.0.1</td>\n",
       "      <td>54472.0</td>\n",
       "      <td>53.0</td>\n",
       "      <td>NaN</td>\n",
       "      <td>NaN</td>\n",
       "      <td>domain</td>\n",
       "      <td>4</td>\n",
       "      <td>346 Bytes</td>\n",
       "      <td>538 Bytes</td>\n",
       "      <td>21.1 KB/Sec</td>\n",
       "      <td>10/25/2022 9:40:50 AM:804</td>\n",
       "      <td>10/25/2022 9:40:51 AM:992</td>\n",
       "      <td>00:01.2</td>\n",
       "      <td>-1</td>\n",
       "    </tr>\n",
       "    <tr>\n",
       "      <td>805</td>\n",
       "      <td>806</td>\n",
       "      <td>TCP</td>\n",
       "      <td>10.0.2.15</td>\n",
       "      <td>41.63.105.128</td>\n",
       "      <td>50729.0</td>\n",
       "      <td>80.0</td>\n",
       "      <td>NaN</td>\n",
       "      <td>https-41-63-105-128.hyd.llnw.net</td>\n",
       "      <td>http</td>\n",
       "      <td>7</td>\n",
       "      <td>665 Bytes</td>\n",
       "      <td>1,409 Bytes</td>\n",
       "      <td>14.1 KB/Sec</td>\n",
       "      <td>10/25/2022 9:40:53 AM:461</td>\n",
       "      <td>10/25/2022 9:40:56 AM:848</td>\n",
       "      <td>00:03.4</td>\n",
       "      <td>-1</td>\n",
       "    </tr>\n",
       "    <tr>\n",
       "      <td>806</td>\n",
       "      <td>807</td>\n",
       "      <td>TCP</td>\n",
       "      <td>10.0.2.15</td>\n",
       "      <td>41.63.105.0</td>\n",
       "      <td>50730.0</td>\n",
       "      <td>80.0</td>\n",
       "      <td>NaN</td>\n",
       "      <td>https-41-63-105-0.hyd.llnw.net</td>\n",
       "      <td>http</td>\n",
       "      <td>8</td>\n",
       "      <td>665 Bytes</td>\n",
       "      <td>1,449 Bytes</td>\n",
       "      <td>14.1 KB/Sec</td>\n",
       "      <td>10/25/2022 9:40:53 AM:578</td>\n",
       "      <td>10/25/2022 9:40:56 AM:951</td>\n",
       "      <td>00:03.4</td>\n",
       "      <td>-1</td>\n",
       "    </tr>\n",
       "    <tr>\n",
       "      <td>807</td>\n",
       "      <td>808</td>\n",
       "      <td>UDP</td>\n",
       "      <td>10.0.2.15</td>\n",
       "      <td>239.255.255.250</td>\n",
       "      <td>53869.0</td>\n",
       "      <td>1900.0</td>\n",
       "      <td>NaN</td>\n",
       "      <td>NaN</td>\n",
       "      <td>ssdp</td>\n",
       "      <td>8</td>\n",
       "      <td>1,400 Bytes</td>\n",
       "      <td>1,827 Bytes</td>\n",
       "      <td>91.1 KB/Sec</td>\n",
       "      <td>10/25/2022 9:41:09 AM:113</td>\n",
       "      <td>10/25/2022 9:41:12 AM:316</td>\n",
       "      <td>00:03.2</td>\n",
       "      <td>-1</td>\n",
       "    </tr>\n",
       "  </tbody>\n",
       "</table>\n",
       "<p>9558 rows × 17 columns</p>\n",
       "</div>"
      ],
      "text/plain": [
       "     Index Protocol Local Address   Remote Address  Local Port  Remote Port  \\\n",
       "0        1      TCP     10.0.2.15      41.63.105.0     49699.0         80.0   \n",
       "1        2      TCP     10.0.2.15    41.63.105.128     49709.0         80.0   \n",
       "2        3      TCP     10.0.2.15    41.63.105.128     49698.0         80.0   \n",
       "3        4      TCP     10.0.2.15   117.18.232.240     49696.0         80.0   \n",
       "4        5      TCP     10.0.2.15    41.63.105.128     49694.0         80.0   \n",
       "..     ...      ...           ...              ...         ...          ...   \n",
       "803    804      TCP     10.0.2.15    8.241.161.254     50728.0         80.0   \n",
       "804    805      UDP     10.0.2.15      192.168.0.1     54472.0         53.0   \n",
       "805    806      TCP     10.0.2.15    41.63.105.128     50729.0         80.0   \n",
       "806    807      TCP     10.0.2.15      41.63.105.0     50730.0         80.0   \n",
       "807    808      UDP     10.0.2.15  239.255.255.250     53869.0       1900.0   \n",
       "\n",
       "    Local Host                       Remote Host Service Name Packets  \\\n",
       "0          NaN    https-41-63-105-0.hyd.llnw.net         http     214   \n",
       "1          NaN  https-41-63-105-128.hyd.llnw.net         http      36   \n",
       "2          NaN  https-41-63-105-128.hyd.llnw.net         http     298   \n",
       "3          NaN                               NaN         http     114   \n",
       "4          NaN  https-41-63-105-128.hyd.llnw.net         http       4   \n",
       "..         ...                               ...          ...     ...   \n",
       "803        NaN                               NaN         http       4   \n",
       "804        NaN                               NaN       domain       4   \n",
       "805        NaN  https-41-63-105-128.hyd.llnw.net         http       7   \n",
       "806        NaN    https-41-63-105-0.hyd.llnw.net         http       8   \n",
       "807        NaN                               NaN         ssdp       8   \n",
       "\n",
       "         Data Size     Total Size     Data Speed               Capture Time  \\\n",
       "0    257,800 Bytes  267,860 Bytes  3227.7 KB/Sec  10/25/2022 8:39:11 AM:097   \n",
       "1     32,122 Bytes   33,603 Bytes   667.4 KB/Sec  10/25/2022 8:39:12 AM:160   \n",
       "2    365,003 Bytes  376,964 Bytes  5749.2 KB/Sec  10/25/2022 8:39:12 AM:160   \n",
       "3    131,402 Bytes  136,003 Bytes  2069.7 KB/Sec  10/25/2022 8:39:12 AM:176   \n",
       "4      1,461 Bytes    1,662 Bytes            NaN  10/25/2022 8:39:12 AM:176   \n",
       "..             ...            ...            ...                        ...   \n",
       "803    1,431 Bytes    1,944 Bytes    93.2 KB/Sec  10/25/2022 9:40:49 AM:286   \n",
       "804      346 Bytes      538 Bytes    21.1 KB/Sec  10/25/2022 9:40:50 AM:804   \n",
       "805      665 Bytes    1,409 Bytes    14.1 KB/Sec  10/25/2022 9:40:53 AM:461   \n",
       "806      665 Bytes    1,449 Bytes    14.1 KB/Sec  10/25/2022 9:40:53 AM:578   \n",
       "807    1,400 Bytes    1,827 Bytes    91.1 KB/Sec  10/25/2022 9:41:09 AM:113   \n",
       "\n",
       "              Last Packet Time Duration  Attack  \n",
       "0    10/25/2022 8:39:43 AM:672  00:32.6      -1  \n",
       "1    10/25/2022 8:39:25 AM:176  00:13.0      -1  \n",
       "2    10/25/2022 8:39:38 AM:362  00:26.2      -1  \n",
       "3    10/25/2022 8:39:30 AM:012  00:17.8      -1  \n",
       "4    10/25/2022 8:39:13 AM:332  00:01.2      -1  \n",
       "..                         ...      ...     ...  \n",
       "803  10/25/2022 9:40:50 AM:810  00:01.5      -1  \n",
       "804  10/25/2022 9:40:51 AM:992  00:01.2      -1  \n",
       "805  10/25/2022 9:40:56 AM:848  00:03.4      -1  \n",
       "806  10/25/2022 9:40:56 AM:951  00:03.4      -1  \n",
       "807  10/25/2022 9:41:12 AM:316  00:03.2      -1  \n",
       "\n",
       "[9558 rows x 17 columns]"
      ]
     },
     "execution_count": 57,
     "metadata": {},
     "output_type": "execute_result"
    }
   ],
   "source": [
    "# ls = [df_idle , df_idle , df_attack, df_attack, df_idle, df_idle, df_working, df_idle, df_idle, df_working]\n",
    "df_idle[\"Attack\"] = -1\n",
    "df_working[\"Attack\"] = -1\n",
    "df_attack[\"Attack\"] = 1\n",
    "df_attack = df_attack[df_attack[\"Remote Address\"] == '10.0.2.4'][:3000]\n",
    "ls = [df_idle, df_working,df_attack,df_working, df_idle, df_attack, df_working]\n",
    "# ls = [df_attack]\n",
    "df = pd.concat(ls)\n",
    "df"
   ]
  },
  {
   "cell_type": "code",
   "execution_count": 58,
   "metadata": {},
   "outputs": [
    {
     "data": {
      "text/html": [
       "<div>\n",
       "<style scoped>\n",
       "    .dataframe tbody tr th:only-of-type {\n",
       "        vertical-align: middle;\n",
       "    }\n",
       "\n",
       "    .dataframe tbody tr th {\n",
       "        vertical-align: top;\n",
       "    }\n",
       "\n",
       "    .dataframe thead th {\n",
       "        text-align: right;\n",
       "    }\n",
       "</style>\n",
       "<table border=\"1\" class=\"dataframe\">\n",
       "  <thead>\n",
       "    <tr style=\"text-align: right;\">\n",
       "      <th></th>\n",
       "      <th>Protocol</th>\n",
       "      <th>Local Address</th>\n",
       "      <th>Remote Address</th>\n",
       "      <th>Local Port</th>\n",
       "      <th>Remote Port</th>\n",
       "      <th>Service Name</th>\n",
       "      <th>Packets</th>\n",
       "      <th>Data Size</th>\n",
       "      <th>Total Size</th>\n",
       "      <th>Data Speed</th>\n",
       "      <th>Capture Time</th>\n",
       "      <th>Last Packet Time</th>\n",
       "      <th>Duration</th>\n",
       "      <th>Attack</th>\n",
       "    </tr>\n",
       "  </thead>\n",
       "  <tbody>\n",
       "    <tr>\n",
       "      <td>0</td>\n",
       "      <td>TCP</td>\n",
       "      <td>10.0.2.15</td>\n",
       "      <td>41.63.105.0</td>\n",
       "      <td>49699.0</td>\n",
       "      <td>80.0</td>\n",
       "      <td>http</td>\n",
       "      <td>214</td>\n",
       "      <td>257,800 Bytes</td>\n",
       "      <td>267,860 Bytes</td>\n",
       "      <td>3227.7 KB/Sec</td>\n",
       "      <td>10/25/2022 8:39:11 AM:097</td>\n",
       "      <td>10/25/2022 8:39:43 AM:672</td>\n",
       "      <td>00:32.6</td>\n",
       "      <td>-1</td>\n",
       "    </tr>\n",
       "    <tr>\n",
       "      <td>1</td>\n",
       "      <td>TCP</td>\n",
       "      <td>10.0.2.15</td>\n",
       "      <td>41.63.105.128</td>\n",
       "      <td>49709.0</td>\n",
       "      <td>80.0</td>\n",
       "      <td>http</td>\n",
       "      <td>36</td>\n",
       "      <td>32,122 Bytes</td>\n",
       "      <td>33,603 Bytes</td>\n",
       "      <td>667.4 KB/Sec</td>\n",
       "      <td>10/25/2022 8:39:12 AM:160</td>\n",
       "      <td>10/25/2022 8:39:25 AM:176</td>\n",
       "      <td>00:13.0</td>\n",
       "      <td>-1</td>\n",
       "    </tr>\n",
       "    <tr>\n",
       "      <td>2</td>\n",
       "      <td>TCP</td>\n",
       "      <td>10.0.2.15</td>\n",
       "      <td>41.63.105.128</td>\n",
       "      <td>49698.0</td>\n",
       "      <td>80.0</td>\n",
       "      <td>http</td>\n",
       "      <td>298</td>\n",
       "      <td>365,003 Bytes</td>\n",
       "      <td>376,964 Bytes</td>\n",
       "      <td>5749.2 KB/Sec</td>\n",
       "      <td>10/25/2022 8:39:12 AM:160</td>\n",
       "      <td>10/25/2022 8:39:38 AM:362</td>\n",
       "      <td>00:26.2</td>\n",
       "      <td>-1</td>\n",
       "    </tr>\n",
       "    <tr>\n",
       "      <td>3</td>\n",
       "      <td>TCP</td>\n",
       "      <td>10.0.2.15</td>\n",
       "      <td>117.18.232.240</td>\n",
       "      <td>49696.0</td>\n",
       "      <td>80.0</td>\n",
       "      <td>http</td>\n",
       "      <td>114</td>\n",
       "      <td>131,402 Bytes</td>\n",
       "      <td>136,003 Bytes</td>\n",
       "      <td>2069.7 KB/Sec</td>\n",
       "      <td>10/25/2022 8:39:12 AM:176</td>\n",
       "      <td>10/25/2022 8:39:30 AM:012</td>\n",
       "      <td>00:17.8</td>\n",
       "      <td>-1</td>\n",
       "    </tr>\n",
       "    <tr>\n",
       "      <td>4</td>\n",
       "      <td>TCP</td>\n",
       "      <td>10.0.2.15</td>\n",
       "      <td>41.63.105.128</td>\n",
       "      <td>49694.0</td>\n",
       "      <td>80.0</td>\n",
       "      <td>http</td>\n",
       "      <td>4</td>\n",
       "      <td>1,461 Bytes</td>\n",
       "      <td>1,662 Bytes</td>\n",
       "      <td>NaN</td>\n",
       "      <td>10/25/2022 8:39:12 AM:176</td>\n",
       "      <td>10/25/2022 8:39:13 AM:332</td>\n",
       "      <td>00:01.2</td>\n",
       "      <td>-1</td>\n",
       "    </tr>\n",
       "    <tr>\n",
       "      <td>...</td>\n",
       "      <td>...</td>\n",
       "      <td>...</td>\n",
       "      <td>...</td>\n",
       "      <td>...</td>\n",
       "      <td>...</td>\n",
       "      <td>...</td>\n",
       "      <td>...</td>\n",
       "      <td>...</td>\n",
       "      <td>...</td>\n",
       "      <td>...</td>\n",
       "      <td>...</td>\n",
       "      <td>...</td>\n",
       "      <td>...</td>\n",
       "      <td>...</td>\n",
       "    </tr>\n",
       "    <tr>\n",
       "      <td>9553</td>\n",
       "      <td>TCP</td>\n",
       "      <td>10.0.2.15</td>\n",
       "      <td>8.241.161.254</td>\n",
       "      <td>50728.0</td>\n",
       "      <td>80.0</td>\n",
       "      <td>http</td>\n",
       "      <td>4</td>\n",
       "      <td>1,431 Bytes</td>\n",
       "      <td>1,944 Bytes</td>\n",
       "      <td>93.2 KB/Sec</td>\n",
       "      <td>10/25/2022 9:40:49 AM:286</td>\n",
       "      <td>10/25/2022 9:40:50 AM:810</td>\n",
       "      <td>00:01.5</td>\n",
       "      <td>-1</td>\n",
       "    </tr>\n",
       "    <tr>\n",
       "      <td>9554</td>\n",
       "      <td>UDP</td>\n",
       "      <td>10.0.2.15</td>\n",
       "      <td>192.168.0.1</td>\n",
       "      <td>54472.0</td>\n",
       "      <td>53.0</td>\n",
       "      <td>domain</td>\n",
       "      <td>4</td>\n",
       "      <td>346 Bytes</td>\n",
       "      <td>538 Bytes</td>\n",
       "      <td>21.1 KB/Sec</td>\n",
       "      <td>10/25/2022 9:40:50 AM:804</td>\n",
       "      <td>10/25/2022 9:40:51 AM:992</td>\n",
       "      <td>00:01.2</td>\n",
       "      <td>-1</td>\n",
       "    </tr>\n",
       "    <tr>\n",
       "      <td>9555</td>\n",
       "      <td>TCP</td>\n",
       "      <td>10.0.2.15</td>\n",
       "      <td>41.63.105.128</td>\n",
       "      <td>50729.0</td>\n",
       "      <td>80.0</td>\n",
       "      <td>http</td>\n",
       "      <td>7</td>\n",
       "      <td>665 Bytes</td>\n",
       "      <td>1,409 Bytes</td>\n",
       "      <td>14.1 KB/Sec</td>\n",
       "      <td>10/25/2022 9:40:53 AM:461</td>\n",
       "      <td>10/25/2022 9:40:56 AM:848</td>\n",
       "      <td>00:03.4</td>\n",
       "      <td>-1</td>\n",
       "    </tr>\n",
       "    <tr>\n",
       "      <td>9556</td>\n",
       "      <td>TCP</td>\n",
       "      <td>10.0.2.15</td>\n",
       "      <td>41.63.105.0</td>\n",
       "      <td>50730.0</td>\n",
       "      <td>80.0</td>\n",
       "      <td>http</td>\n",
       "      <td>8</td>\n",
       "      <td>665 Bytes</td>\n",
       "      <td>1,449 Bytes</td>\n",
       "      <td>14.1 KB/Sec</td>\n",
       "      <td>10/25/2022 9:40:53 AM:578</td>\n",
       "      <td>10/25/2022 9:40:56 AM:951</td>\n",
       "      <td>00:03.4</td>\n",
       "      <td>-1</td>\n",
       "    </tr>\n",
       "    <tr>\n",
       "      <td>9557</td>\n",
       "      <td>UDP</td>\n",
       "      <td>10.0.2.15</td>\n",
       "      <td>239.255.255.250</td>\n",
       "      <td>53869.0</td>\n",
       "      <td>1900.0</td>\n",
       "      <td>ssdp</td>\n",
       "      <td>8</td>\n",
       "      <td>1,400 Bytes</td>\n",
       "      <td>1,827 Bytes</td>\n",
       "      <td>91.1 KB/Sec</td>\n",
       "      <td>10/25/2022 9:41:09 AM:113</td>\n",
       "      <td>10/25/2022 9:41:12 AM:316</td>\n",
       "      <td>00:03.2</td>\n",
       "      <td>-1</td>\n",
       "    </tr>\n",
       "  </tbody>\n",
       "</table>\n",
       "<p>9558 rows × 14 columns</p>\n",
       "</div>"
      ],
      "text/plain": [
       "     Protocol Local Address   Remote Address  Local Port  Remote Port  \\\n",
       "0         TCP     10.0.2.15      41.63.105.0     49699.0         80.0   \n",
       "1         TCP     10.0.2.15    41.63.105.128     49709.0         80.0   \n",
       "2         TCP     10.0.2.15    41.63.105.128     49698.0         80.0   \n",
       "3         TCP     10.0.2.15   117.18.232.240     49696.0         80.0   \n",
       "4         TCP     10.0.2.15    41.63.105.128     49694.0         80.0   \n",
       "...       ...           ...              ...         ...          ...   \n",
       "9553      TCP     10.0.2.15    8.241.161.254     50728.0         80.0   \n",
       "9554      UDP     10.0.2.15      192.168.0.1     54472.0         53.0   \n",
       "9555      TCP     10.0.2.15    41.63.105.128     50729.0         80.0   \n",
       "9556      TCP     10.0.2.15      41.63.105.0     50730.0         80.0   \n",
       "9557      UDP     10.0.2.15  239.255.255.250     53869.0       1900.0   \n",
       "\n",
       "     Service Name Packets      Data Size     Total Size     Data Speed  \\\n",
       "0            http     214  257,800 Bytes  267,860 Bytes  3227.7 KB/Sec   \n",
       "1            http      36   32,122 Bytes   33,603 Bytes   667.4 KB/Sec   \n",
       "2            http     298  365,003 Bytes  376,964 Bytes  5749.2 KB/Sec   \n",
       "3            http     114  131,402 Bytes  136,003 Bytes  2069.7 KB/Sec   \n",
       "4            http       4    1,461 Bytes    1,662 Bytes            NaN   \n",
       "...           ...     ...            ...            ...            ...   \n",
       "9553         http       4    1,431 Bytes    1,944 Bytes    93.2 KB/Sec   \n",
       "9554       domain       4      346 Bytes      538 Bytes    21.1 KB/Sec   \n",
       "9555         http       7      665 Bytes    1,409 Bytes    14.1 KB/Sec   \n",
       "9556         http       8      665 Bytes    1,449 Bytes    14.1 KB/Sec   \n",
       "9557         ssdp       8    1,400 Bytes    1,827 Bytes    91.1 KB/Sec   \n",
       "\n",
       "                   Capture Time           Last Packet Time Duration  Attack  \n",
       "0     10/25/2022 8:39:11 AM:097  10/25/2022 8:39:43 AM:672  00:32.6      -1  \n",
       "1     10/25/2022 8:39:12 AM:160  10/25/2022 8:39:25 AM:176  00:13.0      -1  \n",
       "2     10/25/2022 8:39:12 AM:160  10/25/2022 8:39:38 AM:362  00:26.2      -1  \n",
       "3     10/25/2022 8:39:12 AM:176  10/25/2022 8:39:30 AM:012  00:17.8      -1  \n",
       "4     10/25/2022 8:39:12 AM:176  10/25/2022 8:39:13 AM:332  00:01.2      -1  \n",
       "...                         ...                        ...      ...     ...  \n",
       "9553  10/25/2022 9:40:49 AM:286  10/25/2022 9:40:50 AM:810  00:01.5      -1  \n",
       "9554  10/25/2022 9:40:50 AM:804  10/25/2022 9:40:51 AM:992  00:01.2      -1  \n",
       "9555  10/25/2022 9:40:53 AM:461  10/25/2022 9:40:56 AM:848  00:03.4      -1  \n",
       "9556  10/25/2022 9:40:53 AM:578  10/25/2022 9:40:56 AM:951  00:03.4      -1  \n",
       "9557  10/25/2022 9:41:09 AM:113  10/25/2022 9:41:12 AM:316  00:03.2      -1  \n",
       "\n",
       "[9558 rows x 14 columns]"
      ]
     },
     "execution_count": 58,
     "metadata": {},
     "output_type": "execute_result"
    }
   ],
   "source": [
    "df = df.drop([\"Index\",\"Local Host\",\"Remote Host\"],axis=1)\n",
    "# dropping the rows having NaN values\n",
    "# df = df.dropna(subset=[\"Data Speed\"])\n",
    "# To reset the indices\n",
    "df = df.reset_index(drop = True)\n",
    "df"
   ]
  },
  {
   "cell_type": "raw",
   "metadata": {},
   "source": [
    "# print(df[\"Duration\"].to_string())\n",
    "t = datetime.strptime(df[\"Duration\"][0].split('.')[0], '%M:%S')\n",
    "t1 = datetime.strptime(df[\"Duration\"][1].split('.')[0], '%M:%S')\n",
    "t = t.time()\n",
    "t, t.hour , t.minute, t.second, (t.hour*3600 + t.minute*60+ t.second) "
   ]
  },
  {
   "cell_type": "raw",
   "metadata": {},
   "source": [
    "t = t1.time()\n",
    "t, t.hour , t.minute, t.second, (t.hour*3600 + t.minute*60+ t.second) "
   ]
  },
  {
   "cell_type": "code",
   "execution_count": 59,
   "metadata": {},
   "outputs": [
    {
     "name": "stderr",
     "output_type": "stream",
     "text": [
      "C:\\Users\\Gowri\\Anaconda3\\lib\\site-packages\\ipykernel_launcher.py:5: SettingWithCopyWarning: \n",
      "A value is trying to be set on a copy of a slice from a DataFrame\n",
      "\n",
      "See the caveats in the documentation: http://pandas.pydata.org/pandas-docs/stable/user_guide/indexing.html#returning-a-view-versus-a-copy\n",
      "  \"\"\"\n",
      "C:\\Users\\Gowri\\Anaconda3\\lib\\site-packages\\ipykernel_launcher.py:6: SettingWithCopyWarning: \n",
      "A value is trying to be set on a copy of a slice from a DataFrame\n",
      "\n",
      "See the caveats in the documentation: http://pandas.pydata.org/pandas-docs/stable/user_guide/indexing.html#returning-a-view-versus-a-copy\n",
      "  \n",
      "C:\\Users\\Gowri\\Anaconda3\\lib\\site-packages\\ipykernel_launcher.py:8: SettingWithCopyWarning: \n",
      "A value is trying to be set on a copy of a slice from a DataFrame\n",
      "\n",
      "See the caveats in the documentation: http://pandas.pydata.org/pandas-docs/stable/user_guide/indexing.html#returning-a-view-versus-a-copy\n",
      "  \n",
      "C:\\Users\\Gowri\\Anaconda3\\lib\\site-packages\\ipykernel_launcher.py:9: SettingWithCopyWarning: \n",
      "A value is trying to be set on a copy of a slice from a DataFrame\n",
      "\n",
      "See the caveats in the documentation: http://pandas.pydata.org/pandas-docs/stable/user_guide/indexing.html#returning-a-view-versus-a-copy\n",
      "  if __name__ == '__main__':\n",
      "C:\\Users\\Gowri\\Anaconda3\\lib\\site-packages\\ipykernel_launcher.py:13: SettingWithCopyWarning: \n",
      "A value is trying to be set on a copy of a slice from a DataFrame\n",
      "\n",
      "See the caveats in the documentation: http://pandas.pydata.org/pandas-docs/stable/user_guide/indexing.html#returning-a-view-versus-a-copy\n",
      "  del sys.path[0]\n",
      "C:\\Users\\Gowri\\Anaconda3\\lib\\site-packages\\ipykernel_launcher.py:17: SettingWithCopyWarning: \n",
      "A value is trying to be set on a copy of a slice from a DataFrame\n",
      "\n",
      "See the caveats in the documentation: http://pandas.pydata.org/pandas-docs/stable/user_guide/indexing.html#returning-a-view-versus-a-copy\n",
      "C:\\Users\\Gowri\\Anaconda3\\lib\\site-packages\\ipykernel_launcher.py:19: SettingWithCopyWarning: \n",
      "A value is trying to be set on a copy of a slice from a DataFrame\n",
      "\n",
      "See the caveats in the documentation: http://pandas.pydata.org/pandas-docs/stable/user_guide/indexing.html#returning-a-view-versus-a-copy\n",
      "C:\\Users\\Gowri\\Anaconda3\\lib\\site-packages\\ipykernel_launcher.py:20: SettingWithCopyWarning: \n",
      "A value is trying to be set on a copy of a slice from a DataFrame\n",
      "\n",
      "See the caveats in the documentation: http://pandas.pydata.org/pandas-docs/stable/user_guide/indexing.html#returning-a-view-versus-a-copy\n",
      "C:\\Users\\Gowri\\Anaconda3\\lib\\site-packages\\ipykernel_launcher.py:21: SettingWithCopyWarning: \n",
      "A value is trying to be set on a copy of a slice from a DataFrame\n",
      "\n",
      "See the caveats in the documentation: http://pandas.pydata.org/pandas-docs/stable/user_guide/indexing.html#returning-a-view-versus-a-copy\n"
     ]
    }
   ],
   "source": [
    "df[\"Throughput\"] = 0\n",
    "df[\"Duration in seconds\"] = 0\n",
    "type(df[\"Total Size\"][0])\n",
    "for i in range(0,len(df[\"Total Size\"])):\n",
    "    df[\"Total Size\"][i] = df[\"Total Size\"][i].translate(str.maketrans('', '', string.punctuation))\n",
    "    df[\"Total Size\"][i] = int(df[\"Total Size\"][i].split(' ')[0])\n",
    "    \n",
    "    df[\"Data Size\"][i] = df[\"Data Size\"][i].translate(str.maketrans('', '', string.punctuation))\n",
    "    df[\"Data Size\"][i] = int(df[\"Data Size\"][i].split(' ')[0])\n",
    "    \n",
    "#     df_s[\"Data speed\"][i] = df_s[\"Data speed\"][i].split(' ')[0]\n",
    "#     print(i)\n",
    "    df[\"Data Speed\"][i] = float(str(df[\"Data Speed\"][i]).split(' ')[0])\n",
    "#     df_s[\"Data speed\"][i] = float(df_s[\"Data speed\"][i])\n",
    "\n",
    "    t = datetime.strptime(df[\"Duration\"][i].split('.')[0], '%M:%S').time()\n",
    "    df[\"Duration in seconds\"][i] = t.hour*3600 + t.minute*60 + t.second\n",
    "    \n",
    "    df[\"Packets\"][i] = df[\"Packets\"][i].translate(str.maketrans('', '', string.punctuation))\n",
    "    df[\"Packets\"][i] = int(df[\"Packets\"][i].split(' ')[0])\n",
    "    df[\"Packets\"][i] = int(df[\"Packets\"][i])\n",
    "    \n",
    "#     df[\"Throughput\"] - \n",
    "    "
   ]
  },
  {
   "cell_type": "raw",
   "metadata": {},
   "source": [
    "type(df[\"Duration\"][0])"
   ]
  },
  {
   "cell_type": "code",
   "execution_count": 60,
   "metadata": {},
   "outputs": [
    {
     "data": {
      "text/plain": [
       "(116241, 9558)"
      ]
     },
     "execution_count": 60,
     "metadata": {},
     "output_type": "execute_result"
    }
   ],
   "source": [
    "df[\"Duration in seconds\"].sum(),len(df[\"Packets\"])\n",
    "# print(df[\"Duration in seconds\"])"
   ]
  },
  {
   "cell_type": "code",
   "execution_count": 7,
   "metadata": {},
   "outputs": [],
   "source": [
    "# plt.plot(df[\"Duration in seconds\"])"
   ]
  },
  {
   "cell_type": "code",
   "execution_count": 8,
   "metadata": {},
   "outputs": [],
   "source": [
    "# f = plt.figure()\n",
    "# f.set_figwidth(20)\n",
    "# f.set_figheight(9)\n",
    "# plt.xlabel(\"S No\")\n",
    "# plt.ylabel(\"Number of packets\")\n",
    "# plt.plot(df[\"Packets\"])"
   ]
  },
  {
   "cell_type": "code",
   "execution_count": 9,
   "metadata": {},
   "outputs": [],
   "source": [
    "# plt.plot(df[\"Data Speed\"])"
   ]
  },
  {
   "cell_type": "code",
   "execution_count": 10,
   "metadata": {},
   "outputs": [],
   "source": [
    "# df"
   ]
  },
  {
   "cell_type": "code",
   "execution_count": 61,
   "metadata": {},
   "outputs": [
    {
     "name": "stderr",
     "output_type": "stream",
     "text": [
      "C:\\Users\\Gowri\\Anaconda3\\lib\\site-packages\\ipykernel_launcher.py:6: SettingWithCopyWarning: \n",
      "A value is trying to be set on a copy of a slice from a DataFrame\n",
      "\n",
      "See the caveats in the documentation: http://pandas.pydata.org/pandas-docs/stable/user_guide/indexing.html#returning-a-view-versus-a-copy\n",
      "  \n",
      "C:\\Users\\Gowri\\Anaconda3\\lib\\site-packages\\ipykernel_launcher.py:3: RuntimeWarning: divide by zero encountered in longlong_scalars\n",
      "  This is separate from the ipykernel package so we can avoid doing imports until\n"
     ]
    }
   ],
   "source": [
    "df[\"Throughput\"] = 0.0\n",
    "for i in range(0,len(df[\"Total Size\"])):\n",
    "    val = df[\"Packets\"][i]/df[\"Duration in seconds\"][i]\n",
    "    if val==np.inf or val==-np.inf:\n",
    "        val = 10**15\n",
    "    df[\"Throughput\"][i] = val"
   ]
  },
  {
   "cell_type": "code",
   "execution_count": 12,
   "metadata": {},
   "outputs": [],
   "source": [
    "# df"
   ]
  },
  {
   "cell_type": "code",
   "execution_count": 62,
   "metadata": {},
   "outputs": [
    {
     "data": {
      "text/plain": [
       "[<matplotlib.lines.Line2D at 0x1de5dd90348>]"
      ]
     },
     "execution_count": 62,
     "metadata": {},
     "output_type": "execute_result"
    },
    {
     "data": {
      "image/png": "[encoded data removed]",
      "text/plain": [
       "<Figure size 2160x720 with 1 Axes>"
      ]
     },
     "metadata": {
      "needs_background": "light"
     },
     "output_type": "display_data"
    }
   ],
   "source": [
    "f = plt.figure()\n",
    "f.set_figwidth(30)\n",
    "f.set_figheight(10)\n",
    "plt.plot(df[\"Throughput\"])"
   ]
  },
  {
   "cell_type": "code",
   "execution_count": 63,
   "metadata": {},
   "outputs": [],
   "source": [
    "throughput = df[\"Throughput\"]"
   ]
  },
  {
   "cell_type": "code",
   "execution_count": 64,
   "metadata": {},
   "outputs": [
    {
     "data": {
      "text/plain": [
       "0        6.687500\n",
       "1        2.769231\n",
       "2       11.461538\n",
       "3        6.705882\n",
       "4        4.000000\n",
       "          ...    \n",
       "9553     4.000000\n",
       "9554     4.000000\n",
       "9555     2.333333\n",
       "9556     2.666667\n",
       "9557     2.666667\n",
       "Name: Throughput, Length: 9558, dtype: float64"
      ]
     },
     "execution_count": 64,
     "metadata": {},
     "output_type": "execute_result"
    }
   ],
   "source": [
    "throughput.replace([np.inf, -np.inf], np.nan, inplace=True)\n",
    "throughput.dropna(how=\"all\", inplace=True)\n",
    "throughput"
   ]
  },
  {
   "cell_type": "code",
   "execution_count": 74,
   "metadata": {},
   "outputs": [
    {
     "data": {
      "text/plain": [
       "444917908585371.06"
      ]
     },
     "execution_count": 74,
     "metadata": {},
     "output_type": "execute_result"
    }
   ],
   "source": [
    "mode = throughput.mode()\n",
    "stdev = throughput.std()\n",
    "stdev"
   ]
  },
  {
   "cell_type": "code",
   "execution_count": 67,
   "metadata": {},
   "outputs": [
    {
     "data": {
      "text/plain": [
       "1000000000000000.0"
      ]
     },
     "execution_count": 67,
     "metadata": {},
     "output_type": "execute_result"
    }
   ],
   "source": [
    "median = throughput.median()\n",
    "median"
   ]
  },
  {
   "cell_type": "code",
   "execution_count": 68,
   "metadata": {},
   "outputs": [
    {
     "data": {
      "text/plain": [
       "728185812931576.9"
      ]
     },
     "execution_count": 68,
     "metadata": {},
     "output_type": "execute_result"
    }
   ],
   "source": [
    "mean = throughput.mean()\n",
    "mean"
   ]
  },
  {
   "cell_type": "code",
   "execution_count": 79,
   "metadata": {},
   "outputs": [
    {
     "name": "stderr",
     "output_type": "stream",
     "text": [
      "C:\\Users\\Gowri\\Anaconda3\\lib\\site-packages\\ipykernel_launcher.py:6: SettingWithCopyWarning: \n",
      "A value is trying to be set on a copy of a slice from a DataFrame\n",
      "\n",
      "See the caveats in the documentation: http://pandas.pydata.org/pandas-docs/stable/user_guide/indexing.html#returning-a-view-versus-a-copy\n",
      "  \n"
     ]
    }
   ],
   "source": [
    "df[\"Anomaly\"] = -1\n",
    "df.replace(np.nan,np.inf,inplace=True)\n",
    "for i in range(0,len(df[\"Total Size\"])):\n",
    "    if(df[\"Throughput\"][i]>stdev):\n",
    "#         print(df[\"Throughput\"][i],mean)\n",
    "        df[\"Anomaly\"][i] = 1        "
   ]
  },
  {
   "cell_type": "code",
   "execution_count": 80,
   "metadata": {},
   "outputs": [
    {
     "data": {
      "text/plain": [
       "[<matplotlib.lines.Line2D at 0x1de544dd108>]"
      ]
     },
     "execution_count": 80,
     "metadata": {},
     "output_type": "execute_result"
    },
    {
     "data": {
      "image/png": "[encoded data removed]",
      "text/plain": [
       "<Figure size 3600x648 with 1 Axes>"
      ]
     },
     "metadata": {
      "needs_background": "light"
     },
     "output_type": "display_data"
    }
   ],
   "source": [
    "f = plt.figure()\n",
    "f.set_figwidth(50)\n",
    "f.set_figheight(9)\n",
    "plt.plot(df[\"Anomaly\"])"
   ]
  },
  {
   "cell_type": "code",
   "execution_count": 81,
   "metadata": {},
   "outputs": [],
   "source": [
    "from sklearn.metrics import confusion_matrix,precision_score,accuracy_score,f1_score, classification_report\n",
    "import seaborn as sn\n",
    "tn, fp, fn, tp = confusion_matrix(df[\"Attack\"], df[\"Anomaly\"]).ravel()\n",
    "precision = precision_score(df[\"Attack\"], df[\"Anomaly\"])\n",
    "accuracy = accuracy_score(df[\"Attack\"], df[\"Anomaly\"])\n",
    "f1_score = f1_score(df[\"Attack\"], df[\"Anomaly\"])"
   ]
  },
  {
   "cell_type": "code",
   "execution_count": 82,
   "metadata": {},
   "outputs": [
    {
     "data": {
      "text/plain": [
       "((2596, 962, 2, 5998),\n",
       " 0.8617816091954023,\n",
       " 0.8991420799330404,\n",
       " 0.9256172839506174)"
      ]
     },
     "execution_count": 82,
     "metadata": {},
     "output_type": "execute_result"
    }
   ],
   "source": [
    "(tn,fp,fn,tp), precision, accuracy, f1_score"
   ]
  },
  {
   "cell_type": "code",
   "execution_count": 22,
   "metadata": {},
   "outputs": [
    {
     "data": {
      "text/plain": [
       "<matplotlib.axes._subplots.AxesSubplot at 0x1de54f55b88>"
      ]
     },
     "execution_count": 22,
     "metadata": {},
     "output_type": "execute_result"
    },
    {
     "data": {
      "image/png": "[encoded data removed]",
      "text/plain": [
       "<Figure size 432x288 with 2 Axes>"
      ]
     },
     "metadata": {
      "needs_background": "light"
     },
     "output_type": "display_data"
    }
   ],
   "source": [
    "sn.heatmap(confusion_matrix(df[\"Attack\"], df[\"Anomaly\"]))"
   ]
  },
  {
   "cell_type": "code",
   "execution_count": 23,
   "metadata": {},
   "outputs": [
    {
     "name": "stdout",
     "output_type": "stream",
     "text": [
      "              precision    recall  f1-score   support\n",
      "\n",
      "          -1       1.00      0.73      0.84      3558\n",
      "           1       0.86      1.00      0.93      6000\n",
      "\n",
      "    accuracy                           0.90      9558\n",
      "   macro avg       0.93      0.86      0.88      9558\n",
      "weighted avg       0.91      0.90      0.90      9558\n",
      "\n"
     ]
    }
   ],
   "source": [
    "print(classification_report(df[\"Attack\"], df[\"Anomaly\"]))"
   ]
  },
  {
   "cell_type": "code",
   "execution_count": 24,
   "metadata": {},
   "outputs": [
    {
     "data": {
      "text/plain": [
       "0.0003333333333333333"
      ]
     },
     "execution_count": 24,
     "metadata": {},
     "output_type": "execute_result"
    }
   ],
   "source": [
    "miss_rate = fn/(fn+tp)\n",
    "miss_rate"
   ]
  },
  {
   "cell_type": "markdown",
   "metadata": {},
   "source": [
    "#  On testing dataset"
   ]
  },
  {
   "cell_type": "code",
   "execution_count": 29,
   "metadata": {},
   "outputs": [
    {
     "ename": "AttributeError",
     "evalue": "'int' object has no attribute 'translate'",
     "output_type": "error",
     "traceback": [
      "\u001b[1;31m---------------------------------------------------------------------------\u001b[0m",
      "\u001b[1;31mAttributeError\u001b[0m                            Traceback (most recent call last)",
      "\u001b[1;32m<ipython-input-29-72628c35390a>\u001b[0m in \u001b[0;36m<module>\u001b[1;34m\u001b[0m\n\u001b[0;32m     10\u001b[0m \u001b[0mtype\u001b[0m\u001b[1;33m(\u001b[0m\u001b[0mdf_attack_test\u001b[0m\u001b[1;33m[\u001b[0m\u001b[1;34m\"Total Size\"\u001b[0m\u001b[1;33m]\u001b[0m\u001b[1;33m[\u001b[0m\u001b[1;36m0\u001b[0m\u001b[1;33m]\u001b[0m\u001b[1;33m)\u001b[0m\u001b[1;33m\u001b[0m\u001b[1;33m\u001b[0m\u001b[0m\n\u001b[0;32m     11\u001b[0m \u001b[1;32mfor\u001b[0m \u001b[0mi\u001b[0m \u001b[1;32min\u001b[0m \u001b[0mrange\u001b[0m\u001b[1;33m(\u001b[0m\u001b[1;36m0\u001b[0m\u001b[1;33m,\u001b[0m\u001b[0mlen\u001b[0m\u001b[1;33m(\u001b[0m\u001b[0mdf_attack_test\u001b[0m\u001b[1;33m[\u001b[0m\u001b[1;34m\"Total Size\"\u001b[0m\u001b[1;33m]\u001b[0m\u001b[1;33m)\u001b[0m\u001b[1;33m)\u001b[0m\u001b[1;33m:\u001b[0m\u001b[1;33m\u001b[0m\u001b[1;33m\u001b[0m\u001b[0m\n\u001b[1;32m---> 12\u001b[1;33m     \u001b[0mdf_attack_test\u001b[0m\u001b[1;33m[\u001b[0m\u001b[1;34m\"Total Size\"\u001b[0m\u001b[1;33m]\u001b[0m\u001b[1;33m[\u001b[0m\u001b[0mi\u001b[0m\u001b[1;33m]\u001b[0m \u001b[1;33m=\u001b[0m \u001b[0mdf_attack_test\u001b[0m\u001b[1;33m[\u001b[0m\u001b[1;34m\"Total Size\"\u001b[0m\u001b[1;33m]\u001b[0m\u001b[1;33m[\u001b[0m\u001b[0mi\u001b[0m\u001b[1;33m]\u001b[0m\u001b[1;33m.\u001b[0m\u001b[0mtranslate\u001b[0m\u001b[1;33m(\u001b[0m\u001b[0mstr\u001b[0m\u001b[1;33m.\u001b[0m\u001b[0mmaketrans\u001b[0m\u001b[1;33m(\u001b[0m\u001b[1;34m''\u001b[0m\u001b[1;33m,\u001b[0m \u001b[1;34m''\u001b[0m\u001b[1;33m,\u001b[0m \u001b[0mstring\u001b[0m\u001b[1;33m.\u001b[0m\u001b[0mpunctuation\u001b[0m\u001b[1;33m)\u001b[0m\u001b[1;33m)\u001b[0m\u001b[1;33m\u001b[0m\u001b[1;33m\u001b[0m\u001b[0m\n\u001b[0m\u001b[0;32m     13\u001b[0m     \u001b[0mdf_attack_test\u001b[0m\u001b[1;33m[\u001b[0m\u001b[1;34m\"Total Size\"\u001b[0m\u001b[1;33m]\u001b[0m\u001b[1;33m[\u001b[0m\u001b[0mi\u001b[0m\u001b[1;33m]\u001b[0m \u001b[1;33m=\u001b[0m \u001b[0mint\u001b[0m\u001b[1;33m(\u001b[0m\u001b[0mdf_attack_test\u001b[0m\u001b[1;33m[\u001b[0m\u001b[1;34m\"Total Size\"\u001b[0m\u001b[1;33m]\u001b[0m\u001b[1;33m[\u001b[0m\u001b[0mi\u001b[0m\u001b[1;33m]\u001b[0m\u001b[1;33m.\u001b[0m\u001b[0msplit\u001b[0m\u001b[1;33m(\u001b[0m\u001b[1;34m' '\u001b[0m\u001b[1;33m)\u001b[0m\u001b[1;33m[\u001b[0m\u001b[1;36m0\u001b[0m\u001b[1;33m]\u001b[0m\u001b[1;33m)\u001b[0m\u001b[1;33m\u001b[0m\u001b[1;33m\u001b[0m\u001b[0m\n\u001b[0;32m     14\u001b[0m \u001b[1;33m\u001b[0m\u001b[0m\n",
      "\u001b[1;31mAttributeError\u001b[0m: 'int' object has no attribute 'translate'"
     ]
    }
   ],
   "source": [
    "df_attack_test[\"Attack\"] = 1\n",
    "df_attack_test = df_attack_test.drop([\"Index\",\"Local Host\",\"Remote Host\"],axis=1)\n",
    "# dropping the rows having NaN values\n",
    "# df = df.dropna(subset=[\"Data Speed\"])\n",
    "# To reset the indices\n",
    "df_attack_test = df_attack_test.reset_index(drop = True)\n",
    "\n",
    "# df_attack_test[\"Throughput\"] = 0\n",
    "df_attack_test[\"Duration in seconds\"] = 0\n",
    "type(df_attack_test[\"Total Size\"][0])\n",
    "for i in range(0,len(df_attack_test[\"Total Size\"])):\n",
    "    df_attack_test[\"Total Size\"][i] = df_attack_test[\"Total Size\"][i].translate(str.maketrans('', '', string.punctuation))\n",
    "    df_attack_test[\"Total Size\"][i] = int(df_attack_test[\"Total Size\"][i].split(' ')[0])\n",
    "    \n",
    "    df_attack_test[\"Data Size\"][i] = df_attack_test[\"Data Size\"][i].translate(str.maketrans('', '', string.punctuation))\n",
    "    df_attack_test[\"Data Size\"][i] = int(df_attack_test[\"Data Size\"][i].split(' ')[0])\n",
    "    \n",
    "#     df_s[\"Data speed\"][i] = df_s[\"Data speed\"][i].split(' ')[0]\n",
    "#     print(i)\n",
    "    df_attack_test[\"Data Speed\"][i] = float(str(df_attack_test[\"Data Speed\"][i]).split(' ')[0])\n",
    "#     df_s[\"Data speed\"][i] = float(df_s[\"Data speed\"][i])\n",
    "\n",
    "    t = datetime.strptime(df_attack_test[\"Duration\"][i].split('.')[0], '%M:%S').time()\n",
    "    df_attack_test[\"Duration in seconds\"][i] = t.hour*3600 + t.minute*60 + t.second\n",
    "    \n",
    "    df_attack_test[\"Packets\"][i] = df_attack_test[\"Packets\"][i].translate(str.maketrans('', '', string.punctuation))\n",
    "    df_attack_test[\"Packets\"][i] = int(df_attack_test[\"Packets\"][i].split(' ')[0])\n",
    "    df_attack_test[\"Packets\"][i] = int(df_attack_test[\"Packets\"][i])\n"
   ]
  },
  {
   "cell_type": "code",
   "execution_count": 30,
   "metadata": {},
   "outputs": [
    {
     "data": {
      "text/html": [
       "<div>\n",
       "<style scoped>\n",
       "    .dataframe tbody tr th:only-of-type {\n",
       "        vertical-align: middle;\n",
       "    }\n",
       "\n",
       "    .dataframe tbody tr th {\n",
       "        vertical-align: top;\n",
       "    }\n",
       "\n",
       "    .dataframe thead th {\n",
       "        text-align: right;\n",
       "    }\n",
       "</style>\n",
       "<table border=\"1\" class=\"dataframe\">\n",
       "  <thead>\n",
       "    <tr style=\"text-align: right;\">\n",
       "      <th></th>\n",
       "      <th>Protocol</th>\n",
       "      <th>Local Address</th>\n",
       "      <th>Remote Address</th>\n",
       "      <th>Local Port</th>\n",
       "      <th>Remote Port</th>\n",
       "      <th>Service Name</th>\n",
       "      <th>Packets</th>\n",
       "      <th>Data Size</th>\n",
       "      <th>Total Size</th>\n",
       "      <th>Data Speed</th>\n",
       "      <th>Capture Time</th>\n",
       "      <th>Last Packet Time</th>\n",
       "      <th>Duration</th>\n",
       "      <th>Attack</th>\n",
       "      <th>Duration in seconds</th>\n",
       "    </tr>\n",
       "  </thead>\n",
       "  <tbody>\n",
       "    <tr>\n",
       "      <td>0</td>\n",
       "      <td>UDP</td>\n",
       "      <td>192.168.0.119</td>\n",
       "      <td>239.255.255.250</td>\n",
       "      <td>53085</td>\n",
       "      <td>1900</td>\n",
       "      <td>ssdp</td>\n",
       "      <td>3</td>\n",
       "      <td>375</td>\n",
       "      <td>612</td>\n",
       "      <td>0.7</td>\n",
       "      <td>10/26/2022 12:36:21 PM:986</td>\n",
       "      <td>10/26/2022 12:36:22 PM:498</td>\n",
       "      <td>00:00.5</td>\n",
       "      <td>1</td>\n",
       "      <td>0</td>\n",
       "    </tr>\n",
       "    <tr>\n",
       "      <td>1</td>\n",
       "      <td>UDP</td>\n",
       "      <td>192.168.0.191</td>\n",
       "      <td>10.0.2.15</td>\n",
       "      <td>50554</td>\n",
       "      <td>1</td>\n",
       "      <td>NaN</td>\n",
       "      <td>1</td>\n",
       "      <td>1472</td>\n",
       "      <td>3000</td>\n",
       "      <td>NaN</td>\n",
       "      <td>10/26/2022 12:36:26 PM:762</td>\n",
       "      <td>10/26/2022 12:36:26 PM:762</td>\n",
       "      <td>00:00.0</td>\n",
       "      <td>1</td>\n",
       "      <td>0</td>\n",
       "    </tr>\n",
       "    <tr>\n",
       "      <td>2</td>\n",
       "      <td>UDP</td>\n",
       "      <td>192.168.0.191</td>\n",
       "      <td>10.0.2.15</td>\n",
       "      <td>4005</td>\n",
       "      <td>26924</td>\n",
       "      <td>NaN</td>\n",
       "      <td>3199</td>\n",
       "      <td>31990</td>\n",
       "      <td>121600</td>\n",
       "      <td>1</td>\n",
       "      <td>10/26/2022 12:36:26 PM:763</td>\n",
       "      <td>10/26/2022 12:36:57 PM:051</td>\n",
       "      <td>00:30.3</td>\n",
       "      <td>1</td>\n",
       "      <td>0</td>\n",
       "    </tr>\n",
       "    <tr>\n",
       "      <td>3</td>\n",
       "      <td>UDP</td>\n",
       "      <td>192.168.0.191</td>\n",
       "      <td>10.0.2.15</td>\n",
       "      <td>50554</td>\n",
       "      <td>2</td>\n",
       "      <td>NaN</td>\n",
       "      <td>2</td>\n",
       "      <td>2944</td>\n",
       "      <td>4500</td>\n",
       "      <td>NaN</td>\n",
       "      <td>10/26/2022 12:36:26 PM:765</td>\n",
       "      <td>10/26/2022 12:36:26 PM:767</td>\n",
       "      <td>00:00.0</td>\n",
       "      <td>1</td>\n",
       "      <td>0</td>\n",
       "    </tr>\n",
       "    <tr>\n",
       "      <td>4</td>\n",
       "      <td>UDP</td>\n",
       "      <td>192.168.0.191</td>\n",
       "      <td>10.0.2.15</td>\n",
       "      <td>50554</td>\n",
       "      <td>3</td>\n",
       "      <td>NaN</td>\n",
       "      <td>2</td>\n",
       "      <td>2944</td>\n",
       "      <td>4500</td>\n",
       "      <td>NaN</td>\n",
       "      <td>10/26/2022 12:36:26 PM:768</td>\n",
       "      <td>10/26/2022 12:36:26 PM:769</td>\n",
       "      <td>00:00.0</td>\n",
       "      <td>1</td>\n",
       "      <td>0</td>\n",
       "    </tr>\n",
       "    <tr>\n",
       "      <td>...</td>\n",
       "      <td>...</td>\n",
       "      <td>...</td>\n",
       "      <td>...</td>\n",
       "      <td>...</td>\n",
       "      <td>...</td>\n",
       "      <td>...</td>\n",
       "      <td>...</td>\n",
       "      <td>...</td>\n",
       "      <td>...</td>\n",
       "      <td>...</td>\n",
       "      <td>...</td>\n",
       "      <td>...</td>\n",
       "      <td>...</td>\n",
       "      <td>...</td>\n",
       "      <td>...</td>\n",
       "    </tr>\n",
       "    <tr>\n",
       "      <td>3559</td>\n",
       "      <td>UDP</td>\n",
       "      <td>192.168.0.191</td>\n",
       "      <td>10.0.2.15</td>\n",
       "      <td>50554</td>\n",
       "      <td>8231</td>\n",
       "      <td>NaN</td>\n",
       "      <td>2</td>\n",
       "      <td>2944</td>\n",
       "      <td>4500</td>\n",
       "      <td>NaN</td>\n",
       "      <td>10/26/2022 12:36:57 PM:049</td>\n",
       "      <td>10/26/2022 12:36:57 PM:049</td>\n",
       "      <td>00:00.0</td>\n",
       "      <td>1</td>\n",
       "      <td>0</td>\n",
       "    </tr>\n",
       "    <tr>\n",
       "      <td>3560</td>\n",
       "      <td>UDP</td>\n",
       "      <td>192.168.0.191</td>\n",
       "      <td>10.0.2.15</td>\n",
       "      <td>50554</td>\n",
       "      <td>8232</td>\n",
       "      <td>NaN</td>\n",
       "      <td>2</td>\n",
       "      <td>2944</td>\n",
       "      <td>4500</td>\n",
       "      <td>NaN</td>\n",
       "      <td>10/26/2022 12:36:57 PM:049</td>\n",
       "      <td>10/26/2022 12:36:57 PM:050</td>\n",
       "      <td>00:00.0</td>\n",
       "      <td>1</td>\n",
       "      <td>0</td>\n",
       "    </tr>\n",
       "    <tr>\n",
       "      <td>3561</td>\n",
       "      <td>UDP</td>\n",
       "      <td>192.168.0.191</td>\n",
       "      <td>10.0.2.15</td>\n",
       "      <td>50554</td>\n",
       "      <td>8233</td>\n",
       "      <td>NaN</td>\n",
       "      <td>2</td>\n",
       "      <td>2944</td>\n",
       "      <td>4500</td>\n",
       "      <td>NaN</td>\n",
       "      <td>10/26/2022 12:36:57 PM:050</td>\n",
       "      <td>10/26/2022 12:36:57 PM:050</td>\n",
       "      <td>00:00.0</td>\n",
       "      <td>1</td>\n",
       "      <td>0</td>\n",
       "    </tr>\n",
       "    <tr>\n",
       "      <td>3562</td>\n",
       "      <td>UDP</td>\n",
       "      <td>192.168.0.191</td>\n",
       "      <td>10.0.2.15</td>\n",
       "      <td>50554</td>\n",
       "      <td>8234</td>\n",
       "      <td>NaN</td>\n",
       "      <td>2</td>\n",
       "      <td>2944</td>\n",
       "      <td>4500</td>\n",
       "      <td>NaN</td>\n",
       "      <td>10/26/2022 12:36:57 PM:051</td>\n",
       "      <td>10/26/2022 12:36:57 PM:051</td>\n",
       "      <td>00:00.0</td>\n",
       "      <td>1</td>\n",
       "      <td>0</td>\n",
       "    </tr>\n",
       "    <tr>\n",
       "      <td>3563</td>\n",
       "      <td>UDP</td>\n",
       "      <td>192.168.0.191</td>\n",
       "      <td>10.0.2.15</td>\n",
       "      <td>50554</td>\n",
       "      <td>8235</td>\n",
       "      <td>NaN</td>\n",
       "      <td>1</td>\n",
       "      <td>1472</td>\n",
       "      <td>3000</td>\n",
       "      <td>NaN</td>\n",
       "      <td>10/26/2022 12:36:57 PM:052</td>\n",
       "      <td>10/26/2022 12:36:57 PM:052</td>\n",
       "      <td>00:00.0</td>\n",
       "      <td>1</td>\n",
       "      <td>0</td>\n",
       "    </tr>\n",
       "  </tbody>\n",
       "</table>\n",
       "<p>3564 rows × 15 columns</p>\n",
       "</div>"
      ],
      "text/plain": [
       "     Protocol  Local Address   Remote Address  Local Port  Remote Port  \\\n",
       "0         UDP  192.168.0.119  239.255.255.250       53085         1900   \n",
       "1         UDP  192.168.0.191        10.0.2.15       50554            1   \n",
       "2         UDP  192.168.0.191        10.0.2.15        4005        26924   \n",
       "3         UDP  192.168.0.191        10.0.2.15       50554            2   \n",
       "4         UDP  192.168.0.191        10.0.2.15       50554            3   \n",
       "...       ...            ...              ...         ...          ...   \n",
       "3559      UDP  192.168.0.191        10.0.2.15       50554         8231   \n",
       "3560      UDP  192.168.0.191        10.0.2.15       50554         8232   \n",
       "3561      UDP  192.168.0.191        10.0.2.15       50554         8233   \n",
       "3562      UDP  192.168.0.191        10.0.2.15       50554         8234   \n",
       "3563      UDP  192.168.0.191        10.0.2.15       50554         8235   \n",
       "\n",
       "     Service Name Packets Data Size Total Size Data Speed  \\\n",
       "0            ssdp       3       375        612        0.7   \n",
       "1             NaN       1      1472       3000        NaN   \n",
       "2             NaN    3199     31990     121600          1   \n",
       "3             NaN       2      2944       4500        NaN   \n",
       "4             NaN       2      2944       4500        NaN   \n",
       "...           ...     ...       ...        ...        ...   \n",
       "3559          NaN       2      2944       4500        NaN   \n",
       "3560          NaN       2      2944       4500        NaN   \n",
       "3561          NaN       2      2944       4500        NaN   \n",
       "3562          NaN       2      2944       4500        NaN   \n",
       "3563          NaN       1      1472       3000        NaN   \n",
       "\n",
       "                    Capture Time            Last Packet Time Duration  Attack  \\\n",
       "0     10/26/2022 12:36:21 PM:986  10/26/2022 12:36:22 PM:498  00:00.5       1   \n",
       "1     10/26/2022 12:36:26 PM:762  10/26/2022 12:36:26 PM:762  00:00.0       1   \n",
       "2     10/26/2022 12:36:26 PM:763  10/26/2022 12:36:57 PM:051  00:30.3       1   \n",
       "3     10/26/2022 12:36:26 PM:765  10/26/2022 12:36:26 PM:767  00:00.0       1   \n",
       "4     10/26/2022 12:36:26 PM:768  10/26/2022 12:36:26 PM:769  00:00.0       1   \n",
       "...                          ...                         ...      ...     ...   \n",
       "3559  10/26/2022 12:36:57 PM:049  10/26/2022 12:36:57 PM:049  00:00.0       1   \n",
       "3560  10/26/2022 12:36:57 PM:049  10/26/2022 12:36:57 PM:050  00:00.0       1   \n",
       "3561  10/26/2022 12:36:57 PM:050  10/26/2022 12:36:57 PM:050  00:00.0       1   \n",
       "3562  10/26/2022 12:36:57 PM:051  10/26/2022 12:36:57 PM:051  00:00.0       1   \n",
       "3563  10/26/2022 12:36:57 PM:052  10/26/2022 12:36:57 PM:052  00:00.0       1   \n",
       "\n",
       "      Duration in seconds  \n",
       "0                       0  \n",
       "1                       0  \n",
       "2                       0  \n",
       "3                       0  \n",
       "4                       0  \n",
       "...                   ...  \n",
       "3559                    0  \n",
       "3560                    0  \n",
       "3561                    0  \n",
       "3562                    0  \n",
       "3563                    0  \n",
       "\n",
       "[3564 rows x 15 columns]"
      ]
     },
     "execution_count": 30,
     "metadata": {},
     "output_type": "execute_result"
    }
   ],
   "source": [
    "df_attack_test"
   ]
  },
  {
   "cell_type": "code",
   "execution_count": 827,
   "metadata": {},
   "outputs": [
    {
     "name": "stderr",
     "output_type": "stream",
     "text": [
      "C:\\Users\\Gowri\\Anaconda3\\lib\\site-packages\\ipykernel_launcher.py:4: RuntimeWarning: divide by zero encountered in longlong_scalars\n",
      "  after removing the cwd from sys.path.\n",
      "C:\\Users\\Gowri\\Anaconda3\\lib\\site-packages\\ipykernel_launcher.py:7: SettingWithCopyWarning: \n",
      "A value is trying to be set on a copy of a slice from a DataFrame\n",
      "\n",
      "See the caveats in the documentation: http://pandas.pydata.org/pandas-docs/stable/user_guide/indexing.html#returning-a-view-versus-a-copy\n",
      "  import sys\n"
     ]
    }
   ],
   "source": [
    "# df_attack_test[\"Throughput\"] = 0.0\n",
    "# size = len(df[\"Packets\"])\n",
    "# for i in range(0,len(df_attack_test[\"Total Size\"])):\n",
    "# #     print(i)\n",
    "#     val = df_attack_test[\"Packets\"][i]/df_attack_test[\"Duration in seconds\"][i]\n",
    "#     if val==np.inf or val==-np.inf:\n",
    "#         val = 10**15\n",
    "#     df_attack_test[\"Throughput\"][i] = val"
   ]
  },
  {
   "cell_type": "code",
   "execution_count": 34,
   "metadata": {},
   "outputs": [
    {
     "name": "stderr",
     "output_type": "stream",
     "text": [
      "C:\\Users\\Gowri\\Anaconda3\\lib\\site-packages\\ipykernel_launcher.py:6: RuntimeWarning: divide by zero encountered in longlong_scalars\n",
      "  \n",
      "C:\\Users\\Gowri\\Anaconda3\\lib\\site-packages\\ipykernel_launcher.py:6: SettingWithCopyWarning: \n",
      "A value is trying to be set on a copy of a slice from a DataFrame\n",
      "\n",
      "See the caveats in the documentation: http://pandas.pydata.org/pandas-docs/stable/user_guide/indexing.html#returning-a-view-versus-a-copy\n",
      "  \n"
     ]
    },
    {
     "data": {
      "text/plain": [
       "((0, 0, 3564, 0), 0.0, 0.0)"
      ]
     },
     "execution_count": 34,
     "metadata": {},
     "output_type": "execute_result"
    }
   ],
   "source": [
    "df_attack_test[\"Anomaly\"] = -1\n",
    "df_attack_test[\"Throughput\"] = 0.0\n",
    "df_attack_test.replace(np.nan,np.inf,inplace=True)\n",
    "size = len(df[\"Packets\"])\n",
    "for i in range(0,len(df_attack_test[\"Total Size\"])):\n",
    "#     df[\"Throughput\"][i] = df_attack_test[\"Packets\"][i]/df_attack_test[\"Duration in seconds\"][i]\n",
    "#     mean = (mean*size + df[\"Throughput\"][i])/(size + 1)\n",
    "#     size = size + 1\n",
    "    if(df_attack_test[\"Throughput\"][i]>mean):\n",
    "#         print(df[\"Throughput\"][i],mean)\n",
    "        df_attack_test[\"Anomaly\"][i] = 1 \n",
    "\n",
    "tn, fp, fn, tp = confusion_matrix(df_attack_test[\"Attack\"], df_attack_test[\"Anomaly\"]).ravel()\n",
    "precision = precision_score(df_attack_test[\"Attack\"], df_attack_test[\"Anomaly\"])\n",
    "accuracy = accuracy_score(df_attack_test[\"Attack\"], df_attack_test[\"Anomaly\"])\n",
    "# f1_score = f1_score(df_attack_test[\"Attack\"], df_attack_test[\"Anomaly\"])\n",
    "(tn,tp,fn,fp),precision,accuracy"
   ]
  },
  {
   "cell_type": "markdown",
   "metadata": {},
   "source": [
    "# Entropy"
   ]
  },
  {
   "cell_type": "code",
   "execution_count": 41,
   "metadata": {},
   "outputs": [
    {
     "name": "stderr",
     "output_type": "stream",
     "text": [
      "C:\\Users\\Gowri\\Anaconda3\\lib\\site-packages\\ipykernel_launcher.py:10: SettingWithCopyWarning: \n",
      "A value is trying to be set on a copy of a slice from a DataFrame\n",
      "\n",
      "See the caveats in the documentation: http://pandas.pydata.org/pandas-docs/stable/user_guide/indexing.html#returning-a-view-versus-a-copy\n",
      "  # Remove the CWD from sys.path while we load stuff.\n",
      "C:\\Users\\Gowri\\Anaconda3\\lib\\site-packages\\ipykernel_launcher.py:11: SettingWithCopyWarning: \n",
      "A value is trying to be set on a copy of a slice from a DataFrame\n",
      "\n",
      "See the caveats in the documentation: http://pandas.pydata.org/pandas-docs/stable/user_guide/indexing.html#returning-a-view-versus-a-copy\n",
      "  # This is added back by InteractiveShellApp.init_path()\n",
      "C:\\Users\\Gowri\\Anaconda3\\lib\\site-packages\\ipykernel_launcher.py:12: SettingWithCopyWarning: \n",
      "A value is trying to be set on a copy of a slice from a DataFrame\n",
      "\n",
      "See the caveats in the documentation: http://pandas.pydata.org/pandas-docs/stable/user_guide/indexing.html#returning-a-view-versus-a-copy\n",
      "  if sys.path[0] == '':\n",
      "C:\\Users\\Gowri\\Anaconda3\\lib\\site-packages\\ipykernel_launcher.py:13: SettingWithCopyWarning: \n",
      "A value is trying to be set on a copy of a slice from a DataFrame\n",
      "\n",
      "See the caveats in the documentation: http://pandas.pydata.org/pandas-docs/stable/user_guide/indexing.html#returning-a-view-versus-a-copy\n",
      "  del sys.path[0]\n"
     ]
    },
    {
     "data": {
      "text/html": [
       "<div>\n",
       "<style scoped>\n",
       "    .dataframe tbody tr th:only-of-type {\n",
       "        vertical-align: middle;\n",
       "    }\n",
       "\n",
       "    .dataframe tbody tr th {\n",
       "        vertical-align: top;\n",
       "    }\n",
       "\n",
       "    .dataframe thead th {\n",
       "        text-align: right;\n",
       "    }\n",
       "</style>\n",
       "<table border=\"1\" class=\"dataframe\">\n",
       "  <thead>\n",
       "    <tr style=\"text-align: right;\">\n",
       "      <th></th>\n",
       "      <th>Protocol</th>\n",
       "      <th>Local Address</th>\n",
       "      <th>Remote Address</th>\n",
       "      <th>Local Port</th>\n",
       "      <th>Remote Port</th>\n",
       "      <th>Service Name</th>\n",
       "      <th>Packets</th>\n",
       "      <th>Data Size</th>\n",
       "      <th>Total Size</th>\n",
       "      <th>Data Speed</th>\n",
       "      <th>...</th>\n",
       "      <th>Attack</th>\n",
       "      <th>Throughput</th>\n",
       "      <th>Duration in seconds</th>\n",
       "      <th>Anomaly</th>\n",
       "      <th>Entropy throughput</th>\n",
       "      <th>Entropy Remote Address</th>\n",
       "      <th>Entropy Remote Port</th>\n",
       "      <th>Anomaly entropy based</th>\n",
       "      <th>Anomaly port entropy based</th>\n",
       "      <th>Entropy Duration</th>\n",
       "    </tr>\n",
       "  </thead>\n",
       "  <tbody>\n",
       "    <tr>\n",
       "      <td>0</td>\n",
       "      <td>TCP</td>\n",
       "      <td>10.0.2.15</td>\n",
       "      <td>41.63.105.0</td>\n",
       "      <td>49699.0</td>\n",
       "      <td>80.0</td>\n",
       "      <td>http</td>\n",
       "      <td>214</td>\n",
       "      <td>257800</td>\n",
       "      <td>267860</td>\n",
       "      <td>3227.7</td>\n",
       "      <td>...</td>\n",
       "      <td>-1</td>\n",
       "      <td>inf</td>\n",
       "      <td>32</td>\n",
       "      <td>-1</td>\n",
       "      <td>0.000000</td>\n",
       "      <td>0.000000</td>\n",
       "      <td>0.000000</td>\n",
       "      <td>-1</td>\n",
       "      <td>-1</td>\n",
       "      <td>0.000000</td>\n",
       "    </tr>\n",
       "    <tr>\n",
       "      <td>1</td>\n",
       "      <td>TCP</td>\n",
       "      <td>10.0.2.15</td>\n",
       "      <td>41.63.105.128</td>\n",
       "      <td>49709.0</td>\n",
       "      <td>80.0</td>\n",
       "      <td>http</td>\n",
       "      <td>36</td>\n",
       "      <td>32122</td>\n",
       "      <td>33603</td>\n",
       "      <td>667.4</td>\n",
       "      <td>...</td>\n",
       "      <td>-1</td>\n",
       "      <td>inf</td>\n",
       "      <td>13</td>\n",
       "      <td>-1</td>\n",
       "      <td>0.000000</td>\n",
       "      <td>0.693147</td>\n",
       "      <td>0.000000</td>\n",
       "      <td>-1</td>\n",
       "      <td>-1</td>\n",
       "      <td>0.693147</td>\n",
       "    </tr>\n",
       "    <tr>\n",
       "      <td>2</td>\n",
       "      <td>TCP</td>\n",
       "      <td>10.0.2.15</td>\n",
       "      <td>41.63.105.128</td>\n",
       "      <td>49698.0</td>\n",
       "      <td>80.0</td>\n",
       "      <td>http</td>\n",
       "      <td>298</td>\n",
       "      <td>365003</td>\n",
       "      <td>376964</td>\n",
       "      <td>5749.2</td>\n",
       "      <td>...</td>\n",
       "      <td>-1</td>\n",
       "      <td>inf</td>\n",
       "      <td>26</td>\n",
       "      <td>-1</td>\n",
       "      <td>0.000000</td>\n",
       "      <td>0.636514</td>\n",
       "      <td>0.000000</td>\n",
       "      <td>-1</td>\n",
       "      <td>-1</td>\n",
       "      <td>1.098612</td>\n",
       "    </tr>\n",
       "    <tr>\n",
       "      <td>3</td>\n",
       "      <td>TCP</td>\n",
       "      <td>10.0.2.15</td>\n",
       "      <td>117.18.232.240</td>\n",
       "      <td>49696.0</td>\n",
       "      <td>80.0</td>\n",
       "      <td>http</td>\n",
       "      <td>114</td>\n",
       "      <td>131402</td>\n",
       "      <td>136003</td>\n",
       "      <td>2069.7</td>\n",
       "      <td>...</td>\n",
       "      <td>-1</td>\n",
       "      <td>inf</td>\n",
       "      <td>17</td>\n",
       "      <td>-1</td>\n",
       "      <td>0.000000</td>\n",
       "      <td>1.039721</td>\n",
       "      <td>0.000000</td>\n",
       "      <td>-1</td>\n",
       "      <td>-1</td>\n",
       "      <td>1.386294</td>\n",
       "    </tr>\n",
       "    <tr>\n",
       "      <td>4</td>\n",
       "      <td>TCP</td>\n",
       "      <td>10.0.2.15</td>\n",
       "      <td>41.63.105.128</td>\n",
       "      <td>49694.0</td>\n",
       "      <td>80.0</td>\n",
       "      <td>http</td>\n",
       "      <td>4</td>\n",
       "      <td>1461</td>\n",
       "      <td>1662</td>\n",
       "      <td>inf</td>\n",
       "      <td>...</td>\n",
       "      <td>-1</td>\n",
       "      <td>inf</td>\n",
       "      <td>1</td>\n",
       "      <td>-1</td>\n",
       "      <td>0.000000</td>\n",
       "      <td>0.950271</td>\n",
       "      <td>0.000000</td>\n",
       "      <td>-1</td>\n",
       "      <td>-1</td>\n",
       "      <td>1.609438</td>\n",
       "    </tr>\n",
       "    <tr>\n",
       "      <td>...</td>\n",
       "      <td>...</td>\n",
       "      <td>...</td>\n",
       "      <td>...</td>\n",
       "      <td>...</td>\n",
       "      <td>...</td>\n",
       "      <td>...</td>\n",
       "      <td>...</td>\n",
       "      <td>...</td>\n",
       "      <td>...</td>\n",
       "      <td>...</td>\n",
       "      <td>...</td>\n",
       "      <td>...</td>\n",
       "      <td>...</td>\n",
       "      <td>...</td>\n",
       "      <td>...</td>\n",
       "      <td>...</td>\n",
       "      <td>...</td>\n",
       "      <td>...</td>\n",
       "      <td>...</td>\n",
       "      <td>...</td>\n",
       "      <td>...</td>\n",
       "    </tr>\n",
       "    <tr>\n",
       "      <td>9553</td>\n",
       "      <td>TCP</td>\n",
       "      <td>10.0.2.15</td>\n",
       "      <td>8.241.161.254</td>\n",
       "      <td>50728.0</td>\n",
       "      <td>80.0</td>\n",
       "      <td>http</td>\n",
       "      <td>4</td>\n",
       "      <td>1431</td>\n",
       "      <td>1944</td>\n",
       "      <td>93.2</td>\n",
       "      <td>...</td>\n",
       "      <td>-1</td>\n",
       "      <td>4.000000</td>\n",
       "      <td>1</td>\n",
       "      <td>-1</td>\n",
       "      <td>1.989461</td>\n",
       "      <td>2.020966</td>\n",
       "      <td>6.090664</td>\n",
       "      <td>-1</td>\n",
       "      <td>-1</td>\n",
       "      <td>1.693638</td>\n",
       "    </tr>\n",
       "    <tr>\n",
       "      <td>9554</td>\n",
       "      <td>UDP</td>\n",
       "      <td>10.0.2.15</td>\n",
       "      <td>192.168.0.1</td>\n",
       "      <td>54472.0</td>\n",
       "      <td>53.0</td>\n",
       "      <td>domain</td>\n",
       "      <td>4</td>\n",
       "      <td>346</td>\n",
       "      <td>538</td>\n",
       "      <td>21.1</td>\n",
       "      <td>...</td>\n",
       "      <td>-1</td>\n",
       "      <td>4.000000</td>\n",
       "      <td>1</td>\n",
       "      <td>-1</td>\n",
       "      <td>1.989808</td>\n",
       "      <td>2.020983</td>\n",
       "      <td>6.090254</td>\n",
       "      <td>-1</td>\n",
       "      <td>-1</td>\n",
       "      <td>1.693801</td>\n",
       "    </tr>\n",
       "    <tr>\n",
       "      <td>9555</td>\n",
       "      <td>TCP</td>\n",
       "      <td>10.0.2.15</td>\n",
       "      <td>41.63.105.128</td>\n",
       "      <td>50729.0</td>\n",
       "      <td>80.0</td>\n",
       "      <td>http</td>\n",
       "      <td>7</td>\n",
       "      <td>665</td>\n",
       "      <td>1409</td>\n",
       "      <td>14.1</td>\n",
       "      <td>...</td>\n",
       "      <td>-1</td>\n",
       "      <td>2.333333</td>\n",
       "      <td>3</td>\n",
       "      <td>-1</td>\n",
       "      <td>1.990380</td>\n",
       "      <td>2.021206</td>\n",
       "      <td>6.089903</td>\n",
       "      <td>-1</td>\n",
       "      <td>-1</td>\n",
       "      <td>1.694030</td>\n",
       "    </tr>\n",
       "    <tr>\n",
       "      <td>9556</td>\n",
       "      <td>TCP</td>\n",
       "      <td>10.0.2.15</td>\n",
       "      <td>41.63.105.0</td>\n",
       "      <td>50730.0</td>\n",
       "      <td>80.0</td>\n",
       "      <td>http</td>\n",
       "      <td>8</td>\n",
       "      <td>665</td>\n",
       "      <td>1449</td>\n",
       "      <td>14.1</td>\n",
       "      <td>...</td>\n",
       "      <td>-1</td>\n",
       "      <td>2.666667</td>\n",
       "      <td>3</td>\n",
       "      <td>-1</td>\n",
       "      <td>1.990752</td>\n",
       "      <td>2.021532</td>\n",
       "      <td>6.089551</td>\n",
       "      <td>-1</td>\n",
       "      <td>-1</td>\n",
       "      <td>1.694258</td>\n",
       "    </tr>\n",
       "    <tr>\n",
       "      <td>9557</td>\n",
       "      <td>UDP</td>\n",
       "      <td>10.0.2.15</td>\n",
       "      <td>239.255.255.250</td>\n",
       "      <td>53869.0</td>\n",
       "      <td>1900.0</td>\n",
       "      <td>ssdp</td>\n",
       "      <td>8</td>\n",
       "      <td>1400</td>\n",
       "      <td>1827</td>\n",
       "      <td>91.1</td>\n",
       "      <td>...</td>\n",
       "      <td>-1</td>\n",
       "      <td>2.666667</td>\n",
       "      <td>3</td>\n",
       "      <td>-1</td>\n",
       "      <td>1.991120</td>\n",
       "      <td>2.021848</td>\n",
       "      <td>6.089442</td>\n",
       "      <td>-1</td>\n",
       "      <td>-1</td>\n",
       "      <td>1.694486</td>\n",
       "    </tr>\n",
       "  </tbody>\n",
       "</table>\n",
       "<p>9558 rows × 23 columns</p>\n",
       "</div>"
      ],
      "text/plain": [
       "     Protocol Local Address   Remote Address  Local Port  Remote Port  \\\n",
       "0         TCP     10.0.2.15      41.63.105.0     49699.0         80.0   \n",
       "1         TCP     10.0.2.15    41.63.105.128     49709.0         80.0   \n",
       "2         TCP     10.0.2.15    41.63.105.128     49698.0         80.0   \n",
       "3         TCP     10.0.2.15   117.18.232.240     49696.0         80.0   \n",
       "4         TCP     10.0.2.15    41.63.105.128     49694.0         80.0   \n",
       "...       ...           ...              ...         ...          ...   \n",
       "9553      TCP     10.0.2.15    8.241.161.254     50728.0         80.0   \n",
       "9554      UDP     10.0.2.15      192.168.0.1     54472.0         53.0   \n",
       "9555      TCP     10.0.2.15    41.63.105.128     50729.0         80.0   \n",
       "9556      TCP     10.0.2.15      41.63.105.0     50730.0         80.0   \n",
       "9557      UDP     10.0.2.15  239.255.255.250     53869.0       1900.0   \n",
       "\n",
       "     Service Name  Packets  Data Size  Total Size  Data Speed  ... Attack  \\\n",
       "0            http      214     257800      267860      3227.7  ...     -1   \n",
       "1            http       36      32122       33603       667.4  ...     -1   \n",
       "2            http      298     365003      376964      5749.2  ...     -1   \n",
       "3            http      114     131402      136003      2069.7  ...     -1   \n",
       "4            http        4       1461        1662         inf  ...     -1   \n",
       "...           ...      ...        ...         ...         ...  ...    ...   \n",
       "9553         http        4       1431        1944        93.2  ...     -1   \n",
       "9554       domain        4        346         538        21.1  ...     -1   \n",
       "9555         http        7        665        1409        14.1  ...     -1   \n",
       "9556         http        8        665        1449        14.1  ...     -1   \n",
       "9557         ssdp        8       1400        1827        91.1  ...     -1   \n",
       "\n",
       "     Throughput Duration in seconds  Anomaly  Entropy throughput  \\\n",
       "0           inf                  32       -1            0.000000   \n",
       "1           inf                  13       -1            0.000000   \n",
       "2           inf                  26       -1            0.000000   \n",
       "3           inf                  17       -1            0.000000   \n",
       "4           inf                   1       -1            0.000000   \n",
       "...         ...                 ...      ...                 ...   \n",
       "9553   4.000000                   1       -1            1.989461   \n",
       "9554   4.000000                   1       -1            1.989808   \n",
       "9555   2.333333                   3       -1            1.990380   \n",
       "9556   2.666667                   3       -1            1.990752   \n",
       "9557   2.666667                   3       -1            1.991120   \n",
       "\n",
       "      Entropy Remote Address  Entropy Remote Port  Anomaly entropy based  \\\n",
       "0                   0.000000             0.000000                     -1   \n",
       "1                   0.693147             0.000000                     -1   \n",
       "2                   0.636514             0.000000                     -1   \n",
       "3                   1.039721             0.000000                     -1   \n",
       "4                   0.950271             0.000000                     -1   \n",
       "...                      ...                  ...                    ...   \n",
       "9553                2.020966             6.090664                     -1   \n",
       "9554                2.020983             6.090254                     -1   \n",
       "9555                2.021206             6.089903                     -1   \n",
       "9556                2.021532             6.089551                     -1   \n",
       "9557                2.021848             6.089442                     -1   \n",
       "\n",
       "      Anomaly port entropy based  Entropy Duration  \n",
       "0                             -1          0.000000  \n",
       "1                             -1          0.693147  \n",
       "2                             -1          1.098612  \n",
       "3                             -1          1.386294  \n",
       "4                             -1          1.609438  \n",
       "...                          ...               ...  \n",
       "9553                          -1          1.693638  \n",
       "9554                          -1          1.693801  \n",
       "9555                          -1          1.694030  \n",
       "9556                          -1          1.694258  \n",
       "9557                          -1          1.694486  \n",
       "\n",
       "[9558 rows x 23 columns]"
      ]
     },
     "execution_count": 41,
     "metadata": {},
     "output_type": "execute_result"
    }
   ],
   "source": [
    "def entropy_calc(data):\n",
    "    p_data = data.value_counts()           # counts occurrence of each value\n",
    "    entropy = scipy.stats.entropy(p_data)  # get entropy from counts\n",
    "    return entropy\n",
    "df[\"Entropy throughput\"] = 0.0\n",
    "df[\"Entropy Remote Address\"] = 0.0\n",
    "df[\"Entropy Remote Port\"] = 0.0\n",
    "df[\"Entropy Duration\"] = 0.0\n",
    "for i in range(0,len(df[\"Total Size\"])):\n",
    "    df[\"Entropy throughput\"][i] = entropy_calc(df[\"Throughput\"][:i+1])\n",
    "    df[\"Entropy Remote Address\"][i] = entropy_calc(df[\"Remote Address\"][:i+1])\n",
    "    df[\"Entropy Remote Port\"][i] = entropy_calc(df[\"Remote Port\"][:i+1])\n",
    "    df[\"Entropy Duration\"][i] = entropy_calc(df[\"Duration in seconds\"][:i+1])\n",
    "    \n",
    "df    "
   ]
  },
  {
   "cell_type": "code",
   "execution_count": 47,
   "metadata": {},
   "outputs": [
    {
     "data": {
      "text/plain": [
       "[<matplotlib.lines.Line2D at 0x1de5d869888>]"
      ]
     },
     "execution_count": 47,
     "metadata": {},
     "output_type": "execute_result"
    },
    {
     "data": {
      "image/png": "[encoded data removed]",
      "text/plain": [
       "<Figure size 432x288 with 1 Axes>"
      ]
     },
     "metadata": {
      "needs_background": "light"
     },
     "output_type": "display_data"
    },
    {
     "data": {
      "image/png": "[encoded data removed]",
      "text/plain": [
       "<Figure size 432x288 with 1 Axes>"
      ]
     },
     "metadata": {
      "needs_background": "light"
     },
     "output_type": "display_data"
    },
    {
     "data": {
      "image/png": "[encoded data removed]",
      "text/plain": [
       "<Figure size 432x288 with 1 Axes>"
      ]
     },
     "metadata": {
      "needs_background": "light"
     },
     "output_type": "display_data"
    },
    {
     "data": {
      "image/png": "[encoded data removed]",
      "text/plain": [
       "<Figure size 432x288 with 1 Axes>"
      ]
     },
     "metadata": {
      "needs_background": "light"
     },
     "output_type": "display_data"
    }
   ],
   "source": [
    "plt.xlabel(\"SNo\")\n",
    "plt.ylabel(\"Throughput entropy\")\n",
    "plt.plot(df[\"Entropy throughput\"])\n",
    "plt.figure()\n",
    "plt.plot(df[\"Entropy Remote Address\"])\n",
    "plt.figure()\n",
    "plt.plot(df[\"Entropy Remote Port\"])\n",
    "plt.figure()\n",
    "plt.plot(df[\"Entropy Duration\"])"
   ]
  },
  {
   "cell_type": "code",
   "execution_count": 43,
   "metadata": {},
   "outputs": [
    {
     "name": "stderr",
     "output_type": "stream",
     "text": [
      "C:\\Users\\Gowri\\Anaconda3\\lib\\site-packages\\ipykernel_launcher.py:14: SettingWithCopyWarning: \n",
      "A value is trying to be set on a copy of a slice from a DataFrame\n",
      "\n",
      "See the caveats in the documentation: http://pandas.pydata.org/pandas-docs/stable/user_guide/indexing.html#returning-a-view-versus-a-copy\n",
      "  \n",
      "C:\\Users\\Gowri\\Anaconda3\\lib\\site-packages\\ipykernel_launcher.py:12: SettingWithCopyWarning: \n",
      "A value is trying to be set on a copy of a slice from a DataFrame\n",
      "\n",
      "See the caveats in the documentation: http://pandas.pydata.org/pandas-docs/stable/user_guide/indexing.html#returning-a-view-versus-a-copy\n",
      "  if sys.path[0] == '':\n",
      "C:\\Users\\Gowri\\Anaconda3\\lib\\site-packages\\ipykernel_launcher.py:10: SettingWithCopyWarning: \n",
      "A value is trying to be set on a copy of a slice from a DataFrame\n",
      "\n",
      "See the caveats in the documentation: http://pandas.pydata.org/pandas-docs/stable/user_guide/indexing.html#returning-a-view-versus-a-copy\n",
      "  # Remove the CWD from sys.path while we load stuff.\n"
     ]
    }
   ],
   "source": [
    "## Entropy throughput anomaly detection\n",
    "df[\"Anomaly entropy based\"] = -1\n",
    "df[\"Anomaly port entropy based\"] = -1\n",
    "df[\"Anomaly duration entropy based\"] = -1\n",
    "checkval = df[\"Entropy throughput\"][0]\n",
    "check_port = df[\"Entropy Remote Port\"][0]\n",
    "check_duration = df[\"Entropy Duration\"][0]\n",
    "for i in range(0,len(df[\"Total Size\"])):\n",
    "    if df[\"Entropy throughput\"][i]<checkval:\n",
    "        df[\"Anomaly entropy based\"][i] = 1\n",
    "    if df[\"Entropy Remote Port\"][i]>check_port:\n",
    "        df[\"Anomaly port entropy based\"][i] = 1\n",
    "    if df[\"Entropy Duration\"][i]>check_port:\n",
    "        df[\"Anomaly duration entropy based\"][i] = 1\n",
    "    check_port = df[\"Entropy Remote Port\"][i]\n",
    "    checkval = df[\"Entropy throughput\"][i]\n",
    "    check_duration = df[\"Entropy Duration\"][i]\n",
    "# df[\"Entropy throughput\"][0],checkval,type(df[\"Entropy throughput\"][0]),type(checkval),df[\"Entropy throughput\"][i]<checkval"
   ]
  },
  {
   "cell_type": "code",
   "execution_count": 38,
   "metadata": {},
   "outputs": [
    {
     "data": {
      "text/plain": [
       "[<matplotlib.lines.Line2D at 0x1de5d1ddd48>]"
      ]
     },
     "execution_count": 38,
     "metadata": {},
     "output_type": "execute_result"
    },
    {
     "data": {
      "image/png": "[encoded data removed]",
      "text/plain": [
       "<Figure size 3600x648 with 1 Axes>"
      ]
     },
     "metadata": {
      "needs_background": "light"
     },
     "output_type": "display_data"
    },
    {
     "data": {
      "image/png": "[encoded data removed]",
      "text/plain": [
       "<Figure size 432x288 with 1 Axes>"
      ]
     },
     "metadata": {
      "needs_background": "light"
     },
     "output_type": "display_data"
    }
   ],
   "source": [
    "f = plt.figure()\n",
    "f.set_figwidth(50)\n",
    "f.set_figheight(9)\n",
    "plt.plot(df[\"Anomaly entropy based\"])\n",
    "plt.figure()\n",
    "plt.plot(df[\"Anomaly port entropy based\"])"
   ]
  },
  {
   "cell_type": "code",
   "execution_count": 44,
   "metadata": {},
   "outputs": [
    {
     "data": {
      "text/plain": [
       "((3247, 311, 3001, 2999),\n",
       " 0.9060422960725075,\n",
       " 0.6534839924670434,\n",
       " 0.6442534908700323)"
      ]
     },
     "execution_count": 44,
     "metadata": {},
     "output_type": "execute_result"
    }
   ],
   "source": [
    "from sklearn.metrics import confusion_matrix,precision_score,accuracy_score,f1_score, classification_report\n",
    "tn, fp, fn, tp = confusion_matrix(df[\"Attack\"], df[\"Anomaly entropy based\"]).ravel()\n",
    "precision = precision_score(df[\"Attack\"], df[\"Anomaly entropy based\"])\n",
    "accuracy = accuracy_score(df[\"Attack\"], df[\"Anomaly entropy based\"])\n",
    "f1_score = f1_score(df[\"Attack\"], df[\"Anomaly entropy based\"])\n",
    "(tn,fp,fn,tp), precision, accuracy, f1_score"
   ]
  },
  {
   "cell_type": "code",
   "execution_count": 48,
   "metadata": {},
   "outputs": [
    {
     "data": {
      "text/plain": [
       "<matplotlib.axes._subplots.AxesSubplot at 0x1de5d8fb748>"
      ]
     },
     "execution_count": 48,
     "metadata": {},
     "output_type": "execute_result"
    },
    {
     "data": {
      "image/png": "[encoded data removed]",
      "text/plain": [
       "<Figure size 432x288 with 2 Axes>"
      ]
     },
     "metadata": {
      "needs_background": "light"
     },
     "output_type": "display_data"
    }
   ],
   "source": [
    "sn.heatmap(confusion_matrix(df[\"Attack\"], df[\"Anomaly entropy based\"]))"
   ]
  },
  {
   "cell_type": "code",
   "execution_count": 45,
   "metadata": {},
   "outputs": [
    {
     "data": {
      "text/plain": [
       "((3107, 451, 5, 5995),\n",
       " 0.9300341296928327,\n",
       " 0.9522912743251726,\n",
       " 0.9633617226418125)"
      ]
     },
     "execution_count": 45,
     "metadata": {},
     "output_type": "execute_result"
    }
   ],
   "source": [
    "from sklearn.metrics import confusion_matrix,precision_score,accuracy_score,f1_score, classification_report\n",
    "tn, fp, fn, tp = confusion_matrix(df[\"Attack\"], df[\"Anomaly port entropy based\"]).ravel()\n",
    "precision = precision_score(df[\"Attack\"], df[\"Anomaly port entropy based\"])\n",
    "accuracy = accuracy_score(df[\"Attack\"], df[\"Anomaly port entropy based\"])\n",
    "f1_score = f1_score(df[\"Attack\"], df[\"Anomaly port entropy based\"])\n",
    "(tn,fp,fn,tp), precision, accuracy, f1_score"
   ]
  },
  {
   "cell_type": "code",
   "execution_count": 46,
   "metadata": {},
   "outputs": [
    {
     "data": {
      "text/plain": [
       "((2184, 1374, 5545, 455),\n",
       " 0.24876981957353744,\n",
       " 0.27610378740322244,\n",
       " 0.11623451270915824)"
      ]
     },
     "execution_count": 46,
     "metadata": {},
     "output_type": "execute_result"
    }
   ],
   "source": [
    "from sklearn.metrics import confusion_matrix,precision_score,accuracy_score,f1_score, classification_report\n",
    "tn, fp, fn, tp = confusion_matrix(df[\"Attack\"], df[\"Anomaly duration entropy based\"]).ravel()\n",
    "precision = precision_score(df[\"Attack\"], df[\"Anomaly duration entropy based\"])\n",
    "accuracy = accuracy_score(df[\"Attack\"], df[\"Anomaly duration entropy based\"])\n",
    "f1_score = f1_score(df[\"Attack\"], df[\"Anomaly duration entropy based\"])\n",
    "(tn,fp,fn,tp), precision, accuracy, f1_score"
   ]
  },
  {
   "cell_type": "markdown",
   "metadata": {},
   "source": [
    "# SVM"
   ]
  },
  {
   "cell_type": "code",
   "execution_count": 340,
   "metadata": {},
   "outputs": [],
   "source": [
    "from sklearn.svm import OneClassSVM\n",
    "# dfsvm = df[[\"Local Port\",\"Remote Port\",\"Packets\",\"Data Size\",\"Total Size\",\"Data Speed\",\"Capture Time\",\"Last Packet Time\",\"Duration\",\"Throughput\",\"Duration in seconds\"]]\n",
    "model = OneClassSVM(kernel = 'poly', gamma = 0.001, nu = 0.03).fit(df[[\"Packets\",\"Data Size\",\"Total Size\",\"Throughput\",\"Duration in seconds\"]])"
   ]
  },
  {
   "cell_type": "code",
   "execution_count": 341,
   "metadata": {},
   "outputs": [],
   "source": [
    "# df[df[\"Data Speed\"]==np.inf]\n",
    "# type(df[\"Data Speed\"][4])\n",
    "y_pred = model.predict(df[[\"Packets\",\"Data Size\",\"Total Size\",\"Throughput\",\"Duration in seconds\"]])"
   ]
  },
  {
   "cell_type": "code",
   "execution_count": 342,
   "metadata": {},
   "outputs": [
    {
     "name": "stdout",
     "output_type": "stream",
     "text": [
      "(201, 3924, 0, 7128) 0.6449511400651465 0.6512929885363903\n",
      "              precision    recall  f1-score   support\n",
      "\n",
      "          -1       1.00      0.05      0.09      4125\n",
      "           1       0.64      1.00      0.78      7128\n",
      "\n",
      "    accuracy                           0.65     11253\n",
      "   macro avg       0.82      0.52      0.44     11253\n",
      "weighted avg       0.78      0.65      0.53     11253\n",
      "\n"
     ]
    }
   ],
   "source": [
    "tn, fp, fn, tp = confusion_matrix(df[\"Attack\"], y_pred).ravel()\n",
    "precision = precision_score(df[\"Attack\"], y_pred)\n",
    "accuracy = accuracy_score(df[\"Attack\"], y_pred)\n",
    "# f1_score = f1_score(df[\"Attack\"], y_pred)\n",
    "# y_pred\n",
    "print((tn,fp,fn,tp), precision, accuracy)\n",
    "print(classification_report(df[\"Attack\"], y_pred))"
   ]
  },
  {
   "cell_type": "markdown",
   "metadata": {},
   "source": [
    "# Logistic Regression"
   ]
  },
  {
   "cell_type": "code",
   "execution_count": null,
   "metadata": {},
   "outputs": [],
   "source": [
    "from sklearn.linear_model import LogisticRegression\n",
    "logisticRegr = LogisticRegression()\n",
    "# https://towardsdatascience.com/logistic-regression-using-python-sklearn-numpy-mnist-handwriting-recognition-matplotlib-a6b31e2b166a"
   ]
  }
 ],
 "metadata": {
  "kernelspec": {
   "display_name": "Python 3",
   "language": "python",
   "name": "python3"
  },
  "language_info": {
   "codemirror_mode": {
    "name": "ipython",
    "version": 3
   },
   "file_extension": ".py",
   "mimetype": "text/x-python",
   "name": "python",
   "nbconvert_exporter": "python",
   "pygments_lexer": "ipython3",
   "version": "3.7.4"
  }
 },
 "nbformat": 4,
 "nbformat_minor": 2
}
